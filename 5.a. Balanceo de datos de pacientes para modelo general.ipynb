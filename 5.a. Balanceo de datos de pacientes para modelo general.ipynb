{
 "cells": [
  {
   "cell_type": "code",
   "execution_count": 1,
   "id": "34e6836e",
   "metadata": {},
   "outputs": [],
   "source": [
    "import codigo\n",
    "from codigo import utils\n",
    "from codigo import model_utils\n",
    "import time"
   ]
  },
  {
   "cell_type": "code",
   "execution_count": 2,
   "id": "8d6ff4b4",
   "metadata": {},
   "outputs": [
    {
     "name": "stdout",
     "output_type": "stream",
     "text": [
      "('https://pyviz-tutorial.readthedocs.io/de/latest/', 32709)\n",
      "('https://jupyter-tutorial.readthedocs.io/en/latest/', 78705)\n",
      "('https://cusy.io/en', 30232)\n",
      "('https://github.com/veit/pyviz-tutorial/', 193582)\n",
      "('https://github.com/veit/jupyter-tutorial/', 224896)\n"
     ]
    }
   ],
   "source": [
    "import requests\n",
    "from multiprocessing.pool import ThreadPool as Pool\n",
    "\n",
    "sites = [\n",
    "    'https://github.com/veit/jupyter-tutorial/',\n",
    "    'https://jupyter-tutorial.readthedocs.io/en/latest/',\n",
    "    'https://github.com/veit/pyviz-tutorial/',\n",
    "    'https://pyviz-tutorial.readthedocs.io/de/latest/',\n",
    "    'https://cusy.io/en',\n",
    "]\n",
    "\n",
    "def sitesize(url):\n",
    "    with requests.get(url) as u:\n",
    "        return url, len(u.content)\n",
    "\n",
    "pool = Pool(10)\n",
    "for result in pool.imap_unordered(sitesize, sites):\n",
    "    print(result)"
   ]
  },
  {
   "cell_type": "code",
   "execution_count": 3,
   "id": "hollow-quilt",
   "metadata": {
    "id": "hollow-quilt"
   },
   "outputs": [],
   "source": [
    "import pandas as pd\n",
    "import numpy as np\n",
    "pd.set_option('mode.chained_assignment',None)\n",
    "import matplotlib.pyplot as plt\n",
    "import seaborn as sns\n",
    "import math\n",
    "\n",
    "%matplotlib inline"
   ]
  },
  {
   "cell_type": "code",
   "execution_count": 4,
   "id": "cdadf13f",
   "metadata": {},
   "outputs": [
    {
     "name": "stdout",
     "output_type": "stream",
     "text": [
      "DEBUGING\n",
      "lenFilter 6\n",
      "r_times 4\n",
      "irandom  0\n",
      "index  0\n",
      "SI\n",
      "irandom  2\n",
      "index  2\n",
      "SI\n",
      "irandom  2\n",
      "index  4\n",
      "NO, segundo intento\n",
      "index  4\n",
      "SI\n",
      "irandom  2\n",
      "index  7\n",
      "FUERA DE RANGO\n",
      "irandom  0\n",
      "index  0\n",
      "NO, segundo intento\n",
      "index  0\n",
      "SI\n",
      "Program finished in 0.0012408000038703904 seconds - using serial\n"
     ]
    }
   ],
   "source": [
    "X=np.array([1,2,3,4,5,6,7,8,9,10])\n",
    "Y=np.array([1.1,2.2,3.3,4.4,5.5,6.6,7.7,8.8,9.9,10.1])\n",
    "Y_label=np.array(['A','C','A','A','B','A','B','A','C','A'])\n",
    "start_time = time.perf_counter()\n",
    "utils.downsamplingByLabel(X,Y,Y_label,0.8,'A',True)\n",
    "finish_time = time.perf_counter()\n",
    "print(\"Program finished in {} seconds - using serial\".format(finish_time-start_time))"
   ]
  },
  {
   "cell_type": "code",
   "execution_count": 5,
   "id": "07768f68",
   "metadata": {},
   "outputs": [],
   "source": [
    "from pickle import load\n",
    "scalerGlucosa = load(open('dataset/generado/scalerGlucosa.scaler', 'rb'))"
   ]
  },
  {
   "cell_type": "code",
   "execution_count": 6,
   "id": "61dda1b6",
   "metadata": {},
   "outputs": [],
   "source": [
    "with open('dataset/generado/dataset15min/array_Xtrain.npy', 'rb') as f:\n",
    "    array_Xtrain = np.load(f)"
   ]
  },
  {
   "cell_type": "code",
   "execution_count": 7,
   "id": "6b1712fa",
   "metadata": {},
   "outputs": [
    {
     "data": {
      "text/plain": [
       "3464679"
      ]
     },
     "execution_count": 7,
     "metadata": {},
     "output_type": "execute_result"
    }
   ],
   "source": [
    "len(array_Xtrain)"
   ]
  },
  {
   "cell_type": "code",
   "execution_count": 8,
   "id": "16906026",
   "metadata": {},
   "outputs": [],
   "source": [
    "with open('dataset/generado/dataset15min/array_Ytrain.npy', 'rb') as f:\n",
    "    array_Ytrain = np.load(f)"
   ]
  },
  {
   "cell_type": "code",
   "execution_count": 9,
   "id": "7a99f6e3",
   "metadata": {},
   "outputs": [
    {
     "data": {
      "text/plain": [
       "3464679"
      ]
     },
     "execution_count": 9,
     "metadata": {},
     "output_type": "execute_result"
    }
   ],
   "source": [
    "len(array_Ytrain)"
   ]
  },
  {
   "cell_type": "code",
   "execution_count": 10,
   "id": "8e267e7e",
   "metadata": {},
   "outputs": [],
   "source": [
    "Yscaled=scalerGlucosa.inverse_transform(array_Ytrain)"
   ]
  },
  {
   "cell_type": "code",
   "execution_count": 11,
   "id": "ee6a9273",
   "metadata": {},
   "outputs": [
    {
     "data": {
      "image/png": "[encoded data removed]",
      "text/plain": [
       "<Figure size 1000x400 with 1 Axes>"
      ]
     },
     "metadata": {},
     "output_type": "display_data"
    }
   ],
   "source": [
    "df_Y_scaled = pd.DataFrame(Yscaled, columns=['Glucose level']) \n",
    "df_Y_scaled['Nivel'] = df_Y_scaled['Glucose level'].apply(utils.label_LevelBG) \n",
    "array_Ytrain_label=df_Y_scaled['Nivel'].to_numpy()\n",
    "df_Y_scaled['Nivel'].value_counts().plot.pie(title='Distribución de Niveles de Glucosa',y='Nivel',legend=False,autopct='%1.1f%%',figsize=(10, 4))\n",
    "plt.show()"
   ]
  },
  {
   "cell_type": "code",
   "execution_count": 12,
   "id": "89241ac2",
   "metadata": {},
   "outputs": [
    {
     "data": {
      "text/plain": [
       "euglycemia       2232255\n",
       "hyperglycemia    1091540\n",
       "hypoglycemia      140884\n",
       "Name: Nivel, dtype: int64"
      ]
     },
     "execution_count": 12,
     "metadata": {},
     "output_type": "execute_result"
    }
   ],
   "source": [
    "df_Y_scaled['Nivel'].value_counts()"
   ]
  },
  {
   "cell_type": "code",
   "execution_count": 13,
   "id": "49759d5b",
   "metadata": {},
   "outputs": [
    {
     "data": {
      "text/html": [
       "<div>\n",
       "<style scoped>\n",
       "    .dataframe tbody tr th:only-of-type {\n",
       "        vertical-align: middle;\n",
       "    }\n",
       "\n",
       "    .dataframe tbody tr th {\n",
       "        vertical-align: top;\n",
       "    }\n",
       "\n",
       "    .dataframe thead th {\n",
       "        text-align: right;\n",
       "    }\n",
       "</style>\n",
       "<table border=\"1\" class=\"dataframe\">\n",
       "  <thead>\n",
       "    <tr style=\"text-align: right;\">\n",
       "      <th></th>\n",
       "      <th>Glucose level</th>\n",
       "      <th>Nivel</th>\n",
       "    </tr>\n",
       "  </thead>\n",
       "  <tbody>\n",
       "    <tr>\n",
       "      <th>0</th>\n",
       "      <td>203.0</td>\n",
       "      <td>hyperglycemia</td>\n",
       "    </tr>\n",
       "    <tr>\n",
       "      <th>1</th>\n",
       "      <td>197.0</td>\n",
       "      <td>hyperglycemia</td>\n",
       "    </tr>\n",
       "    <tr>\n",
       "      <th>2</th>\n",
       "      <td>205.0</td>\n",
       "      <td>hyperglycemia</td>\n",
       "    </tr>\n",
       "    <tr>\n",
       "      <th>3</th>\n",
       "      <td>209.0</td>\n",
       "      <td>hyperglycemia</td>\n",
       "    </tr>\n",
       "    <tr>\n",
       "      <th>4</th>\n",
       "      <td>204.0</td>\n",
       "      <td>hyperglycemia</td>\n",
       "    </tr>\n",
       "    <tr>\n",
       "      <th>...</th>\n",
       "      <td>...</td>\n",
       "      <td>...</td>\n",
       "    </tr>\n",
       "    <tr>\n",
       "      <th>3464674</th>\n",
       "      <td>361.0</td>\n",
       "      <td>hyperglycemia</td>\n",
       "    </tr>\n",
       "    <tr>\n",
       "      <th>3464675</th>\n",
       "      <td>364.0</td>\n",
       "      <td>hyperglycemia</td>\n",
       "    </tr>\n",
       "    <tr>\n",
       "      <th>3464676</th>\n",
       "      <td>362.0</td>\n",
       "      <td>hyperglycemia</td>\n",
       "    </tr>\n",
       "    <tr>\n",
       "      <th>3464677</th>\n",
       "      <td>360.0</td>\n",
       "      <td>hyperglycemia</td>\n",
       "    </tr>\n",
       "    <tr>\n",
       "      <th>3464678</th>\n",
       "      <td>358.0</td>\n",
       "      <td>hyperglycemia</td>\n",
       "    </tr>\n",
       "  </tbody>\n",
       "</table>\n",
       "<p>3464679 rows × 2 columns</p>\n",
       "</div>"
      ],
      "text/plain": [
       "         Glucose level          Nivel\n",
       "0                203.0  hyperglycemia\n",
       "1                197.0  hyperglycemia\n",
       "2                205.0  hyperglycemia\n",
       "3                209.0  hyperglycemia\n",
       "4                204.0  hyperglycemia\n",
       "...                ...            ...\n",
       "3464674          361.0  hyperglycemia\n",
       "3464675          364.0  hyperglycemia\n",
       "3464676          362.0  hyperglycemia\n",
       "3464677          360.0  hyperglycemia\n",
       "3464678          358.0  hyperglycemia\n",
       "\n",
       "[3464679 rows x 2 columns]"
      ]
     },
     "execution_count": 13,
     "metadata": {},
     "output_type": "execute_result"
    }
   ],
   "source": [
    "df_Y_scaled"
   ]
  },
  {
   "cell_type": "code",
   "execution_count": 14,
   "id": "cbbb05c0",
   "metadata": {},
   "outputs": [],
   "source": [
    "N=100\n",
    "XP=np.array_split(array_Xtrain, N) \n",
    "YP=np.array_split(array_Ytrain, N)\n",
    "Y_labelP=np.array_split( array_Ytrain_label, N)"
   ]
  },
  {
   "cell_type": "code",
   "execution_count": null,
   "id": "2867d4e1",
   "metadata": {},
   "outputs": [],
   "source": [
    "print(len(XP[2]))"
   ]
  },
  {
   "cell_type": "code",
   "execution_count": null,
   "id": "65850ad6",
   "metadata": {},
   "outputs": [],
   "source": [
    "def downsamplingByLabel_args(item):\n",
    "    return utils.downsamplingByLabel(item[0],item[1],item[2],0.8,'euglycemia',True)"
   ]
  },
  {
   "cell_type": "code",
   "execution_count": null,
   "id": "eaaa8f07",
   "metadata": {},
   "outputs": [],
   "source": [
    "from multiprocessing.pool import ThreadPool as Pool\n",
    "import time"
   ]
  },
  {
   "cell_type": "code",
   "execution_count": null,
   "id": "5d6c66ca",
   "metadata": {
    "scrolled": true
   },
   "outputs": [],
   "source": [
    "\n",
    "XNew=np.reshape([], (0,array_Xtrain.shape[1],array_Xtrain.shape[2]))\n",
    "YNew=np.reshape([], (0,1))\n",
    "YnewLabel=np.reshape([], (0))\n",
    "for ni in range(0,N):   \n",
    "    start_time = time.perf_counter()\n",
    "    partes=10\n",
    "    X_split=np.array_split(XP[ni], partes)\n",
    "    Y_split=np.array_split(YP[ni], partes)\n",
    "    Y_label_split=np.array_split( Y_labelP[ni], partes)\n",
    "\n",
    "    items=[]\n",
    "    for i in range(len(X_split)):\n",
    "        items.append([X_split[i],Y_split[i],Y_label_split[i]])\n",
    "    if __name__ ==  '__main__': \n",
    "        pool = Pool()\n",
    "        for result in pool.imap_unordered(downsamplingByLabel_args, items):\n",
    "            XNew=np.concatenate((XNew, result[0]))\n",
    "            YNew=np.concatenate((YNew, result[1]))\n",
    "            YnewLabel=np.concatenate((YnewLabel, result[2]))\n",
    "\n",
    "    finish_time = time.perf_counter()\n",
    "    print(ni,len(YnewLabel))\n",
    "    print(\"Program finished in {} seconds - using multiprocessing\".format(finish_time-start_time))"
   ]
  },
  {
   "cell_type": "code",
   "execution_count": null,
   "id": "c87827fb",
   "metadata": {},
   "outputs": [],
   "source": [
    "df_Y_scaled = pd.DataFrame(YnewLabel, columns=['Nivel']) \n",
    "df_Y_scaled['Nivel'].value_counts().plot.pie(title='Distribución de Niveles de Glucosa',y='Nivel',legend=False,autopct='%1.1f%%',figsize=(10, 4))\n",
    "plt.show()"
   ]
  },
  {
   "cell_type": "code",
   "execution_count": null,
   "id": "95ac8794",
   "metadata": {},
   "outputs": [],
   "source": [
    "df_Y_scaled['Nivel'].value_counts()"
   ]
  },
  {
   "cell_type": "code",
   "execution_count": null,
   "id": "b46395fb",
   "metadata": {},
   "outputs": [],
   "source": [
    "df_Y_scaled['Nivel'].value_counts().plot.bar( rot=0,figsize=(10, 4))"
   ]
  },
  {
   "cell_type": "code",
   "execution_count": null,
   "id": "7168f3f5",
   "metadata": {},
   "outputs": [],
   "source": [
    "with open('dataset/generado/dataset15min/array_Xtrain_down.npy', 'wb') as f:\n",
    "    np.save(f, XNew)"
   ]
  },
  {
   "cell_type": "code",
   "execution_count": null,
   "id": "8592db77",
   "metadata": {},
   "outputs": [],
   "source": [
    "len(XNew)"
   ]
  },
  {
   "cell_type": "code",
   "execution_count": null,
   "id": "58a3bd35",
   "metadata": {},
   "outputs": [],
   "source": [
    "with open('dataset/generado/dataset15min/array_Ytrain_down.npy', 'wb') as f:\n",
    "    np.save(f, YNew)"
   ]
  },
  {
   "cell_type": "code",
   "execution_count": null,
   "id": "42893477",
   "metadata": {},
   "outputs": [],
   "source": [
    "len(YNew)"
   ]
  },
  {
   "cell_type": "code",
   "execution_count": null,
   "id": "1f4e1e2d",
   "metadata": {},
   "outputs": [],
   "source": [
    "array_Xtrain2=XNew\n",
    "array_Ytrain2=YNew\n",
    "array_Ytrain_label2=YnewLabel\n",
    "N=100\n",
    "XP=np.array_split(array_Xtrain2, N) \n",
    "YP=np.array_split(array_Ytrain2, N)\n",
    "Y_labelP=np.array_split( array_Ytrain_label2, N)\n",
    "print(len(XP[2]))"
   ]
  },
  {
   "cell_type": "code",
   "execution_count": null,
   "id": "f517267d",
   "metadata": {
    "scrolled": true
   },
   "outputs": [],
   "source": [
    "def downsamplingByLabel_args(item):\n",
    "    return utils.downsamplingByLabel(item[0],item[1],item[2],0.5,'euglycemia',False)\n",
    "\n",
    "XNew=np.reshape([], (0,array_Xtrain.shape[1],array_Xtrain.shape[2]))\n",
    "YNew=np.reshape([], (0,1))\n",
    "YnewLabel=np.reshape([], (0))\n",
    "for ni in range(0,N):   \n",
    "    start_time = time.perf_counter()\n",
    "    partes=10\n",
    "    X_split=np.array_split(XP[ni], partes)\n",
    "    Y_split=np.array_split(YP[ni], partes)\n",
    "    Y_label_split=np.array_split( Y_labelP[ni], partes)\n",
    "\n",
    "    items=[]\n",
    "    for i in range(len(X_split)):\n",
    "        items.append([X_split[i],Y_split[i],Y_label_split[i]])\n",
    "    if __name__ ==  '__main__': \n",
    "        pool = Pool()\n",
    "        for result in pool.imap_unordered(downsamplingByLabel_args, items):\n",
    "            XNew=np.concatenate((XNew, result[0]))\n",
    "            YNew=np.concatenate((YNew, result[1]))\n",
    "            YnewLabel=np.concatenate((YnewLabel, result[2]))\n",
    "\n",
    "    finish_time = time.perf_counter()\n",
    "    print(ni,len(YnewLabel))\n",
    "    print(\"Program finished in {} seconds - using multiprocessing\".format(finish_time-start_time))"
   ]
  },
  {
   "cell_type": "code",
   "execution_count": null,
   "id": "da4870b4",
   "metadata": {},
   "outputs": [],
   "source": [
    "df_Y_scaled = pd.DataFrame(YnewLabel, columns=['Nivel']) \n",
    "df_Y_scaled['Nivel'].value_counts().plot.pie(title='Distribución de Niveles de Glucosa',y='Nivel',legend=False,autopct='%1.1f%%',figsize=(10, 4))\n",
    "plt.show()"
   ]
  },
  {
   "cell_type": "code",
   "execution_count": null,
   "id": "8d0e4ab4",
   "metadata": {},
   "outputs": [],
   "source": [
    "df_Y_scaled['Nivel'].value_counts()"
   ]
  },
  {
   "cell_type": "code",
   "execution_count": null,
   "id": "ba4af9c5",
   "metadata": {},
   "outputs": [],
   "source": [
    "array_Xtrain2=XNew\n",
    "array_Ytrain2=YNew\n",
    "array_Ytrain_label2=YnewLabel\n",
    "N=100\n",
    "XP=np.array_split(array_Xtrain2, N) \n",
    "YP=np.array_split(array_Ytrain2, N)\n",
    "Y_labelP=np.array_split( array_Ytrain_label2, N)\n",
    "print(len(XP[2]))"
   ]
  },
  {
   "cell_type": "code",
   "execution_count": null,
   "id": "9aa97f2c",
   "metadata": {
    "scrolled": true
   },
   "outputs": [],
   "source": [
    "def downsamplingByLabel_args(item):\n",
    "    return utils.downsamplingByLabel(item[0],item[1],item[2],0.5,'hyperglycemia',False)\n",
    "\n",
    "XNew=np.reshape([], (0,array_Xtrain.shape[1],array_Xtrain.shape[2]))\n",
    "YNew=np.reshape([], (0,1))\n",
    "YnewLabel=np.reshape([], (0))\n",
    "for ni in range(0,N):   \n",
    "    start_time = time.perf_counter()\n",
    "    partes=10\n",
    "    X_split=np.array_split(XP[ni], partes)\n",
    "    Y_split=np.array_split(YP[ni], partes)\n",
    "    Y_label_split=np.array_split( Y_labelP[ni], partes)\n",
    "\n",
    "    items=[]\n",
    "    for i in range(len(X_split)):\n",
    "        items.append([X_split[i],Y_split[i],Y_label_split[i]])\n",
    "    if __name__ ==  '__main__': \n",
    "        pool = Pool()\n",
    "        for result in pool.imap_unordered(downsamplingByLabel_args, items):\n",
    "            XNew=np.concatenate((XNew, result[0]))\n",
    "            YNew=np.concatenate((YNew, result[1]))\n",
    "            YnewLabel=np.concatenate((YnewLabel, result[2]))\n",
    "\n",
    "    finish_time = time.perf_counter()\n",
    "    print(ni,len(YnewLabel))\n",
    "    print(\"Program finished in {} seconds - using multiprocessing\".format(finish_time-start_time))"
   ]
  },
  {
   "cell_type": "code",
   "execution_count": null,
   "id": "55a115c6",
   "metadata": {},
   "outputs": [],
   "source": [
    "df_Y_scaled = pd.DataFrame(YnewLabel, columns=['Nivel']) \n",
    "df_Y_scaled['Nivel'].value_counts().plot.pie(title='Distribución de Niveles de Glucosa',y='Nivel',legend=False,autopct='%1.1f%%',figsize=(10, 4))\n",
    "plt.show()"
   ]
  },
  {
   "cell_type": "code",
   "execution_count": null,
   "id": "4f715b41",
   "metadata": {},
   "outputs": [],
   "source": [
    "df_Y_scaled['Nivel'].value_counts()"
   ]
  },
  {
   "cell_type": "code",
   "execution_count": null,
   "id": "6f1d7cb8",
   "metadata": {},
   "outputs": [],
   "source": [
    "with open('dataset/generado/dataset15min/array_Xtrain_down2.npy', 'wb') as f:\n",
    "    np.save(f, XNew)"
   ]
  },
  {
   "cell_type": "code",
   "execution_count": null,
   "id": "5889d038",
   "metadata": {},
   "outputs": [],
   "source": [
    "with open('dataset/generado/dataset15min/array_Ytrain_down2.npy', 'wb') as f:\n",
    "    np.save(f, YNew)"
   ]
  },
  {
   "cell_type": "code",
   "execution_count": null,
   "id": "b6439fe0",
   "metadata": {
    "scrolled": true
   },
   "outputs": [],
   "source": [
    "array_Xtrain2=XNew\n",
    "array_Ytrain2=YNew\n",
    "array_Ytrain_label2=YnewLabel\n",
    "N=100\n",
    "XP=np.array_split(array_Xtrain2, N) \n",
    "YP=np.array_split(array_Ytrain2, N)\n",
    "Y_labelP=np.array_split( array_Ytrain_label2, N)\n",
    "print(len(XP[2]))\n",
    "\n",
    "def downsamplingByLabel_args(item):\n",
    "    return utils.downsamplingByLabel(item[0],item[1],item[2],0.5,'euglycemia',False)\n",
    "\n",
    "XNew=np.reshape([], (0,array_Xtrain.shape[1],array_Xtrain.shape[2]))\n",
    "YNew=np.reshape([], (0,1))\n",
    "YnewLabel=np.reshape([], (0))\n",
    "for ni in range(0,N):   \n",
    "    start_time = time.perf_counter()\n",
    "    partes=10\n",
    "    X_split=np.array_split(XP[ni], partes)\n",
    "    Y_split=np.array_split(YP[ni], partes)\n",
    "    Y_label_split=np.array_split( Y_labelP[ni], partes)\n",
    "\n",
    "    items=[]\n",
    "    for i in range(len(X_split)):\n",
    "        items.append([X_split[i],Y_split[i],Y_label_split[i]])\n",
    "    if __name__ ==  '__main__': \n",
    "        pool = Pool()\n",
    "        for result in pool.imap_unordered(downsamplingByLabel_args, items):\n",
    "            XNew=np.concatenate((XNew, result[0]))\n",
    "            YNew=np.concatenate((YNew, result[1]))\n",
    "            YnewLabel=np.concatenate((YnewLabel, result[2]))\n",
    "\n",
    "    finish_time = time.perf_counter()\n",
    "    print(ni,len(YnewLabel))\n",
    "    print(\"Program finished in {} seconds - using multiprocessing\".format(finish_time-start_time))"
   ]
  },
  {
   "cell_type": "code",
   "execution_count": null,
   "id": "38e99059",
   "metadata": {},
   "outputs": [],
   "source": [
    "df_Y_scaled = pd.DataFrame(YnewLabel, columns=['Nivel']) \n",
    "df_Y_scaled['Nivel'].value_counts().plot.pie(title='Distribución de Niveles de Glucosa',y='Nivel',legend=False,autopct='%1.1f%%',figsize=(10, 4))\n",
    "plt.show()"
   ]
  },
  {
   "cell_type": "code",
   "execution_count": null,
   "id": "4ab25fcb",
   "metadata": {},
   "outputs": [],
   "source": [
    "df_Y_scaled['Nivel'].value_counts()"
   ]
  },
  {
   "cell_type": "code",
   "execution_count": null,
   "id": "67384b43",
   "metadata": {
    "scrolled": true
   },
   "outputs": [],
   "source": [
    "array_Xtrain2=XNew\n",
    "array_Ytrain2=YNew\n",
    "array_Ytrain_label2=YnewLabel\n",
    "N=100\n",
    "XP=np.array_split(array_Xtrain2, N) \n",
    "YP=np.array_split(array_Ytrain2, N)\n",
    "Y_labelP=np.array_split( array_Ytrain_label2, N)\n",
    "print(len(XP[2]))\n",
    "\n",
    "def downsamplingByLabel_args(item):\n",
    "    return utils.downsamplingByLabel(item[0],item[1],item[2],0.5,'hyperglycemia',False)\n",
    "\n",
    "XNew=np.reshape([], (0,array_Xtrain.shape[1],array_Xtrain.shape[2]))\n",
    "YNew=np.reshape([], (0,1))\n",
    "YnewLabel=np.reshape([], (0))\n",
    "for ni in range(0,N):   \n",
    "    start_time = time.perf_counter()\n",
    "    partes=10\n",
    "    X_split=np.array_split(XP[ni], partes)\n",
    "    Y_split=np.array_split(YP[ni], partes)\n",
    "    Y_label_split=np.array_split( Y_labelP[ni], partes)\n",
    "\n",
    "    items=[]\n",
    "    for i in range(len(X_split)):\n",
    "        items.append([X_split[i],Y_split[i],Y_label_split[i]])\n",
    "    if __name__ ==  '__main__': \n",
    "        pool = Pool()\n",
    "        for result in pool.imap_unordered(downsamplingByLabel_args, items):\n",
    "            XNew=np.concatenate((XNew, result[0]))\n",
    "            YNew=np.concatenate((YNew, result[1]))\n",
    "            YnewLabel=np.concatenate((YnewLabel, result[2]))\n",
    "\n",
    "    finish_time = time.perf_counter()\n",
    "    print(ni,len(YnewLabel))\n",
    "    print(\"Program finished in {} seconds - using multiprocessing\".format(finish_time-start_time))"
   ]
  },
  {
   "cell_type": "code",
   "execution_count": null,
   "id": "0a44c633",
   "metadata": {},
   "outputs": [],
   "source": [
    "df_Y_scaled = pd.DataFrame(YnewLabel, columns=['Nivel']) \n",
    "df_Y_scaled['Nivel'].value_counts().plot.pie(title='Distribución de Niveles de Glucosa',y='Nivel',legend=False,autopct='%1.1f%%',figsize=(10, 4))\n",
    "plt.show()"
   ]
  },
  {
   "cell_type": "code",
   "execution_count": null,
   "id": "bad0221d",
   "metadata": {},
   "outputs": [],
   "source": [
    "df_Y_scaled['Nivel'].value_counts()"
   ]
  },
  {
   "cell_type": "code",
   "execution_count": null,
   "id": "1cfc3648",
   "metadata": {},
   "outputs": [],
   "source": [
    "with open('dataset/generado/dataset15min/array_Xtrain_down3.npy', 'wb') as f:\n",
    "    np.save(f, XNew)"
   ]
  },
  {
   "cell_type": "code",
   "execution_count": null,
   "id": "586c9809",
   "metadata": {},
   "outputs": [],
   "source": [
    "with open('dataset/generado/dataset15min/array_Ytrain_down3.npy', 'wb') as f:\n",
    "    np.save(f, YNew)"
   ]
  },
  {
   "cell_type": "code",
   "execution_count": null,
   "id": "a1f1f9dc",
   "metadata": {
    "scrolled": true
   },
   "outputs": [],
   "source": [
    "array_Xtrain2=XNew\n",
    "array_Ytrain2=YNew\n",
    "array_Ytrain_label2=YnewLabel\n",
    "N=100\n",
    "XP=np.array_split(array_Xtrain2, N) \n",
    "YP=np.array_split(array_Ytrain2, N)\n",
    "Y_labelP=np.array_split( array_Ytrain_label2, N)\n",
    "print(len(XP[2]))\n",
    "\n",
    "def downsamplingByLabel_args(item):\n",
    "    return utils.downsamplingByLabel(item[0],item[1],item[2],0.5,'euglycemia',False)\n",
    "\n",
    "XNew=np.reshape([], (0,array_Xtrain.shape[1],array_Xtrain.shape[2]))\n",
    "YNew=np.reshape([], (0,1))\n",
    "YnewLabel=np.reshape([], (0))\n",
    "for ni in range(0,N):   \n",
    "    start_time = time.perf_counter()\n",
    "    partes=10\n",
    "    X_split=np.array_split(XP[ni], partes)\n",
    "    Y_split=np.array_split(YP[ni], partes)\n",
    "    Y_label_split=np.array_split( Y_labelP[ni], partes)\n",
    "\n",
    "    items=[]\n",
    "    for i in range(len(X_split)):\n",
    "        items.append([X_split[i],Y_split[i],Y_label_split[i]])\n",
    "    if __name__ ==  '__main__': \n",
    "        pool = Pool()\n",
    "        for result in pool.imap_unordered(downsamplingByLabel_args, items):\n",
    "            XNew=np.concatenate((XNew, result[0]))\n",
    "            YNew=np.concatenate((YNew, result[1]))\n",
    "            YnewLabel=np.concatenate((YnewLabel, result[2]))\n",
    "\n",
    "    finish_time = time.perf_counter()\n",
    "    print(ni,len(YnewLabel))\n",
    "    print(\"Program finished in {} seconds - using multiprocessing\".format(finish_time-start_time))"
   ]
  },
  {
   "cell_type": "code",
   "execution_count": null,
   "id": "5a0e1f32",
   "metadata": {},
   "outputs": [],
   "source": [
    "df_Y_scaled = pd.DataFrame(YnewLabel, columns=['Nivel']) \n",
    "df_Y_scaled['Nivel'].value_counts().plot.pie(title='Distribución de Niveles de Glucosa',y='Nivel',legend=False,autopct='%1.1f%%',figsize=(10, 4))\n",
    "plt.show()"
   ]
  },
  {
   "cell_type": "code",
   "execution_count": null,
   "id": "5da7435f",
   "metadata": {},
   "outputs": [],
   "source": [
    "df_Y_scaled['Nivel'].value_counts()"
   ]
  },
  {
   "cell_type": "code",
   "execution_count": null,
   "id": "9b74bb3b",
   "metadata": {
    "scrolled": true
   },
   "outputs": [],
   "source": [
    "array_Xtrain2=XNew\n",
    "array_Ytrain2=YNew\n",
    "array_Ytrain_label2=YnewLabel\n",
    "N=100\n",
    "XP=np.array_split(array_Xtrain2, N) \n",
    "YP=np.array_split(array_Ytrain2, N)\n",
    "Y_labelP=np.array_split( array_Ytrain_label2, N)\n",
    "print(len(XP[2]))\n",
    "\n",
    "def downsamplingByLabel_args(item):\n",
    "    return utils.downsamplingByLabel(item[0],item[1],item[2],0.5,'hyperglycemia',False)\n",
    "\n",
    "XNew=np.reshape([], (0,array_Xtrain.shape[1],array_Xtrain.shape[2]))\n",
    "YNew=np.reshape([], (0,1))\n",
    "YnewLabel=np.reshape([], (0))\n",
    "for ni in range(0,N):   \n",
    "    start_time = time.perf_counter()\n",
    "    partes=10\n",
    "    X_split=np.array_split(XP[ni], partes)\n",
    "    Y_split=np.array_split(YP[ni], partes)\n",
    "    Y_label_split=np.array_split( Y_labelP[ni], partes)\n",
    "\n",
    "    items=[]\n",
    "    for i in range(len(X_split)):\n",
    "        items.append([X_split[i],Y_split[i],Y_label_split[i]])\n",
    "    if __name__ ==  '__main__': \n",
    "        pool = Pool()\n",
    "        for result in pool.imap_unordered(downsamplingByLabel_args, items):\n",
    "            XNew=np.concatenate((XNew, result[0]))\n",
    "            YNew=np.concatenate((YNew, result[1]))\n",
    "            YnewLabel=np.concatenate((YnewLabel, result[2]))\n",
    "\n",
    "    finish_time = time.perf_counter()\n",
    "    print(ni,len(YnewLabel))\n",
    "    print(\"Program finished in {} seconds - using multiprocessing\".format(finish_time-start_time))"
   ]
  },
  {
   "cell_type": "code",
   "execution_count": null,
   "id": "e29cd9d2",
   "metadata": {},
   "outputs": [],
   "source": [
    "df_Y_scaled = pd.DataFrame(YnewLabel, columns=['Nivel']) \n",
    "df_Y_scaled['Nivel'].value_counts().plot.pie(title='Distribución de Niveles de Glucosa',y='Nivel',legend=False,autopct='%1.1f%%',figsize=(10, 4))\n",
    "plt.show()"
   ]
  },
  {
   "cell_type": "code",
   "execution_count": null,
   "id": "64181085",
   "metadata": {},
   "outputs": [],
   "source": [
    "df_Y_scaled['Nivel'].value_counts()"
   ]
  },
  {
   "cell_type": "code",
   "execution_count": null,
   "id": "53ee9406",
   "metadata": {},
   "outputs": [],
   "source": [
    "with open('dataset/generado/dataset15min/array_Xtrain_down4.npy', 'wb') as f:\n",
    "    np.save(f, XNew)"
   ]
  },
  {
   "cell_type": "code",
   "execution_count": null,
   "id": "d54db92e",
   "metadata": {},
   "outputs": [],
   "source": [
    "with open('dataset/generado/dataset15min/array_Ytrain_down4.npy', 'wb') as f:\n",
    "    np.save(f, YNew)"
   ]
  },
  {
   "cell_type": "code",
   "execution_count": null,
   "id": "65317c2a",
   "metadata": {},
   "outputs": [],
   "source": [
    "with open('dataset/generado/dataset15min/array_Xtrain_down4.npy', 'rb') as f:\n",
    "    XNew = np.load(f)"
   ]
  },
  {
   "cell_type": "code",
   "execution_count": null,
   "id": "0aef8ec0",
   "metadata": {},
   "outputs": [],
   "source": [
    "with open('dataset/generado/dataset15min/array_Ytrain_down4.npy', 'rb') as f:\n",
    "    YNew = np.load(f)"
   ]
  },
  {
   "cell_type": "code",
   "execution_count": null,
   "id": "42553923",
   "metadata": {},
   "outputs": [],
   "source": [
    "len(array_Ytrain_label3)"
   ]
  },
  {
   "cell_type": "code",
   "execution_count": null,
   "id": "6ad4e2d8",
   "metadata": {
    "scrolled": true
   },
   "outputs": [],
   "source": [
    "array_Xtrain3=XNew\n",
    "array_Ytrain3=YNew\n",
    "#array_Ytrain_label3=YnewLabel\n",
    "N=100\n",
    "XP=np.array_split(array_Xtrain3, N) \n",
    "YP=np.array_split(array_Ytrain3, N)\n",
    "Y_labelP=np.array_split( array_Ytrain_label3, N)\n",
    "print(len(XP[2]))\n",
    "\n",
    "def downsamplingByLabel_args(item):\n",
    "    return utils.downsamplingByLabel(item[0],item[1],item[2],0.5,'euglycemia',False)\n",
    "\n",
    "XNew=np.reshape([], (0,array_Xtrain.shape[1],array_Xtrain.shape[2]))\n",
    "YNew=np.reshape([], (0,1))\n",
    "YnewLabel=np.reshape([], (0))\n",
    "for ni in range(0,N):   \n",
    "    start_time = time.perf_counter()\n",
    "    partes=10\n",
    "    X_split=np.array_split(XP[ni], partes)\n",
    "    Y_split=np.array_split(YP[ni], partes)\n",
    "    Y_label_split=np.array_split( Y_labelP[ni], partes)\n",
    "\n",
    "    items=[]\n",
    "    for i in range(len(X_split)):\n",
    "        items.append([X_split[i],Y_split[i],Y_label_split[i]])\n",
    "    if __name__ ==  '__main__': \n",
    "        pool = Pool()\n",
    "        for result in pool.imap_unordered(downsamplingByLabel_args, items):\n",
    "            XNew=np.concatenate((XNew, result[0]))\n",
    "            YNew=np.concatenate((YNew, result[1]))\n",
    "            YnewLabel=np.concatenate((YnewLabel, result[2]))\n",
    "\n",
    "    finish_time = time.perf_counter()\n",
    "    print(ni,len(YnewLabel))\n",
    "    print(\"Program finished in {} seconds - using multiprocessing\".format(finish_time-start_time))"
   ]
  },
  {
   "cell_type": "code",
   "execution_count": null,
   "id": "77aead8e",
   "metadata": {},
   "outputs": [],
   "source": [
    "df_Y_scaled = pd.DataFrame(YnewLabel, columns=['Nivel']) \n",
    "df_Y_scaled['Nivel'].value_counts().plot.pie(title='Distribución de Niveles de Glucosa',y='Nivel',legend=False,autopct='%1.1f%%',figsize=(10, 4))\n",
    "plt.show()"
   ]
  },
  {
   "cell_type": "code",
   "execution_count": null,
   "id": "cc8f064b",
   "metadata": {},
   "outputs": [],
   "source": [
    "df_Y_scaled['Nivel'].value_counts()"
   ]
  },
  {
   "cell_type": "code",
   "execution_count": null,
   "id": "93203d4a",
   "metadata": {},
   "outputs": [],
   "source": [
    "array_Xtrain3=XNew\n",
    "array_Ytrain3=YNew\n",
    "array_Ytrain_label3=YnewLabel\n",
    "N=100\n",
    "XP=np.array_split(array_Xtrain3, N) \n",
    "YP=np.array_split(array_Ytrain3, N)\n",
    "Y_labelP=np.array_split( array_Ytrain_label3, N)\n",
    "print(len(XP[2]))\n",
    "\n",
    "def downsamplingByLabel_args(item):\n",
    "    return utils.downsamplingByLabel(item[0],item[1],item[2],0.5,'hyperglycemia',False)\n",
    "\n",
    "XNew=np.reshape([], (0,array_Xtrain.shape[1],array_Xtrain.shape[2]))\n",
    "YNew=np.reshape([], (0,1))\n",
    "YnewLabel=np.reshape([], (0))\n",
    "for ni in range(0,N):   \n",
    "    start_time = time.perf_counter()\n",
    "    partes=10\n",
    "    X_split=np.array_split(XP[ni], partes)\n",
    "    Y_split=np.array_split(YP[ni], partes)\n",
    "    Y_label_split=np.array_split( Y_labelP[ni], partes)\n",
    "\n",
    "    items=[]\n",
    "    for i in range(len(X_split)):\n",
    "        items.append([X_split[i],Y_split[i],Y_label_split[i]])\n",
    "    if __name__ ==  '__main__': \n",
    "        pool = Pool()\n",
    "        for result in pool.imap_unordered(downsamplingByLabel_args, items):\n",
    "            XNew=np.concatenate((XNew, result[0]))\n",
    "            YNew=np.concatenate((YNew, result[1]))\n",
    "            YnewLabel=np.concatenate((YnewLabel, result[2]))\n",
    "\n",
    "    finish_time = time.perf_counter()\n",
    "    print(ni,len(YnewLabel))\n",
    "    print(\"Program finished in {} seconds - using multiprocessing\".format(finish_time-start_time))"
   ]
  },
  {
   "cell_type": "code",
   "execution_count": null,
   "id": "5fbbebee",
   "metadata": {},
   "outputs": [],
   "source": [
    "df_Y_scaled = pd.DataFrame(YnewLabel, columns=['Nivel']) \n",
    "df_Y_scaled['Nivel'].value_counts().plot.pie(title='Distribución de Niveles de Glucosa',y='Nivel',legend=False,autopct='%1.1f%%',figsize=(10, 4))\n",
    "plt.show()"
   ]
  },
  {
   "cell_type": "code",
   "execution_count": null,
   "id": "5fee625d",
   "metadata": {},
   "outputs": [],
   "source": [
    "df_Y_scaled['Nivel'].value_counts()"
   ]
  },
  {
   "cell_type": "code",
   "execution_count": null,
   "id": "55f31683",
   "metadata": {},
   "outputs": [],
   "source": [
    "with open('dataset/generado/dataset15min/array_Xtrain_down5.npy', 'wb') as f:\n",
    "    np.save(f, XNew)"
   ]
  },
  {
   "cell_type": "code",
   "execution_count": null,
   "id": "6e936ad8",
   "metadata": {},
   "outputs": [],
   "source": [
    "with open('dataset/generado/dataset15min/array_Ytrain_down5.npy', 'wb') as f:\n",
    "    np.save(f, YNew)"
   ]
  },
  {
   "cell_type": "markdown",
   "id": "0b41d32a",
   "metadata": {},
   "source": [
    "# Downsampling reduciendo hasta el total de la clase minoritaria"
   ]
  },
  {
   "cell_type": "code",
   "execution_count": null,
   "id": "121ae9d6",
   "metadata": {},
   "outputs": [],
   "source": [
    "with open('dataset/generado/dataset15min/array_Xtrain_down5.npy', 'rb') as f:\n",
    "    array_Xtrain = np.load(f)"
   ]
  },
  {
   "cell_type": "code",
   "execution_count": null,
   "id": "725b8c75",
   "metadata": {},
   "outputs": [],
   "source": [
    "with open('dataset/generado/dataset15min/array_Ytrain_down5.npy', 'rb') as f:\n",
    "    array_Ytrain = np.load(f)"
   ]
  },
  {
   "cell_type": "code",
   "execution_count": null,
   "id": "d11ff2f9",
   "metadata": {},
   "outputs": [],
   "source": [
    "len(array_Ytrain)"
   ]
  },
  {
   "cell_type": "code",
   "execution_count": null,
   "id": "d26818bc",
   "metadata": {},
   "outputs": [],
   "source": [
    "Yscaled=scalerGlucosa.inverse_transform(array_Ytrain)"
   ]
  },
  {
   "cell_type": "code",
   "execution_count": null,
   "id": "426f3454",
   "metadata": {},
   "outputs": [],
   "source": [
    "df_Y_scaled = pd.DataFrame(Yscaled, columns=['Glucose level']) \n",
    "df_Y_scaled['Nivel'] = df_Y_scaled['Glucose level'].apply(utils.label_LevelBG) \n",
    "array_Ytrain_label=df_Y_scaled['Nivel'].to_numpy()\n",
    "df_Y_scaled['Nivel'].value_counts().plot.pie(title='Distribución de Niveles de Glucosa',y='Nivel',legend=False,autopct='%1.1f%%',figsize=(10, 4))\n",
    "plt.show()"
   ]
  },
  {
   "cell_type": "code",
   "execution_count": null,
   "id": "43dcd316",
   "metadata": {},
   "outputs": [],
   "source": [
    "df_Y_scaled['Nivel'].value_counts()"
   ]
  },
  {
   "cell_type": "code",
   "execution_count": null,
   "id": "55b85bf0",
   "metadata": {},
   "outputs": [],
   "source": [
    "minClass=df_Y_scaled['Nivel'].value_counts().min()"
   ]
  },
  {
   "cell_type": "code",
   "execution_count": null,
   "id": "f5e7e7f6",
   "metadata": {},
   "outputs": [],
   "source": [
    "N=100\n",
    "XP=np.array_split(array_Xtrain, N) \n",
    "YP=np.array_split(array_Ytrain, N)\n",
    "Y_labelP=np.array_split( array_Ytrain_label, N)"
   ]
  },
  {
   "cell_type": "code",
   "execution_count": null,
   "id": "7eeb0d11",
   "metadata": {
    "scrolled": true
   },
   "outputs": [],
   "source": [
    "def downsamplingByLabel_args(item):\n",
    "    return utils.downsamplingByLabel(item[0],item[1],item[2],0.23,'hyperglycemia',False)\n",
    "\n",
    "XNew=np.reshape([], (0,array_Xtrain.shape[1],array_Xtrain.shape[2]))\n",
    "YNew=np.reshape([], (0,1))\n",
    "YnewLabel=np.reshape([], (0))\n",
    "for ni in range(0,N):   \n",
    "    start_time = time.perf_counter()\n",
    "    partes=10\n",
    "    X_split=np.array_split(XP[ni], partes)\n",
    "    Y_split=np.array_split(YP[ni], partes)\n",
    "    Y_label_split=np.array_split( Y_labelP[ni], partes)\n",
    "\n",
    "    items=[]\n",
    "    for i in range(len(X_split)):\n",
    "        items.append([X_split[i],Y_split[i],Y_label_split[i]])\n",
    "    if __name__ ==  '__main__': \n",
    "        pool = Pool()\n",
    "        for result in pool.imap_unordered(downsamplingByLabel_args, items):\n",
    "            XNew=np.concatenate((XNew, result[0]))\n",
    "            YNew=np.concatenate((YNew, result[1]))\n",
    "            YnewLabel=np.concatenate((YnewLabel, result[2]))\n",
    "\n",
    "    finish_time = time.perf_counter()\n",
    "    print(ni,len(YnewLabel))\n",
    "    print(\"Program finished in {} seconds - using multiprocessing\".format(finish_time-start_time))"
   ]
  },
  {
   "cell_type": "code",
   "execution_count": null,
   "id": "097b2275",
   "metadata": {},
   "outputs": [],
   "source": [
    "df_Y_scaled = pd.DataFrame(YnewLabel, columns=['Nivel']) \n",
    "df_Y_scaled['Nivel'].value_counts().plot.pie(title='Distribución de Niveles de Glucosa',y='Nivel',legend=False,autopct='%1.1f%%',figsize=(10, 4))\n",
    "plt.show()"
   ]
  },
  {
   "cell_type": "code",
   "execution_count": null,
   "id": "97e2cf2c",
   "metadata": {},
   "outputs": [],
   "source": [
    "df_Y_scaled['Nivel'].value_counts()"
   ]
  },
  {
   "cell_type": "code",
   "execution_count": null,
   "id": "aea60ad3",
   "metadata": {
    "scrolled": true
   },
   "outputs": [],
   "source": [
    "array_Xtrain2=XNew\n",
    "array_Ytrain2=YNew\n",
    "array_Ytrain_label2=YnewLabel\n",
    "N=100\n",
    "XP=np.array_split(array_Xtrain2, N) \n",
    "YP=np.array_split(array_Ytrain2, N)\n",
    "Y_labelP=np.array_split( array_Ytrain_label2, N)\n",
    "\n",
    "def downsamplingByLabel_args(item):\n",
    "    return utils.downsamplingByLabel(item[0],item[1],item[2],0.25,'euglycemia',False)\n",
    "\n",
    "XNew=np.reshape([], (0,array_Xtrain.shape[1],array_Xtrain.shape[2]))\n",
    "YNew=np.reshape([], (0,1))\n",
    "YnewLabel=np.reshape([], (0))\n",
    "for ni in range(0,N):   \n",
    "    start_time = time.perf_counter()\n",
    "    partes=10\n",
    "    X_split=np.array_split(XP[ni], partes)\n",
    "    Y_split=np.array_split(YP[ni], partes)\n",
    "    Y_label_split=np.array_split( Y_labelP[ni], partes)\n",
    "\n",
    "    items=[]\n",
    "    for i in range(len(X_split)):\n",
    "        items.append([X_split[i],Y_split[i],Y_label_split[i]])\n",
    "    if __name__ ==  '__main__': \n",
    "        pool = Pool()\n",
    "        for result in pool.imap_unordered(downsamplingByLabel_args, items):\n",
    "            XNew=np.concatenate((XNew, result[0]))\n",
    "            YNew=np.concatenate((YNew, result[1]))\n",
    "            YnewLabel=np.concatenate((YnewLabel, result[2]))\n",
    "\n",
    "    finish_time = time.perf_counter()\n",
    "    print(ni,len(YnewLabel))\n",
    "    print(\"Program finished in {} seconds - using multiprocessing\".format(finish_time-start_time))"
   ]
  },
  {
   "cell_type": "code",
   "execution_count": null,
   "id": "599dd0f4",
   "metadata": {},
   "outputs": [],
   "source": [
    "df_Y_scaled = pd.DataFrame(YnewLabel, columns=['Nivel']) \n",
    "df_Y_scaled['Nivel'].value_counts().plot.pie(title='Distribución de Niveles de Glucosa',y='Nivel',legend=False,autopct='%1.1f%%',figsize=(10, 4))\n",
    "plt.show()"
   ]
  },
  {
   "cell_type": "code",
   "execution_count": null,
   "id": "dc80b8d0",
   "metadata": {},
   "outputs": [],
   "source": [
    "df_Y_scaled['Nivel'].value_counts()"
   ]
  },
  {
   "cell_type": "code",
   "execution_count": null,
   "id": "0404b754",
   "metadata": {},
   "outputs": [],
   "source": [
    "minClass"
   ]
  },
  {
   "cell_type": "code",
   "execution_count": null,
   "id": "6ae3ad2e",
   "metadata": {},
   "outputs": [],
   "source": [
    "XNew,YNew,YnewLabel=utils.downsamplingByLabel(XNew,YNew,YnewLabel,0,'hyperglycemia',False,minClass) "
   ]
  },
  {
   "cell_type": "code",
   "execution_count": null,
   "id": "37c91b3a",
   "metadata": {},
   "outputs": [],
   "source": [
    "df_Y_scaled = pd.DataFrame(YnewLabel, columns=['Nivel']) \n",
    "df_Y_scaled['Nivel'].value_counts().plot.pie(title='Distribución de Niveles de Glucosa',y='Nivel',legend=False,autopct='%1.1f%%',figsize=(10, 4))\n",
    "plt.show()"
   ]
  },
  {
   "cell_type": "code",
   "execution_count": null,
   "id": "882de8db",
   "metadata": {},
   "outputs": [],
   "source": [
    "XNew,YNew,YnewLabel=utils.downsamplingByLabel(XNew,YNew,YnewLabel,0,'euglycemia',False,minClass) "
   ]
  },
  {
   "cell_type": "code",
   "execution_count": null,
   "id": "7bc73f58",
   "metadata": {},
   "outputs": [],
   "source": [
    "df_Y_scaled = pd.DataFrame(YnewLabel, columns=['Nivel']) \n",
    "df_Y_scaled['Nivel'].value_counts().plot.pie(title='Distribución de Niveles de Glucosa',y='Nivel',legend=False,autopct='%1.1f%%',figsize=(10, 4))\n",
    "plt.show()"
   ]
  },
  {
   "cell_type": "code",
   "execution_count": null,
   "id": "59b37c0e",
   "metadata": {},
   "outputs": [],
   "source": [
    "df_Y_scaled['Nivel'].value_counts()"
   ]
  },
  {
   "cell_type": "code",
   "execution_count": null,
   "id": "7e93585f",
   "metadata": {},
   "outputs": [],
   "source": [
    "df_Y_scaled['Nivel'].value_counts().plot.bar( rot=0,figsize=(10, 4))"
   ]
  },
  {
   "cell_type": "code",
   "execution_count": null,
   "id": "d6f53c10",
   "metadata": {},
   "outputs": [],
   "source": [
    "with open('dataset/generado/dataset15min/array_Xtrain_down_equals.npy', 'wb') as f:\n",
    "    np.save(f, XNew)"
   ]
  },
  {
   "cell_type": "code",
   "execution_count": null,
   "id": "3edc6a39",
   "metadata": {},
   "outputs": [],
   "source": [
    "with open('dataset/generado/dataset15min/array_Ytrain_down_equals.npy', 'wb') as f:\n",
    "    np.save(f, YNew)"
   ]
  },
  {
   "cell_type": "markdown",
   "id": "1e406620",
   "metadata": {},
   "source": [
    "# Downsampling on validation dataset"
   ]
  },
  {
   "cell_type": "code",
   "execution_count": null,
   "id": "dbae043c",
   "metadata": {},
   "outputs": [],
   "source": [
    "with open('dataset/generado/dataset15min/array_Xval.npy', 'rb') as f:\n",
    "    array_Xval = np.load(f)"
   ]
  },
  {
   "cell_type": "code",
   "execution_count": null,
   "id": "b3d5ddb4",
   "metadata": {},
   "outputs": [],
   "source": [
    "len(array_Xval)"
   ]
  },
  {
   "cell_type": "code",
   "execution_count": null,
   "id": "5e4dc7cc",
   "metadata": {},
   "outputs": [],
   "source": [
    "with open('dataset/generado/dataset15min/array_Yval.npy', 'rb') as f:\n",
    "    array_Yval = np.load(f)"
   ]
  },
  {
   "cell_type": "code",
   "execution_count": null,
   "id": "6926483f",
   "metadata": {},
   "outputs": [],
   "source": [
    "len(array_Yval)"
   ]
  },
  {
   "cell_type": "code",
   "execution_count": null,
   "id": "02d6c944",
   "metadata": {},
   "outputs": [],
   "source": [
    "array_Yval_scaled=scalerGlucosa.inverse_transform(array_Yval)"
   ]
  },
  {
   "cell_type": "code",
   "execution_count": null,
   "id": "7e5e2673",
   "metadata": {},
   "outputs": [],
   "source": [
    "df_Yval_scaled = pd.DataFrame(array_Yval_scaled, columns=['Glucose level']) \n",
    "df_Yval_scaled['Nivel'] = df_Yval_scaled['Glucose level'].apply(utils.label_LevelBG)  \n",
    "array_YVal_label=df_Yval_scaled['Nivel'].to_numpy()\n",
    "df_Yval_scaled['Nivel'].value_counts().plot.pie(title='Distribución de Niveles de Glucosa',y='Nivel',legend=False,autopct='%1.1f%%',figsize=(10, 4))\n",
    "plt.show()"
   ]
  },
  {
   "cell_type": "code",
   "execution_count": null,
   "id": "a4758d1a",
   "metadata": {},
   "outputs": [],
   "source": [
    "df_Yval_scaled['Nivel'].value_counts()"
   ]
  },
  {
   "cell_type": "code",
   "execution_count": null,
   "id": "fc00392a",
   "metadata": {},
   "outputs": [],
   "source": [
    "df_Yval_scaled['Nivel'].value_counts().plot.bar( rot=0,figsize=(10, 4))"
   ]
  },
  {
   "cell_type": "code",
   "execution_count": null,
   "id": "24b67d8b",
   "metadata": {},
   "outputs": [],
   "source": [
    "N=100\n",
    "XP=np.array_split(array_Xval, N) \n",
    "YP=np.array_split(array_Yval, N)\n",
    "Y_labelP=np.array_split( array_YVal_label, N)\n",
    "print(len(XP[2]))"
   ]
  },
  {
   "cell_type": "code",
   "execution_count": null,
   "id": "2c19b592",
   "metadata": {},
   "outputs": [],
   "source": [
    "def downsamplingByLabel_args(item):\n",
    "    return utils.downsamplingByLabel(item[0],item[1],item[2],0.95,'euglycemia',False)\n",
    "\n",
    "XNew=np.reshape([], (0,array_Xtrain.shape[1],array_Xtrain.shape[2]))\n",
    "YNew=np.reshape([], (0,1))\n",
    "YnewLabel=np.reshape([], (0))\n",
    "for ni in range(0,N):   \n",
    "    start_time = time.perf_counter()\n",
    "    partes=10\n",
    "    X_split=np.array_split(XP[ni], partes)\n",
    "    Y_split=np.array_split(YP[ni], partes)\n",
    "    Y_label_split=np.array_split( Y_labelP[ni], partes)\n",
    "\n",
    "    items=[]\n",
    "    for i in range(len(X_split)):\n",
    "        items.append([X_split[i],Y_split[i],Y_label_split[i]])\n",
    "    if __name__ ==  '__main__': \n",
    "        pool = Pool()\n",
    "        for result in pool.imap_unordered(downsamplingByLabel_args, items):\n",
    "            XNew=np.concatenate((XNew, result[0]))\n",
    "            YNew=np.concatenate((YNew, result[1]))\n",
    "            YnewLabel=np.concatenate((YnewLabel, result[2]))\n",
    "\n",
    "    finish_time = time.perf_counter()\n",
    "    print(ni,len(YnewLabel))\n",
    "    print(\"Program finished in {} seconds - using multiprocessing\".format(finish_time-start_time))"
   ]
  },
  {
   "cell_type": "code",
   "execution_count": null,
   "id": "cc9bbbc6",
   "metadata": {},
   "outputs": [],
   "source": [
    "df_Y_scaled = pd.DataFrame(YnewLabel, columns=['Nivel']) \n",
    "df_Y_scaled['Nivel'].value_counts().plot.pie(title='Distribución de Niveles de Glucosa',y='Nivel',legend=False,autopct='%1.1f%%',figsize=(10, 4))\n",
    "plt.show()"
   ]
  },
  {
   "cell_type": "code",
   "execution_count": null,
   "id": "3ca14410",
   "metadata": {},
   "outputs": [],
   "source": [
    "df_Y_scaled['Nivel'].value_counts()"
   ]
  },
  {
   "cell_type": "code",
   "execution_count": null,
   "id": "bede8192",
   "metadata": {},
   "outputs": [],
   "source": [
    "with open('dataset/generado/dataset15min/array_Xval_down.npy', 'wb') as f:\n",
    "    np.save(f, XNew)"
   ]
  },
  {
   "cell_type": "code",
   "execution_count": null,
   "id": "12182e31",
   "metadata": {},
   "outputs": [],
   "source": [
    "with open('dataset/generado/dataset15min/array_Yval_down.npy', 'wb') as f:\n",
    "    np.save(f, YNew)"
   ]
  },
  {
   "cell_type": "code",
   "execution_count": null,
   "id": "8c20a725",
   "metadata": {
    "scrolled": true
   },
   "outputs": [],
   "source": [
    "array_Xtrain=XNew\n",
    "array_Ytrain=YNew\n",
    "array_Ytrain_label=YnewLabel\n",
    "N=100\n",
    "XP=np.array_split(array_Xtrain, N) \n",
    "YP=np.array_split(array_Ytrain, N)\n",
    "Y_labelP=np.array_split( array_Ytrain_label, N)\n",
    "print(len(XP[2]))\n",
    "\n",
    "def downsamplingByLabel_args(item):\n",
    "    return utils.downsamplingByLabel(item[0],item[1],item[2],0.95,'euglycemia',False)\n",
    "\n",
    "XNew=np.reshape([], (0,array_Xtrain.shape[1],array_Xtrain.shape[2]))\n",
    "YNew=np.reshape([], (0,1))\n",
    "YnewLabel=np.reshape([], (0))\n",
    "for ni in range(0,N):   \n",
    "    start_time = time.perf_counter()\n",
    "    partes=10\n",
    "    X_split=np.array_split(XP[ni], partes)\n",
    "    Y_split=np.array_split(YP[ni], partes)\n",
    "    Y_label_split=np.array_split( Y_labelP[ni], partes)\n",
    "\n",
    "    items=[]\n",
    "    for i in range(len(X_split)):\n",
    "        items.append([X_split[i],Y_split[i],Y_label_split[i]])\n",
    "    if __name__ ==  '__main__': \n",
    "        pool = Pool()\n",
    "        for result in pool.imap_unordered(downsamplingByLabel_args, items):\n",
    "            XNew=np.concatenate((XNew, result[0]))\n",
    "            YNew=np.concatenate((YNew, result[1]))\n",
    "            YnewLabel=np.concatenate((YnewLabel, result[2]))\n",
    "\n",
    "    finish_time = time.perf_counter()\n",
    "    print(ni,len(YnewLabel))\n",
    "    print(\"Program finished in {} seconds - using multiprocessing\".format(finish_time-start_time))"
   ]
  },
  {
   "cell_type": "code",
   "execution_count": null,
   "id": "29725e46",
   "metadata": {},
   "outputs": [],
   "source": [
    "df_Y_scaled = pd.DataFrame(YnewLabel, columns=['Nivel']) \n",
    "df_Y_scaled['Nivel'].value_counts().plot.pie(title='Distribución de Niveles de Glucosa',y='Nivel',legend=False,autopct='%1.1f%%',figsize=(10, 4))\n",
    "plt.show()"
   ]
  },
  {
   "cell_type": "code",
   "execution_count": null,
   "id": "706d8ca8",
   "metadata": {},
   "outputs": [],
   "source": [
    "df_Y_scaled['Nivel'].value_counts()"
   ]
  },
  {
   "cell_type": "code",
   "execution_count": null,
   "id": "4fb0d784",
   "metadata": {},
   "outputs": [],
   "source": [
    "array_Xtrain=XNew\n",
    "array_Ytrain=YNew\n",
    "array_Ytrain_label=YnewLabel\n",
    "N=100\n",
    "XP=np.array_split(array_Xtrain, N) \n",
    "YP=np.array_split(array_Ytrain, N)\n",
    "Y_labelP=np.array_split( array_Ytrain_label, N)\n",
    "print(len(XP[2]))\n",
    "\n",
    "def downsamplingByLabel_args(item):\n",
    "    return utils.downsamplingByLabel(item[0],item[1],item[2],0.95,'hyperglycemia',False)\n",
    "\n",
    "XNew=np.reshape([], (0,array_Xtrain.shape[1],array_Xtrain.shape[2]))\n",
    "YNew=np.reshape([], (0,1))\n",
    "YnewLabel=np.reshape([], (0))\n",
    "for ni in range(0,N):   \n",
    "    start_time = time.perf_counter()\n",
    "    partes=10\n",
    "    X_split=np.array_split(XP[ni], partes)\n",
    "    Y_split=np.array_split(YP[ni], partes)\n",
    "    Y_label_split=np.array_split( Y_labelP[ni], partes)\n",
    "\n",
    "    items=[]\n",
    "    for i in range(len(X_split)):\n",
    "        items.append([X_split[i],Y_split[i],Y_label_split[i]])\n",
    "    if __name__ ==  '__main__': \n",
    "        pool = Pool()\n",
    "        for result in pool.imap_unordered(downsamplingByLabel_args, items):\n",
    "            XNew=np.concatenate((XNew, result[0]))\n",
    "            YNew=np.concatenate((YNew, result[1]))\n",
    "            YnewLabel=np.concatenate((YnewLabel, result[2]))\n",
    "\n",
    "    finish_time = time.perf_counter()\n",
    "    print(ni,len(YnewLabel))\n",
    "    print(\"Program finished in {} seconds - using multiprocessing\".format(finish_time-start_time))"
   ]
  },
  {
   "cell_type": "code",
   "execution_count": null,
   "id": "6f7fcefc",
   "metadata": {},
   "outputs": [],
   "source": [
    "df_Y_scaled = pd.DataFrame(YnewLabel, columns=['Nivel']) \n",
    "df_Y_scaled['Nivel'].value_counts().plot.pie(title='Distribución de Niveles de Glucosa',y='Nivel',legend=False,autopct='%1.1f%%',figsize=(10, 4))\n",
    "plt.show()"
   ]
  },
  {
   "cell_type": "code",
   "execution_count": null,
   "id": "bea91f1f",
   "metadata": {},
   "outputs": [],
   "source": [
    "df_Y_scaled['Nivel'].value_counts()"
   ]
  },
  {
   "cell_type": "code",
   "execution_count": null,
   "id": "9ff46ef3",
   "metadata": {},
   "outputs": [],
   "source": [
    "with open('dataset/generado/dataset15min/array_Xval_down2.npy', 'wb') as f:\n",
    "    np.save(f, XNew)"
   ]
  },
  {
   "cell_type": "code",
   "execution_count": null,
   "id": "4003805e",
   "metadata": {},
   "outputs": [],
   "source": [
    "with open('dataset/generado/dataset15min/array_Yval_down2.npy', 'wb') as f:\n",
    "    np.save(f, YNew)"
   ]
  },
  {
   "cell_type": "code",
   "execution_count": null,
   "id": "b0436529",
   "metadata": {},
   "outputs": [],
   "source": [
    "len(XNew)"
   ]
  },
  {
   "cell_type": "code",
   "execution_count": null,
   "id": "ffaf94dd",
   "metadata": {},
   "outputs": [],
   "source": [
    "df_Y_scaled['Nivel'].value_counts().plot.bar( rot=0,figsize=(10, 4))"
   ]
  },
  {
   "cell_type": "markdown",
   "id": "8e6d8240",
   "metadata": {},
   "source": [
    "# Downsampling reduciendo hasta el total de la clase minoritaria"
   ]
  },
  {
   "cell_type": "code",
   "execution_count": null,
   "id": "7e14c8af",
   "metadata": {},
   "outputs": [],
   "source": [
    "with open('dataset/generado/dataset15min/array_Xval_down2.npy', 'rb') as f:\n",
    "    array_Xval = np.load(f)"
   ]
  },
  {
   "cell_type": "code",
   "execution_count": null,
   "id": "852c9a3b",
   "metadata": {},
   "outputs": [],
   "source": [
    "len(array_Xval)"
   ]
  },
  {
   "cell_type": "code",
   "execution_count": null,
   "id": "e1a2b8d1",
   "metadata": {},
   "outputs": [],
   "source": [
    "with open('dataset/generado/dataset15min/array_Yval_down2.npy', 'rb') as f:\n",
    "    array_Yval = np.load(f)"
   ]
  },
  {
   "cell_type": "code",
   "execution_count": null,
   "id": "6fc8cff4",
   "metadata": {},
   "outputs": [],
   "source": [
    "len(array_Yval)"
   ]
  },
  {
   "cell_type": "code",
   "execution_count": null,
   "id": "18f356ec",
   "metadata": {},
   "outputs": [],
   "source": [
    "array_Yval_scaled=scalerGlucosa.inverse_transform(array_Yval)"
   ]
  },
  {
   "cell_type": "code",
   "execution_count": null,
   "id": "5d2a2c04",
   "metadata": {},
   "outputs": [],
   "source": [
    "df_Yval_scaled = pd.DataFrame(array_Yval_scaled, columns=['Glucose level']) \n",
    "df_Yval_scaled['Nivel'] = df_Yval_scaled['Glucose level'].apply(utils.label_LevelBG)  \n",
    "array_YVal_label=df_Yval_scaled['Nivel'].to_numpy()\n",
    "df_Yval_scaled['Nivel'].value_counts().plot.pie(title='Distribución de Niveles de Glucosa',y='Nivel',legend=False,autopct='%1.1f%%',figsize=(10, 4))\n",
    "plt.show()"
   ]
  },
  {
   "cell_type": "code",
   "execution_count": null,
   "id": "e86b76a2",
   "metadata": {},
   "outputs": [],
   "source": [
    "df_Yval_scaled['Nivel'].value_counts()"
   ]
  },
  {
   "cell_type": "code",
   "execution_count": null,
   "id": "c23c05ba",
   "metadata": {},
   "outputs": [],
   "source": [
    "XNew,YNew,YnewLabel=utils.downsamplingByLabel(array_Xval,array_Yval,array_YVal_label,0,'hyperglycemia',True,4011) "
   ]
  },
  {
   "cell_type": "code",
   "execution_count": null,
   "id": "049980b3",
   "metadata": {},
   "outputs": [],
   "source": [
    "len(YnewLabel)"
   ]
  },
  {
   "cell_type": "code",
   "execution_count": null,
   "id": "d31735b0",
   "metadata": {},
   "outputs": [],
   "source": [
    "df_Y_scaled = pd.DataFrame(YnewLabel, columns=['Nivel']) \n",
    "df_Y_scaled['Nivel'].value_counts().plot.pie(title='Distribución de Niveles de Glucosa',y='Nivel',legend=False,autopct='%1.1f%%',figsize=(10, 4))\n",
    "plt.show()"
   ]
  },
  {
   "cell_type": "code",
   "execution_count": null,
   "id": "45feeb44",
   "metadata": {},
   "outputs": [],
   "source": [
    "df_Y_scaled['Nivel'].value_counts()"
   ]
  },
  {
   "cell_type": "code",
   "execution_count": null,
   "id": "40b96917",
   "metadata": {},
   "outputs": [],
   "source": [
    "XNew,YNew,YnewLabel=utils.downsamplingByLabel(XNew,YNew,YnewLabel,0,'euglycemia',True,4011) "
   ]
  },
  {
   "cell_type": "code",
   "execution_count": null,
   "id": "c7e74c3d",
   "metadata": {},
   "outputs": [],
   "source": [
    "df_Y_scaled = pd.DataFrame(YnewLabel, columns=['Nivel']) \n",
    "df_Y_scaled['Nivel'].value_counts().plot.pie(title='Distribución de Niveles de Glucosa',y='Nivel',legend=False,autopct='%1.1f%%',figsize=(10, 4))\n",
    "plt.show()"
   ]
  },
  {
   "cell_type": "code",
   "execution_count": null,
   "id": "3c00a1b4",
   "metadata": {},
   "outputs": [],
   "source": [
    "df_Y_scaled['Nivel'].value_counts()"
   ]
  },
  {
   "cell_type": "code",
   "execution_count": null,
   "id": "f56a16df",
   "metadata": {},
   "outputs": [],
   "source": [
    "df_Y_scaled['Nivel'].value_counts().plot.bar( rot=0,figsize=(10, 4))"
   ]
  },
  {
   "cell_type": "code",
   "execution_count": null,
   "id": "685fb915",
   "metadata": {},
   "outputs": [],
   "source": [
    "with open('dataset/generado/dataset15min/array_Xval_down_equals.npy', 'wb') as f:\n",
    "    np.save(f, XNew)"
   ]
  },
  {
   "cell_type": "code",
   "execution_count": null,
   "id": "1dd0be30",
   "metadata": {},
   "outputs": [],
   "source": [
    "with open('dataset/generado/dataset15min/array_Yval_down_equals.npy', 'wb') as f:\n",
    "    np.save(f, YNew)"
   ]
  },
  {
   "cell_type": "code",
   "execution_count": null,
   "id": "8dff8a2c",
   "metadata": {},
   "outputs": [],
   "source": []
  }
 ],
 "metadata": {
  "accelerator": "GPU",
  "colab": {
   "collapsed_sections": [
    "2787e722",
    "b35a5768",
    "70eb2370",
    "9aae3303",
    "ad3aee1c",
    "c757c150",
    "73821fc8",
    "2240c74e"
   ],
   "machine_shape": "hm",
   "provenance": []
  },
  "gpuClass": "premium",
  "kernelspec": {
   "display_name": "Python 3 (ipykernel)",
   "language": "python",
   "name": "python3"
  },
  "language_info": {
   "codemirror_mode": {
    "name": "ipython",
    "version": 3
   },
   "file_extension": ".py",
   "mimetype": "text/x-python",
   "name": "python",
   "nbconvert_exporter": "python",
   "pygments_lexer": "ipython3",
   "version": "3.10.8"
  }
 },
 "nbformat": 4,
 "nbformat_minor": 5
}
