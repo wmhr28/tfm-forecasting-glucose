{
 "cells": [
  {
   "cell_type": "code",
   "execution_count": 1,
   "id": "34e6836e",
   "metadata": {},
   "outputs": [],
   "source": [
    "import codigo\n",
    "from codigo import utils\n",
    "from codigo import model_utils"
   ]
  },
  {
   "cell_type": "code",
   "execution_count": 2,
   "id": "hollow-quilt",
   "metadata": {
    "id": "hollow-quilt"
   },
   "outputs": [],
   "source": [
    "import pandas as pd\n",
    "import numpy as np\n",
    "pd.set_option('mode.chained_assignment',None)\n",
    "import matplotlib.pyplot as plt\n",
    "import seaborn as sns\n",
    "import math\n",
    "from pickle import dump\n",
    "\n",
    "%matplotlib inline"
   ]
  },
  {
   "cell_type": "markdown",
   "id": "continental-fields",
   "metadata": {
    "id": "continental-fields"
   },
   "source": [
    "# Importar Dataset depurado"
   ]
  },
  {
   "cell_type": "code",
   "execution_count": 3,
   "id": "british-begin",
   "metadata": {
    "id": "british-begin"
   },
   "outputs": [],
   "source": [
    "df_Inicial = pd.read_csv(r'dataset/generado/datasetDepurado.csv')"
   ]
  },
  {
   "cell_type": "markdown",
   "id": "industrial-begin",
   "metadata": {
    "id": "industrial-begin"
   },
   "source": [
    "# Revisamos las columnas que contiene el Dataset"
   ]
  },
  {
   "cell_type": "code",
   "execution_count": 4,
   "id": "d1d3ab50",
   "metadata": {
    "colab": {
     "base_uri": "https://localhost:8080/",
     "height": 206
    },
    "id": "d1d3ab50",
    "outputId": "49e6be97-4bd0-4d1b-ef49-5d414f94cbad"
   },
   "outputs": [
    {
     "data": {
      "text/html": [
       "<div>\n",
       "<style scoped>\n",
       "    .dataframe tbody tr th:only-of-type {\n",
       "        vertical-align: middle;\n",
       "    }\n",
       "\n",
       "    .dataframe tbody tr th {\n",
       "        vertical-align: top;\n",
       "    }\n",
       "\n",
       "    .dataframe thead th {\n",
       "        text-align: right;\n",
       "    }\n",
       "</style>\n",
       "<table border=\"1\" class=\"dataframe\">\n",
       "  <thead>\n",
       "    <tr style=\"text-align: right;\">\n",
       "      <th></th>\n",
       "      <th>ID</th>\n",
       "      <th>Date</th>\n",
       "      <th>Glucose level</th>\n",
       "    </tr>\n",
       "  </thead>\n",
       "  <tbody>\n",
       "    <tr>\n",
       "      <th>0</th>\n",
       "      <td>LIB193263</td>\n",
       "      <td>2020-06-09 19:08:00</td>\n",
       "      <td>99.0</td>\n",
       "    </tr>\n",
       "    <tr>\n",
       "      <th>1</th>\n",
       "      <td>LIB193263</td>\n",
       "      <td>2020-06-09 19:23:00</td>\n",
       "      <td>92.0</td>\n",
       "    </tr>\n",
       "    <tr>\n",
       "      <th>2</th>\n",
       "      <td>LIB193263</td>\n",
       "      <td>2020-06-09 19:38:00</td>\n",
       "      <td>86.0</td>\n",
       "    </tr>\n",
       "    <tr>\n",
       "      <th>3</th>\n",
       "      <td>LIB193263</td>\n",
       "      <td>2020-06-09 19:53:00</td>\n",
       "      <td>85.0</td>\n",
       "    </tr>\n",
       "    <tr>\n",
       "      <th>4</th>\n",
       "      <td>LIB193263</td>\n",
       "      <td>2020-06-09 20:08:00</td>\n",
       "      <td>85.0</td>\n",
       "    </tr>\n",
       "  </tbody>\n",
       "</table>\n",
       "</div>"
      ],
      "text/plain": [
       "          ID                 Date  Glucose level\n",
       "0  LIB193263  2020-06-09 19:08:00           99.0\n",
       "1  LIB193263  2020-06-09 19:23:00           92.0\n",
       "2  LIB193263  2020-06-09 19:38:00           86.0\n",
       "3  LIB193263  2020-06-09 19:53:00           85.0\n",
       "4  LIB193263  2020-06-09 20:08:00           85.0"
      ]
     },
     "execution_count": 4,
     "metadata": {},
     "output_type": "execute_result"
    }
   ],
   "source": [
    "df_Inicial.head()"
   ]
  },
  {
   "cell_type": "code",
   "execution_count": 5,
   "id": "streaming-hometown",
   "metadata": {
    "colab": {
     "base_uri": "https://localhost:8080/"
    },
    "id": "streaming-hometown",
    "outputId": "c46866d8-129f-4b39-bb18-d49145ffd688"
   },
   "outputs": [
    {
     "name": "stdout",
     "output_type": "stream",
     "text": [
      "<class 'pandas.core.frame.DataFrame'>\n",
      "RangeIndex: 2966685 entries, 0 to 2966684\n",
      "Data columns (total 3 columns):\n",
      " #   Column         Dtype  \n",
      "---  ------         -----  \n",
      " 0   ID             object \n",
      " 1   Date           object \n",
      " 2   Glucose level  float64\n",
      "dtypes: float64(1), object(2)\n",
      "memory usage: 67.9+ MB\n"
     ]
    }
   ],
   "source": [
    "df_Inicial.info()"
   ]
  },
  {
   "cell_type": "markdown",
   "id": "7e4a3f46",
   "metadata": {
    "id": "7e4a3f46"
   },
   "source": [
    "### Cambiamos el formato de la columna Date de object a datetime64"
   ]
  },
  {
   "cell_type": "code",
   "execution_count": 24,
   "id": "39a8a155",
   "metadata": {
    "id": "39a8a155"
   },
   "outputs": [],
   "source": [
    "df_Inicial['Date']=pd.to_datetime(df_Inicial['Date'])"
   ]
  },
  {
   "cell_type": "code",
   "execution_count": 7,
   "id": "ffe49771",
   "metadata": {
    "colab": {
     "base_uri": "https://localhost:8080/"
    },
    "id": "ffe49771",
    "outputId": "8f69884b-4662-4aeb-9fa4-9a18e6a358c1"
   },
   "outputs": [
    {
     "name": "stdout",
     "output_type": "stream",
     "text": [
      "<class 'pandas.core.frame.DataFrame'>\n",
      "RangeIndex: 2966685 entries, 0 to 2966684\n",
      "Data columns (total 3 columns):\n",
      " #   Column         Dtype         \n",
      "---  ------         -----         \n",
      " 0   ID             object        \n",
      " 1   Date           datetime64[ns]\n",
      " 2   Glucose level  float64       \n",
      "dtypes: datetime64[ns](1), float64(1), object(1)\n",
      "memory usage: 67.9+ MB\n"
     ]
    }
   ],
   "source": [
    "df_Inicial.info()"
   ]
  },
  {
   "cell_type": "code",
   "execution_count": 8,
   "id": "8c8e9524",
   "metadata": {
    "colab": {
     "base_uri": "https://localhost:8080/"
    },
    "id": "8c8e9524",
    "outputId": "654e7afb-2b62-46fc-83ba-3a0d997cd665"
   },
   "outputs": [
    {
     "data": {
      "text/plain": [
       "Timestamp('2018-01-06 00:31:00')"
      ]
     },
     "execution_count": 8,
     "metadata": {},
     "output_type": "execute_result"
    }
   ],
   "source": [
    "df_Inicial['Date'].min()"
   ]
  },
  {
   "cell_type": "code",
   "execution_count": 9,
   "id": "6d02101d",
   "metadata": {
    "colab": {
     "base_uri": "https://localhost:8080/"
    },
    "id": "6d02101d",
    "outputId": "e0fea2aa-8711-4b84-b3cf-ab98cc8c9d49"
   },
   "outputs": [
    {
     "data": {
      "text/plain": [
       "Timestamp('2022-03-20 23:58:00')"
      ]
     },
     "execution_count": 9,
     "metadata": {},
     "output_type": "execute_result"
    }
   ],
   "source": [
    "df_Inicial['Date'].max()"
   ]
  },
  {
   "cell_type": "markdown",
   "id": "confused-possible",
   "metadata": {
    "id": "confused-possible"
   },
   "source": [
    "# Iniciamos Análisis Exploratorio"
   ]
  },
  {
   "cell_type": "markdown",
   "id": "fd5b4336",
   "metadata": {},
   "source": [
    "## Sobre el conjunto de datos depurado"
   ]
  },
  {
   "cell_type": "code",
   "execution_count": 30,
   "id": "6aa3db21",
   "metadata": {},
   "outputs": [],
   "source": [
    "from pandas_profiling import ProfileReport\n",
    "profile = ProfileReport(df_Inicial)"
   ]
  },
  {
   "cell_type": "code",
   "execution_count": 31,
   "id": "0218cfec",
   "metadata": {},
   "outputs": [
    {
     "data": {
      "application/vnd.jupyter.widget-view+json": {
       "model_id": "968993b32f2a4978a66a46cc5ab693de",
       "version_major": 2,
       "version_minor": 0
      },
      "text/plain": [
       "Summarize dataset:   0%|          | 0/5 [00:00<?, ?it/s]"
      ]
     },
     "metadata": {},
     "output_type": "display_data"
    },
    {
     "data": {
      "application/vnd.jupyter.widget-view+json": {
       "model_id": "b60906b6c8774b648c2e95d2a66e66c5",
       "version_major": 2,
       "version_minor": 0
      },
      "text/plain": [
       "Generate report structure:   0%|          | 0/1 [00:00<?, ?it/s]"
      ]
     },
     "metadata": {},
     "output_type": "display_data"
    },
    {
     "data": {
      "application/vnd.jupyter.widget-view+json": {
       "model_id": "5a9c81e39bfd4c8aaa8303fc5ae201a5",
       "version_major": 2,
       "version_minor": 0
      },
      "text/plain": [
       "Render HTML:   0%|          | 0/1 [00:00<?, ?it/s]"
      ]
     },
     "metadata": {},
     "output_type": "display_data"
    },
    {
     "data": {
      "application/vnd.jupyter.widget-view+json": {
       "model_id": "62d91ce3269f4b29a255385a76ecd7bc",
       "version_major": 2,
       "version_minor": 0
      },
      "text/plain": [
       "Export report to file:   0%|          | 0/1 [00:00<?, ?it/s]"
      ]
     },
     "metadata": {},
     "output_type": "display_data"
    }
   ],
   "source": [
    "profile.to_file(\"analisisExploratorio/datasetDepurado.html\")"
   ]
  },
  {
   "cell_type": "markdown",
   "id": "d4851c53",
   "metadata": {},
   "source": [
    "## Sobre el conjunto de un paciente"
   ]
  },
  {
   "cell_type": "code",
   "execution_count": 10,
   "id": "ac4a7719",
   "metadata": {},
   "outputs": [],
   "source": [
    "from pickle import load\n",
    "scalerGlucosa = load(open('dataset/generado/scalerGlucosa.scaler', 'rb'))\n",
    "scalerHours = load(open('dataset/generado/scalerHours.scaler', 'rb'))\n",
    "scalerMin = load(open('dataset/generado/scalerMin.scaler', 'rb'))\n",
    "scalerPodId = load(open('dataset/generado/scalerPodId.scaler', 'rb'))\n",
    "scalerLevelId = load(open('dataset/generado/scalerLevelId.scaler', 'rb'))"
   ]
  },
  {
   "cell_type": "code",
   "execution_count": 11,
   "id": "6c463fa8",
   "metadata": {},
   "outputs": [],
   "source": [
    "pacienteID=\"LIB193277\"\n",
    "paciente_data = utils.getDataPatient(df_Inicial,pacienteID,'15min',False)\n",
    "paciente_data=utils.fillNullData(paciente_data,'interpolate_linear')\n",
    "paciente_data=utils.generateNewColumns(paciente_data,scalerLevelId,scalerHours,scalerMin,scalerPodId,scalerGlucosa,False)"
   ]
  },
  {
   "cell_type": "code",
   "execution_count": 19,
   "id": "a5f90bd3",
   "metadata": {},
   "outputs": [
    {
     "data": {
      "text/html": [
       "<div>\n",
       "<style scoped>\n",
       "    .dataframe tbody tr th:only-of-type {\n",
       "        vertical-align: middle;\n",
       "    }\n",
       "\n",
       "    .dataframe tbody tr th {\n",
       "        vertical-align: top;\n",
       "    }\n",
       "\n",
       "    .dataframe thead th {\n",
       "        text-align: right;\n",
       "    }\n",
       "</style>\n",
       "<table border=\"1\" class=\"dataframe\">\n",
       "  <thead>\n",
       "    <tr style=\"text-align: right;\">\n",
       "      <th></th>\n",
       "      <th>Glucose level</th>\n",
       "      <th>level_label</th>\n",
       "      <th>level_id</th>\n",
       "      <th>hour</th>\n",
       "      <th>min</th>\n",
       "      <th>pod_label</th>\n",
       "      <th>pod_id</th>\n",
       "    </tr>\n",
       "    <tr>\n",
       "      <th>Date</th>\n",
       "      <th></th>\n",
       "      <th></th>\n",
       "      <th></th>\n",
       "      <th></th>\n",
       "      <th></th>\n",
       "      <th></th>\n",
       "      <th></th>\n",
       "    </tr>\n",
       "  </thead>\n",
       "  <tbody>\n",
       "    <tr>\n",
       "      <th>2018-06-12 20:15:00</th>\n",
       "      <td>156.0</td>\n",
       "      <td>euglycemia</td>\n",
       "      <td>0</td>\n",
       "      <td>20</td>\n",
       "      <td>15</td>\n",
       "      <td>Eve</td>\n",
       "      <td>4</td>\n",
       "    </tr>\n",
       "    <tr>\n",
       "      <th>2018-06-12 20:30:00</th>\n",
       "      <td>163.0</td>\n",
       "      <td>euglycemia</td>\n",
       "      <td>0</td>\n",
       "      <td>20</td>\n",
       "      <td>30</td>\n",
       "      <td>Eve</td>\n",
       "      <td>4</td>\n",
       "    </tr>\n",
       "    <tr>\n",
       "      <th>2018-06-12 20:45:00</th>\n",
       "      <td>158.0</td>\n",
       "      <td>euglycemia</td>\n",
       "      <td>0</td>\n",
       "      <td>20</td>\n",
       "      <td>45</td>\n",
       "      <td>Eve</td>\n",
       "      <td>4</td>\n",
       "    </tr>\n",
       "    <tr>\n",
       "      <th>2018-06-12 21:00:00</th>\n",
       "      <td>167.0</td>\n",
       "      <td>euglycemia</td>\n",
       "      <td>0</td>\n",
       "      <td>21</td>\n",
       "      <td>0</td>\n",
       "      <td>Night</td>\n",
       "      <td>5</td>\n",
       "    </tr>\n",
       "    <tr>\n",
       "      <th>2018-06-12 21:15:00</th>\n",
       "      <td>139.0</td>\n",
       "      <td>euglycemia</td>\n",
       "      <td>0</td>\n",
       "      <td>21</td>\n",
       "      <td>15</td>\n",
       "      <td>Night</td>\n",
       "      <td>5</td>\n",
       "    </tr>\n",
       "    <tr>\n",
       "      <th>...</th>\n",
       "      <td>...</td>\n",
       "      <td>...</td>\n",
       "      <td>...</td>\n",
       "      <td>...</td>\n",
       "      <td>...</td>\n",
       "      <td>...</td>\n",
       "      <td>...</td>\n",
       "    </tr>\n",
       "    <tr>\n",
       "      <th>2022-03-18 10:45:00</th>\n",
       "      <td>153.0</td>\n",
       "      <td>euglycemia</td>\n",
       "      <td>0</td>\n",
       "      <td>10</td>\n",
       "      <td>45</td>\n",
       "      <td>Morning</td>\n",
       "      <td>2</td>\n",
       "    </tr>\n",
       "    <tr>\n",
       "      <th>2022-03-18 11:00:00</th>\n",
       "      <td>144.0</td>\n",
       "      <td>euglycemia</td>\n",
       "      <td>0</td>\n",
       "      <td>11</td>\n",
       "      <td>0</td>\n",
       "      <td>Morning</td>\n",
       "      <td>2</td>\n",
       "    </tr>\n",
       "    <tr>\n",
       "      <th>2022-03-18 11:15:00</th>\n",
       "      <td>134.0</td>\n",
       "      <td>euglycemia</td>\n",
       "      <td>0</td>\n",
       "      <td>11</td>\n",
       "      <td>15</td>\n",
       "      <td>Morning</td>\n",
       "      <td>2</td>\n",
       "    </tr>\n",
       "    <tr>\n",
       "      <th>2022-03-18 11:30:00</th>\n",
       "      <td>125.0</td>\n",
       "      <td>euglycemia</td>\n",
       "      <td>0</td>\n",
       "      <td>11</td>\n",
       "      <td>30</td>\n",
       "      <td>Morning</td>\n",
       "      <td>2</td>\n",
       "    </tr>\n",
       "    <tr>\n",
       "      <th>2022-03-18 11:45:00</th>\n",
       "      <td>121.0</td>\n",
       "      <td>euglycemia</td>\n",
       "      <td>0</td>\n",
       "      <td>11</td>\n",
       "      <td>45</td>\n",
       "      <td>Morning</td>\n",
       "      <td>2</td>\n",
       "    </tr>\n",
       "  </tbody>\n",
       "</table>\n",
       "<p>131967 rows × 7 columns</p>\n",
       "</div>"
      ],
      "text/plain": [
       "                     Glucose level level_label  level_id  hour  min pod_label  \\\n",
       "Date                                                                            \n",
       "2018-06-12 20:15:00          156.0  euglycemia         0    20   15       Eve   \n",
       "2018-06-12 20:30:00          163.0  euglycemia         0    20   30       Eve   \n",
       "2018-06-12 20:45:00          158.0  euglycemia         0    20   45       Eve   \n",
       "2018-06-12 21:00:00          167.0  euglycemia         0    21    0     Night   \n",
       "2018-06-12 21:15:00          139.0  euglycemia         0    21   15     Night   \n",
       "...                            ...         ...       ...   ...  ...       ...   \n",
       "2022-03-18 10:45:00          153.0  euglycemia         0    10   45   Morning   \n",
       "2022-03-18 11:00:00          144.0  euglycemia         0    11    0   Morning   \n",
       "2022-03-18 11:15:00          134.0  euglycemia         0    11   15   Morning   \n",
       "2022-03-18 11:30:00          125.0  euglycemia         0    11   30   Morning   \n",
       "2022-03-18 11:45:00          121.0  euglycemia         0    11   45   Morning   \n",
       "\n",
       "                     pod_id  \n",
       "Date                         \n",
       "2018-06-12 20:15:00       4  \n",
       "2018-06-12 20:30:00       4  \n",
       "2018-06-12 20:45:00       4  \n",
       "2018-06-12 21:00:00       5  \n",
       "2018-06-12 21:15:00       5  \n",
       "...                     ...  \n",
       "2022-03-18 10:45:00       2  \n",
       "2022-03-18 11:00:00       2  \n",
       "2022-03-18 11:15:00       2  \n",
       "2022-03-18 11:30:00       2  \n",
       "2022-03-18 11:45:00       2  \n",
       "\n",
       "[131967 rows x 7 columns]"
      ]
     },
     "execution_count": 19,
     "metadata": {},
     "output_type": "execute_result"
    }
   ],
   "source": [
    "paciente_data"
   ]
  },
  {
   "cell_type": "code",
   "execution_count": 13,
   "id": "valued-lying",
   "metadata": {
    "id": "valued-lying"
   },
   "outputs": [],
   "source": [
    "from pandas_profiling import ProfileReport\n",
    "profile = ProfileReport(paciente_data, tsmode=True, sortby=\"Date\")"
   ]
  },
  {
   "cell_type": "code",
   "execution_count": 14,
   "id": "intelligent-oasis",
   "metadata": {
    "id": "intelligent-oasis",
    "scrolled": false
   },
   "outputs": [
    {
     "data": {
      "application/vnd.jupyter.widget-view+json": {
       "model_id": "b121bada042d4ded9deb1bf7aedacdd3",
       "version_major": 2,
       "version_minor": 0
      },
      "text/plain": [
       "Summarize dataset:   0%|          | 0/5 [00:00<?, ?it/s]"
      ]
     },
     "metadata": {},
     "output_type": "display_data"
    },
    {
     "data": {
      "application/vnd.jupyter.widget-view+json": {
       "model_id": "bb83bb71930c4f47ba478bee23439089",
       "version_major": 2,
       "version_minor": 0
      },
      "text/plain": [
       "Generate report structure:   0%|          | 0/1 [00:00<?, ?it/s]"
      ]
     },
     "metadata": {},
     "output_type": "display_data"
    },
    {
     "data": {
      "application/vnd.jupyter.widget-view+json": {
       "model_id": "46f2d35843044cf8813b1d5982a384fa",
       "version_major": 2,
       "version_minor": 0
      },
      "text/plain": [
       "Render HTML:   0%|          | 0/1 [00:00<?, ?it/s]"
      ]
     },
     "metadata": {},
     "output_type": "display_data"
    },
    {
     "data": {
      "application/vnd.jupyter.widget-view+json": {
       "model_id": "7901f9f2d9fe4e4da107e5a77c2791d8",
       "version_major": 2,
       "version_minor": 0
      },
      "text/plain": [
       "Export report to file:   0%|          | 0/1 [00:00<?, ?it/s]"
      ]
     },
     "metadata": {},
     "output_type": "display_data"
    }
   ],
   "source": [
    "profile.to_file(\"analisisExploratorio/paciente_LIB193277.html\")"
   ]
  },
  {
   "cell_type": "markdown",
   "id": "737f9d9c",
   "metadata": {
    "id": "737f9d9c"
   },
   "source": [
    "# Muestreo y Selección"
   ]
  },
  {
   "cell_type": "markdown",
   "id": "ce3d2c05",
   "metadata": {
    "id": "737f9d9c"
   },
   "source": [
    "## Contamos los registros de cada paciente"
   ]
  },
  {
   "cell_type": "code",
   "execution_count": null,
   "id": "c3b852bf",
   "metadata": {
    "colab": {
     "base_uri": "https://localhost:8080/",
     "height": 206
    },
    "id": "c3b852bf",
    "outputId": "9d6e242d-1b5e-4506-e52c-76e08de7b29f"
   },
   "outputs": [],
   "source": [
    "dfPacienteCount= pd.DataFrame(df.ID.value_counts().sort_values(ascending=False))\n",
    "dfPacienteCount.columns = ['Freq']\n",
    "total=dfPacienteCount['Freq'].sum()\n",
    "dfPacienteCount['Porcentaje_Acum']=(dfPacienteCount['Freq'].cumsum()/total)*100\n",
    "dfPacienteCount"
   ]
  },
  {
   "cell_type": "code",
   "execution_count": null,
   "id": "bbdb4d68",
   "metadata": {},
   "outputs": [],
   "source": [
    "dfPacienteCount.tail(50)"
   ]
  },
  {
   "cell_type": "code",
   "execution_count": null,
   "id": "82e439e6",
   "metadata": {
    "colab": {
     "base_uri": "https://localhost:8080/"
    },
    "id": "82e439e6",
    "outputId": "49ffcf8a-4254-4594-fc6e-99d27d2a6fdf"
   },
   "outputs": [],
   "source": [
    "dfPacienteCount['Freq'].plot.bar(figsize=(15, 5))"
   ]
  },
  {
   "cell_type": "code",
   "execution_count": null,
   "id": "2a8d77f9",
   "metadata": {},
   "outputs": [],
   "source": [
    "dfPacienteCount['Porcentaje_Acum'].plot.bar(figsize=(15, 5))"
   ]
  },
  {
   "cell_type": "code",
   "execution_count": null,
   "id": "1ad3a6ce",
   "metadata": {},
   "outputs": [],
   "source": [
    "values_list=['LIB193321','LIB193399','LIB193271']\n",
    "dfIDPacientesTrain=dfPacienteCount[~dfPacienteCount.index.isin(values_list)]"
   ]
  },
  {
   "cell_type": "markdown",
   "id": "9256fd95",
   "metadata": {
    "id": "9256fd95"
   },
   "source": [
    "## Seleccionamos los pacientes que representan el 90% del dataset"
   ]
  },
  {
   "cell_type": "code",
   "execution_count": null,
   "id": "19243530",
   "metadata": {},
   "outputs": [],
   "source": [
    "porcentajeTotalDataSet=90"
   ]
  },
  {
   "cell_type": "code",
   "execution_count": null,
   "id": "0992e6a4",
   "metadata": {
    "colab": {
     "base_uri": "https://localhost:8080/",
     "height": 206
    },
    "id": "0992e6a4",
    "outputId": "1c167303-952f-4e9b-99fb-523aa42e994c"
   },
   "outputs": [],
   "source": [
    "dfIDPacientesTrain = dfPacienteCount[dfPacienteCount['Porcentaje_Acum'] <=porcentajeTotalDataSet ]\n",
    "dfIDPacientesTrain.tail()"
   ]
  },
  {
   "cell_type": "code",
   "execution_count": null,
   "id": "7a449dbc",
   "metadata": {
    "colab": {
     "base_uri": "https://localhost:8080/"
    },
    "id": "7a449dbc",
    "outputId": "b10e9574-5b3c-4b7b-8f74-fd86ba8447de"
   },
   "outputs": [],
   "source": [
    "dfIDPacientesTrain.info()"
   ]
  },
  {
   "cell_type": "code",
   "execution_count": null,
   "id": "3bc1a1fc",
   "metadata": {
    "colab": {
     "base_uri": "https://localhost:8080/"
    },
    "id": "3bc1a1fc",
    "outputId": "f51a28cb-47d8-4ff3-9844-c74f30d863fb"
   },
   "outputs": [],
   "source": [
    "dfIDPacientesTrain.sum()"
   ]
  },
  {
   "cell_type": "code",
   "execution_count": null,
   "id": "6e8888d5",
   "metadata": {},
   "outputs": [],
   "source": [
    "dfIDPacientesTest = dfPacienteCount[dfPacienteCount['Porcentaje_Acum'] >porcentajeTotalDataSet ]\n",
    "dfIDPacientesTest.head()"
   ]
  },
  {
   "cell_type": "code",
   "execution_count": null,
   "id": "c47857c6",
   "metadata": {},
   "outputs": [],
   "source": [
    "dfIDPacientesTest.info()"
   ]
  },
  {
   "cell_type": "markdown",
   "id": "44d62598",
   "metadata": {
    "id": "44d62598"
   },
   "source": [
    "### Guardamos los IDs de Train y Test"
   ]
  },
  {
   "cell_type": "code",
   "execution_count": null,
   "id": "6c7f8080",
   "metadata": {},
   "outputs": [],
   "source": [
    "dfIDPacientesTrain['ID']=dfIDPacientesTrain.index\n",
    "dfIDPacientesTrain['ID'].to_csv('dataset/generado/IDs_Train.csv', index=False) \n",
    "dfIDPacientesTrain['ID'].count()"
   ]
  },
  {
   "cell_type": "code",
   "execution_count": null,
   "id": "8838c21a",
   "metadata": {},
   "outputs": [],
   "source": [
    "dfIDPacientesTest['ID']=dfIDPacientesTest.index\n",
    "dfIDPacientesTest['ID'].to_csv('dataset/generado/IDs_Test.csv', index=False) \n",
    "dfIDPacientesTest['ID'].count()"
   ]
  },
  {
   "cell_type": "markdown",
   "id": "9730157b",
   "metadata": {},
   "source": [
    "## Limpieza de Datos"
   ]
  },
  {
   "cell_type": "markdown",
   "id": "bb27fb3d",
   "metadata": {
    "id": "44d62598"
   },
   "source": [
    "### Analizamos los datos de 1 paciente con las muestras ordenadas cada 15 min"
   ]
  },
  {
   "cell_type": "code",
   "execution_count": null,
   "id": "5d66cae9",
   "metadata": {
    "colab": {
     "base_uri": "https://localhost:8080/",
     "height": 455
    },
    "id": "5d66cae9",
    "outputId": "dc30fef4-cc39-48de-8cc5-85a82c38c9f5"
   },
   "outputs": [],
   "source": [
    "pacienteID=\"LIB193277\"\n",
    "paciente = utils.getDataPatient(df,pacienteID,'15min')\n",
    "paciente"
   ]
  },
  {
   "cell_type": "markdown",
   "id": "90c39a8f",
   "metadata": {
    "id": "90c39a8f"
   },
   "source": [
    "Realizamos un análisis exploratorio"
   ]
  },
  {
   "cell_type": "code",
   "execution_count": null,
   "id": "df966065",
   "metadata": {
    "id": "df966065"
   },
   "outputs": [],
   "source": [
    "profile = ProfileReport(paciente, title=\"Pandas Profiling Report\",\n",
    "    missing_diagrams=None,\n",
    "    correlations=None, interactions=None,samples=None)\n",
    "profile.to_file(\"analisisExploratorio/analisis_paciente_ID_LIB193277.html\")"
   ]
  },
  {
   "cell_type": "markdown",
   "id": "cc539904",
   "metadata": {
    "id": "cc539904"
   },
   "source": [
    "Obtenemos los registros faltantes"
   ]
  },
  {
   "cell_type": "code",
   "execution_count": null,
   "id": "ea51571c",
   "metadata": {
    "colab": {
     "base_uri": "https://localhost:8080/"
    },
    "id": "ea51571c",
    "outputId": "20d5feb9-26b8-4046-b13a-af58ce96ebaf"
   },
   "outputs": [],
   "source": [
    "paciente_Null=paciente.isnull()\n",
    "paciente_Null.sum()"
   ]
  },
  {
   "cell_type": "markdown",
   "id": "20e513c5",
   "metadata": {
    "id": "20e513c5"
   },
   "source": [
    "Se observa que no todos los registros fueron tomados cada 15 min, y existen datos faltantes"
   ]
  },
  {
   "cell_type": "code",
   "execution_count": null,
   "id": "791fb125",
   "metadata": {
    "colab": {
     "base_uri": "https://localhost:8080/",
     "height": 237
    },
    "id": "791fb125",
    "outputId": "33cb6b95-1745-4f43-e9d7-a2c3e3d14944"
   },
   "outputs": [],
   "source": [
    "paciente_Null.tail()"
   ]
  },
  {
   "cell_type": "markdown",
   "id": "49a4209b",
   "metadata": {
    "id": "49a4209b"
   },
   "source": [
    "Pasamos a excel para analizar en detalle esos datos faltantes"
   ]
  },
  {
   "cell_type": "code",
   "execution_count": null,
   "id": "2bebaa31",
   "metadata": {
    "id": "2bebaa31"
   },
   "outputs": [],
   "source": [
    "paciente.to_excel(\"analisisExploratorio/paciente_ID_LIB193277.xlsx\")  "
   ]
  },
  {
   "cell_type": "code",
   "execution_count": null,
   "id": "f6e90034",
   "metadata": {
    "colab": {
     "base_uri": "https://localhost:8080/"
    },
    "id": "f6e90034",
    "outputId": "1a5b8106-ceae-4fca-abdc-df4fc8fbe821"
   },
   "outputs": [],
   "source": [
    "paciente['Glucose level'].plot(figsize=(20, 10))"
   ]
  },
  {
   "cell_type": "code",
   "execution_count": null,
   "id": "6d410dd3",
   "metadata": {
    "colab": {
     "base_uri": "https://localhost:8080/"
    },
    "id": "6d410dd3",
    "outputId": "df35093a-2535-425b-e91f-e7c612b7f7b4"
   },
   "outputs": [],
   "source": [
    "import missingno as msno\n",
    "msno.matrix(paciente)"
   ]
  },
  {
   "cell_type": "code",
   "execution_count": null,
   "id": "501bad30",
   "metadata": {},
   "outputs": [],
   "source": [
    "paciente_data_15['hour'].min()"
   ]
  },
  {
   "cell_type": "markdown",
   "id": "5f50c965",
   "metadata": {},
   "source": [
    "#  Evaluación de caracteristicas"
   ]
  },
  {
   "cell_type": "code",
   "execution_count": null,
   "id": "5cc3c42c",
   "metadata": {},
   "outputs": [],
   "source": [
    "features=['Glucose level','hour','min','pod_id','level_id']"
   ]
  },
  {
   "cell_type": "markdown",
   "id": "2801ba12",
   "metadata": {},
   "source": [
    "##  Variable Yt"
   ]
  },
  {
   "cell_type": "code",
   "execution_count": null,
   "id": "4f99b1b9",
   "metadata": {},
   "outputs": [],
   "source": [
    "paciente_data_15['Yt'].plot(figsize=(10, 5))"
   ]
  },
  {
   "cell_type": "markdown",
   "id": "388856d8",
   "metadata": {},
   "source": [
    "##  Análisis de correlación"
   ]
  },
  {
   "cell_type": "code",
   "execution_count": null,
   "id": "f253eb9d",
   "metadata": {},
   "outputs": [],
   "source": [
    "paciente_df=paciente_data_15[features].copy()\n",
    "correlated_features = set()\n",
    "correlation_matrix = paciente_df.corr() \n",
    "#obtenemos las caracteristicas que tienen correlacion >0.5 con respecto a la variable objetivo \"Glucose level\"\n",
    "correlated_features = correlation_matrix.index[abs(correlation_matrix[\"Glucose level\"])>0.5]\n",
    "            \n",
    "correlation_matrix"
   ]
  },
  {
   "cell_type": "code",
   "execution_count": null,
   "id": "eb052a37",
   "metadata": {},
   "outputs": [],
   "source": [
    "arrayLevel=[-1,0,1]\n",
    "dfLevel= pd.DataFrame(arrayLevel)\n",
    "dfLevel.columns = ['levelid']\n",
    "dfLevel"
   ]
  },
  {
   "cell_type": "code",
   "execution_count": null,
   "id": "1c03dbd3",
   "metadata": {},
   "outputs": [],
   "source": [
    "scalerLevelId = MinMaxScaler()\n",
    "\n",
    "arrayLevel=scalerLevelId.fit_transform(dfLevel[['levelid']].values)\n",
    "dump(scalerLevelId, open('dataset/generado/scalerLevelId.scaler', 'wb'))\n",
    "arrayLevel"
   ]
  },
  {
   "cell_type": "code",
   "execution_count": null,
   "id": "8fee60ff",
   "metadata": {},
   "outputs": [],
   "source": [
    "arrayLevelT=scalerLevelId.transform([[-1]])\n",
    "arrayLevelT[0]"
   ]
  },
  {
   "cell_type": "code",
   "execution_count": null,
   "id": "3ae57cc6",
   "metadata": {},
   "outputs": [],
   "source": []
  },
  {
   "cell_type": "markdown",
   "id": "9c29d894",
   "metadata": {},
   "source": [
    "# Estrategia de creación de caracteristicas"
   ]
  },
  {
   "cell_type": "code",
   "execution_count": null,
   "id": "29456262",
   "metadata": {},
   "outputs": [],
   "source": [
    "df"
   ]
  },
  {
   "cell_type": "code",
   "execution_count": null,
   "id": "5a070737",
   "metadata": {},
   "outputs": [],
   "source": [
    "paciente_data_15 = utils.getDataPatient(df,pacienteID,'15min',False)\n",
    "\n",
    "paciente_data_15['level_label'] = paciente_data_15['Glucose level'].apply(utils.label_LevelBG)\n",
    "paciente_data_15['level_id'] = paciente_data_15['level_label'].apply(utils.id_LevelBG)\n",
    "paciente_data_15['level_id'] = scalerLevelId.transform(paciente_data_15[['level_id']].values)\n",
    "paciente_data_15['Glucose level'] = scalerGlucosa.transform(paciente_data_15[['Glucose level']].values)\n",
    "\n",
    "paciente_data_15=utils.fillNullData(paciente_data_15,'interpolate_linear')\n",
    "\n",
    "paciente_data_15=utils.generateNewColumns(paciente_data_15,scalerHours,scalerMin)\n",
    "paciente_data_15['pod_id'] = scalerPodId.transform(paciente_data_15[['pod_id']].values)\n",
    "\n",
    "paciente_data_15"
   ]
  },
  {
   "cell_type": "code",
   "execution_count": null,
   "id": "4c9face4",
   "metadata": {},
   "outputs": [],
   "source": [
    "paciente_data_15['hour'].max()"
   ]
  },
  {
   "cell_type": "code",
   "execution_count": null,
   "id": "2591278f",
   "metadata": {},
   "outputs": [],
   "source": [
    "correlated_features"
   ]
  },
  {
   "cell_type": "code",
   "execution_count": null,
   "id": "3302b2dc",
   "metadata": {},
   "outputs": [],
   "source": [
    "plt.figure(figsize=(10, 5))\n",
    "sns.heatmap(correlation_matrix[features].corr(),  vmax=.9, square=True, annot=True,cmap='coolwarm')\n",
    "plt.show()"
   ]
  },
  {
   "cell_type": "markdown",
   "id": "b5237847",
   "metadata": {},
   "source": [
    "##  Análisis de balanceo de clases"
   ]
  },
  {
   "cell_type": "markdown",
   "id": "cc2fa71c",
   "metadata": {},
   "source": [
    "### Clase: Hora del día"
   ]
  },
  {
   "cell_type": "code",
   "execution_count": null,
   "id": "6a392fab",
   "metadata": {},
   "outputs": [],
   "source": [
    "paciente_data_15['hour'].value_counts().plot.bar( rot=0,figsize=(10, 3))"
   ]
  },
  {
   "cell_type": "markdown",
   "id": "0b1e157e",
   "metadata": {},
   "source": [
    "### Clase: Parte del día"
   ]
  },
  {
   "cell_type": "code",
   "execution_count": null,
   "id": "f60dfb87",
   "metadata": {},
   "outputs": [],
   "source": [
    "paciente_data_15['pod_label'].value_counts().plot.bar( rot=0,figsize=(10, 3))"
   ]
  },
  {
   "cell_type": "markdown",
   "id": "b595daa1",
   "metadata": {},
   "source": [
    "### Clase: Niveles de Glucosa"
   ]
  },
  {
   "cell_type": "code",
   "execution_count": null,
   "id": "ed54de8f",
   "metadata": {},
   "outputs": [],
   "source": [
    "paciente_data_15['level_label'].value_counts().plot.bar( rot=0,figsize=(10, 4))"
   ]
  },
  {
   "cell_type": "code",
   "execution_count": null,
   "id": "76a0d47d",
   "metadata": {},
   "outputs": [],
   "source": [
    "paciente_data_15['level_label'].value_counts().plot.pie(y='level_label',legend=False,autopct='%1.1f%%',figsize=(10, 4))"
   ]
  },
  {
   "cell_type": "code",
   "execution_count": null,
   "id": "a5d6c0ee",
   "metadata": {},
   "outputs": [],
   "source": [
    "paciente_data_15['level_label'].value_counts()"
   ]
  },
  {
   "cell_type": "markdown",
   "id": "abd7f65f",
   "metadata": {},
   "source": [
    "# Generación de Dataset General de entrenamiento, completo y limpio"
   ]
  },
  {
   "cell_type": "code",
   "execution_count": null,
   "id": "29674926",
   "metadata": {},
   "outputs": [],
   "source": [
    "dfIDPacientesTrain = pd.read_csv(r'dataset/generado/IDs_Train.csv')\n",
    "dfIDPacientesTrain"
   ]
  },
  {
   "cell_type": "code",
   "execution_count": null,
   "id": "e65e6717",
   "metadata": {},
   "outputs": [],
   "source": [
    "min=15\n",
    "print(str(min)+'min')"
   ]
  },
  {
   "cell_type": "code",
   "execution_count": null,
   "id": "6bb6d5b8",
   "metadata": {},
   "outputs": [],
   "source": [
    "dfIDPacientesTrain"
   ]
  },
  {
   "cell_type": "code",
   "execution_count": null,
   "id": "54a49c27",
   "metadata": {},
   "outputs": [],
   "source": [
    "df"
   ]
  },
  {
   "cell_type": "code",
   "execution_count": null,
   "id": "61dda1b6",
   "metadata": {},
   "outputs": [],
   "source": [
    "# Generamos train validation and test \n",
    "# ratio of training data set (85%, 10% for validation and 5% for testing)\n",
    "train_share = 0.85\n",
    "#ration of validation data set (10%)\n",
    "val_share = 0.95 \n",
    "lag=30\n",
    "n_ahead=1\n",
    "\n",
    "\n",
    "dfGen,array_Xtrain,array_Ytrain,array_Xval,array_Yval,array_Xtest,array_Ytest=model_utils.GenDataSet(df,features,dfIDPacientesTrain['ID'],15,train_share,val_share,lag,n_ahead,scalerHours,scalerMin,scalerGlucosa,scalerPodId,scalerLevelId)\n",
    "\n"
   ]
  },
  {
   "cell_type": "code",
   "execution_count": null,
   "id": "7207d942",
   "metadata": {},
   "outputs": [],
   "source": [
    "len(array_Xtrain)"
   ]
  },
  {
   "cell_type": "code",
   "execution_count": null,
   "id": "0237d950",
   "metadata": {},
   "outputs": [],
   "source": [
    "len(array_Ytrain)"
   ]
  },
  {
   "cell_type": "code",
   "execution_count": null,
   "id": "1a28e8d9",
   "metadata": {},
   "outputs": [],
   "source": [
    "len(array_Xval)"
   ]
  },
  {
   "cell_type": "code",
   "execution_count": null,
   "id": "ae0f041b",
   "metadata": {},
   "outputs": [],
   "source": [
    "len(array_Xtest)"
   ]
  },
  {
   "cell_type": "code",
   "execution_count": null,
   "id": "0723d838",
   "metadata": {},
   "outputs": [],
   "source": [
    "array_Ytest"
   ]
  },
  {
   "cell_type": "code",
   "execution_count": null,
   "id": "54b12044",
   "metadata": {},
   "outputs": [],
   "source": [
    "dfGen"
   ]
  },
  {
   "cell_type": "code",
   "execution_count": null,
   "id": "213950a9",
   "metadata": {},
   "outputs": [],
   "source": [
    "dump(dfGen, open('dataset/generado/dfGen.dataset', 'wb'))"
   ]
  },
  {
   "cell_type": "code",
   "execution_count": null,
   "id": "f73c33f2",
   "metadata": {},
   "outputs": [],
   "source": [
    "Yscaled=scalerGlucosa.inverse_transform([dfGen['Glucose level'].values])"
   ]
  },
  {
   "cell_type": "code",
   "execution_count": null,
   "id": "c17c7661",
   "metadata": {},
   "outputs": [],
   "source": [
    "df_Y_scaled = pd.DataFrame(Yscaled[0], columns=['Glucose level']) \n",
    "df_Y_scaled['Nivel'] = df_Y_scaled['Glucose level'].apply(utils.label_LevelBG) \n",
    "df_Y_scaled['Nivel'].value_counts().plot.pie(title='Distribución de Niveles de Glucosa',y='Nivel',legend=False,autopct='%1.1f%%',figsize=(10, 4))\n",
    "plt.show()"
   ]
  },
  {
   "cell_type": "code",
   "execution_count": null,
   "id": "caca1a7d",
   "metadata": {},
   "outputs": [],
   "source": [
    "df_Y_scaled['Nivel'].value_counts()"
   ]
  },
  {
   "cell_type": "code",
   "execution_count": null,
   "id": "fbf48151",
   "metadata": {},
   "outputs": [],
   "source": [
    "dfGen['level_label']= dfGen['level_id'].apply(utils.id_LevelBG_inverse_transform,scaler=scalerLevelId)\n",
    "dfGen['level_label'].value_counts().plot.bar( rot=0,figsize=(10, 4))"
   ]
  },
  {
   "cell_type": "code",
   "execution_count": null,
   "id": "5c064192",
   "metadata": {},
   "outputs": [],
   "source": [
    "dfGen['level_label'].value_counts()"
   ]
  },
  {
   "cell_type": "code",
   "execution_count": null,
   "id": "39752298",
   "metadata": {},
   "outputs": [],
   "source": [
    "dfGen['level_label'].value_counts().plot.pie(y='level_label',legend=False,autopct='%1.1f%%',figsize=(10, 4))"
   ]
  },
  {
   "cell_type": "code",
   "execution_count": null,
   "id": "79c43bea",
   "metadata": {},
   "outputs": [],
   "source": [
    "dfGen['pod_label']= dfGen['pod_id'].apply(utils.id_partOfDay_inverse_transform,scaler=scalerPodId)\n",
    "dfGen['pod_label'].value_counts().plot.bar( rot=0,figsize=(10, 5))"
   ]
  },
  {
   "cell_type": "code",
   "execution_count": null,
   "id": "006c8ab1",
   "metadata": {},
   "outputs": [],
   "source": [
    "dfGen['hour'].value_counts().plot.bar( rot=0,figsize=(10, 3))"
   ]
  },
  {
   "cell_type": "code",
   "execution_count": null,
   "id": "9b5d64a9",
   "metadata": {},
   "outputs": [],
   "source": []
  }
 ],
 "metadata": {
  "accelerator": "GPU",
  "colab": {
   "collapsed_sections": [
    "2787e722",
    "b35a5768",
    "70eb2370",
    "9aae3303",
    "ad3aee1c",
    "c757c150",
    "73821fc8",
    "2240c74e"
   ],
   "machine_shape": "hm",
   "provenance": []
  },
  "gpuClass": "premium",
  "kernelspec": {
   "display_name": "Python 3 (ipykernel)",
   "language": "python",
   "name": "python3"
  },
  "language_info": {
   "codemirror_mode": {
    "name": "ipython",
    "version": 3
   },
   "file_extension": ".py",
   "mimetype": "text/x-python",
   "name": "python",
   "nbconvert_exporter": "python",
   "pygments_lexer": "ipython3",
   "version": "3.9.13"
  }
 },
 "nbformat": 4,
 "nbformat_minor": 5
}
