{
 "cells": [
  {
   "cell_type": "code",
   "execution_count": 1,
   "id": "34e6836e",
   "metadata": {},
   "outputs": [],
   "source": [
    "import codigo\n",
    "from codigo import utils\n",
    "from codigo import model_LSTM\n",
    "from codigo import model_utils"
   ]
  },
  {
   "cell_type": "code",
   "execution_count": 2,
   "id": "hollow-quilt",
   "metadata": {
    "id": "hollow-quilt"
   },
   "outputs": [],
   "source": [
    "import pandas as pd\n",
    "import numpy as np\n",
    "pd.set_option('mode.chained_assignment',None)\n",
    "import matplotlib.pyplot as plt\n",
    "import seaborn as sns\n",
    "import math\n",
    "\n",
    "%matplotlib inline"
   ]
  },
  {
   "cell_type": "code",
   "execution_count": 3,
   "id": "97f16e1d",
   "metadata": {},
   "outputs": [],
   "source": [
    "import tensorflow as tf\n",
    "from tensorflow import keras"
   ]
  },
  {
   "cell_type": "markdown",
   "id": "continental-fields",
   "metadata": {
    "id": "continental-fields"
   },
   "source": [
    "# Importar Arrays de Entrenamiento, Validación y Prueba"
   ]
  },
  {
   "cell_type": "code",
   "execution_count": 4,
   "id": "020a1d43",
   "metadata": {},
   "outputs": [],
   "source": [
    "with open('dataset/generado/dataset15min/array_Xtrain_down_equals.npy', 'rb') as f:\n",
    "    array_Xtrain = np.load(f)"
   ]
  },
  {
   "cell_type": "code",
   "execution_count": 5,
   "id": "7207d942",
   "metadata": {},
   "outputs": [
    {
     "data": {
      "text/plain": [
       "449439"
      ]
     },
     "execution_count": 5,
     "metadata": {},
     "output_type": "execute_result"
    }
   ],
   "source": [
    "len(array_Xtrain)"
   ]
  },
  {
   "cell_type": "code",
   "execution_count": 6,
   "id": "2c014838",
   "metadata": {},
   "outputs": [],
   "source": [
    "with open('dataset/generado/dataset15min/array_Ytrain_down_equals.npy', 'rb') as f:\n",
    "    array_Ytrain = np.load(f)"
   ]
  },
  {
   "cell_type": "code",
   "execution_count": 7,
   "id": "0237d950",
   "metadata": {},
   "outputs": [
    {
     "data": {
      "text/plain": [
       "449439"
      ]
     },
     "execution_count": 7,
     "metadata": {},
     "output_type": "execute_result"
    }
   ],
   "source": [
    "len(array_Ytrain)"
   ]
  },
  {
   "cell_type": "code",
   "execution_count": 8,
   "id": "cd63e8ba",
   "metadata": {},
   "outputs": [],
   "source": [
    "with open('dataset/generado/dataset15min/array_Xval_down_equals.npy', 'rb') as f:\n",
    "    array_Xval = np.load(f)"
   ]
  },
  {
   "cell_type": "code",
   "execution_count": 9,
   "id": "1a28e8d9",
   "metadata": {},
   "outputs": [
    {
     "data": {
      "text/plain": [
       "58947"
      ]
     },
     "execution_count": 9,
     "metadata": {},
     "output_type": "execute_result"
    }
   ],
   "source": [
    "len(array_Xval)"
   ]
  },
  {
   "cell_type": "code",
   "execution_count": 10,
   "id": "c92818fa",
   "metadata": {},
   "outputs": [],
   "source": [
    "with open('dataset/generado/dataset15min/array_Yval_down_equals.npy', 'rb') as f:\n",
    "    array_Yval = np.load(f)"
   ]
  },
  {
   "cell_type": "code",
   "execution_count": 11,
   "id": "385a843f",
   "metadata": {},
   "outputs": [
    {
     "data": {
      "text/plain": [
       "58947"
      ]
     },
     "execution_count": 11,
     "metadata": {},
     "output_type": "execute_result"
    }
   ],
   "source": [
    "len(array_Yval)"
   ]
  },
  {
   "cell_type": "code",
   "execution_count": 12,
   "id": "7af2b3b6",
   "metadata": {},
   "outputs": [],
   "source": [
    "with open('dataset/generado/dataset15min/array_Xtest.npy', 'rb') as f:\n",
    "    array_Xtest = np.load(f)"
   ]
  },
  {
   "cell_type": "code",
   "execution_count": 13,
   "id": "5e0957aa",
   "metadata": {},
   "outputs": [
    {
     "data": {
      "text/plain": [
       "436603"
      ]
     },
     "execution_count": 13,
     "metadata": {},
     "output_type": "execute_result"
    }
   ],
   "source": [
    "len(array_Xtest)"
   ]
  },
  {
   "cell_type": "code",
   "execution_count": 14,
   "id": "8d70be9c",
   "metadata": {},
   "outputs": [],
   "source": [
    "with open('dataset/generado/dataset15min/array_Ytest.npy', 'rb') as f:\n",
    "    array_Ytest = np.load(f)"
   ]
  },
  {
   "cell_type": "code",
   "execution_count": 15,
   "id": "ae0f041b",
   "metadata": {},
   "outputs": [
    {
     "data": {
      "text/plain": [
       "436603"
      ]
     },
     "execution_count": 15,
     "metadata": {},
     "output_type": "execute_result"
    }
   ],
   "source": [
    "len(array_Ytest)"
   ]
  },
  {
   "cell_type": "markdown",
   "id": "533245e6",
   "metadata": {},
   "source": [
    "# Entrenamiento Vanilla LSTM con dropout"
   ]
  },
  {
   "cell_type": "code",
   "execution_count": 16,
   "id": "841df02e",
   "metadata": {
    "scrolled": true
   },
   "outputs": [
    {
     "name": "stdout",
     "output_type": "stream",
     "text": [
      "Model: \"sequential\"\n",
      "_________________________________________________________________\n",
      " Layer (type)                Output Shape              Param #   \n",
      "=================================================================\n",
      " lstm (LSTM)                 (None, 32)                4864      \n",
      "                                                                 \n",
      " dropout (Dropout)           (None, 32)                0         \n",
      "                                                                 \n",
      " dense (Dense)               (None, 64)                2112      \n",
      "                                                                 \n",
      " dropout_1 (Dropout)         (None, 64)                0         \n",
      "                                                                 \n",
      " dense_1 (Dense)             (None, 32)                2080      \n",
      "                                                                 \n",
      " dropout_2 (Dropout)         (None, 32)                0         \n",
      "                                                                 \n",
      " dense_2 (Dense)             (None, 1)                 33        \n",
      "                                                                 \n",
      "=================================================================\n",
      "Total params: 9,089\n",
      "Trainable params: 9,089\n",
      "Non-trainable params: 0\n",
      "_________________________________________________________________\n"
     ]
    }
   ],
   "source": [
    "epochs = 50\n",
    "early_stopping = tf.keras.callbacks.EarlyStopping(monitor='val_mae', mode='min', patience=3, min_delta=0.001)\n",
    "model=model_LSTM.modelLSTM_Gen(array_Xtrain.shape[1],array_Xtrain.shape[2])\n",
    "model.summary()"
   ]
  },
  {
   "cell_type": "code",
   "execution_count": null,
   "id": "85248fec",
   "metadata": {},
   "outputs": [
    {
     "name": "stdout",
     "output_type": "stream",
     "text": [
      "Epoch 1/50\n",
      "14045/14045 [==============================] - 215s 15ms/step - loss: 0.0014 - mae: 0.0270 - mse: 0.0014 - val_loss: 0.0013 - val_mae: 0.0275 - val_mse: 0.0013\n",
      "Epoch 2/50\n",
      "14045/14045 [==============================] - 217s 15ms/step - loss: 0.0012 - mae: 0.0240 - mse: 0.0012 - val_loss: 0.0010 - val_mae: 0.0273 - val_mse: 0.0010\n",
      "Epoch 3/50\n",
      "14045/14045 [==============================] - 230s 16ms/step - loss: 0.0010 - mae: 0.0226 - mse: 0.0010 - val_loss: 8.7886e-04 - val_mae: 0.0254 - val_mse: 8.7886e-04\n",
      "Epoch 4/50\n",
      "14045/14045 [==============================] - 241s 17ms/step - loss: 9.4967e-04 - mae: 0.0218 - mse: 9.4967e-04 - val_loss: 0.0010 - val_mae: 0.0274 - val_mse: 0.0010\n",
      "Epoch 5/50\n",
      "14045/14045 [==============================] - 236s 17ms/step - loss: 9.3274e-04 - mae: 0.0215 - mse: 9.3274e-04 - val_loss: 0.0012 - val_mae: 0.0290 - val_mse: 0.0012\n",
      "Epoch 6/50\n",
      "13520/14045 [===========================>..] - ETA: 8s - loss: 8.9139e-04 - mae: 0.0211 - mse: 8.9139e-04"
     ]
    }
   ],
   "source": [
    "history =model.fit(array_Xtrain, array_Ytrain,epochs=epochs, validation_data=(array_Xval, array_Yval), shuffle=False, callbacks=[early_stopping])\n",
    "model.save('modelos/modeloGeneral/vanilla_dropout.h5')"
   ]
  },
  {
   "cell_type": "code",
   "execution_count": null,
   "id": "a43cf018",
   "metadata": {},
   "outputs": [],
   "source": [
    "model_utils.modelEvaluateTraining(model,history,array_Xtest, array_Ytest)"
   ]
  },
  {
   "cell_type": "code",
   "execution_count": null,
   "id": "33494fcd",
   "metadata": {},
   "outputs": [],
   "source": [
    "yhat = model.predict(array_Xtest)\n",
    "model_utils.plotPredicted(yhat,array_Ytest)"
   ]
  },
  {
   "cell_type": "code",
   "execution_count": null,
   "id": "1c3379d6",
   "metadata": {},
   "outputs": [],
   "source": [
    "model_utils.forecast_accuracy(yhat,array_Ytest)"
   ]
  },
  {
   "cell_type": "markdown",
   "id": "d4877f4c",
   "metadata": {},
   "source": [
    "# Entrenamiento Vanilla LSTM sin dropout"
   ]
  },
  {
   "cell_type": "code",
   "execution_count": null,
   "id": "4d086a84",
   "metadata": {
    "scrolled": true
   },
   "outputs": [],
   "source": [
    "epochs = 50\n",
    "early_stopping = tf.keras.callbacks.EarlyStopping(monitor='val_mae', mode='min', patience=3, min_delta=0.001)\n",
    "model=model_LSTM.modelLSTM_Gen_nodrop(array_Xtrain.shape[1],array_Xtrain.shape[2])\n",
    "model.summary()"
   ]
  },
  {
   "cell_type": "code",
   "execution_count": null,
   "id": "e40845e4",
   "metadata": {},
   "outputs": [],
   "source": [
    "history =model.fit(array_Xtrain, array_Ytrain,epochs=epochs, validation_data=(array_Xval, array_Yval), shuffle=False, callbacks=[early_stopping])\n",
    "model.save('modelos/modeloGeneral/vanilla_NO_dropout.h5')"
   ]
  },
  {
   "cell_type": "code",
   "execution_count": null,
   "id": "d3aeacd7",
   "metadata": {},
   "outputs": [],
   "source": [
    "model_utils.modelEvaluateTraining(model,history,array_Xtest, array_Ytest)"
   ]
  },
  {
   "cell_type": "code",
   "execution_count": null,
   "id": "6ac8ec63",
   "metadata": {},
   "outputs": [],
   "source": [
    "yhat = model.predict(array_Xtest)\n",
    "model_utils.plotPredicted(yhat,array_Ytest)"
   ]
  },
  {
   "cell_type": "code",
   "execution_count": null,
   "id": "b2c0c8ca",
   "metadata": {},
   "outputs": [],
   "source": [
    "model_utils.forecast_accuracy(yhat,array_Ytest)"
   ]
  },
  {
   "cell_type": "markdown",
   "id": "970061c0",
   "metadata": {},
   "source": [
    "# Entrenamiento Stacked LSTM sin dropout"
   ]
  },
  {
   "cell_type": "code",
   "execution_count": null,
   "id": "4000af9a",
   "metadata": {
    "scrolled": true
   },
   "outputs": [],
   "source": [
    "epochs = 50\n",
    "early_stopping = tf.keras.callbacks.EarlyStopping(monitor='val_mae', mode='min', patience=3, min_delta=0.001)\n",
    "model=model_LSTM.modelLSTM_Gen_Stacked(array_Xtrain.shape[1],array_Xtrain.shape[2])\n",
    "model.summary()"
   ]
  },
  {
   "cell_type": "code",
   "execution_count": null,
   "id": "25e5dac3",
   "metadata": {},
   "outputs": [],
   "source": [
    "history =model.fit(array_Xtrain, array_Ytrain,epochs=epochs, validation_data=(array_Xval, array_Yval), shuffle=False, callbacks=[early_stopping])\n",
    "model.save('modelos/modeloGeneral/stacked_dropout.h5')"
   ]
  },
  {
   "cell_type": "code",
   "execution_count": null,
   "id": "40e03bd6",
   "metadata": {},
   "outputs": [],
   "source": [
    "model_utils.modelEvaluateTraining(model,history,array_Xtest, array_Ytest)"
   ]
  },
  {
   "cell_type": "code",
   "execution_count": null,
   "id": "17923daf",
   "metadata": {},
   "outputs": [],
   "source": [
    "yhat = model.predict(array_Xtest)\n",
    "model_utils.plotPredicted(yhat,array_Ytest)"
   ]
  },
  {
   "cell_type": "code",
   "execution_count": null,
   "id": "bf8419ec",
   "metadata": {},
   "outputs": [],
   "source": [
    "model_utils.forecast_accuracy(yhat,array_Ytest)"
   ]
  },
  {
   "cell_type": "markdown",
   "id": "5df84226",
   "metadata": {},
   "source": [
    "# Entrenamiento Stacked LSTM con dropout"
   ]
  },
  {
   "cell_type": "code",
   "execution_count": null,
   "id": "4d61d60d",
   "metadata": {
    "scrolled": true
   },
   "outputs": [],
   "source": [
    "epochs = 50\n",
    "early_stopping = tf.keras.callbacks.EarlyStopping(monitor='val_mae', mode='min', patience=3, min_delta=0.001)\n",
    "model=model_LSTM.modelLSTM_Gen_Stacked_nodrop(array_Xtrain.shape[1],array_Xtrain.shape[2])\n",
    "model.summary()"
   ]
  },
  {
   "cell_type": "code",
   "execution_count": null,
   "id": "cef24151",
   "metadata": {},
   "outputs": [],
   "source": [
    "history =model.fit(array_Xtrain, array_Ytrain,epochs=epochs, validation_data=(array_Xval, array_Yval), shuffle=False, callbacks=[early_stopping])\n",
    "model.save('modelos/modeloGeneral/stacked_NO_dropout.h5')"
   ]
  },
  {
   "cell_type": "code",
   "execution_count": null,
   "id": "5a95adb6",
   "metadata": {},
   "outputs": [],
   "source": [
    "model_utils.modelEvaluateTraining(model,history,array_Xtest, array_Ytest)"
   ]
  },
  {
   "cell_type": "code",
   "execution_count": null,
   "id": "68f318d4",
   "metadata": {},
   "outputs": [],
   "source": [
    "yhat = model.predict(array_Xtest)\n",
    "model_utils.plotPredicted(yhat,array_Ytest)"
   ]
  },
  {
   "cell_type": "code",
   "execution_count": null,
   "id": "bd5bf16d",
   "metadata": {},
   "outputs": [],
   "source": [
    "model_utils.forecast_accuracy(yhat,array_Ytest)"
   ]
  },
  {
   "cell_type": "markdown",
   "id": "6483f9e5",
   "metadata": {},
   "source": [
    "# Entrenamiento Bidirectional LSTM con dropout"
   ]
  },
  {
   "cell_type": "code",
   "execution_count": null,
   "id": "4f7f9b71",
   "metadata": {
    "scrolled": true
   },
   "outputs": [],
   "source": [
    "epochs = 50\n",
    "early_stopping = tf.keras.callbacks.EarlyStopping(monitor='val_mae', mode='min', patience=3, min_delta=0.001)\n",
    "model=model_LSTM.modelLSTM_Gen_Bidirectional(array_Xtrain.shape[1],array_Xtrain.shape[2])\n",
    "model.summary()"
   ]
  },
  {
   "cell_type": "code",
   "execution_count": null,
   "id": "fd9abc62",
   "metadata": {},
   "outputs": [],
   "source": [
    "history =model.fit(array_Xtrain, array_Ytrain,epochs=epochs, validation_data=(array_Xval, array_Yval), shuffle=False, callbacks=[early_stopping])\n",
    "model.save('modelos/modeloGeneral/bidirectional_dropout.h5')"
   ]
  },
  {
   "cell_type": "code",
   "execution_count": null,
   "id": "2ed50955",
   "metadata": {},
   "outputs": [],
   "source": [
    "model_utils.modelEvaluateTraining(model,history,array_Xtest, array_Ytest)"
   ]
  },
  {
   "cell_type": "code",
   "execution_count": null,
   "id": "0fc34956",
   "metadata": {},
   "outputs": [],
   "source": [
    "yhat = model.predict(array_Xtest)\n",
    "model_utils.plotPredicted(yhat,array_Ytest)"
   ]
  },
  {
   "cell_type": "code",
   "execution_count": null,
   "id": "80516b7d",
   "metadata": {},
   "outputs": [],
   "source": [
    "model_utils.forecast_accuracy(yhat,array_Ytest)"
   ]
  },
  {
   "cell_type": "markdown",
   "id": "194d458e",
   "metadata": {},
   "source": [
    "# Entrenamiento Bidirectional LSTM sin dropout"
   ]
  },
  {
   "cell_type": "code",
   "execution_count": null,
   "id": "63b86d54",
   "metadata": {
    "scrolled": true
   },
   "outputs": [],
   "source": [
    "epochs = 50\n",
    "early_stopping = tf.keras.callbacks.EarlyStopping(monitor='val_mae', mode='min', patience=3, min_delta=0.001)\n",
    "model=model_LSTM.modelLSTM_Gen_Bidirectional_nodrop(array_Xtrain.shape[1],array_Xtrain.shape[2])\n",
    "model.summary()"
   ]
  },
  {
   "cell_type": "code",
   "execution_count": null,
   "id": "332cd553",
   "metadata": {},
   "outputs": [],
   "source": [
    "history =model.fit(array_Xtrain, array_Ytrain,epochs=epochs, validation_data=(array_Xval, array_Yval), shuffle=False, callbacks=[early_stopping])\n",
    "model.save('modelos/modeloGeneral/bidirectional_NO_dropout.h5')"
   ]
  },
  {
   "cell_type": "code",
   "execution_count": null,
   "id": "2d67be1e",
   "metadata": {},
   "outputs": [],
   "source": [
    "model_utils.modelEvaluateTraining(model,history,array_Xtest, array_Ytest)"
   ]
  },
  {
   "cell_type": "code",
   "execution_count": null,
   "id": "12fb1393",
   "metadata": {},
   "outputs": [],
   "source": [
    "yhat = model.predict(array_Xtest)\n",
    "model_utils.plotPredicted(yhat,array_Ytest)"
   ]
  },
  {
   "cell_type": "code",
   "execution_count": null,
   "id": "6a860b9e",
   "metadata": {},
   "outputs": [],
   "source": [
    "model_utils.forecast_accuracy(yhat,array_Ytest)"
   ]
  },
  {
   "cell_type": "code",
   "execution_count": null,
   "id": "4b6485a0",
   "metadata": {},
   "outputs": [],
   "source": []
  }
 ],
 "metadata": {
  "accelerator": "GPU",
  "colab": {
   "collapsed_sections": [
    "2787e722",
    "b35a5768",
    "70eb2370",
    "9aae3303",
    "ad3aee1c",
    "c757c150",
    "73821fc8",
    "2240c74e"
   ],
   "machine_shape": "hm",
   "provenance": []
  },
  "gpuClass": "premium",
  "kernelspec": {
   "display_name": "Python 3 (ipykernel)",
   "language": "python",
   "name": "python3"
  },
  "language_info": {
   "codemirror_mode": {
    "name": "ipython",
    "version": 3
   },
   "file_extension": ".py",
   "mimetype": "text/x-python",
   "name": "python",
   "nbconvert_exporter": "python",
   "pygments_lexer": "ipython3",
   "version": "3.10.8"
  }
 },
 "nbformat": 4,
 "nbformat_minor": 5
}
