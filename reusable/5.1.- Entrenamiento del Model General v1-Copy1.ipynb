{
 "cells": [
  {
   "cell_type": "code",
   "execution_count": 1,
   "id": "34e6836e",
   "metadata": {},
   "outputs": [
    {
     "name": "stderr",
     "output_type": "stream",
     "text": [
      "\n",
      "KeyboardInterrupt\n",
      "\n"
     ]
    }
   ],
   "source": [
    "import codigo\n",
    "from codigo import utils\n",
    "from codigo import model_LSTM\n",
    "from codigo import model_utils"
   ]
  },
  {
   "cell_type": "code",
   "execution_count": null,
   "id": "hollow-quilt",
   "metadata": {
    "id": "hollow-quilt"
   },
   "outputs": [],
   "source": [
    "import pandas as pd\n",
    "import numpy as np\n",
    "pd.set_option('mode.chained_assignment',None)\n",
    "import matplotlib.pyplot as plt\n",
    "import seaborn as sns\n",
    "import math\n",
    "\n",
    "%matplotlib inline"
   ]
  },
  {
   "cell_type": "markdown",
   "id": "continental-fields",
   "metadata": {
    "id": "continental-fields"
   },
   "source": [
    "# Importar Arrays de Entrenamiento, Validación y Prueba"
   ]
  },
  {
   "cell_type": "code",
   "execution_count": null,
   "id": "020a1d43",
   "metadata": {},
   "outputs": [],
   "source": [
    "with open('dataset/generado/dataset15min/array_Xtrain_down5.npy', 'rb') as f:\n",
    "    array_Xtrain = np.load(f)"
   ]
  },
  {
   "cell_type": "code",
   "execution_count": null,
   "id": "7207d942",
   "metadata": {},
   "outputs": [],
   "source": [
    "len(array_Xtrain)"
   ]
  },
  {
   "cell_type": "code",
   "execution_count": null,
   "id": "2c014838",
   "metadata": {},
   "outputs": [],
   "source": [
    "with open('dataset/generado/dataset15min/array_Ytrain_down5.npy', 'rb') as f:\n",
    "    array_Ytrain = np.load(f)"
   ]
  },
  {
   "cell_type": "code",
   "execution_count": null,
   "id": "0237d950",
   "metadata": {},
   "outputs": [],
   "source": [
    "len(array_Ytrain)"
   ]
  },
  {
   "cell_type": "code",
   "execution_count": null,
   "id": "cd63e8ba",
   "metadata": {},
   "outputs": [],
   "source": [
    "with open('dataset/generado/dataset15min/array_Xval_down2.npy', 'rb') as f:\n",
    "    array_Xval = np.load(f)"
   ]
  },
  {
   "cell_type": "code",
   "execution_count": null,
   "id": "1a28e8d9",
   "metadata": {},
   "outputs": [],
   "source": [
    "len(array_Xval)"
   ]
  },
  {
   "cell_type": "code",
   "execution_count": null,
   "id": "c92818fa",
   "metadata": {},
   "outputs": [],
   "source": [
    "with open('dataset/generado/dataset15min/array_Yval_down2.npy', 'rb') as f:\n",
    "    array_Yval = np.load(f)"
   ]
  },
  {
   "cell_type": "code",
   "execution_count": null,
   "id": "385a843f",
   "metadata": {},
   "outputs": [],
   "source": [
    "len(array_Yval)"
   ]
  },
  {
   "cell_type": "code",
   "execution_count": null,
   "id": "7af2b3b6",
   "metadata": {},
   "outputs": [],
   "source": [
    "with open('dataset/generado/dataset15min/array_Xtest.npy', 'rb') as f:\n",
    "    array_Xtest = np.load(f)"
   ]
  },
  {
   "cell_type": "code",
   "execution_count": null,
   "id": "5e0957aa",
   "metadata": {},
   "outputs": [],
   "source": [
    "len(array_Xtest)"
   ]
  },
  {
   "cell_type": "code",
   "execution_count": null,
   "id": "8d70be9c",
   "metadata": {},
   "outputs": [],
   "source": [
    "with open('dataset/generado/dataset15min/array_Ytest.npy', 'rb') as f:\n",
    "    array_Ytest = np.load(f)"
   ]
  },
  {
   "cell_type": "code",
   "execution_count": null,
   "id": "ae0f041b",
   "metadata": {},
   "outputs": [],
   "source": [
    "len(array_Ytest)"
   ]
  },
  {
   "cell_type": "code",
   "execution_count": null,
   "id": "fe4c752f",
   "metadata": {},
   "outputs": [],
   "source": [
    "array_Xtrain.shape[1]"
   ]
  },
  {
   "cell_type": "code",
   "execution_count": null,
   "id": "323447ee",
   "metadata": {},
   "outputs": [],
   "source": [
    "array_Xtrain.shape[2]"
   ]
  },
  {
   "cell_type": "code",
   "execution_count": null,
   "id": "841df02e",
   "metadata": {},
   "outputs": [],
   "source": [
    "epochs = 50\n",
    "early_stopping = tf.keras.callbacks.EarlyStopping(monitor='val_mae', mode='min', patience=3, min_delta=0.001)\n",
    "model=model_LSTM.modelLSTM_Gen(array_Xtrain.shape[1],array_Xtrain.shape[2])\n",
    "model.summary()"
   ]
  },
  {
   "cell_type": "code",
   "execution_count": null,
   "id": "89b1ec24",
   "metadata": {},
   "outputs": [],
   "source": [
    "array_Xtrain"
   ]
  },
  {
   "cell_type": "code",
   "execution_count": null,
   "id": "46bbf120",
   "metadata": {},
   "outputs": [],
   "source": [
    "from pickle import load\n",
    "scalerGlucosa = load(open('dataset/generado/scalerGlucosa.scaler', 'rb'))"
   ]
  },
  {
   "cell_type": "code",
   "execution_count": null,
   "id": "85248fec",
   "metadata": {},
   "outputs": [],
   "source": [
    "history =model.fit(array_Xtrain, array_Ytrain,epochs=epochs, validation_data=(array_Xval, array_Yval), shuffle=False, callbacks=[early_stopping])\n",
    "model.save('modelos/modeloGeneral_v1.h5')"
   ]
  },
  {
   "cell_type": "code",
   "execution_count": null,
   "id": "a43cf018",
   "metadata": {},
   "outputs": [],
   "source": [
    "model_utils.modelEvaluateTraining(model,history,array_Xtest, array_Ytest)"
   ]
  },
  {
   "cell_type": "code",
   "execution_count": null,
   "id": "33494fcd",
   "metadata": {},
   "outputs": [],
   "source": [
    "yhat = model.predict(array_Xtest)\n",
    "model_utils.plotPredicted(yhat,array_Ytest)"
   ]
  },
  {
   "cell_type": "code",
   "execution_count": null,
   "id": "1c3379d6",
   "metadata": {},
   "outputs": [],
   "source": [
    "model_utils.forecast_accuracy(yhat,array_Ytest)"
   ]
  }
 ],
 "metadata": {
  "accelerator": "GPU",
  "colab": {
   "collapsed_sections": [
    "2787e722",
    "b35a5768",
    "70eb2370",
    "9aae3303",
    "ad3aee1c",
    "c757c150",
    "73821fc8",
    "2240c74e"
   ],
   "machine_shape": "hm",
   "provenance": []
  },
  "gpuClass": "premium",
  "kernelspec": {
   "display_name": "Python 3 (ipykernel)",
   "language": "python",
   "name": "python3"
  },
  "language_info": {
   "codemirror_mode": {
    "name": "ipython",
    "version": 3
   },
   "file_extension": ".py",
   "mimetype": "text/x-python",
   "name": "python",
   "nbconvert_exporter": "python",
   "pygments_lexer": "ipython3",
   "version": "3.10.8"
  }
 },
 "nbformat": 4,
 "nbformat_minor": 5
}
