{
 "cells": [
  {
   "cell_type": "code",
   "execution_count": 1,
   "id": "34e6836e",
   "metadata": {},
   "outputs": [],
   "source": [
    "import codigo\n",
    "from codigo import utils\n",
    "from codigo import model_utils"
   ]
  },
  {
   "cell_type": "code",
   "execution_count": 2,
   "id": "hollow-quilt",
   "metadata": {
    "id": "hollow-quilt"
   },
   "outputs": [],
   "source": [
    "import pandas as pd\n",
    "import numpy as np\n",
    "pd.set_option('mode.chained_assignment',None)\n",
    "import matplotlib.pyplot as plt\n",
    "import seaborn as sns\n",
    "import math\n",
    "from pickle import dump\n",
    "\n",
    "%matplotlib inline\n",
    "import warnings\n",
    "warnings.simplefilter(action='ignore', category=FutureWarning)"
   ]
  },
  {
   "cell_type": "markdown",
   "id": "continental-fields",
   "metadata": {
    "id": "continental-fields"
   },
   "source": [
    "# Importar Dataset depurado"
   ]
  },
  {
   "cell_type": "code",
   "execution_count": 3,
   "id": "british-begin",
   "metadata": {
    "id": "british-begin"
   },
   "outputs": [],
   "source": [
    "df_Inicial = pd.read_csv(r'dataset/generado/datasetDepurado.csv')"
   ]
  },
  {
   "cell_type": "markdown",
   "id": "industrial-begin",
   "metadata": {
    "id": "industrial-begin"
   },
   "source": [
    "# Revisamos las columnas que contiene el Dataset"
   ]
  },
  {
   "cell_type": "code",
   "execution_count": 4,
   "id": "d1d3ab50",
   "metadata": {
    "colab": {
     "base_uri": "https://localhost:8080/",
     "height": 206
    },
    "id": "d1d3ab50",
    "outputId": "49e6be97-4bd0-4d1b-ef49-5d414f94cbad"
   },
   "outputs": [
    {
     "data": {
      "text/html": [
       "<div>\n",
       "<style scoped>\n",
       "    .dataframe tbody tr th:only-of-type {\n",
       "        vertical-align: middle;\n",
       "    }\n",
       "\n",
       "    .dataframe tbody tr th {\n",
       "        vertical-align: top;\n",
       "    }\n",
       "\n",
       "    .dataframe thead th {\n",
       "        text-align: right;\n",
       "    }\n",
       "</style>\n",
       "<table border=\"1\" class=\"dataframe\">\n",
       "  <thead>\n",
       "    <tr style=\"text-align: right;\">\n",
       "      <th></th>\n",
       "      <th>ID</th>\n",
       "      <th>Date</th>\n",
       "      <th>Glucose level</th>\n",
       "    </tr>\n",
       "  </thead>\n",
       "  <tbody>\n",
       "    <tr>\n",
       "      <th>0</th>\n",
       "      <td>LIB193263</td>\n",
       "      <td>2020-06-09 19:08:00</td>\n",
       "      <td>99.0</td>\n",
       "    </tr>\n",
       "    <tr>\n",
       "      <th>1</th>\n",
       "      <td>LIB193263</td>\n",
       "      <td>2020-06-09 19:23:00</td>\n",
       "      <td>92.0</td>\n",
       "    </tr>\n",
       "    <tr>\n",
       "      <th>2</th>\n",
       "      <td>LIB193263</td>\n",
       "      <td>2020-06-09 19:38:00</td>\n",
       "      <td>86.0</td>\n",
       "    </tr>\n",
       "    <tr>\n",
       "      <th>3</th>\n",
       "      <td>LIB193263</td>\n",
       "      <td>2020-06-09 19:53:00</td>\n",
       "      <td>85.0</td>\n",
       "    </tr>\n",
       "    <tr>\n",
       "      <th>4</th>\n",
       "      <td>LIB193263</td>\n",
       "      <td>2020-06-09 20:08:00</td>\n",
       "      <td>85.0</td>\n",
       "    </tr>\n",
       "  </tbody>\n",
       "</table>\n",
       "</div>"
      ],
      "text/plain": [
       "          ID                 Date  Glucose level\n",
       "0  LIB193263  2020-06-09 19:08:00           99.0\n",
       "1  LIB193263  2020-06-09 19:23:00           92.0\n",
       "2  LIB193263  2020-06-09 19:38:00           86.0\n",
       "3  LIB193263  2020-06-09 19:53:00           85.0\n",
       "4  LIB193263  2020-06-09 20:08:00           85.0"
      ]
     },
     "execution_count": 4,
     "metadata": {},
     "output_type": "execute_result"
    }
   ],
   "source": [
    "df_Inicial.head()"
   ]
  },
  {
   "cell_type": "code",
   "execution_count": 5,
   "id": "streaming-hometown",
   "metadata": {
    "colab": {
     "base_uri": "https://localhost:8080/"
    },
    "id": "streaming-hometown",
    "outputId": "c46866d8-129f-4b39-bb18-d49145ffd688"
   },
   "outputs": [
    {
     "name": "stdout",
     "output_type": "stream",
     "text": [
      "<class 'pandas.core.frame.DataFrame'>\n",
      "RangeIndex: 2966685 entries, 0 to 2966684\n",
      "Data columns (total 3 columns):\n",
      " #   Column         Dtype  \n",
      "---  ------         -----  \n",
      " 0   ID             object \n",
      " 1   Date           object \n",
      " 2   Glucose level  float64\n",
      "dtypes: float64(1), object(2)\n",
      "memory usage: 67.9+ MB\n"
     ]
    }
   ],
   "source": [
    "df_Inicial.info()"
   ]
  },
  {
   "cell_type": "markdown",
   "id": "7e4a3f46",
   "metadata": {
    "id": "7e4a3f46"
   },
   "source": [
    "### Cambiamos el formato de la columna Date de object a datetime64"
   ]
  },
  {
   "cell_type": "code",
   "execution_count": 6,
   "id": "39a8a155",
   "metadata": {
    "id": "39a8a155"
   },
   "outputs": [],
   "source": [
    "df_Inicial['Date']=pd.to_datetime(df_Inicial['Date'])"
   ]
  },
  {
   "cell_type": "code",
   "execution_count": 7,
   "id": "ffe49771",
   "metadata": {
    "colab": {
     "base_uri": "https://localhost:8080/"
    },
    "id": "ffe49771",
    "outputId": "8f69884b-4662-4aeb-9fa4-9a18e6a358c1"
   },
   "outputs": [
    {
     "name": "stdout",
     "output_type": "stream",
     "text": [
      "<class 'pandas.core.frame.DataFrame'>\n",
      "RangeIndex: 2966685 entries, 0 to 2966684\n",
      "Data columns (total 3 columns):\n",
      " #   Column         Dtype         \n",
      "---  ------         -----         \n",
      " 0   ID             object        \n",
      " 1   Date           datetime64[ns]\n",
      " 2   Glucose level  float64       \n",
      "dtypes: datetime64[ns](1), float64(1), object(1)\n",
      "memory usage: 67.9+ MB\n"
     ]
    }
   ],
   "source": [
    "df_Inicial.info()"
   ]
  },
  {
   "cell_type": "code",
   "execution_count": 8,
   "id": "8c8e9524",
   "metadata": {
    "colab": {
     "base_uri": "https://localhost:8080/"
    },
    "id": "8c8e9524",
    "outputId": "654e7afb-2b62-46fc-83ba-3a0d997cd665"
   },
   "outputs": [
    {
     "data": {
      "text/plain": [
       "Timestamp('2018-01-06 00:31:00')"
      ]
     },
     "execution_count": 8,
     "metadata": {},
     "output_type": "execute_result"
    }
   ],
   "source": [
    "df_Inicial['Date'].min()"
   ]
  },
  {
   "cell_type": "code",
   "execution_count": 9,
   "id": "6d02101d",
   "metadata": {
    "colab": {
     "base_uri": "https://localhost:8080/"
    },
    "id": "6d02101d",
    "outputId": "e0fea2aa-8711-4b84-b3cf-ab98cc8c9d49"
   },
   "outputs": [
    {
     "data": {
      "text/plain": [
       "Timestamp('2022-03-20 23:58:00')"
      ]
     },
     "execution_count": 9,
     "metadata": {},
     "output_type": "execute_result"
    }
   ],
   "source": [
    "df_Inicial['Date'].max()"
   ]
  },
  {
   "cell_type": "markdown",
   "id": "66c89278",
   "metadata": {},
   "source": [
    "# Generar DataSet de cada Paciente"
   ]
  },
  {
   "cell_type": "code",
   "execution_count": 10,
   "id": "f903f192",
   "metadata": {},
   "outputs": [],
   "source": [
    "train_share = 0.8\n",
    "val_share = 0.9\n",
    "lag=30\n",
    "n_ahead=2\n",
    "min=15\n",
    "\n",
    "featuresObj=['Glucose level','hour','min','pod_id','level_id']\n",
    "\n",
    "from pickle import load\n",
    "scalerGlucosa = load(open('dataset/generado/scalerGlucosa.scaler', 'rb'))\n",
    "scalerHours = load(open('dataset/generado/scalerHours.scaler', 'rb'))\n",
    "scalerMin = load(open('dataset/generado/scalerMin.scaler', 'rb'))\n",
    "scalerPodId = load(open('dataset/generado/scalerPodId.scaler', 'rb'))\n",
    "scalerLevelId = load(open('dataset/generado/scalerLevelId.scaler', 'rb'))"
   ]
  },
  {
   "cell_type": "markdown",
   "id": "663a0e86",
   "metadata": {},
   "source": [
    "## Paciente 1: LIB193399"
   ]
  },
  {
   "cell_type": "code",
   "execution_count": 11,
   "id": "d0b6deb9",
   "metadata": {},
   "outputs": [],
   "source": [
    "ID_Paciente='LIB193399'\n",
    "dfpaciente=df_Inicial[df_Inicial['ID'] == ID_Paciente]"
   ]
  },
  {
   "cell_type": "code",
   "execution_count": 12,
   "id": "f3b499c1",
   "metadata": {},
   "outputs": [
    {
     "data": {
      "text/html": [
       "<div>\n",
       "<style scoped>\n",
       "    .dataframe tbody tr th:only-of-type {\n",
       "        vertical-align: middle;\n",
       "    }\n",
       "\n",
       "    .dataframe tbody tr th {\n",
       "        vertical-align: top;\n",
       "    }\n",
       "\n",
       "    .dataframe thead th {\n",
       "        text-align: right;\n",
       "    }\n",
       "</style>\n",
       "<table border=\"1\" class=\"dataframe\">\n",
       "  <thead>\n",
       "    <tr style=\"text-align: right;\">\n",
       "      <th></th>\n",
       "      <th>ID</th>\n",
       "      <th>Date</th>\n",
       "      <th>Glucose level</th>\n",
       "    </tr>\n",
       "  </thead>\n",
       "  <tbody>\n",
       "    <tr>\n",
       "      <th>2964772</th>\n",
       "      <td>LIB193399</td>\n",
       "      <td>2020-09-30 18:15:00</td>\n",
       "      <td>105.0</td>\n",
       "    </tr>\n",
       "    <tr>\n",
       "      <th>2964773</th>\n",
       "      <td>LIB193399</td>\n",
       "      <td>2020-09-30 18:30:00</td>\n",
       "      <td>101.0</td>\n",
       "    </tr>\n",
       "    <tr>\n",
       "      <th>2964774</th>\n",
       "      <td>LIB193399</td>\n",
       "      <td>2020-09-30 18:45:00</td>\n",
       "      <td>98.0</td>\n",
       "    </tr>\n",
       "    <tr>\n",
       "      <th>2964775</th>\n",
       "      <td>LIB193399</td>\n",
       "      <td>2020-09-30 19:00:00</td>\n",
       "      <td>99.0</td>\n",
       "    </tr>\n",
       "    <tr>\n",
       "      <th>2964776</th>\n",
       "      <td>LIB193399</td>\n",
       "      <td>2020-09-30 19:15:00</td>\n",
       "      <td>108.0</td>\n",
       "    </tr>\n",
       "    <tr>\n",
       "      <th>...</th>\n",
       "      <td>...</td>\n",
       "      <td>...</td>\n",
       "      <td>...</td>\n",
       "    </tr>\n",
       "    <tr>\n",
       "      <th>2966680</th>\n",
       "      <td>LIB193399</td>\n",
       "      <td>2020-10-20 20:50:00</td>\n",
       "      <td>83.0</td>\n",
       "    </tr>\n",
       "    <tr>\n",
       "      <th>2966681</th>\n",
       "      <td>LIB193399</td>\n",
       "      <td>2020-10-20 21:05:00</td>\n",
       "      <td>76.0</td>\n",
       "    </tr>\n",
       "    <tr>\n",
       "      <th>2966682</th>\n",
       "      <td>LIB193399</td>\n",
       "      <td>2020-10-20 21:20:00</td>\n",
       "      <td>67.0</td>\n",
       "    </tr>\n",
       "    <tr>\n",
       "      <th>2966683</th>\n",
       "      <td>LIB193399</td>\n",
       "      <td>2020-10-20 21:35:00</td>\n",
       "      <td>63.0</td>\n",
       "    </tr>\n",
       "    <tr>\n",
       "      <th>2966684</th>\n",
       "      <td>LIB193399</td>\n",
       "      <td>2020-10-20 21:50:00</td>\n",
       "      <td>63.0</td>\n",
       "    </tr>\n",
       "  </tbody>\n",
       "</table>\n",
       "<p>1913 rows × 3 columns</p>\n",
       "</div>"
      ],
      "text/plain": [
       "                ID                Date  Glucose level\n",
       "2964772  LIB193399 2020-09-30 18:15:00          105.0\n",
       "2964773  LIB193399 2020-09-30 18:30:00          101.0\n",
       "2964774  LIB193399 2020-09-30 18:45:00           98.0\n",
       "2964775  LIB193399 2020-09-30 19:00:00           99.0\n",
       "2964776  LIB193399 2020-09-30 19:15:00          108.0\n",
       "...            ...                 ...            ...\n",
       "2966680  LIB193399 2020-10-20 20:50:00           83.0\n",
       "2966681  LIB193399 2020-10-20 21:05:00           76.0\n",
       "2966682  LIB193399 2020-10-20 21:20:00           67.0\n",
       "2966683  LIB193399 2020-10-20 21:35:00           63.0\n",
       "2966684  LIB193399 2020-10-20 21:50:00           63.0\n",
       "\n",
       "[1913 rows x 3 columns]"
      ]
     },
     "execution_count": 12,
     "metadata": {},
     "output_type": "execute_result"
    }
   ],
   "source": [
    "dfpaciente"
   ]
  },
  {
   "cell_type": "code",
   "execution_count": 13,
   "id": "78e604fa",
   "metadata": {},
   "outputs": [],
   "source": [
    "dfPacienteFinal,array_Xtrain,array_Ytrain,array_Xval,array_Yval,array_Xtest,array_Ytest=model_utils.GenDataSet(dfpaciente,featuresObj,[ID_Paciente],min,train_share,val_share,lag,n_ahead,scalerHours,scalerMin,scalerGlucosa,scalerPodId,scalerLevelId,fillNullData=True,resample=True,normalized=True)"
   ]
  },
  {
   "cell_type": "code",
   "execution_count": 14,
   "id": "a44c0150",
   "metadata": {},
   "outputs": [
    {
     "name": "stdout",
     "output_type": "stream",
     "text": [
      "<class 'pandas.core.frame.DataFrame'>\n",
      "DatetimeIndex: 1935 entries, 2020-09-30 18:15:00 to 2020-10-20 21:45:00\n",
      "Freq: 15T\n",
      "Data columns (total 5 columns):\n",
      " #   Column         Non-Null Count  Dtype  \n",
      "---  ------         --------------  -----  \n",
      " 0   Glucose level  1935 non-null   float64\n",
      " 1   hour           1935 non-null   float64\n",
      " 2   min            1935 non-null   float64\n",
      " 3   pod_id         1935 non-null   float64\n",
      " 4   level_id       1935 non-null   float64\n",
      "dtypes: float64(5)\n",
      "memory usage: 90.7 KB\n"
     ]
    }
   ],
   "source": [
    "dfPacienteFinal.info()"
   ]
  },
  {
   "cell_type": "markdown",
   "id": "55366dca",
   "metadata": {},
   "source": [
    "Guardamos todos los arrays de entrenamiento, validación y pruebas generados"
   ]
  },
  {
   "cell_type": "code",
   "execution_count": 15,
   "id": "f352a488",
   "metadata": {},
   "outputs": [
    {
     "data": {
      "text/plain": [
       "1523"
      ]
     },
     "execution_count": 15,
     "metadata": {},
     "output_type": "execute_result"
    }
   ],
   "source": [
    "with open('dataset/generado/paciente1/array_Xtrain.npy', 'wb') as f:\n",
    "    np.save(f, array_Xtrain)\n",
    "len(array_Ytrain)"
   ]
  },
  {
   "cell_type": "code",
   "execution_count": 16,
   "id": "c93da8cf",
   "metadata": {},
   "outputs": [
    {
     "data": {
      "text/plain": [
       "1523"
      ]
     },
     "execution_count": 16,
     "metadata": {},
     "output_type": "execute_result"
    }
   ],
   "source": [
    "with open('dataset/generado/paciente1/array_Ytrain.npy', 'wb') as f:\n",
    "    np.save(f, array_Ytrain)\n",
    "len(array_Ytrain)"
   ]
  },
  {
   "cell_type": "code",
   "execution_count": 17,
   "id": "31e29f83",
   "metadata": {},
   "outputs": [
    {
     "data": {
      "text/plain": [
       "190"
      ]
     },
     "execution_count": 17,
     "metadata": {},
     "output_type": "execute_result"
    }
   ],
   "source": [
    "with open('dataset/generado/paciente1/array_Xval.npy', 'wb') as f:\n",
    "    np.save(f, array_Xval)\n",
    "len(array_Xval)"
   ]
  },
  {
   "cell_type": "code",
   "execution_count": 18,
   "id": "70e22b12",
   "metadata": {},
   "outputs": [
    {
     "data": {
      "text/plain": [
       "190"
      ]
     },
     "execution_count": 18,
     "metadata": {},
     "output_type": "execute_result"
    }
   ],
   "source": [
    "with open('dataset/generado/paciente1/array_Yval.npy', 'wb') as f:\n",
    "    np.save(f, array_Yval)\n",
    "len(array_Yval)"
   ]
  },
  {
   "cell_type": "code",
   "execution_count": 19,
   "id": "a8ee81fe",
   "metadata": {},
   "outputs": [
    {
     "data": {
      "text/plain": [
       "191"
      ]
     },
     "execution_count": 19,
     "metadata": {},
     "output_type": "execute_result"
    }
   ],
   "source": [
    "with open('dataset/generado/paciente1/array_Xtest.npy', 'wb') as f:\n",
    "    np.save(f, array_Xtest)\n",
    "len(array_Xtest)"
   ]
  },
  {
   "cell_type": "code",
   "execution_count": 20,
   "id": "2013cf06",
   "metadata": {},
   "outputs": [
    {
     "data": {
      "text/plain": [
       "191"
      ]
     },
     "execution_count": 20,
     "metadata": {},
     "output_type": "execute_result"
    }
   ],
   "source": [
    "with open('dataset/generado/paciente1/array_Ytest.npy', 'wb') as f:\n",
    "    np.save(f, array_Ytest)\n",
    "len(array_Ytest)"
   ]
  },
  {
   "cell_type": "markdown",
   "id": "2de1bb4f",
   "metadata": {},
   "source": [
    "## Paciente 2: LIB193353"
   ]
  },
  {
   "cell_type": "code",
   "execution_count": 21,
   "id": "0bbea908",
   "metadata": {},
   "outputs": [
    {
     "name": "stdout",
     "output_type": "stream",
     "text": [
      "<class 'pandas.core.frame.DataFrame'>\n",
      "Int64Index: 13083 entries, 1967092 to 1980174\n",
      "Data columns (total 3 columns):\n",
      " #   Column         Non-Null Count  Dtype         \n",
      "---  ------         --------------  -----         \n",
      " 0   ID             13083 non-null  object        \n",
      " 1   Date           13083 non-null  datetime64[ns]\n",
      " 2   Glucose level  13083 non-null  float64       \n",
      "dtypes: datetime64[ns](1), float64(1), object(1)\n",
      "memory usage: 408.8+ KB\n"
     ]
    }
   ],
   "source": [
    "ID_Paciente='LIB193353'\n",
    "dfpaciente=df_Inicial[df_Inicial['ID'] == ID_Paciente]\n",
    "dfpaciente.info()"
   ]
  },
  {
   "cell_type": "code",
   "execution_count": 22,
   "id": "fb99088a",
   "metadata": {},
   "outputs": [],
   "source": [
    "dfPacienteFinal,array_Xtrain,array_Ytrain,array_Xval,array_Yval,array_Xtest,array_Ytest=model_utils.GenDataSet(dfpaciente,featuresObj,[ID_Paciente],min,train_share,val_share,lag,n_ahead,scalerHours,scalerMin,scalerGlucosa,scalerPodId,scalerLevelId,fillNullData=True,resample=True,normalized=True)"
   ]
  },
  {
   "cell_type": "code",
   "execution_count": 23,
   "id": "58a8da57",
   "metadata": {},
   "outputs": [
    {
     "name": "stdout",
     "output_type": "stream",
     "text": [
      "<class 'pandas.core.frame.DataFrame'>\n",
      "DatetimeIndex: 17445 entries, 2021-04-20 18:15:00 to 2021-10-19 11:15:00\n",
      "Freq: 15T\n",
      "Data columns (total 5 columns):\n",
      " #   Column         Non-Null Count  Dtype  \n",
      "---  ------         --------------  -----  \n",
      " 0   Glucose level  17445 non-null  float64\n",
      " 1   hour           17445 non-null  float64\n",
      " 2   min            17445 non-null  float64\n",
      " 3   pod_id         17445 non-null  float64\n",
      " 4   level_id       17445 non-null  float64\n",
      "dtypes: float64(5)\n",
      "memory usage: 817.7 KB\n"
     ]
    }
   ],
   "source": [
    "dfPacienteFinal.info()"
   ]
  },
  {
   "cell_type": "markdown",
   "id": "1ff3cede",
   "metadata": {},
   "source": [
    "Guardamos todos los arrays de entrenamiento, validación y pruebas generados"
   ]
  },
  {
   "cell_type": "code",
   "execution_count": 24,
   "id": "9ba37b12",
   "metadata": {},
   "outputs": [
    {
     "data": {
      "text/plain": [
       "13931"
      ]
     },
     "execution_count": 24,
     "metadata": {},
     "output_type": "execute_result"
    }
   ],
   "source": [
    "with open('dataset/generado/paciente2/array_Xtrain.npy', 'wb') as f:\n",
    "    np.save(f, array_Xtrain)\n",
    "len(array_Ytrain)"
   ]
  },
  {
   "cell_type": "code",
   "execution_count": 25,
   "id": "ad1b08d2",
   "metadata": {},
   "outputs": [
    {
     "data": {
      "text/plain": [
       "13931"
      ]
     },
     "execution_count": 25,
     "metadata": {},
     "output_type": "execute_result"
    }
   ],
   "source": [
    "with open('dataset/generado/paciente2/array_Ytrain.npy', 'wb') as f:\n",
    "    np.save(f, array_Ytrain)\n",
    "len(array_Ytrain)"
   ]
  },
  {
   "cell_type": "code",
   "execution_count": 26,
   "id": "6394ecf0",
   "metadata": {},
   "outputs": [
    {
     "data": {
      "text/plain": [
       "1741"
      ]
     },
     "execution_count": 26,
     "metadata": {},
     "output_type": "execute_result"
    }
   ],
   "source": [
    "with open('dataset/generado/paciente2/array_Xval.npy', 'wb') as f:\n",
    "    np.save(f, array_Xval)\n",
    "len(array_Xval)"
   ]
  },
  {
   "cell_type": "code",
   "execution_count": 27,
   "id": "e32f0054",
   "metadata": {},
   "outputs": [
    {
     "data": {
      "text/plain": [
       "1741"
      ]
     },
     "execution_count": 27,
     "metadata": {},
     "output_type": "execute_result"
    }
   ],
   "source": [
    "with open('dataset/generado/paciente2/array_Yval.npy', 'wb') as f:\n",
    "    np.save(f, array_Yval)\n",
    "len(array_Yval)"
   ]
  },
  {
   "cell_type": "code",
   "execution_count": 28,
   "id": "7175a8ea",
   "metadata": {},
   "outputs": [
    {
     "data": {
      "text/plain": [
       "1742"
      ]
     },
     "execution_count": 28,
     "metadata": {},
     "output_type": "execute_result"
    }
   ],
   "source": [
    "with open('dataset/generado/paciente2/array_Xtest.npy', 'wb') as f:\n",
    "    np.save(f, array_Xtest)\n",
    "len(array_Xtest)"
   ]
  },
  {
   "cell_type": "code",
   "execution_count": 29,
   "id": "9ea0c9c4",
   "metadata": {},
   "outputs": [
    {
     "data": {
      "text/plain": [
       "1742"
      ]
     },
     "execution_count": 29,
     "metadata": {},
     "output_type": "execute_result"
    }
   ],
   "source": [
    "with open('dataset/generado/paciente2/array_Ytest.npy', 'wb') as f:\n",
    "    np.save(f, array_Ytest)\n",
    "len(array_Ytest)"
   ]
  },
  {
   "cell_type": "markdown",
   "id": "466933b5",
   "metadata": {},
   "source": [
    "## Paciente 3: LIB193315"
   ]
  },
  {
   "cell_type": "code",
   "execution_count": 30,
   "id": "4b453771",
   "metadata": {},
   "outputs": [
    {
     "name": "stdout",
     "output_type": "stream",
     "text": [
      "<class 'pandas.core.frame.DataFrame'>\n",
      "Int64Index: 31592 entries, 1166570 to 1198161\n",
      "Data columns (total 3 columns):\n",
      " #   Column         Non-Null Count  Dtype         \n",
      "---  ------         --------------  -----         \n",
      " 0   ID             31592 non-null  object        \n",
      " 1   Date           31592 non-null  datetime64[ns]\n",
      " 2   Glucose level  31592 non-null  float64       \n",
      "dtypes: datetime64[ns](1), float64(1), object(1)\n",
      "memory usage: 987.2+ KB\n"
     ]
    }
   ],
   "source": [
    "ID_Paciente='LIB193315'\n",
    "dfpaciente=df_Inicial[df_Inicial['ID'] == ID_Paciente]\n",
    "dfpaciente.info()"
   ]
  },
  {
   "cell_type": "code",
   "execution_count": 31,
   "id": "c2a9f338",
   "metadata": {},
   "outputs": [],
   "source": [
    "dfPacienteFinal,array_Xtrain,array_Ytrain,array_Xval,array_Yval,array_Xtest,array_Ytest=model_utils.GenDataSet(dfpaciente,featuresObj,[ID_Paciente],min,train_share,val_share,lag,n_ahead,scalerHours,scalerMin,scalerGlucosa,scalerPodId,scalerLevelId,fillNullData=True,resample=True,normalized=True)"
   ]
  },
  {
   "cell_type": "code",
   "execution_count": 32,
   "id": "38a423c7",
   "metadata": {},
   "outputs": [
    {
     "name": "stdout",
     "output_type": "stream",
     "text": [
      "<class 'pandas.core.frame.DataFrame'>\n",
      "DatetimeIndex: 35885 entries, 2021-03-09 12:00:00 to 2022-03-18 07:00:00\n",
      "Freq: 15T\n",
      "Data columns (total 5 columns):\n",
      " #   Column         Non-Null Count  Dtype  \n",
      "---  ------         --------------  -----  \n",
      " 0   Glucose level  35885 non-null  float64\n",
      " 1   hour           35885 non-null  float64\n",
      " 2   min            35885 non-null  float64\n",
      " 3   pod_id         35885 non-null  float64\n",
      " 4   level_id       35885 non-null  float64\n",
      "dtypes: float64(5)\n",
      "memory usage: 1.6 MB\n"
     ]
    }
   ],
   "source": [
    "dfPacienteFinal.info()"
   ]
  },
  {
   "cell_type": "markdown",
   "id": "ded77351",
   "metadata": {},
   "source": [
    "Guardamos todos los arrays de entrenamiento, validación y pruebas generados"
   ]
  },
  {
   "cell_type": "code",
   "execution_count": 33,
   "id": "77d8c502",
   "metadata": {},
   "outputs": [
    {
     "data": {
      "text/plain": [
       "28683"
      ]
     },
     "execution_count": 33,
     "metadata": {},
     "output_type": "execute_result"
    }
   ],
   "source": [
    "with open('dataset/generado/paciente3/array_Xtrain.npy', 'wb') as f:\n",
    "    np.save(f, array_Xtrain)\n",
    "len(array_Ytrain)"
   ]
  },
  {
   "cell_type": "code",
   "execution_count": 34,
   "id": "4dbae5e5",
   "metadata": {},
   "outputs": [
    {
     "data": {
      "text/plain": [
       "28683"
      ]
     },
     "execution_count": 34,
     "metadata": {},
     "output_type": "execute_result"
    }
   ],
   "source": [
    "with open('dataset/generado/paciente3/array_Ytrain.npy', 'wb') as f:\n",
    "    np.save(f, array_Ytrain)\n",
    "len(array_Ytrain)"
   ]
  },
  {
   "cell_type": "code",
   "execution_count": 35,
   "id": "18694064",
   "metadata": {},
   "outputs": [
    {
     "data": {
      "text/plain": [
       "3585"
      ]
     },
     "execution_count": 35,
     "metadata": {},
     "output_type": "execute_result"
    }
   ],
   "source": [
    "with open('dataset/generado/paciente3/array_Xval.npy', 'wb') as f:\n",
    "    np.save(f, array_Xval)\n",
    "len(array_Xval)"
   ]
  },
  {
   "cell_type": "code",
   "execution_count": 36,
   "id": "728c759e",
   "metadata": {},
   "outputs": [
    {
     "data": {
      "text/plain": [
       "3585"
      ]
     },
     "execution_count": 36,
     "metadata": {},
     "output_type": "execute_result"
    }
   ],
   "source": [
    "with open('dataset/generado/paciente3/array_Yval.npy', 'wb') as f:\n",
    "    np.save(f, array_Yval)\n",
    "len(array_Yval)"
   ]
  },
  {
   "cell_type": "code",
   "execution_count": 37,
   "id": "81d4cce9",
   "metadata": {},
   "outputs": [
    {
     "data": {
      "text/plain": [
       "3586"
      ]
     },
     "execution_count": 37,
     "metadata": {},
     "output_type": "execute_result"
    }
   ],
   "source": [
    "with open('dataset/generado/paciente3/array_Xtest.npy', 'wb') as f:\n",
    "    np.save(f, array_Xtest)\n",
    "len(array_Xtest)"
   ]
  },
  {
   "cell_type": "code",
   "execution_count": 38,
   "id": "63931256",
   "metadata": {},
   "outputs": [
    {
     "data": {
      "text/plain": [
       "3586"
      ]
     },
     "execution_count": 38,
     "metadata": {},
     "output_type": "execute_result"
    }
   ],
   "source": [
    "with open('dataset/generado/paciente3/array_Ytest.npy', 'wb') as f:\n",
    "    np.save(f, array_Ytest)\n",
    "len(array_Ytest)"
   ]
  },
  {
   "cell_type": "markdown",
   "id": "f9ff7bdf",
   "metadata": {},
   "source": [
    "## Paciente 4: LIB193304"
   ]
  },
  {
   "cell_type": "code",
   "execution_count": 39,
   "id": "9203ec41",
   "metadata": {},
   "outputs": [
    {
     "name": "stdout",
     "output_type": "stream",
     "text": [
      "<class 'pandas.core.frame.DataFrame'>\n",
      "Int64Index: 59786 entries, 667394 to 727179\n",
      "Data columns (total 3 columns):\n",
      " #   Column         Non-Null Count  Dtype         \n",
      "---  ------         --------------  -----         \n",
      " 0   ID             59786 non-null  object        \n",
      " 1   Date           59786 non-null  datetime64[ns]\n",
      " 2   Glucose level  59786 non-null  float64       \n",
      "dtypes: datetime64[ns](1), float64(1), object(1)\n",
      "memory usage: 1.8+ MB\n"
     ]
    }
   ],
   "source": [
    "ID_Paciente='LIB193304'\n",
    "dfpaciente=df_Inicial[df_Inicial['ID'] == ID_Paciente]\n",
    "dfpaciente.info()"
   ]
  },
  {
   "cell_type": "code",
   "execution_count": 40,
   "id": "ed038548",
   "metadata": {},
   "outputs": [],
   "source": [
    "dfPacienteFinal,array_Xtrain,array_Ytrain,array_Xval,array_Yval,array_Xtest,array_Ytest=model_utils.GenDataSet(dfpaciente,featuresObj,[ID_Paciente],min,train_share,val_share,lag,n_ahead,scalerHours,scalerMin,scalerGlucosa,scalerPodId,scalerLevelId,fillNullData=True,resample=True,normalized=True)"
   ]
  },
  {
   "cell_type": "code",
   "execution_count": 41,
   "id": "ad288ffe",
   "metadata": {},
   "outputs": [
    {
     "name": "stdout",
     "output_type": "stream",
     "text": [
      "<class 'pandas.core.frame.DataFrame'>\n",
      "DatetimeIndex: 62039 entries, 2020-06-10 17:45:00 to 2022-03-18 23:15:00\n",
      "Freq: 15T\n",
      "Data columns (total 5 columns):\n",
      " #   Column         Non-Null Count  Dtype  \n",
      "---  ------         --------------  -----  \n",
      " 0   Glucose level  62039 non-null  float64\n",
      " 1   hour           62039 non-null  float64\n",
      " 2   min            62039 non-null  float64\n",
      " 3   pod_id         62039 non-null  float64\n",
      " 4   level_id       62039 non-null  float64\n",
      "dtypes: float64(5)\n",
      "memory usage: 2.8 MB\n"
     ]
    }
   ],
   "source": [
    "dfPacienteFinal.info()"
   ]
  },
  {
   "cell_type": "markdown",
   "id": "d42380a8",
   "metadata": {},
   "source": [
    "Guardamos todos los arrays de entrenamiento, validación y pruebas generados"
   ]
  },
  {
   "cell_type": "code",
   "execution_count": 42,
   "id": "44945195",
   "metadata": {},
   "outputs": [
    {
     "data": {
      "text/plain": [
       "49606"
      ]
     },
     "execution_count": 42,
     "metadata": {},
     "output_type": "execute_result"
    }
   ],
   "source": [
    "with open('dataset/generado/paciente4/array_Xtrain.npy', 'wb') as f:\n",
    "    np.save(f, array_Xtrain)\n",
    "len(array_Ytrain)"
   ]
  },
  {
   "cell_type": "code",
   "execution_count": 43,
   "id": "32e2d867",
   "metadata": {},
   "outputs": [
    {
     "data": {
      "text/plain": [
       "49606"
      ]
     },
     "execution_count": 43,
     "metadata": {},
     "output_type": "execute_result"
    }
   ],
   "source": [
    "with open('dataset/generado/paciente4/array_Ytrain.npy', 'wb') as f:\n",
    "    np.save(f, array_Ytrain)\n",
    "len(array_Ytrain)"
   ]
  },
  {
   "cell_type": "code",
   "execution_count": 44,
   "id": "0a9acc8d",
   "metadata": {},
   "outputs": [
    {
     "data": {
      "text/plain": [
       "6201"
      ]
     },
     "execution_count": 44,
     "metadata": {},
     "output_type": "execute_result"
    }
   ],
   "source": [
    "with open('dataset/generado/paciente4/array_Xval.npy', 'wb') as f:\n",
    "    np.save(f, array_Xval)\n",
    "len(array_Xval)"
   ]
  },
  {
   "cell_type": "code",
   "execution_count": 45,
   "id": "187390b6",
   "metadata": {},
   "outputs": [
    {
     "data": {
      "text/plain": [
       "6201"
      ]
     },
     "execution_count": 45,
     "metadata": {},
     "output_type": "execute_result"
    }
   ],
   "source": [
    "with open('dataset/generado/paciente4/array_Yval.npy', 'wb') as f:\n",
    "    np.save(f, array_Yval)\n",
    "len(array_Yval)"
   ]
  },
  {
   "cell_type": "code",
   "execution_count": 46,
   "id": "f1e28fdd",
   "metadata": {},
   "outputs": [
    {
     "data": {
      "text/plain": [
       "6201"
      ]
     },
     "execution_count": 46,
     "metadata": {},
     "output_type": "execute_result"
    }
   ],
   "source": [
    "with open('dataset/generado/paciente4/array_Xtest.npy', 'wb') as f:\n",
    "    np.save(f, array_Xtest)\n",
    "len(array_Xtest)"
   ]
  },
  {
   "cell_type": "code",
   "execution_count": 47,
   "id": "8120f75e",
   "metadata": {},
   "outputs": [
    {
     "data": {
      "text/plain": [
       "6201"
      ]
     },
     "execution_count": 47,
     "metadata": {},
     "output_type": "execute_result"
    }
   ],
   "source": [
    "with open('dataset/generado/paciente4/array_Ytest.npy', 'wb') as f:\n",
    "    np.save(f, array_Ytest)\n",
    "len(array_Ytest)"
   ]
  },
  {
   "cell_type": "code",
   "execution_count": null,
   "id": "23aafebe",
   "metadata": {},
   "outputs": [],
   "source": []
  }
 ],
 "metadata": {
  "accelerator": "GPU",
  "colab": {
   "collapsed_sections": [
    "2787e722",
    "b35a5768",
    "70eb2370",
    "9aae3303",
    "ad3aee1c",
    "c757c150",
    "73821fc8",
    "2240c74e"
   ],
   "machine_shape": "hm",
   "provenance": []
  },
  "gpuClass": "premium",
  "kernelspec": {
   "display_name": "Python 3 (ipykernel)",
   "language": "python",
   "name": "python3"
  },
  "language_info": {
   "codemirror_mode": {
    "name": "ipython",
    "version": 3
   },
   "file_extension": ".py",
   "mimetype": "text/x-python",
   "name": "python",
   "nbconvert_exporter": "python",
   "pygments_lexer": "ipython3",
   "version": "3.10.8"
  }
 },
 "nbformat": 4,
 "nbformat_minor": 5
}
