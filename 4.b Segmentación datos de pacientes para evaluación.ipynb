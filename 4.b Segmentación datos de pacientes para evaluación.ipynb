{
 "cells": [
  {
   "cell_type": "code",
   "execution_count": 1,
   "id": "34e6836e",
   "metadata": {},
   "outputs": [],
   "source": [
    "import codigo\n",
    "from codigo import utils\n",
    "from codigo import model_utils"
   ]
  },
  {
   "cell_type": "code",
   "execution_count": 2,
   "id": "hollow-quilt",
   "metadata": {
    "id": "hollow-quilt"
   },
   "outputs": [],
   "source": [
    "import pandas as pd\n",
    "import numpy as np\n",
    "pd.set_option('mode.chained_assignment',None)\n",
    "import matplotlib.pyplot as plt\n",
    "import seaborn as sns\n",
    "import math\n",
    "from pickle import dump\n",
    "\n",
    "%matplotlib inline\n",
    "import warnings\n",
    "warnings.simplefilter(action='ignore', category=FutureWarning)"
   ]
  },
  {
   "cell_type": "markdown",
   "id": "continental-fields",
   "metadata": {
    "id": "continental-fields"
   },
   "source": [
    "# Importar Dataset depurado"
   ]
  },
  {
   "cell_type": "code",
   "execution_count": 3,
   "id": "british-begin",
   "metadata": {
    "id": "british-begin"
   },
   "outputs": [],
   "source": [
    "df_Inicial = pd.read_csv(r'dataset/generado/datasetDepurado.csv')"
   ]
  },
  {
   "cell_type": "markdown",
   "id": "industrial-begin",
   "metadata": {
    "id": "industrial-begin"
   },
   "source": [
    "# Revisamos las columnas que contiene el Dataset"
   ]
  },
  {
   "cell_type": "code",
   "execution_count": 4,
   "id": "d1d3ab50",
   "metadata": {
    "colab": {
     "base_uri": "https://localhost:8080/",
     "height": 206
    },
    "id": "d1d3ab50",
    "outputId": "49e6be97-4bd0-4d1b-ef49-5d414f94cbad"
   },
   "outputs": [
    {
     "data": {
      "text/html": [
       "<div>\n",
       "<style scoped>\n",
       "    .dataframe tbody tr th:only-of-type {\n",
       "        vertical-align: middle;\n",
       "    }\n",
       "\n",
       "    .dataframe tbody tr th {\n",
       "        vertical-align: top;\n",
       "    }\n",
       "\n",
       "    .dataframe thead th {\n",
       "        text-align: right;\n",
       "    }\n",
       "</style>\n",
       "<table border=\"1\" class=\"dataframe\">\n",
       "  <thead>\n",
       "    <tr style=\"text-align: right;\">\n",
       "      <th></th>\n",
       "      <th>ID</th>\n",
       "      <th>Date</th>\n",
       "      <th>Glucose level</th>\n",
       "    </tr>\n",
       "  </thead>\n",
       "  <tbody>\n",
       "    <tr>\n",
       "      <th>0</th>\n",
       "      <td>LIB193263</td>\n",
       "      <td>2020-06-09 19:08:00</td>\n",
       "      <td>99.0</td>\n",
       "    </tr>\n",
       "    <tr>\n",
       "      <th>1</th>\n",
       "      <td>LIB193263</td>\n",
       "      <td>2020-06-09 19:23:00</td>\n",
       "      <td>92.0</td>\n",
       "    </tr>\n",
       "    <tr>\n",
       "      <th>2</th>\n",
       "      <td>LIB193263</td>\n",
       "      <td>2020-06-09 19:38:00</td>\n",
       "      <td>86.0</td>\n",
       "    </tr>\n",
       "    <tr>\n",
       "      <th>3</th>\n",
       "      <td>LIB193263</td>\n",
       "      <td>2020-06-09 19:53:00</td>\n",
       "      <td>85.0</td>\n",
       "    </tr>\n",
       "    <tr>\n",
       "      <th>4</th>\n",
       "      <td>LIB193263</td>\n",
       "      <td>2020-06-09 20:08:00</td>\n",
       "      <td>85.0</td>\n",
       "    </tr>\n",
       "  </tbody>\n",
       "</table>\n",
       "</div>"
      ],
      "text/plain": [
       "          ID                 Date  Glucose level\n",
       "0  LIB193263  2020-06-09 19:08:00           99.0\n",
       "1  LIB193263  2020-06-09 19:23:00           92.0\n",
       "2  LIB193263  2020-06-09 19:38:00           86.0\n",
       "3  LIB193263  2020-06-09 19:53:00           85.0\n",
       "4  LIB193263  2020-06-09 20:08:00           85.0"
      ]
     },
     "execution_count": 4,
     "metadata": {},
     "output_type": "execute_result"
    }
   ],
   "source": [
    "df_Inicial.head()"
   ]
  },
  {
   "cell_type": "code",
   "execution_count": 5,
   "id": "streaming-hometown",
   "metadata": {
    "colab": {
     "base_uri": "https://localhost:8080/"
    },
    "id": "streaming-hometown",
    "outputId": "c46866d8-129f-4b39-bb18-d49145ffd688"
   },
   "outputs": [
    {
     "name": "stdout",
     "output_type": "stream",
     "text": [
      "<class 'pandas.core.frame.DataFrame'>\n",
      "RangeIndex: 2966685 entries, 0 to 2966684\n",
      "Data columns (total 3 columns):\n",
      " #   Column         Dtype  \n",
      "---  ------         -----  \n",
      " 0   ID             object \n",
      " 1   Date           object \n",
      " 2   Glucose level  float64\n",
      "dtypes: float64(1), object(2)\n",
      "memory usage: 67.9+ MB\n"
     ]
    }
   ],
   "source": [
    "df_Inicial.info()"
   ]
  },
  {
   "cell_type": "markdown",
   "id": "7e4a3f46",
   "metadata": {
    "id": "7e4a3f46"
   },
   "source": [
    "### Cambiamos el formato de la columna Date de object a datetime64"
   ]
  },
  {
   "cell_type": "code",
   "execution_count": 6,
   "id": "39a8a155",
   "metadata": {
    "id": "39a8a155"
   },
   "outputs": [],
   "source": [
    "df_Inicial['Date']=pd.to_datetime(df_Inicial['Date'])"
   ]
  },
  {
   "cell_type": "code",
   "execution_count": 7,
   "id": "ffe49771",
   "metadata": {
    "colab": {
     "base_uri": "https://localhost:8080/"
    },
    "id": "ffe49771",
    "outputId": "8f69884b-4662-4aeb-9fa4-9a18e6a358c1"
   },
   "outputs": [
    {
     "name": "stdout",
     "output_type": "stream",
     "text": [
      "<class 'pandas.core.frame.DataFrame'>\n",
      "RangeIndex: 2966685 entries, 0 to 2966684\n",
      "Data columns (total 3 columns):\n",
      " #   Column         Dtype         \n",
      "---  ------         -----         \n",
      " 0   ID             object        \n",
      " 1   Date           datetime64[ns]\n",
      " 2   Glucose level  float64       \n",
      "dtypes: datetime64[ns](1), float64(1), object(1)\n",
      "memory usage: 67.9+ MB\n"
     ]
    }
   ],
   "source": [
    "df_Inicial.info()"
   ]
  },
  {
   "cell_type": "code",
   "execution_count": 8,
   "id": "8c8e9524",
   "metadata": {
    "colab": {
     "base_uri": "https://localhost:8080/"
    },
    "id": "8c8e9524",
    "outputId": "654e7afb-2b62-46fc-83ba-3a0d997cd665"
   },
   "outputs": [
    {
     "data": {
      "text/plain": [
       "Timestamp('2018-01-06 00:31:00')"
      ]
     },
     "execution_count": 8,
     "metadata": {},
     "output_type": "execute_result"
    }
   ],
   "source": [
    "df_Inicial['Date'].min()"
   ]
  },
  {
   "cell_type": "code",
   "execution_count": 9,
   "id": "6d02101d",
   "metadata": {
    "colab": {
     "base_uri": "https://localhost:8080/"
    },
    "id": "6d02101d",
    "outputId": "e0fea2aa-8711-4b84-b3cf-ab98cc8c9d49"
   },
   "outputs": [
    {
     "data": {
      "text/plain": [
       "Timestamp('2022-03-20 23:58:00')"
      ]
     },
     "execution_count": 9,
     "metadata": {},
     "output_type": "execute_result"
    }
   ],
   "source": [
    "df_Inicial['Date'].max()"
   ]
  },
  {
   "cell_type": "markdown",
   "id": "66c89278",
   "metadata": {},
   "source": [
    "# Generar DataSet de cada Paciente"
   ]
  },
  {
   "cell_type": "code",
   "execution_count": 10,
   "id": "f903f192",
   "metadata": {},
   "outputs": [],
   "source": [
    "train_share = 0.8\n",
    "val_share = 0.9\n",
    "lag=30\n",
    "n_ahead=1\n",
    "min=15\n",
    "\n",
    "featuresObj=['Glucose level','hour','min','pod_id','level_id']\n",
    "\n",
    "from pickle import load\n",
    "scalerGlucosa = load(open('dataset/generado/scalerGlucosa.scaler', 'rb'))\n",
    "scalerHours = load(open('dataset/generado/scalerHours.scaler', 'rb'))\n",
    "scalerMin = load(open('dataset/generado/scalerMin.scaler', 'rb'))\n",
    "scalerPodId = load(open('dataset/generado/scalerPodId.scaler', 'rb'))\n",
    "scalerLevelId = load(open('dataset/generado/scalerLevelId.scaler', 'rb'))"
   ]
  },
  {
   "cell_type": "markdown",
   "id": "663a0e86",
   "metadata": {},
   "source": [
    "## Paciente 1: LIB193399"
   ]
  },
  {
   "cell_type": "code",
   "execution_count": 11,
   "id": "d0b6deb9",
   "metadata": {},
   "outputs": [],
   "source": [
    "ID_Paciente='LIB193399'\n",
    "dfpaciente=df_Inicial[df_Inicial['ID'] == ID_Paciente]"
   ]
  },
  {
   "cell_type": "markdown",
   "id": "860e431b",
   "metadata": {},
   "source": [
    "Selecionamos los últimos 6 eventos registrados, y comprobamos que esten cada 15 min"
   ]
  },
  {
   "cell_type": "code",
   "execution_count": 12,
   "id": "d6355574",
   "metadata": {},
   "outputs": [
    {
     "data": {
      "text/html": [
       "<div>\n",
       "<style scoped>\n",
       "    .dataframe tbody tr th:only-of-type {\n",
       "        vertical-align: middle;\n",
       "    }\n",
       "\n",
       "    .dataframe tbody tr th {\n",
       "        vertical-align: top;\n",
       "    }\n",
       "\n",
       "    .dataframe thead th {\n",
       "        text-align: right;\n",
       "    }\n",
       "</style>\n",
       "<table border=\"1\" class=\"dataframe\">\n",
       "  <thead>\n",
       "    <tr style=\"text-align: right;\">\n",
       "      <th></th>\n",
       "      <th>ID</th>\n",
       "      <th>Date</th>\n",
       "      <th>Glucose level</th>\n",
       "    </tr>\n",
       "  </thead>\n",
       "  <tbody>\n",
       "    <tr>\n",
       "      <th>2966679</th>\n",
       "      <td>LIB193399</td>\n",
       "      <td>2020-10-20 20:35:00</td>\n",
       "      <td>87.0</td>\n",
       "    </tr>\n",
       "    <tr>\n",
       "      <th>2966680</th>\n",
       "      <td>LIB193399</td>\n",
       "      <td>2020-10-20 20:50:00</td>\n",
       "      <td>83.0</td>\n",
       "    </tr>\n",
       "    <tr>\n",
       "      <th>2966681</th>\n",
       "      <td>LIB193399</td>\n",
       "      <td>2020-10-20 21:05:00</td>\n",
       "      <td>76.0</td>\n",
       "    </tr>\n",
       "    <tr>\n",
       "      <th>2966682</th>\n",
       "      <td>LIB193399</td>\n",
       "      <td>2020-10-20 21:20:00</td>\n",
       "      <td>67.0</td>\n",
       "    </tr>\n",
       "    <tr>\n",
       "      <th>2966683</th>\n",
       "      <td>LIB193399</td>\n",
       "      <td>2020-10-20 21:35:00</td>\n",
       "      <td>63.0</td>\n",
       "    </tr>\n",
       "    <tr>\n",
       "      <th>2966684</th>\n",
       "      <td>LIB193399</td>\n",
       "      <td>2020-10-20 21:50:00</td>\n",
       "      <td>63.0</td>\n",
       "    </tr>\n",
       "  </tbody>\n",
       "</table>\n",
       "</div>"
      ],
      "text/plain": [
       "                ID                Date  Glucose level\n",
       "2966679  LIB193399 2020-10-20 20:35:00           87.0\n",
       "2966680  LIB193399 2020-10-20 20:50:00           83.0\n",
       "2966681  LIB193399 2020-10-20 21:05:00           76.0\n",
       "2966682  LIB193399 2020-10-20 21:20:00           67.0\n",
       "2966683  LIB193399 2020-10-20 21:35:00           63.0\n",
       "2966684  LIB193399 2020-10-20 21:50:00           63.0"
      ]
     },
     "execution_count": 12,
     "metadata": {},
     "output_type": "execute_result"
    }
   ],
   "source": [
    "dfpacienteEvaluacion =dfpaciente.tail(6)\n",
    "dfpacienteEvaluacion"
   ]
  },
  {
   "cell_type": "markdown",
   "id": "de437be5",
   "metadata": {},
   "source": [
    "Guardamos los niveles de glucosa "
   ]
  },
  {
   "cell_type": "code",
   "execution_count": 13,
   "id": "43f6bad1",
   "metadata": {},
   "outputs": [
    {
     "data": {
      "text/plain": [
       "array([87., 83., 76., 67., 63., 63.])"
      ]
     },
     "execution_count": 13,
     "metadata": {},
     "output_type": "execute_result"
    }
   ],
   "source": [
    "arrayEvaluacion=dfpacienteEvaluacion['Glucose level'].to_numpy()\n",
    "arrayEvaluacion"
   ]
  },
  {
   "cell_type": "code",
   "execution_count": 14,
   "id": "07fcec50",
   "metadata": {},
   "outputs": [
    {
     "data": {
      "text/plain": [
       "6"
      ]
     },
     "execution_count": 14,
     "metadata": {},
     "output_type": "execute_result"
    }
   ],
   "source": [
    "with open('dataset/generado/paciente1/arrayEvaluacion.npy', 'wb') as f:\n",
    "    np.save(f, arrayEvaluacion)\n",
    "len(arrayEvaluacion)"
   ]
  },
  {
   "cell_type": "markdown",
   "id": "a9b4bee7",
   "metadata": {},
   "source": [
    "El resto del dataset lo vamos a utilizar para el entrenamiento y validación de cada modelo"
   ]
  },
  {
   "cell_type": "code",
   "execution_count": 15,
   "id": "773ad3c8",
   "metadata": {},
   "outputs": [
    {
     "data": {
      "text/html": [
       "<div>\n",
       "<style scoped>\n",
       "    .dataframe tbody tr th:only-of-type {\n",
       "        vertical-align: middle;\n",
       "    }\n",
       "\n",
       "    .dataframe tbody tr th {\n",
       "        vertical-align: top;\n",
       "    }\n",
       "\n",
       "    .dataframe thead th {\n",
       "        text-align: right;\n",
       "    }\n",
       "</style>\n",
       "<table border=\"1\" class=\"dataframe\">\n",
       "  <thead>\n",
       "    <tr style=\"text-align: right;\">\n",
       "      <th></th>\n",
       "      <th>ID</th>\n",
       "      <th>Date</th>\n",
       "      <th>Glucose level</th>\n",
       "    </tr>\n",
       "  </thead>\n",
       "  <tbody>\n",
       "    <tr>\n",
       "      <th>2964772</th>\n",
       "      <td>LIB193399</td>\n",
       "      <td>2020-09-30 18:15:00</td>\n",
       "      <td>105.0</td>\n",
       "    </tr>\n",
       "    <tr>\n",
       "      <th>2964773</th>\n",
       "      <td>LIB193399</td>\n",
       "      <td>2020-09-30 18:30:00</td>\n",
       "      <td>101.0</td>\n",
       "    </tr>\n",
       "    <tr>\n",
       "      <th>2964774</th>\n",
       "      <td>LIB193399</td>\n",
       "      <td>2020-09-30 18:45:00</td>\n",
       "      <td>98.0</td>\n",
       "    </tr>\n",
       "    <tr>\n",
       "      <th>2964775</th>\n",
       "      <td>LIB193399</td>\n",
       "      <td>2020-09-30 19:00:00</td>\n",
       "      <td>99.0</td>\n",
       "    </tr>\n",
       "    <tr>\n",
       "      <th>2964776</th>\n",
       "      <td>LIB193399</td>\n",
       "      <td>2020-09-30 19:15:00</td>\n",
       "      <td>108.0</td>\n",
       "    </tr>\n",
       "    <tr>\n",
       "      <th>...</th>\n",
       "      <td>...</td>\n",
       "      <td>...</td>\n",
       "      <td>...</td>\n",
       "    </tr>\n",
       "    <tr>\n",
       "      <th>2966674</th>\n",
       "      <td>LIB193399</td>\n",
       "      <td>2020-10-20 19:19:00</td>\n",
       "      <td>127.0</td>\n",
       "    </tr>\n",
       "    <tr>\n",
       "      <th>2966675</th>\n",
       "      <td>LIB193399</td>\n",
       "      <td>2020-10-20 19:34:00</td>\n",
       "      <td>117.0</td>\n",
       "    </tr>\n",
       "    <tr>\n",
       "      <th>2966676</th>\n",
       "      <td>LIB193399</td>\n",
       "      <td>2020-10-20 19:49:00</td>\n",
       "      <td>113.0</td>\n",
       "    </tr>\n",
       "    <tr>\n",
       "      <th>2966677</th>\n",
       "      <td>LIB193399</td>\n",
       "      <td>2020-10-20 20:04:00</td>\n",
       "      <td>106.0</td>\n",
       "    </tr>\n",
       "    <tr>\n",
       "      <th>2966678</th>\n",
       "      <td>LIB193399</td>\n",
       "      <td>2020-10-20 20:19:00</td>\n",
       "      <td>94.0</td>\n",
       "    </tr>\n",
       "  </tbody>\n",
       "</table>\n",
       "<p>1907 rows × 3 columns</p>\n",
       "</div>"
      ],
      "text/plain": [
       "                ID                Date  Glucose level\n",
       "2964772  LIB193399 2020-09-30 18:15:00          105.0\n",
       "2964773  LIB193399 2020-09-30 18:30:00          101.0\n",
       "2964774  LIB193399 2020-09-30 18:45:00           98.0\n",
       "2964775  LIB193399 2020-09-30 19:00:00           99.0\n",
       "2964776  LIB193399 2020-09-30 19:15:00          108.0\n",
       "...            ...                 ...            ...\n",
       "2966674  LIB193399 2020-10-20 19:19:00          127.0\n",
       "2966675  LIB193399 2020-10-20 19:34:00          117.0\n",
       "2966676  LIB193399 2020-10-20 19:49:00          113.0\n",
       "2966677  LIB193399 2020-10-20 20:04:00          106.0\n",
       "2966678  LIB193399 2020-10-20 20:19:00           94.0\n",
       "\n",
       "[1907 rows x 3 columns]"
      ]
     },
     "execution_count": 15,
     "metadata": {},
     "output_type": "execute_result"
    }
   ],
   "source": [
    "dfpaciente = dfpaciente.iloc[:-6]\n",
    "dfpaciente"
   ]
  },
  {
   "cell_type": "markdown",
   "id": "d9ae24da",
   "metadata": {},
   "source": [
    "Realizamos el preprocesamemiento y obtenemos el dataset completo"
   ]
  },
  {
   "cell_type": "code",
   "execution_count": 16,
   "id": "6a38697e",
   "metadata": {},
   "outputs": [
    {
     "name": "stdout",
     "output_type": "stream",
     "text": [
      "<class 'pandas.core.frame.DataFrame'>\n",
      "DatetimeIndex: 1929 entries, 2020-09-30 18:15:00 to 2020-10-20 20:15:00\n",
      "Freq: 15T\n",
      "Data columns (total 5 columns):\n",
      " #   Column         Non-Null Count  Dtype  \n",
      "---  ------         --------------  -----  \n",
      " 0   Glucose level  1929 non-null   float64\n",
      " 1   hour           1929 non-null   float64\n",
      " 2   min            1929 non-null   float64\n",
      " 3   pod_id         1929 non-null   float64\n",
      " 4   level_id       1929 non-null   float64\n",
      "dtypes: float64(5)\n",
      "memory usage: 90.4 KB\n"
     ]
    }
   ],
   "source": [
    "dfPacienteScaled,array_Xtrain,array_Ytrain,array_Xval,array_Yval,array_Xtest,array_Ytest=model_utils.GenDataSet(dfpaciente,featuresObj,[ID_Paciente],min,train_share,val_share,lag,n_ahead,scalerHours,scalerMin,scalerGlucosa,scalerPodId,scalerLevelId,fillNullData=True,resample=True,normalized=True)\n",
    "dfPacienteScaled.info()"
   ]
  },
  {
   "cell_type": "markdown",
   "id": "0ad0d1c5",
   "metadata": {},
   "source": [
    "Eliminamos los registros de los eventos hipoglucemicos y fijos "
   ]
  },
  {
   "cell_type": "code",
   "execution_count": 17,
   "id": "c194a5ae",
   "metadata": {},
   "outputs": [
    {
     "name": "stdout",
     "output_type": "stream",
     "text": [
      "24\n"
     ]
    }
   ],
   "source": [
    "eventosEliminar = load(open('dataset/generado/paciente1/eventos.list', 'rb'))\n",
    "print(len(eventosEliminar))"
   ]
  },
  {
   "cell_type": "code",
   "execution_count": 18,
   "id": "7ec4cbc7",
   "metadata": {},
   "outputs": [
    {
     "name": "stdout",
     "output_type": "stream",
     "text": [
      "<class 'pandas.core.frame.DataFrame'>\n",
      "DatetimeIndex: 1905 entries, 2020-09-30 18:15:00 to 2020-10-20 20:15:00\n",
      "Data columns (total 5 columns):\n",
      " #   Column         Non-Null Count  Dtype  \n",
      "---  ------         --------------  -----  \n",
      " 0   Glucose level  1905 non-null   float64\n",
      " 1   hour           1905 non-null   float64\n",
      " 2   min            1905 non-null   float64\n",
      " 3   pod_id         1905 non-null   float64\n",
      " 4   level_id       1905 non-null   float64\n",
      "dtypes: float64(5)\n",
      "memory usage: 89.3 KB\n",
      "Eliminados 24\n"
     ]
    }
   ],
   "source": [
    "for evento in eventosEliminar: \n",
    "    dfPacienteScaled=dfPacienteScaled.drop(pd.Timestamp(evento))\n",
    "dfPacienteScaled.info()\n",
    "print('Eliminados',len(eventosEliminar))"
   ]
  },
  {
   "cell_type": "markdown",
   "id": "447c276b",
   "metadata": {},
   "source": [
    "Generamos un dataset en formato inicial con los datos restantes"
   ]
  },
  {
   "cell_type": "code",
   "execution_count": 19,
   "id": "40740164",
   "metadata": {},
   "outputs": [],
   "source": [
    "dfPacienteInicial=pd.DataFrame()\n",
    "dfPacienteInicial['Date']=dfPacienteScaled.index\n",
    "dfPacienteInicial[['Glucose level']]=scalerGlucosa.inverse_transform(dfPacienteScaled[['Glucose level']].values)\n",
    "dfPacienteInicial['ID']=ID_Paciente"
   ]
  },
  {
   "cell_type": "code",
   "execution_count": 20,
   "id": "b09b8102",
   "metadata": {},
   "outputs": [
    {
     "name": "stdout",
     "output_type": "stream",
     "text": [
      "<class 'pandas.core.frame.DataFrame'>\n",
      "RangeIndex: 1905 entries, 0 to 1904\n",
      "Data columns (total 3 columns):\n",
      " #   Column         Non-Null Count  Dtype         \n",
      "---  ------         --------------  -----         \n",
      " 0   Date           1905 non-null   datetime64[ns]\n",
      " 1   Glucose level  1905 non-null   float64       \n",
      " 2   ID             1905 non-null   object        \n",
      "dtypes: datetime64[ns](1), float64(1), object(1)\n",
      "memory usage: 44.8+ KB\n"
     ]
    }
   ],
   "source": [
    "dfPacienteInicial.info()"
   ]
  },
  {
   "cell_type": "markdown",
   "id": "9f9fe505",
   "metadata": {},
   "source": [
    "Generamos el conjunto de datos de entrenamiento a partir del dataset depurado"
   ]
  },
  {
   "cell_type": "code",
   "execution_count": 21,
   "id": "78e604fa",
   "metadata": {},
   "outputs": [],
   "source": [
    "dfPacienteFinal,array_Xtrain,array_Ytrain,array_Xval,array_Yval,array_Xtest,array_Ytest=model_utils.GenDataSet(dfPacienteInicial,featuresObj,[ID_Paciente],min,train_share,val_share,lag,n_ahead,scalerHours,scalerMin,scalerGlucosa,scalerPodId,scalerLevelId,fillNullData=True,resample=True,normalized=True)"
   ]
  },
  {
   "cell_type": "code",
   "execution_count": 22,
   "id": "a44c0150",
   "metadata": {},
   "outputs": [
    {
     "name": "stdout",
     "output_type": "stream",
     "text": [
      "<class 'pandas.core.frame.DataFrame'>\n",
      "DatetimeIndex: 1929 entries, 2020-09-30 18:15:00 to 2020-10-20 20:15:00\n",
      "Freq: 15T\n",
      "Data columns (total 5 columns):\n",
      " #   Column         Non-Null Count  Dtype  \n",
      "---  ------         --------------  -----  \n",
      " 0   Glucose level  1929 non-null   float64\n",
      " 1   hour           1929 non-null   float64\n",
      " 2   min            1929 non-null   float64\n",
      " 3   pod_id         1929 non-null   float64\n",
      " 4   level_id       1929 non-null   float64\n",
      "dtypes: float64(5)\n",
      "memory usage: 90.4 KB\n"
     ]
    }
   ],
   "source": [
    "dfPacienteFinal.info()"
   ]
  },
  {
   "cell_type": "markdown",
   "id": "55366dca",
   "metadata": {},
   "source": [
    "Guardamos todos los arrays de entrenamiento, validación y pruebas generados"
   ]
  },
  {
   "cell_type": "code",
   "execution_count": 23,
   "id": "f352a488",
   "metadata": {},
   "outputs": [
    {
     "data": {
      "text/plain": [
       "1519"
      ]
     },
     "execution_count": 23,
     "metadata": {},
     "output_type": "execute_result"
    }
   ],
   "source": [
    "with open('dataset/generado/paciente1/array_Xtrain.npy', 'wb') as f:\n",
    "    np.save(f, array_Xtrain)\n",
    "len(array_Ytrain)"
   ]
  },
  {
   "cell_type": "code",
   "execution_count": 24,
   "id": "c93da8cf",
   "metadata": {},
   "outputs": [
    {
     "data": {
      "text/plain": [
       "1519"
      ]
     },
     "execution_count": 24,
     "metadata": {},
     "output_type": "execute_result"
    }
   ],
   "source": [
    "with open('dataset/generado/paciente1/array_Ytrain.npy', 'wb') as f:\n",
    "    np.save(f, array_Ytrain)\n",
    "len(array_Ytrain)"
   ]
  },
  {
   "cell_type": "code",
   "execution_count": 25,
   "id": "31e29f83",
   "metadata": {},
   "outputs": [
    {
     "data": {
      "text/plain": [
       "190"
      ]
     },
     "execution_count": 25,
     "metadata": {},
     "output_type": "execute_result"
    }
   ],
   "source": [
    "with open('dataset/generado/paciente1/array_Xval.npy', 'wb') as f:\n",
    "    np.save(f, array_Xval)\n",
    "len(array_Xval)"
   ]
  },
  {
   "cell_type": "code",
   "execution_count": 26,
   "id": "70e22b12",
   "metadata": {},
   "outputs": [
    {
     "data": {
      "text/plain": [
       "190"
      ]
     },
     "execution_count": 26,
     "metadata": {},
     "output_type": "execute_result"
    }
   ],
   "source": [
    "with open('dataset/generado/paciente1/array_Yval.npy', 'wb') as f:\n",
    "    np.save(f, array_Yval)\n",
    "len(array_Yval)"
   ]
  },
  {
   "cell_type": "code",
   "execution_count": 27,
   "id": "a8ee81fe",
   "metadata": {},
   "outputs": [
    {
     "data": {
      "text/plain": [
       "190"
      ]
     },
     "execution_count": 27,
     "metadata": {},
     "output_type": "execute_result"
    }
   ],
   "source": [
    "with open('dataset/generado/paciente1/array_Xtest.npy', 'wb') as f:\n",
    "    np.save(f, array_Xtest)\n",
    "len(array_Xtest)"
   ]
  },
  {
   "cell_type": "code",
   "execution_count": 28,
   "id": "2013cf06",
   "metadata": {},
   "outputs": [
    {
     "data": {
      "text/plain": [
       "190"
      ]
     },
     "execution_count": 28,
     "metadata": {},
     "output_type": "execute_result"
    }
   ],
   "source": [
    "with open('dataset/generado/paciente1/array_Ytest.npy', 'wb') as f:\n",
    "    np.save(f, array_Ytest)\n",
    "len(array_Ytest)"
   ]
  },
  {
   "cell_type": "markdown",
   "id": "2de1bb4f",
   "metadata": {},
   "source": [
    "## Paciente 2: LIB193271"
   ]
  },
  {
   "cell_type": "code",
   "execution_count": 29,
   "id": "0bbea908",
   "metadata": {},
   "outputs": [],
   "source": [
    "ID_Paciente='LIB193271'\n",
    "dfpaciente=df_Inicial[df_Inicial['ID'] == ID_Paciente]"
   ]
  },
  {
   "cell_type": "markdown",
   "id": "f9bb7244",
   "metadata": {},
   "source": [
    "Selecionamos los últimos 6 eventos registrados, y comprobamos que esten cada 15 min"
   ]
  },
  {
   "cell_type": "code",
   "execution_count": 30,
   "id": "fa3262aa",
   "metadata": {},
   "outputs": [
    {
     "data": {
      "text/html": [
       "<div>\n",
       "<style scoped>\n",
       "    .dataframe tbody tr th:only-of-type {\n",
       "        vertical-align: middle;\n",
       "    }\n",
       "\n",
       "    .dataframe tbody tr th {\n",
       "        vertical-align: top;\n",
       "    }\n",
       "\n",
       "    .dataframe thead th {\n",
       "        text-align: right;\n",
       "    }\n",
       "</style>\n",
       "<table border=\"1\" class=\"dataframe\">\n",
       "  <thead>\n",
       "    <tr style=\"text-align: right;\">\n",
       "      <th></th>\n",
       "      <th>ID</th>\n",
       "      <th>Date</th>\n",
       "      <th>Glucose level</th>\n",
       "    </tr>\n",
       "  </thead>\n",
       "  <tbody>\n",
       "    <tr>\n",
       "      <th>401817</th>\n",
       "      <td>LIB193271</td>\n",
       "      <td>2022-03-20 22:40:00</td>\n",
       "      <td>175.0</td>\n",
       "    </tr>\n",
       "    <tr>\n",
       "      <th>401818</th>\n",
       "      <td>LIB193271</td>\n",
       "      <td>2022-03-20 22:55:00</td>\n",
       "      <td>172.0</td>\n",
       "    </tr>\n",
       "    <tr>\n",
       "      <th>401819</th>\n",
       "      <td>LIB193271</td>\n",
       "      <td>2022-03-20 23:12:00</td>\n",
       "      <td>172.0</td>\n",
       "    </tr>\n",
       "    <tr>\n",
       "      <th>401820</th>\n",
       "      <td>LIB193271</td>\n",
       "      <td>2022-03-20 23:27:00</td>\n",
       "      <td>179.0</td>\n",
       "    </tr>\n",
       "    <tr>\n",
       "      <th>401821</th>\n",
       "      <td>LIB193271</td>\n",
       "      <td>2022-03-20 23:42:00</td>\n",
       "      <td>179.0</td>\n",
       "    </tr>\n",
       "    <tr>\n",
       "      <th>401822</th>\n",
       "      <td>LIB193271</td>\n",
       "      <td>2022-03-20 23:57:00</td>\n",
       "      <td>172.0</td>\n",
       "    </tr>\n",
       "  </tbody>\n",
       "</table>\n",
       "</div>"
      ],
      "text/plain": [
       "               ID                Date  Glucose level\n",
       "401817  LIB193271 2022-03-20 22:40:00          175.0\n",
       "401818  LIB193271 2022-03-20 22:55:00          172.0\n",
       "401819  LIB193271 2022-03-20 23:12:00          172.0\n",
       "401820  LIB193271 2022-03-20 23:27:00          179.0\n",
       "401821  LIB193271 2022-03-20 23:42:00          179.0\n",
       "401822  LIB193271 2022-03-20 23:57:00          172.0"
      ]
     },
     "execution_count": 30,
     "metadata": {},
     "output_type": "execute_result"
    }
   ],
   "source": [
    "dfpacienteEvaluacion =dfpaciente.tail(6)\n",
    "dfpacienteEvaluacion"
   ]
  },
  {
   "cell_type": "markdown",
   "id": "fd4b0eff",
   "metadata": {},
   "source": [
    "Guardamos los niveles de glucosa "
   ]
  },
  {
   "cell_type": "code",
   "execution_count": 31,
   "id": "4fab62fb",
   "metadata": {},
   "outputs": [
    {
     "data": {
      "text/plain": [
       "array([175., 172., 172., 179., 179., 172.])"
      ]
     },
     "execution_count": 31,
     "metadata": {},
     "output_type": "execute_result"
    }
   ],
   "source": [
    "arrayEvaluacion=dfpacienteEvaluacion['Glucose level'].to_numpy()\n",
    "arrayEvaluacion"
   ]
  },
  {
   "cell_type": "code",
   "execution_count": 32,
   "id": "df59c695",
   "metadata": {},
   "outputs": [
    {
     "data": {
      "text/plain": [
       "6"
      ]
     },
     "execution_count": 32,
     "metadata": {},
     "output_type": "execute_result"
    }
   ],
   "source": [
    "with open('dataset/generado/paciente2/arrayEvaluacion.npy', 'wb') as f:\n",
    "    np.save(f, arrayEvaluacion)\n",
    "len(arrayEvaluacion)"
   ]
  },
  {
   "cell_type": "markdown",
   "id": "266bc269",
   "metadata": {},
   "source": [
    "El resto del dataset lo vamos a utilizar para el entrenamiento y validación de cada modelo"
   ]
  },
  {
   "cell_type": "code",
   "execution_count": 33,
   "id": "6daa1fb6",
   "metadata": {},
   "outputs": [
    {
     "data": {
      "text/html": [
       "<div>\n",
       "<style scoped>\n",
       "    .dataframe tbody tr th:only-of-type {\n",
       "        vertical-align: middle;\n",
       "    }\n",
       "\n",
       "    .dataframe tbody tr th {\n",
       "        vertical-align: top;\n",
       "    }\n",
       "\n",
       "    .dataframe thead th {\n",
       "        text-align: right;\n",
       "    }\n",
       "</style>\n",
       "<table border=\"1\" class=\"dataframe\">\n",
       "  <thead>\n",
       "    <tr style=\"text-align: right;\">\n",
       "      <th></th>\n",
       "      <th>ID</th>\n",
       "      <th>Date</th>\n",
       "      <th>Glucose level</th>\n",
       "    </tr>\n",
       "  </thead>\n",
       "  <tbody>\n",
       "    <tr>\n",
       "      <th>386964</th>\n",
       "      <td>LIB193271</td>\n",
       "      <td>2020-09-24 17:59:00</td>\n",
       "      <td>125.0</td>\n",
       "    </tr>\n",
       "    <tr>\n",
       "      <th>386965</th>\n",
       "      <td>LIB193271</td>\n",
       "      <td>2020-09-24 18:14:00</td>\n",
       "      <td>109.0</td>\n",
       "    </tr>\n",
       "    <tr>\n",
       "      <th>386966</th>\n",
       "      <td>LIB193271</td>\n",
       "      <td>2020-09-24 18:29:00</td>\n",
       "      <td>111.0</td>\n",
       "    </tr>\n",
       "    <tr>\n",
       "      <th>386967</th>\n",
       "      <td>LIB193271</td>\n",
       "      <td>2020-09-24 18:44:00</td>\n",
       "      <td>119.0</td>\n",
       "    </tr>\n",
       "    <tr>\n",
       "      <th>386968</th>\n",
       "      <td>LIB193271</td>\n",
       "      <td>2020-09-24 18:59:00</td>\n",
       "      <td>114.0</td>\n",
       "    </tr>\n",
       "    <tr>\n",
       "      <th>...</th>\n",
       "      <td>...</td>\n",
       "      <td>...</td>\n",
       "      <td>...</td>\n",
       "    </tr>\n",
       "    <tr>\n",
       "      <th>401812</th>\n",
       "      <td>LIB193271</td>\n",
       "      <td>2022-03-20 21:25:00</td>\n",
       "      <td>184.0</td>\n",
       "    </tr>\n",
       "    <tr>\n",
       "      <th>401813</th>\n",
       "      <td>LIB193271</td>\n",
       "      <td>2022-03-20 21:40:00</td>\n",
       "      <td>190.0</td>\n",
       "    </tr>\n",
       "    <tr>\n",
       "      <th>401814</th>\n",
       "      <td>LIB193271</td>\n",
       "      <td>2022-03-20 21:55:00</td>\n",
       "      <td>200.0</td>\n",
       "    </tr>\n",
       "    <tr>\n",
       "      <th>401815</th>\n",
       "      <td>LIB193271</td>\n",
       "      <td>2022-03-20 22:10:00</td>\n",
       "      <td>200.0</td>\n",
       "    </tr>\n",
       "    <tr>\n",
       "      <th>401816</th>\n",
       "      <td>LIB193271</td>\n",
       "      <td>2022-03-20 22:25:00</td>\n",
       "      <td>186.0</td>\n",
       "    </tr>\n",
       "  </tbody>\n",
       "</table>\n",
       "<p>14853 rows × 3 columns</p>\n",
       "</div>"
      ],
      "text/plain": [
       "               ID                Date  Glucose level\n",
       "386964  LIB193271 2020-09-24 17:59:00          125.0\n",
       "386965  LIB193271 2020-09-24 18:14:00          109.0\n",
       "386966  LIB193271 2020-09-24 18:29:00          111.0\n",
       "386967  LIB193271 2020-09-24 18:44:00          119.0\n",
       "386968  LIB193271 2020-09-24 18:59:00          114.0\n",
       "...           ...                 ...            ...\n",
       "401812  LIB193271 2022-03-20 21:25:00          184.0\n",
       "401813  LIB193271 2022-03-20 21:40:00          190.0\n",
       "401814  LIB193271 2022-03-20 21:55:00          200.0\n",
       "401815  LIB193271 2022-03-20 22:10:00          200.0\n",
       "401816  LIB193271 2022-03-20 22:25:00          186.0\n",
       "\n",
       "[14853 rows x 3 columns]"
      ]
     },
     "execution_count": 33,
     "metadata": {},
     "output_type": "execute_result"
    }
   ],
   "source": [
    "dfpaciente = dfpaciente.iloc[:-6]\n",
    "dfpaciente"
   ]
  },
  {
   "cell_type": "markdown",
   "id": "8879d01f",
   "metadata": {},
   "source": [
    "Realizamos el preprocesamemiento y obtenemos el dataset completo"
   ]
  },
  {
   "cell_type": "code",
   "execution_count": 34,
   "id": "0a8f6853",
   "metadata": {},
   "outputs": [
    {
     "name": "stdout",
     "output_type": "stream",
     "text": [
      "<class 'pandas.core.frame.DataFrame'>\n",
      "DatetimeIndex: 52051 entries, 2020-09-24 17:45:00 to 2022-03-20 22:15:00\n",
      "Freq: 15T\n",
      "Data columns (total 5 columns):\n",
      " #   Column         Non-Null Count  Dtype  \n",
      "---  ------         --------------  -----  \n",
      " 0   Glucose level  52051 non-null  float64\n",
      " 1   hour           52051 non-null  float64\n",
      " 2   min            52051 non-null  float64\n",
      " 3   pod_id         52051 non-null  float64\n",
      " 4   level_id       52051 non-null  float64\n",
      "dtypes: float64(5)\n",
      "memory usage: 2.4 MB\n"
     ]
    }
   ],
   "source": [
    "dfPacienteScaled,array_Xtrain,array_Ytrain,array_Xval,array_Yval,array_Xtest,array_Ytest=model_utils.GenDataSet(dfpaciente,featuresObj,[ID_Paciente],min,train_share,val_share,lag,n_ahead,scalerHours,scalerMin,scalerGlucosa,scalerPodId,scalerLevelId,fillNullData=True,resample=True,normalized=True)\n",
    "dfPacienteScaled.info()"
   ]
  },
  {
   "cell_type": "markdown",
   "id": "0339ee05",
   "metadata": {},
   "source": [
    "Eliminamos los registros de los eventos hipoglucemicos y fijos "
   ]
  },
  {
   "cell_type": "code",
   "execution_count": 35,
   "id": "36f32dab",
   "metadata": {},
   "outputs": [
    {
     "name": "stdout",
     "output_type": "stream",
     "text": [
      "24\n"
     ]
    }
   ],
   "source": [
    "eventosEliminar = load(open('dataset/generado/paciente2/eventos.list', 'rb'))\n",
    "print(len(eventosEliminar))"
   ]
  },
  {
   "cell_type": "code",
   "execution_count": 36,
   "id": "c2c67053",
   "metadata": {},
   "outputs": [
    {
     "name": "stdout",
     "output_type": "stream",
     "text": [
      "<class 'pandas.core.frame.DataFrame'>\n",
      "DatetimeIndex: 52027 entries, 2020-09-24 17:45:00 to 2022-03-20 22:15:00\n",
      "Data columns (total 5 columns):\n",
      " #   Column         Non-Null Count  Dtype  \n",
      "---  ------         --------------  -----  \n",
      " 0   Glucose level  52027 non-null  float64\n",
      " 1   hour           52027 non-null  float64\n",
      " 2   min            52027 non-null  float64\n",
      " 3   pod_id         52027 non-null  float64\n",
      " 4   level_id       52027 non-null  float64\n",
      "dtypes: float64(5)\n",
      "memory usage: 2.4 MB\n",
      "Eliminados 24\n"
     ]
    }
   ],
   "source": [
    "for evento in eventosEliminar: \n",
    "    dfPacienteScaled=dfPacienteScaled.drop(pd.Timestamp(evento))\n",
    "dfPacienteScaled.info()\n",
    "print('Eliminados',len(eventosEliminar))"
   ]
  },
  {
   "cell_type": "markdown",
   "id": "40f3d5ca",
   "metadata": {},
   "source": [
    "Generamos un dataset en formato inicial con los datos restantes"
   ]
  },
  {
   "cell_type": "code",
   "execution_count": 37,
   "id": "a5399034",
   "metadata": {},
   "outputs": [],
   "source": [
    "dfPacienteInicial=pd.DataFrame()\n",
    "dfPacienteInicial['Date']=dfPacienteScaled.index\n",
    "dfPacienteInicial[['Glucose level']]=scalerGlucosa.inverse_transform(dfPacienteScaled[['Glucose level']].values)\n",
    "dfPacienteInicial['ID']=ID_Paciente"
   ]
  },
  {
   "cell_type": "code",
   "execution_count": 38,
   "id": "4d87fed3",
   "metadata": {},
   "outputs": [
    {
     "name": "stdout",
     "output_type": "stream",
     "text": [
      "<class 'pandas.core.frame.DataFrame'>\n",
      "RangeIndex: 52027 entries, 0 to 52026\n",
      "Data columns (total 3 columns):\n",
      " #   Column         Non-Null Count  Dtype         \n",
      "---  ------         --------------  -----         \n",
      " 0   Date           52027 non-null  datetime64[ns]\n",
      " 1   Glucose level  52027 non-null  float64       \n",
      " 2   ID             52027 non-null  object        \n",
      "dtypes: datetime64[ns](1), float64(1), object(1)\n",
      "memory usage: 1.2+ MB\n"
     ]
    }
   ],
   "source": [
    "dfPacienteInicial.info()"
   ]
  },
  {
   "cell_type": "markdown",
   "id": "428c66b8",
   "metadata": {},
   "source": [
    "Generamos el conjunto de datos de entrenamiento a partir del dataset depurado"
   ]
  },
  {
   "cell_type": "code",
   "execution_count": 39,
   "id": "fb99088a",
   "metadata": {},
   "outputs": [],
   "source": [
    "dfPacienteFinal,array_Xtrain,array_Ytrain,array_Xval,array_Yval,array_Xtest,array_Ytest=model_utils.GenDataSet(dfPacienteInicial,featuresObj,[ID_Paciente],min,train_share,val_share,lag,n_ahead,scalerHours,scalerMin,scalerGlucosa,scalerPodId,scalerLevelId,fillNullData=True,resample=True,normalized=True)"
   ]
  },
  {
   "cell_type": "code",
   "execution_count": 40,
   "id": "58a8da57",
   "metadata": {},
   "outputs": [
    {
     "name": "stdout",
     "output_type": "stream",
     "text": [
      "<class 'pandas.core.frame.DataFrame'>\n",
      "DatetimeIndex: 52051 entries, 2020-09-24 17:45:00 to 2022-03-20 22:15:00\n",
      "Freq: 15T\n",
      "Data columns (total 5 columns):\n",
      " #   Column         Non-Null Count  Dtype  \n",
      "---  ------         --------------  -----  \n",
      " 0   Glucose level  52051 non-null  float64\n",
      " 1   hour           52051 non-null  float64\n",
      " 2   min            52051 non-null  float64\n",
      " 3   pod_id         52051 non-null  float64\n",
      " 4   level_id       52051 non-null  float64\n",
      "dtypes: float64(5)\n",
      "memory usage: 2.4 MB\n"
     ]
    }
   ],
   "source": [
    "dfPacienteFinal.info()"
   ]
  },
  {
   "cell_type": "markdown",
   "id": "1ff3cede",
   "metadata": {},
   "source": [
    "Guardamos todos los arrays de entrenamiento, validación y pruebas generados"
   ]
  },
  {
   "cell_type": "code",
   "execution_count": 41,
   "id": "9ba37b12",
   "metadata": {},
   "outputs": [
    {
     "data": {
      "text/plain": [
       "41616"
      ]
     },
     "execution_count": 41,
     "metadata": {},
     "output_type": "execute_result"
    }
   ],
   "source": [
    "with open('dataset/generado/paciente2/array_Xtrain.npy', 'wb') as f:\n",
    "    np.save(f, array_Xtrain)\n",
    "len(array_Ytrain)"
   ]
  },
  {
   "cell_type": "code",
   "execution_count": 42,
   "id": "ad1b08d2",
   "metadata": {},
   "outputs": [
    {
     "data": {
      "text/plain": [
       "41616"
      ]
     },
     "execution_count": 42,
     "metadata": {},
     "output_type": "execute_result"
    }
   ],
   "source": [
    "with open('dataset/generado/paciente2/array_Ytrain.npy', 'wb') as f:\n",
    "    np.save(f, array_Ytrain)\n",
    "len(array_Ytrain)"
   ]
  },
  {
   "cell_type": "code",
   "execution_count": 43,
   "id": "6394ecf0",
   "metadata": {},
   "outputs": [
    {
     "data": {
      "text/plain": [
       "5202"
      ]
     },
     "execution_count": 43,
     "metadata": {},
     "output_type": "execute_result"
    }
   ],
   "source": [
    "with open('dataset/generado/paciente2/array_Xval.npy', 'wb') as f:\n",
    "    np.save(f, array_Xval)\n",
    "len(array_Xval)"
   ]
  },
  {
   "cell_type": "code",
   "execution_count": 44,
   "id": "e32f0054",
   "metadata": {},
   "outputs": [
    {
     "data": {
      "text/plain": [
       "5202"
      ]
     },
     "execution_count": 44,
     "metadata": {},
     "output_type": "execute_result"
    }
   ],
   "source": [
    "with open('dataset/generado/paciente2/array_Yval.npy', 'wb') as f:\n",
    "    np.save(f, array_Yval)\n",
    "len(array_Yval)"
   ]
  },
  {
   "cell_type": "code",
   "execution_count": 45,
   "id": "7175a8ea",
   "metadata": {},
   "outputs": [
    {
     "data": {
      "text/plain": [
       "5203"
      ]
     },
     "execution_count": 45,
     "metadata": {},
     "output_type": "execute_result"
    }
   ],
   "source": [
    "with open('dataset/generado/paciente2/array_Xtest.npy', 'wb') as f:\n",
    "    np.save(f, array_Xtest)\n",
    "len(array_Xtest)"
   ]
  },
  {
   "cell_type": "code",
   "execution_count": 46,
   "id": "9ea0c9c4",
   "metadata": {},
   "outputs": [
    {
     "data": {
      "text/plain": [
       "5203"
      ]
     },
     "execution_count": 46,
     "metadata": {},
     "output_type": "execute_result"
    }
   ],
   "source": [
    "with open('dataset/generado/paciente2/array_Ytest.npy', 'wb') as f:\n",
    "    np.save(f, array_Ytest)\n",
    "len(array_Ytest)"
   ]
  },
  {
   "cell_type": "markdown",
   "id": "466933b5",
   "metadata": {},
   "source": [
    "## Paciente 3: LIB193315"
   ]
  },
  {
   "cell_type": "code",
   "execution_count": 47,
   "id": "4b453771",
   "metadata": {},
   "outputs": [],
   "source": [
    "ID_Paciente='LIB193315'\n",
    "dfpaciente=df_Inicial[df_Inicial['ID'] == ID_Paciente]"
   ]
  },
  {
   "cell_type": "markdown",
   "id": "3c419e42",
   "metadata": {},
   "source": [
    "Selecionamos los últimos 6 eventos registrados, y comprobamos que esten cada 15 min"
   ]
  },
  {
   "cell_type": "code",
   "execution_count": 48,
   "id": "8a5cee1f",
   "metadata": {},
   "outputs": [
    {
     "data": {
      "text/html": [
       "<div>\n",
       "<style scoped>\n",
       "    .dataframe tbody tr th:only-of-type {\n",
       "        vertical-align: middle;\n",
       "    }\n",
       "\n",
       "    .dataframe tbody tr th {\n",
       "        vertical-align: top;\n",
       "    }\n",
       "\n",
       "    .dataframe thead th {\n",
       "        text-align: right;\n",
       "    }\n",
       "</style>\n",
       "<table border=\"1\" class=\"dataframe\">\n",
       "  <thead>\n",
       "    <tr style=\"text-align: right;\">\n",
       "      <th></th>\n",
       "      <th>ID</th>\n",
       "      <th>Date</th>\n",
       "      <th>Glucose level</th>\n",
       "    </tr>\n",
       "  </thead>\n",
       "  <tbody>\n",
       "    <tr>\n",
       "      <th>1198156</th>\n",
       "      <td>LIB193315</td>\n",
       "      <td>2022-03-18 05:56:00</td>\n",
       "      <td>189.0</td>\n",
       "    </tr>\n",
       "    <tr>\n",
       "      <th>1198157</th>\n",
       "      <td>LIB193315</td>\n",
       "      <td>2022-03-18 06:11:00</td>\n",
       "      <td>188.0</td>\n",
       "    </tr>\n",
       "    <tr>\n",
       "      <th>1198158</th>\n",
       "      <td>LIB193315</td>\n",
       "      <td>2022-03-18 06:26:00</td>\n",
       "      <td>182.0</td>\n",
       "    </tr>\n",
       "    <tr>\n",
       "      <th>1198159</th>\n",
       "      <td>LIB193315</td>\n",
       "      <td>2022-03-18 06:41:00</td>\n",
       "      <td>171.0</td>\n",
       "    </tr>\n",
       "    <tr>\n",
       "      <th>1198160</th>\n",
       "      <td>LIB193315</td>\n",
       "      <td>2022-03-18 06:56:00</td>\n",
       "      <td>167.0</td>\n",
       "    </tr>\n",
       "    <tr>\n",
       "      <th>1198161</th>\n",
       "      <td>LIB193315</td>\n",
       "      <td>2022-03-18 07:11:00</td>\n",
       "      <td>166.0</td>\n",
       "    </tr>\n",
       "  </tbody>\n",
       "</table>\n",
       "</div>"
      ],
      "text/plain": [
       "                ID                Date  Glucose level\n",
       "1198156  LIB193315 2022-03-18 05:56:00          189.0\n",
       "1198157  LIB193315 2022-03-18 06:11:00          188.0\n",
       "1198158  LIB193315 2022-03-18 06:26:00          182.0\n",
       "1198159  LIB193315 2022-03-18 06:41:00          171.0\n",
       "1198160  LIB193315 2022-03-18 06:56:00          167.0\n",
       "1198161  LIB193315 2022-03-18 07:11:00          166.0"
      ]
     },
     "execution_count": 48,
     "metadata": {},
     "output_type": "execute_result"
    }
   ],
   "source": [
    "dfpacienteEvaluacion =dfpaciente.tail(6)\n",
    "dfpacienteEvaluacion"
   ]
  },
  {
   "cell_type": "markdown",
   "id": "3cdd1557",
   "metadata": {},
   "source": [
    "Guardamos los niveles de glucosa "
   ]
  },
  {
   "cell_type": "code",
   "execution_count": 49,
   "id": "0607f344",
   "metadata": {},
   "outputs": [
    {
     "data": {
      "text/plain": [
       "array([189., 188., 182., 171., 167., 166.])"
      ]
     },
     "execution_count": 49,
     "metadata": {},
     "output_type": "execute_result"
    }
   ],
   "source": [
    "arrayEvaluacion=dfpacienteEvaluacion['Glucose level'].to_numpy()\n",
    "arrayEvaluacion"
   ]
  },
  {
   "cell_type": "code",
   "execution_count": 50,
   "id": "481ed285",
   "metadata": {},
   "outputs": [
    {
     "data": {
      "text/plain": [
       "6"
      ]
     },
     "execution_count": 50,
     "metadata": {},
     "output_type": "execute_result"
    }
   ],
   "source": [
    "with open('dataset/generado/paciente3/arrayEvaluacion.npy', 'wb') as f:\n",
    "    np.save(f, arrayEvaluacion)\n",
    "len(arrayEvaluacion)"
   ]
  },
  {
   "cell_type": "markdown",
   "id": "de6f3ec0",
   "metadata": {},
   "source": [
    "El resto del dataset lo vamos a utilizar para el entrenamiento y validación de cada modelo"
   ]
  },
  {
   "cell_type": "code",
   "execution_count": 51,
   "id": "62dcaa6e",
   "metadata": {},
   "outputs": [
    {
     "data": {
      "text/html": [
       "<div>\n",
       "<style scoped>\n",
       "    .dataframe tbody tr th:only-of-type {\n",
       "        vertical-align: middle;\n",
       "    }\n",
       "\n",
       "    .dataframe tbody tr th {\n",
       "        vertical-align: top;\n",
       "    }\n",
       "\n",
       "    .dataframe thead th {\n",
       "        text-align: right;\n",
       "    }\n",
       "</style>\n",
       "<table border=\"1\" class=\"dataframe\">\n",
       "  <thead>\n",
       "    <tr style=\"text-align: right;\">\n",
       "      <th></th>\n",
       "      <th>ID</th>\n",
       "      <th>Date</th>\n",
       "      <th>Glucose level</th>\n",
       "    </tr>\n",
       "  </thead>\n",
       "  <tbody>\n",
       "    <tr>\n",
       "      <th>1166570</th>\n",
       "      <td>LIB193315</td>\n",
       "      <td>2021-03-09 12:04:00</td>\n",
       "      <td>99.0</td>\n",
       "    </tr>\n",
       "    <tr>\n",
       "      <th>1166571</th>\n",
       "      <td>LIB193315</td>\n",
       "      <td>2021-03-09 12:19:00</td>\n",
       "      <td>89.0</td>\n",
       "    </tr>\n",
       "    <tr>\n",
       "      <th>1166572</th>\n",
       "      <td>LIB193315</td>\n",
       "      <td>2021-03-09 12:34:00</td>\n",
       "      <td>80.0</td>\n",
       "    </tr>\n",
       "    <tr>\n",
       "      <th>1166573</th>\n",
       "      <td>LIB193315</td>\n",
       "      <td>2021-03-09 12:49:00</td>\n",
       "      <td>87.0</td>\n",
       "    </tr>\n",
       "    <tr>\n",
       "      <th>1166574</th>\n",
       "      <td>LIB193315</td>\n",
       "      <td>2021-03-09 13:05:00</td>\n",
       "      <td>102.0</td>\n",
       "    </tr>\n",
       "    <tr>\n",
       "      <th>...</th>\n",
       "      <td>...</td>\n",
       "      <td>...</td>\n",
       "      <td>...</td>\n",
       "    </tr>\n",
       "    <tr>\n",
       "      <th>1198151</th>\n",
       "      <td>LIB193315</td>\n",
       "      <td>2022-03-18 04:41:00</td>\n",
       "      <td>221.0</td>\n",
       "    </tr>\n",
       "    <tr>\n",
       "      <th>1198152</th>\n",
       "      <td>LIB193315</td>\n",
       "      <td>2022-03-18 04:56:00</td>\n",
       "      <td>216.0</td>\n",
       "    </tr>\n",
       "    <tr>\n",
       "      <th>1198153</th>\n",
       "      <td>LIB193315</td>\n",
       "      <td>2022-03-18 05:11:00</td>\n",
       "      <td>206.0</td>\n",
       "    </tr>\n",
       "    <tr>\n",
       "      <th>1198154</th>\n",
       "      <td>LIB193315</td>\n",
       "      <td>2022-03-18 05:26:00</td>\n",
       "      <td>198.0</td>\n",
       "    </tr>\n",
       "    <tr>\n",
       "      <th>1198155</th>\n",
       "      <td>LIB193315</td>\n",
       "      <td>2022-03-18 05:41:00</td>\n",
       "      <td>193.0</td>\n",
       "    </tr>\n",
       "  </tbody>\n",
       "</table>\n",
       "<p>31586 rows × 3 columns</p>\n",
       "</div>"
      ],
      "text/plain": [
       "                ID                Date  Glucose level\n",
       "1166570  LIB193315 2021-03-09 12:04:00           99.0\n",
       "1166571  LIB193315 2021-03-09 12:19:00           89.0\n",
       "1166572  LIB193315 2021-03-09 12:34:00           80.0\n",
       "1166573  LIB193315 2021-03-09 12:49:00           87.0\n",
       "1166574  LIB193315 2021-03-09 13:05:00          102.0\n",
       "...            ...                 ...            ...\n",
       "1198151  LIB193315 2022-03-18 04:41:00          221.0\n",
       "1198152  LIB193315 2022-03-18 04:56:00          216.0\n",
       "1198153  LIB193315 2022-03-18 05:11:00          206.0\n",
       "1198154  LIB193315 2022-03-18 05:26:00          198.0\n",
       "1198155  LIB193315 2022-03-18 05:41:00          193.0\n",
       "\n",
       "[31586 rows x 3 columns]"
      ]
     },
     "execution_count": 51,
     "metadata": {},
     "output_type": "execute_result"
    }
   ],
   "source": [
    "dfpaciente = dfpaciente.iloc[:-6]\n",
    "dfpaciente"
   ]
  },
  {
   "cell_type": "markdown",
   "id": "a95592b0",
   "metadata": {},
   "source": [
    "Realizamos el preprocesamemiento y obtenemos el dataset completo"
   ]
  },
  {
   "cell_type": "code",
   "execution_count": 52,
   "id": "5da11fe9",
   "metadata": {},
   "outputs": [
    {
     "name": "stdout",
     "output_type": "stream",
     "text": [
      "<class 'pandas.core.frame.DataFrame'>\n",
      "DatetimeIndex: 35879 entries, 2021-03-09 12:00:00 to 2022-03-18 05:30:00\n",
      "Freq: 15T\n",
      "Data columns (total 5 columns):\n",
      " #   Column         Non-Null Count  Dtype  \n",
      "---  ------         --------------  -----  \n",
      " 0   Glucose level  35879 non-null  float64\n",
      " 1   hour           35879 non-null  float64\n",
      " 2   min            35879 non-null  float64\n",
      " 3   pod_id         35879 non-null  float64\n",
      " 4   level_id       35879 non-null  float64\n",
      "dtypes: float64(5)\n",
      "memory usage: 1.6 MB\n"
     ]
    }
   ],
   "source": [
    "dfPacienteScaled,array_Xtrain,array_Ytrain,array_Xval,array_Yval,array_Xtest,array_Ytest=model_utils.GenDataSet(dfpaciente,featuresObj,[ID_Paciente],min,train_share,val_share,lag,n_ahead,scalerHours,scalerMin,scalerGlucosa,scalerPodId,scalerLevelId,fillNullData=True,resample=True,normalized=True)\n",
    "dfPacienteScaled.info()"
   ]
  },
  {
   "cell_type": "markdown",
   "id": "ab42f8ab",
   "metadata": {},
   "source": [
    "Eliminamos los registros de los eventos hipoglucemicos y fijos "
   ]
  },
  {
   "cell_type": "code",
   "execution_count": 53,
   "id": "5ba8240e",
   "metadata": {},
   "outputs": [
    {
     "name": "stdout",
     "output_type": "stream",
     "text": [
      "24\n"
     ]
    }
   ],
   "source": [
    "eventosEliminar = load(open('dataset/generado/paciente3/eventos.list', 'rb'))\n",
    "print(len(eventosEliminar))"
   ]
  },
  {
   "cell_type": "code",
   "execution_count": 54,
   "id": "bc8c5759",
   "metadata": {},
   "outputs": [
    {
     "name": "stdout",
     "output_type": "stream",
     "text": [
      "<class 'pandas.core.frame.DataFrame'>\n",
      "DatetimeIndex: 35855 entries, 2021-03-09 12:00:00 to 2022-03-18 05:30:00\n",
      "Data columns (total 5 columns):\n",
      " #   Column         Non-Null Count  Dtype  \n",
      "---  ------         --------------  -----  \n",
      " 0   Glucose level  35855 non-null  float64\n",
      " 1   hour           35855 non-null  float64\n",
      " 2   min            35855 non-null  float64\n",
      " 3   pod_id         35855 non-null  float64\n",
      " 4   level_id       35855 non-null  float64\n",
      "dtypes: float64(5)\n",
      "memory usage: 1.6 MB\n",
      "Eliminados 24\n"
     ]
    }
   ],
   "source": [
    "for evento in eventosEliminar: \n",
    "    dfPacienteScaled=dfPacienteScaled.drop(pd.Timestamp(evento))\n",
    "dfPacienteScaled.info()\n",
    "print('Eliminados',len(eventosEliminar))"
   ]
  },
  {
   "cell_type": "markdown",
   "id": "0e5af5ef",
   "metadata": {},
   "source": [
    "Generamos un dataset en formato inicial con los datos restantes"
   ]
  },
  {
   "cell_type": "code",
   "execution_count": 55,
   "id": "82fb97a2",
   "metadata": {},
   "outputs": [],
   "source": [
    "dfPacienteInicial=pd.DataFrame()\n",
    "dfPacienteInicial['Date']=dfPacienteScaled.index\n",
    "dfPacienteInicial[['Glucose level']]=scalerGlucosa.inverse_transform(dfPacienteScaled[['Glucose level']].values)\n",
    "dfPacienteInicial['ID']=ID_Paciente"
   ]
  },
  {
   "cell_type": "code",
   "execution_count": 56,
   "id": "8f189797",
   "metadata": {},
   "outputs": [
    {
     "name": "stdout",
     "output_type": "stream",
     "text": [
      "<class 'pandas.core.frame.DataFrame'>\n",
      "RangeIndex: 35855 entries, 0 to 35854\n",
      "Data columns (total 3 columns):\n",
      " #   Column         Non-Null Count  Dtype         \n",
      "---  ------         --------------  -----         \n",
      " 0   Date           35855 non-null  datetime64[ns]\n",
      " 1   Glucose level  35855 non-null  float64       \n",
      " 2   ID             35855 non-null  object        \n",
      "dtypes: datetime64[ns](1), float64(1), object(1)\n",
      "memory usage: 840.5+ KB\n"
     ]
    }
   ],
   "source": [
    "dfPacienteInicial.info()"
   ]
  },
  {
   "cell_type": "markdown",
   "id": "46c6c26f",
   "metadata": {},
   "source": [
    "Generamos el conjunto de datos de entrenamiento a partir del dataset depurado"
   ]
  },
  {
   "cell_type": "code",
   "execution_count": 57,
   "id": "c2a9f338",
   "metadata": {},
   "outputs": [],
   "source": [
    "dfPacienteFinal,array_Xtrain,array_Ytrain,array_Xval,array_Yval,array_Xtest,array_Ytest=model_utils.GenDataSet(dfPacienteInicial,featuresObj,[ID_Paciente],min,train_share,val_share,lag,n_ahead,scalerHours,scalerMin,scalerGlucosa,scalerPodId,scalerLevelId,fillNullData=True,resample=True,normalized=True)"
   ]
  },
  {
   "cell_type": "code",
   "execution_count": 58,
   "id": "38a423c7",
   "metadata": {},
   "outputs": [
    {
     "name": "stdout",
     "output_type": "stream",
     "text": [
      "<class 'pandas.core.frame.DataFrame'>\n",
      "DatetimeIndex: 35879 entries, 2021-03-09 12:00:00 to 2022-03-18 05:30:00\n",
      "Freq: 15T\n",
      "Data columns (total 5 columns):\n",
      " #   Column         Non-Null Count  Dtype  \n",
      "---  ------         --------------  -----  \n",
      " 0   Glucose level  35879 non-null  float64\n",
      " 1   hour           35879 non-null  float64\n",
      " 2   min            35879 non-null  float64\n",
      " 3   pod_id         35879 non-null  float64\n",
      " 4   level_id       35879 non-null  float64\n",
      "dtypes: float64(5)\n",
      "memory usage: 1.6 MB\n"
     ]
    }
   ],
   "source": [
    "dfPacienteFinal.info()"
   ]
  },
  {
   "cell_type": "markdown",
   "id": "ded77351",
   "metadata": {},
   "source": [
    "Guardamos todos los arrays de entrenamiento, validación y pruebas generados"
   ]
  },
  {
   "cell_type": "code",
   "execution_count": 59,
   "id": "77d8c502",
   "metadata": {},
   "outputs": [
    {
     "data": {
      "text/plain": [
       "28679"
      ]
     },
     "execution_count": 59,
     "metadata": {},
     "output_type": "execute_result"
    }
   ],
   "source": [
    "with open('dataset/generado/paciente3/array_Xtrain.npy', 'wb') as f:\n",
    "    np.save(f, array_Xtrain)\n",
    "len(array_Ytrain)"
   ]
  },
  {
   "cell_type": "code",
   "execution_count": 60,
   "id": "4dbae5e5",
   "metadata": {},
   "outputs": [
    {
     "data": {
      "text/plain": [
       "28679"
      ]
     },
     "execution_count": 60,
     "metadata": {},
     "output_type": "execute_result"
    }
   ],
   "source": [
    "with open('dataset/generado/paciente3/array_Ytrain.npy', 'wb') as f:\n",
    "    np.save(f, array_Ytrain)\n",
    "len(array_Ytrain)"
   ]
  },
  {
   "cell_type": "code",
   "execution_count": 61,
   "id": "18694064",
   "metadata": {},
   "outputs": [
    {
     "data": {
      "text/plain": [
       "3585"
      ]
     },
     "execution_count": 61,
     "metadata": {},
     "output_type": "execute_result"
    }
   ],
   "source": [
    "with open('dataset/generado/paciente3/array_Xval.npy', 'wb') as f:\n",
    "    np.save(f, array_Xval)\n",
    "len(array_Xval)"
   ]
  },
  {
   "cell_type": "code",
   "execution_count": 62,
   "id": "728c759e",
   "metadata": {},
   "outputs": [
    {
     "data": {
      "text/plain": [
       "3585"
      ]
     },
     "execution_count": 62,
     "metadata": {},
     "output_type": "execute_result"
    }
   ],
   "source": [
    "with open('dataset/generado/paciente3/array_Yval.npy', 'wb') as f:\n",
    "    np.save(f, array_Yval)\n",
    "len(array_Yval)"
   ]
  },
  {
   "cell_type": "code",
   "execution_count": 63,
   "id": "81d4cce9",
   "metadata": {},
   "outputs": [
    {
     "data": {
      "text/plain": [
       "3585"
      ]
     },
     "execution_count": 63,
     "metadata": {},
     "output_type": "execute_result"
    }
   ],
   "source": [
    "with open('dataset/generado/paciente3/array_Xtest.npy', 'wb') as f:\n",
    "    np.save(f, array_Xtest)\n",
    "len(array_Xtest)"
   ]
  },
  {
   "cell_type": "code",
   "execution_count": 64,
   "id": "63931256",
   "metadata": {},
   "outputs": [
    {
     "data": {
      "text/plain": [
       "3585"
      ]
     },
     "execution_count": 64,
     "metadata": {},
     "output_type": "execute_result"
    }
   ],
   "source": [
    "with open('dataset/generado/paciente3/array_Ytest.npy', 'wb') as f:\n",
    "    np.save(f, array_Ytest)\n",
    "len(array_Ytest)"
   ]
  },
  {
   "cell_type": "markdown",
   "id": "f9ff7bdf",
   "metadata": {},
   "source": [
    "## Paciente 4: LIB193304"
   ]
  },
  {
   "cell_type": "code",
   "execution_count": 65,
   "id": "9203ec41",
   "metadata": {},
   "outputs": [],
   "source": [
    "ID_Paciente='LIB193304'\n",
    "dfpaciente=df_Inicial[df_Inicial['ID'] == ID_Paciente]"
   ]
  },
  {
   "cell_type": "markdown",
   "id": "55177abf",
   "metadata": {},
   "source": [
    "Selecionamos los últimos 6 eventos registrados, y comprobamos que esten cada 15 min"
   ]
  },
  {
   "cell_type": "code",
   "execution_count": 66,
   "id": "34741dfe",
   "metadata": {},
   "outputs": [
    {
     "data": {
      "text/html": [
       "<div>\n",
       "<style scoped>\n",
       "    .dataframe tbody tr th:only-of-type {\n",
       "        vertical-align: middle;\n",
       "    }\n",
       "\n",
       "    .dataframe tbody tr th {\n",
       "        vertical-align: top;\n",
       "    }\n",
       "\n",
       "    .dataframe thead th {\n",
       "        text-align: right;\n",
       "    }\n",
       "</style>\n",
       "<table border=\"1\" class=\"dataframe\">\n",
       "  <thead>\n",
       "    <tr style=\"text-align: right;\">\n",
       "      <th></th>\n",
       "      <th>ID</th>\n",
       "      <th>Date</th>\n",
       "      <th>Glucose level</th>\n",
       "    </tr>\n",
       "  </thead>\n",
       "  <tbody>\n",
       "    <tr>\n",
       "      <th>727174</th>\n",
       "      <td>LIB193304</td>\n",
       "      <td>2022-03-18 22:08:00</td>\n",
       "      <td>86.0</td>\n",
       "    </tr>\n",
       "    <tr>\n",
       "      <th>727175</th>\n",
       "      <td>LIB193304</td>\n",
       "      <td>2022-03-18 22:23:00</td>\n",
       "      <td>100.0</td>\n",
       "    </tr>\n",
       "    <tr>\n",
       "      <th>727176</th>\n",
       "      <td>LIB193304</td>\n",
       "      <td>2022-03-18 22:38:00</td>\n",
       "      <td>89.0</td>\n",
       "    </tr>\n",
       "    <tr>\n",
       "      <th>727177</th>\n",
       "      <td>LIB193304</td>\n",
       "      <td>2022-03-18 22:53:00</td>\n",
       "      <td>92.0</td>\n",
       "    </tr>\n",
       "    <tr>\n",
       "      <th>727178</th>\n",
       "      <td>LIB193304</td>\n",
       "      <td>2022-03-18 23:08:00</td>\n",
       "      <td>106.0</td>\n",
       "    </tr>\n",
       "    <tr>\n",
       "      <th>727179</th>\n",
       "      <td>LIB193304</td>\n",
       "      <td>2022-03-18 23:23:00</td>\n",
       "      <td>124.0</td>\n",
       "    </tr>\n",
       "  </tbody>\n",
       "</table>\n",
       "</div>"
      ],
      "text/plain": [
       "               ID                Date  Glucose level\n",
       "727174  LIB193304 2022-03-18 22:08:00           86.0\n",
       "727175  LIB193304 2022-03-18 22:23:00          100.0\n",
       "727176  LIB193304 2022-03-18 22:38:00           89.0\n",
       "727177  LIB193304 2022-03-18 22:53:00           92.0\n",
       "727178  LIB193304 2022-03-18 23:08:00          106.0\n",
       "727179  LIB193304 2022-03-18 23:23:00          124.0"
      ]
     },
     "execution_count": 66,
     "metadata": {},
     "output_type": "execute_result"
    }
   ],
   "source": [
    "dfpacienteEvaluacion =dfpaciente.tail(6)\n",
    "dfpacienteEvaluacion"
   ]
  },
  {
   "cell_type": "markdown",
   "id": "3be6cb3c",
   "metadata": {},
   "source": [
    "Guardamos los niveles de glucosa "
   ]
  },
  {
   "cell_type": "code",
   "execution_count": 67,
   "id": "cbf8f7be",
   "metadata": {},
   "outputs": [
    {
     "data": {
      "text/plain": [
       "array([ 86., 100.,  89.,  92., 106., 124.])"
      ]
     },
     "execution_count": 67,
     "metadata": {},
     "output_type": "execute_result"
    }
   ],
   "source": [
    "arrayEvaluacion=dfpacienteEvaluacion['Glucose level'].to_numpy()\n",
    "arrayEvaluacion"
   ]
  },
  {
   "cell_type": "code",
   "execution_count": 68,
   "id": "bdca9500",
   "metadata": {},
   "outputs": [
    {
     "data": {
      "text/plain": [
       "6"
      ]
     },
     "execution_count": 68,
     "metadata": {},
     "output_type": "execute_result"
    }
   ],
   "source": [
    "with open('dataset/generado/paciente4/arrayEvaluacion.npy', 'wb') as f:\n",
    "    np.save(f, arrayEvaluacion)\n",
    "len(arrayEvaluacion)"
   ]
  },
  {
   "cell_type": "markdown",
   "id": "f3a74fbd",
   "metadata": {},
   "source": [
    "El resto del dataset lo vamos a utilizar para el entrenamiento y validación de cada modelo"
   ]
  },
  {
   "cell_type": "code",
   "execution_count": 69,
   "id": "878c2476",
   "metadata": {},
   "outputs": [
    {
     "data": {
      "text/html": [
       "<div>\n",
       "<style scoped>\n",
       "    .dataframe tbody tr th:only-of-type {\n",
       "        vertical-align: middle;\n",
       "    }\n",
       "\n",
       "    .dataframe tbody tr th {\n",
       "        vertical-align: top;\n",
       "    }\n",
       "\n",
       "    .dataframe thead th {\n",
       "        text-align: right;\n",
       "    }\n",
       "</style>\n",
       "<table border=\"1\" class=\"dataframe\">\n",
       "  <thead>\n",
       "    <tr style=\"text-align: right;\">\n",
       "      <th></th>\n",
       "      <th>ID</th>\n",
       "      <th>Date</th>\n",
       "      <th>Glucose level</th>\n",
       "    </tr>\n",
       "  </thead>\n",
       "  <tbody>\n",
       "    <tr>\n",
       "      <th>667394</th>\n",
       "      <td>LIB193304</td>\n",
       "      <td>2020-06-10 17:59:00</td>\n",
       "      <td>192.0</td>\n",
       "    </tr>\n",
       "    <tr>\n",
       "      <th>667395</th>\n",
       "      <td>LIB193304</td>\n",
       "      <td>2020-06-10 18:14:00</td>\n",
       "      <td>187.0</td>\n",
       "    </tr>\n",
       "    <tr>\n",
       "      <th>667396</th>\n",
       "      <td>LIB193304</td>\n",
       "      <td>2020-06-10 18:29:00</td>\n",
       "      <td>178.0</td>\n",
       "    </tr>\n",
       "    <tr>\n",
       "      <th>667397</th>\n",
       "      <td>LIB193304</td>\n",
       "      <td>2020-06-10 18:44:00</td>\n",
       "      <td>170.0</td>\n",
       "    </tr>\n",
       "    <tr>\n",
       "      <th>667398</th>\n",
       "      <td>LIB193304</td>\n",
       "      <td>2020-06-10 19:00:00</td>\n",
       "      <td>153.0</td>\n",
       "    </tr>\n",
       "    <tr>\n",
       "      <th>...</th>\n",
       "      <td>...</td>\n",
       "      <td>...</td>\n",
       "      <td>...</td>\n",
       "    </tr>\n",
       "    <tr>\n",
       "      <th>727169</th>\n",
       "      <td>LIB193304</td>\n",
       "      <td>2022-03-18 20:53:00</td>\n",
       "      <td>123.0</td>\n",
       "    </tr>\n",
       "    <tr>\n",
       "      <th>727170</th>\n",
       "      <td>LIB193304</td>\n",
       "      <td>2022-03-18 21:08:00</td>\n",
       "      <td>136.0</td>\n",
       "    </tr>\n",
       "    <tr>\n",
       "      <th>727171</th>\n",
       "      <td>LIB193304</td>\n",
       "      <td>2022-03-18 21:23:00</td>\n",
       "      <td>137.0</td>\n",
       "    </tr>\n",
       "    <tr>\n",
       "      <th>727172</th>\n",
       "      <td>LIB193304</td>\n",
       "      <td>2022-03-18 21:38:00</td>\n",
       "      <td>95.0</td>\n",
       "    </tr>\n",
       "    <tr>\n",
       "      <th>727173</th>\n",
       "      <td>LIB193304</td>\n",
       "      <td>2022-03-18 21:53:00</td>\n",
       "      <td>67.0</td>\n",
       "    </tr>\n",
       "  </tbody>\n",
       "</table>\n",
       "<p>59780 rows × 3 columns</p>\n",
       "</div>"
      ],
      "text/plain": [
       "               ID                Date  Glucose level\n",
       "667394  LIB193304 2020-06-10 17:59:00          192.0\n",
       "667395  LIB193304 2020-06-10 18:14:00          187.0\n",
       "667396  LIB193304 2020-06-10 18:29:00          178.0\n",
       "667397  LIB193304 2020-06-10 18:44:00          170.0\n",
       "667398  LIB193304 2020-06-10 19:00:00          153.0\n",
       "...           ...                 ...            ...\n",
       "727169  LIB193304 2022-03-18 20:53:00          123.0\n",
       "727170  LIB193304 2022-03-18 21:08:00          136.0\n",
       "727171  LIB193304 2022-03-18 21:23:00          137.0\n",
       "727172  LIB193304 2022-03-18 21:38:00           95.0\n",
       "727173  LIB193304 2022-03-18 21:53:00           67.0\n",
       "\n",
       "[59780 rows x 3 columns]"
      ]
     },
     "execution_count": 69,
     "metadata": {},
     "output_type": "execute_result"
    }
   ],
   "source": [
    "dfpaciente = dfpaciente.iloc[:-6]\n",
    "dfpaciente"
   ]
  },
  {
   "cell_type": "markdown",
   "id": "9613ebb6",
   "metadata": {},
   "source": [
    "Realizamos el preprocesamemiento y obtenemos el dataset completo"
   ]
  },
  {
   "cell_type": "code",
   "execution_count": 70,
   "id": "16d7cbf2",
   "metadata": {},
   "outputs": [
    {
     "name": "stdout",
     "output_type": "stream",
     "text": [
      "<class 'pandas.core.frame.DataFrame'>\n",
      "DatetimeIndex: 62033 entries, 2020-06-10 17:45:00 to 2022-03-18 21:45:00\n",
      "Freq: 15T\n",
      "Data columns (total 5 columns):\n",
      " #   Column         Non-Null Count  Dtype  \n",
      "---  ------         --------------  -----  \n",
      " 0   Glucose level  62033 non-null  float64\n",
      " 1   hour           62033 non-null  float64\n",
      " 2   min            62033 non-null  float64\n",
      " 3   pod_id         62033 non-null  float64\n",
      " 4   level_id       62033 non-null  float64\n",
      "dtypes: float64(5)\n",
      "memory usage: 2.8 MB\n"
     ]
    }
   ],
   "source": [
    "dfPacienteScaled,array_Xtrain,array_Ytrain,array_Xval,array_Yval,array_Xtest,array_Ytest=model_utils.GenDataSet(dfpaciente,featuresObj,[ID_Paciente],min,train_share,val_share,lag,n_ahead,scalerHours,scalerMin,scalerGlucosa,scalerPodId,scalerLevelId,fillNullData=True,resample=True,normalized=True)\n",
    "dfPacienteScaled.info()"
   ]
  },
  {
   "cell_type": "markdown",
   "id": "50aa193a",
   "metadata": {},
   "source": [
    "Eliminamos los registros de los eventos hipoglucemicos y fijos "
   ]
  },
  {
   "cell_type": "code",
   "execution_count": 71,
   "id": "ee83fab0",
   "metadata": {},
   "outputs": [
    {
     "name": "stdout",
     "output_type": "stream",
     "text": [
      "24\n"
     ]
    }
   ],
   "source": [
    "eventosEliminar = load(open('dataset/generado/paciente4/eventos.list', 'rb'))\n",
    "print(len(eventosEliminar))"
   ]
  },
  {
   "cell_type": "code",
   "execution_count": 72,
   "id": "ecbbddd5",
   "metadata": {},
   "outputs": [
    {
     "name": "stdout",
     "output_type": "stream",
     "text": [
      "<class 'pandas.core.frame.DataFrame'>\n",
      "DatetimeIndex: 62009 entries, 2020-06-10 17:45:00 to 2022-03-18 21:45:00\n",
      "Data columns (total 5 columns):\n",
      " #   Column         Non-Null Count  Dtype  \n",
      "---  ------         --------------  -----  \n",
      " 0   Glucose level  62009 non-null  float64\n",
      " 1   hour           62009 non-null  float64\n",
      " 2   min            62009 non-null  float64\n",
      " 3   pod_id         62009 non-null  float64\n",
      " 4   level_id       62009 non-null  float64\n",
      "dtypes: float64(5)\n",
      "memory usage: 2.8 MB\n",
      "Eliminados 24\n"
     ]
    }
   ],
   "source": [
    "for evento in eventosEliminar: \n",
    "    dfPacienteScaled=dfPacienteScaled.drop(pd.Timestamp(evento))\n",
    "dfPacienteScaled.info()\n",
    "print('Eliminados',len(eventosEliminar))"
   ]
  },
  {
   "cell_type": "markdown",
   "id": "3def5b21",
   "metadata": {},
   "source": [
    "Generamos un dataset en formato inicial con los datos restantes"
   ]
  },
  {
   "cell_type": "code",
   "execution_count": 73,
   "id": "c31fe613",
   "metadata": {},
   "outputs": [],
   "source": [
    "dfPacienteInicial=pd.DataFrame()\n",
    "dfPacienteInicial['Date']=dfPacienteScaled.index\n",
    "dfPacienteInicial[['Glucose level']]=scalerGlucosa.inverse_transform(dfPacienteScaled[['Glucose level']].values)\n",
    "dfPacienteInicial['ID']=ID_Paciente"
   ]
  },
  {
   "cell_type": "code",
   "execution_count": 74,
   "id": "23c12d34",
   "metadata": {},
   "outputs": [
    {
     "name": "stdout",
     "output_type": "stream",
     "text": [
      "<class 'pandas.core.frame.DataFrame'>\n",
      "RangeIndex: 62009 entries, 0 to 62008\n",
      "Data columns (total 3 columns):\n",
      " #   Column         Non-Null Count  Dtype         \n",
      "---  ------         --------------  -----         \n",
      " 0   Date           62009 non-null  datetime64[ns]\n",
      " 1   Glucose level  62009 non-null  float64       \n",
      " 2   ID             62009 non-null  object        \n",
      "dtypes: datetime64[ns](1), float64(1), object(1)\n",
      "memory usage: 1.4+ MB\n"
     ]
    }
   ],
   "source": [
    "dfPacienteInicial.info()"
   ]
  },
  {
   "cell_type": "markdown",
   "id": "29a1f06f",
   "metadata": {},
   "source": [
    "Generamos el conjunto de datos de entrenamiento a partir del dataset depurado"
   ]
  },
  {
   "cell_type": "code",
   "execution_count": 75,
   "id": "ed038548",
   "metadata": {},
   "outputs": [],
   "source": [
    "dfPacienteFinal,array_Xtrain,array_Ytrain,array_Xval,array_Yval,array_Xtest,array_Ytest=model_utils.GenDataSet(dfPacienteInicial,featuresObj,[ID_Paciente],min,train_share,val_share,lag,n_ahead,scalerHours,scalerMin,scalerGlucosa,scalerPodId,scalerLevelId,fillNullData=True,resample=True,normalized=True)"
   ]
  },
  {
   "cell_type": "code",
   "execution_count": 76,
   "id": "ad288ffe",
   "metadata": {},
   "outputs": [
    {
     "name": "stdout",
     "output_type": "stream",
     "text": [
      "<class 'pandas.core.frame.DataFrame'>\n",
      "DatetimeIndex: 62033 entries, 2020-06-10 17:45:00 to 2022-03-18 21:45:00\n",
      "Freq: 15T\n",
      "Data columns (total 5 columns):\n",
      " #   Column         Non-Null Count  Dtype  \n",
      "---  ------         --------------  -----  \n",
      " 0   Glucose level  62033 non-null  float64\n",
      " 1   hour           62033 non-null  float64\n",
      " 2   min            62033 non-null  float64\n",
      " 3   pod_id         62033 non-null  float64\n",
      " 4   level_id       62033 non-null  float64\n",
      "dtypes: float64(5)\n",
      "memory usage: 2.8 MB\n"
     ]
    }
   ],
   "source": [
    "dfPacienteFinal.info()"
   ]
  },
  {
   "cell_type": "markdown",
   "id": "d42380a8",
   "metadata": {},
   "source": [
    "Guardamos todos los arrays de entrenamiento, validación y pruebas generados"
   ]
  },
  {
   "cell_type": "code",
   "execution_count": 77,
   "id": "44945195",
   "metadata": {},
   "outputs": [
    {
     "data": {
      "text/plain": [
       "49602"
      ]
     },
     "execution_count": 77,
     "metadata": {},
     "output_type": "execute_result"
    }
   ],
   "source": [
    "with open('dataset/generado/paciente4/array_Xtrain.npy', 'wb') as f:\n",
    "    np.save(f, array_Xtrain)\n",
    "len(array_Ytrain)"
   ]
  },
  {
   "cell_type": "code",
   "execution_count": 78,
   "id": "32e2d867",
   "metadata": {},
   "outputs": [
    {
     "data": {
      "text/plain": [
       "49602"
      ]
     },
     "execution_count": 78,
     "metadata": {},
     "output_type": "execute_result"
    }
   ],
   "source": [
    "with open('dataset/generado/paciente4/array_Ytrain.npy', 'wb') as f:\n",
    "    np.save(f, array_Ytrain)\n",
    "len(array_Ytrain)"
   ]
  },
  {
   "cell_type": "code",
   "execution_count": 79,
   "id": "0a9acc8d",
   "metadata": {},
   "outputs": [
    {
     "data": {
      "text/plain": [
       "6200"
      ]
     },
     "execution_count": 79,
     "metadata": {},
     "output_type": "execute_result"
    }
   ],
   "source": [
    "with open('dataset/generado/paciente4/array_Xval.npy', 'wb') as f:\n",
    "    np.save(f, array_Xval)\n",
    "len(array_Xval)"
   ]
  },
  {
   "cell_type": "code",
   "execution_count": 80,
   "id": "187390b6",
   "metadata": {},
   "outputs": [
    {
     "data": {
      "text/plain": [
       "6200"
      ]
     },
     "execution_count": 80,
     "metadata": {},
     "output_type": "execute_result"
    }
   ],
   "source": [
    "with open('dataset/generado/paciente4/array_Yval.npy', 'wb') as f:\n",
    "    np.save(f, array_Yval)\n",
    "len(array_Yval)"
   ]
  },
  {
   "cell_type": "code",
   "execution_count": 81,
   "id": "f1e28fdd",
   "metadata": {},
   "outputs": [
    {
     "data": {
      "text/plain": [
       "6201"
      ]
     },
     "execution_count": 81,
     "metadata": {},
     "output_type": "execute_result"
    }
   ],
   "source": [
    "with open('dataset/generado/paciente4/array_Xtest.npy', 'wb') as f:\n",
    "    np.save(f, array_Xtest)\n",
    "len(array_Xtest)"
   ]
  },
  {
   "cell_type": "code",
   "execution_count": 82,
   "id": "8120f75e",
   "metadata": {},
   "outputs": [
    {
     "data": {
      "text/plain": [
       "6201"
      ]
     },
     "execution_count": 82,
     "metadata": {},
     "output_type": "execute_result"
    }
   ],
   "source": [
    "with open('dataset/generado/paciente4/array_Ytest.npy', 'wb') as f:\n",
    "    np.save(f, array_Ytest)\n",
    "len(array_Ytest)"
   ]
  }
 ],
 "metadata": {
  "accelerator": "GPU",
  "colab": {
   "collapsed_sections": [
    "2787e722",
    "b35a5768",
    "70eb2370",
    "9aae3303",
    "ad3aee1c",
    "c757c150",
    "73821fc8",
    "2240c74e"
   ],
   "machine_shape": "hm",
   "provenance": []
  },
  "gpuClass": "premium",
  "kernelspec": {
   "display_name": "Python 3 (ipykernel)",
   "language": "python",
   "name": "python3"
  },
  "language_info": {
   "codemirror_mode": {
    "name": "ipython",
    "version": 3
   },
   "file_extension": ".py",
   "mimetype": "text/x-python",
   "name": "python",
   "nbconvert_exporter": "python",
   "pygments_lexer": "ipython3",
   "version": "3.10.8"
  }
 },
 "nbformat": 4,
 "nbformat_minor": 5
}
