{
 "cells": [
  {
   "cell_type": "code",
   "execution_count": 1,
   "id": "e65e6717",
   "metadata": {},
   "outputs": [
    {
     "name": "stdout",
     "output_type": "stream",
     "text": [
      "15min\n"
     ]
    }
   ],
   "source": [
    "min=15\n",
    "print(str(min)+'min')"
   ]
  },
  {
   "cell_type": "code",
   "execution_count": 2,
   "id": "34e6836e",
   "metadata": {},
   "outputs": [],
   "source": [
    "import codigo\n",
    "from codigo import utils\n",
    "from codigo import model_utils"
   ]
  },
  {
   "cell_type": "code",
   "execution_count": 3,
   "id": "hollow-quilt",
   "metadata": {
    "id": "hollow-quilt"
   },
   "outputs": [],
   "source": [
    "import pandas as pd\n",
    "import numpy as np\n",
    "pd.set_option('mode.chained_assignment',None)\n",
    "import matplotlib.pyplot as plt\n",
    "import seaborn as sns\n",
    "import math\n",
    "\n",
    "%matplotlib inline"
   ]
  },
  {
   "cell_type": "markdown",
   "id": "continental-fields",
   "metadata": {
    "id": "continental-fields"
   },
   "source": [
    "# Importar Dataset depurado"
   ]
  },
  {
   "cell_type": "code",
   "execution_count": 4,
   "id": "british-begin",
   "metadata": {
    "id": "british-begin"
   },
   "outputs": [],
   "source": [
    "df_Inicial = pd.read_csv(r'dataset/generado/datasetDepurado.csv')"
   ]
  },
  {
   "cell_type": "markdown",
   "id": "industrial-begin",
   "metadata": {
    "id": "industrial-begin"
   },
   "source": [
    "# Revisamos las columnas que contiene el Dataset"
   ]
  },
  {
   "cell_type": "code",
   "execution_count": 5,
   "id": "d1d3ab50",
   "metadata": {
    "colab": {
     "base_uri": "https://localhost:8080/",
     "height": 206
    },
    "id": "d1d3ab50",
    "outputId": "49e6be97-4bd0-4d1b-ef49-5d414f94cbad"
   },
   "outputs": [
    {
     "data": {
      "text/html": [
       "<div>\n",
       "<style scoped>\n",
       "    .dataframe tbody tr th:only-of-type {\n",
       "        vertical-align: middle;\n",
       "    }\n",
       "\n",
       "    .dataframe tbody tr th {\n",
       "        vertical-align: top;\n",
       "    }\n",
       "\n",
       "    .dataframe thead th {\n",
       "        text-align: right;\n",
       "    }\n",
       "</style>\n",
       "<table border=\"1\" class=\"dataframe\">\n",
       "  <thead>\n",
       "    <tr style=\"text-align: right;\">\n",
       "      <th></th>\n",
       "      <th>ID</th>\n",
       "      <th>Date</th>\n",
       "      <th>Glucose level</th>\n",
       "    </tr>\n",
       "  </thead>\n",
       "  <tbody>\n",
       "    <tr>\n",
       "      <th>0</th>\n",
       "      <td>LIB193263</td>\n",
       "      <td>2020-06-09 19:08:00</td>\n",
       "      <td>99.0</td>\n",
       "    </tr>\n",
       "    <tr>\n",
       "      <th>1</th>\n",
       "      <td>LIB193263</td>\n",
       "      <td>2020-06-09 19:23:00</td>\n",
       "      <td>92.0</td>\n",
       "    </tr>\n",
       "    <tr>\n",
       "      <th>2</th>\n",
       "      <td>LIB193263</td>\n",
       "      <td>2020-06-09 19:38:00</td>\n",
       "      <td>86.0</td>\n",
       "    </tr>\n",
       "    <tr>\n",
       "      <th>3</th>\n",
       "      <td>LIB193263</td>\n",
       "      <td>2020-06-09 19:53:00</td>\n",
       "      <td>85.0</td>\n",
       "    </tr>\n",
       "    <tr>\n",
       "      <th>4</th>\n",
       "      <td>LIB193263</td>\n",
       "      <td>2020-06-09 20:08:00</td>\n",
       "      <td>85.0</td>\n",
       "    </tr>\n",
       "  </tbody>\n",
       "</table>\n",
       "</div>"
      ],
      "text/plain": [
       "          ID                 Date  Glucose level\n",
       "0  LIB193263  2020-06-09 19:08:00           99.0\n",
       "1  LIB193263  2020-06-09 19:23:00           92.0\n",
       "2  LIB193263  2020-06-09 19:38:00           86.0\n",
       "3  LIB193263  2020-06-09 19:53:00           85.0\n",
       "4  LIB193263  2020-06-09 20:08:00           85.0"
      ]
     },
     "execution_count": 5,
     "metadata": {},
     "output_type": "execute_result"
    }
   ],
   "source": [
    "df_Inicial.head()"
   ]
  },
  {
   "cell_type": "code",
   "execution_count": 6,
   "id": "streaming-hometown",
   "metadata": {
    "colab": {
     "base_uri": "https://localhost:8080/"
    },
    "id": "streaming-hometown",
    "outputId": "c46866d8-129f-4b39-bb18-d49145ffd688"
   },
   "outputs": [
    {
     "name": "stdout",
     "output_type": "stream",
     "text": [
      "<class 'pandas.core.frame.DataFrame'>\n",
      "RangeIndex: 2966685 entries, 0 to 2966684\n",
      "Data columns (total 3 columns):\n",
      " #   Column         Dtype  \n",
      "---  ------         -----  \n",
      " 0   ID             object \n",
      " 1   Date           object \n",
      " 2   Glucose level  float64\n",
      "dtypes: float64(1), object(2)\n",
      "memory usage: 67.9+ MB\n"
     ]
    }
   ],
   "source": [
    "df_Inicial.info()"
   ]
  },
  {
   "cell_type": "markdown",
   "id": "7e4a3f46",
   "metadata": {
    "id": "7e4a3f46"
   },
   "source": [
    "### Cambiamos el formato de la columna Date de object a datetime64"
   ]
  },
  {
   "cell_type": "code",
   "execution_count": 7,
   "id": "39a8a155",
   "metadata": {
    "id": "39a8a155"
   },
   "outputs": [],
   "source": [
    "df_Inicial['Date']=pd.to_datetime(df_Inicial['Date'])"
   ]
  },
  {
   "cell_type": "code",
   "execution_count": 8,
   "id": "ffe49771",
   "metadata": {
    "colab": {
     "base_uri": "https://localhost:8080/"
    },
    "id": "ffe49771",
    "outputId": "8f69884b-4662-4aeb-9fa4-9a18e6a358c1"
   },
   "outputs": [
    {
     "name": "stdout",
     "output_type": "stream",
     "text": [
      "<class 'pandas.core.frame.DataFrame'>\n",
      "RangeIndex: 2966685 entries, 0 to 2966684\n",
      "Data columns (total 3 columns):\n",
      " #   Column         Dtype         \n",
      "---  ------         -----         \n",
      " 0   ID             object        \n",
      " 1   Date           datetime64[ns]\n",
      " 2   Glucose level  float64       \n",
      "dtypes: datetime64[ns](1), float64(1), object(1)\n",
      "memory usage: 67.9+ MB\n"
     ]
    }
   ],
   "source": [
    "df_Inicial.info()"
   ]
  },
  {
   "cell_type": "code",
   "execution_count": 9,
   "id": "8c8e9524",
   "metadata": {
    "colab": {
     "base_uri": "https://localhost:8080/"
    },
    "id": "8c8e9524",
    "outputId": "654e7afb-2b62-46fc-83ba-3a0d997cd665"
   },
   "outputs": [
    {
     "data": {
      "text/plain": [
       "Timestamp('2018-01-06 00:31:00')"
      ]
     },
     "execution_count": 9,
     "metadata": {},
     "output_type": "execute_result"
    }
   ],
   "source": [
    "df_Inicial['Date'].min()"
   ]
  },
  {
   "cell_type": "code",
   "execution_count": 10,
   "id": "6d02101d",
   "metadata": {
    "colab": {
     "base_uri": "https://localhost:8080/"
    },
    "id": "6d02101d",
    "outputId": "e0fea2aa-8711-4b84-b3cf-ab98cc8c9d49"
   },
   "outputs": [
    {
     "data": {
      "text/plain": [
       "Timestamp('2022-03-20 23:58:00')"
      ]
     },
     "execution_count": 10,
     "metadata": {},
     "output_type": "execute_result"
    }
   ],
   "source": [
    "df_Inicial['Date'].max()"
   ]
  },
  {
   "cell_type": "code",
   "execution_count": 11,
   "id": "3632926b",
   "metadata": {},
   "outputs": [],
   "source": [
    "df=df_Inicial"
   ]
  },
  {
   "cell_type": "code",
   "execution_count": 12,
   "id": "5cc3c42c",
   "metadata": {},
   "outputs": [],
   "source": [
    "features=['Glucose level','hour','min','pod_id','level_id']"
   ]
  },
  {
   "cell_type": "code",
   "execution_count": 13,
   "id": "07768f68",
   "metadata": {},
   "outputs": [],
   "source": [
    "from pickle import load\n",
    "scalerGlucosa = load(open('dataset/generado/scalerGlucosa.scaler', 'rb'))\n",
    "scalerHours = load(open('dataset/generado/scalerHours.scaler', 'rb'))\n",
    "scalerMin = load(open('dataset/generado/scalerMin.scaler', 'rb'))\n",
    "scalerPodId = load(open('dataset/generado/scalerPodId.scaler', 'rb'))\n",
    "scalerLevelId = load(open('dataset/generado/scalerLevelId.scaler', 'rb'))"
   ]
  },
  {
   "cell_type": "markdown",
   "id": "abd7f65f",
   "metadata": {},
   "source": [
    "# Generación de Dataset General"
   ]
  },
  {
   "cell_type": "code",
   "execution_count": 14,
   "id": "29674926",
   "metadata": {},
   "outputs": [
    {
     "data": {
      "text/html": [
       "<div>\n",
       "<style scoped>\n",
       "    .dataframe tbody tr th:only-of-type {\n",
       "        vertical-align: middle;\n",
       "    }\n",
       "\n",
       "    .dataframe tbody tr th {\n",
       "        vertical-align: top;\n",
       "    }\n",
       "\n",
       "    .dataframe thead th {\n",
       "        text-align: right;\n",
       "    }\n",
       "</style>\n",
       "<table border=\"1\" class=\"dataframe\">\n",
       "  <thead>\n",
       "    <tr style=\"text-align: right;\">\n",
       "      <th></th>\n",
       "      <th>ID</th>\n",
       "    </tr>\n",
       "  </thead>\n",
       "  <tbody>\n",
       "    <tr>\n",
       "      <th>0</th>\n",
       "      <td>LIB193277</td>\n",
       "    </tr>\n",
       "    <tr>\n",
       "      <th>1</th>\n",
       "      <td>LIB193385</td>\n",
       "    </tr>\n",
       "    <tr>\n",
       "      <th>2</th>\n",
       "      <td>LIB193307</td>\n",
       "    </tr>\n",
       "    <tr>\n",
       "      <th>3</th>\n",
       "      <td>LIB193309</td>\n",
       "    </tr>\n",
       "    <tr>\n",
       "      <th>4</th>\n",
       "      <td>LIB193367</td>\n",
       "    </tr>\n",
       "    <tr>\n",
       "      <th>...</th>\n",
       "      <td>...</td>\n",
       "    </tr>\n",
       "    <tr>\n",
       "      <th>100</th>\n",
       "      <td>LIB193282</td>\n",
       "    </tr>\n",
       "    <tr>\n",
       "      <th>101</th>\n",
       "      <td>LIB193366</td>\n",
       "    </tr>\n",
       "    <tr>\n",
       "      <th>102</th>\n",
       "      <td>LIB193398</td>\n",
       "    </tr>\n",
       "    <tr>\n",
       "      <th>103</th>\n",
       "      <td>LIB193283</td>\n",
       "    </tr>\n",
       "    <tr>\n",
       "      <th>104</th>\n",
       "      <td>LIB193365</td>\n",
       "    </tr>\n",
       "  </tbody>\n",
       "</table>\n",
       "<p>105 rows × 1 columns</p>\n",
       "</div>"
      ],
      "text/plain": [
       "            ID\n",
       "0    LIB193277\n",
       "1    LIB193385\n",
       "2    LIB193307\n",
       "3    LIB193309\n",
       "4    LIB193367\n",
       "..         ...\n",
       "100  LIB193282\n",
       "101  LIB193366\n",
       "102  LIB193398\n",
       "103  LIB193283\n",
       "104  LIB193365\n",
       "\n",
       "[105 rows x 1 columns]"
      ]
     },
     "execution_count": 14,
     "metadata": {},
     "output_type": "execute_result"
    }
   ],
   "source": [
    "dfIDPacientesTrain = pd.read_csv(r'dataset/generado/IDs_Train.csv')\n",
    "dfIDPacientesTrain"
   ]
  },
  {
   "cell_type": "code",
   "execution_count": 15,
   "id": "61dda1b6",
   "metadata": {},
   "outputs": [],
   "source": [
    "# Generamos train validation and test \n",
    "# ratio of training data set (96%, 2% for validation and 2% for testing)\n",
    "train_share = 0.96\n",
    "#ration of validation data set (2%)\n",
    "val_share = 0.98 \n",
    "lag=30\n",
    "n_ahead=1\n",
    "\n",
    "dfGen,array_Xtrain,array_Ytrain,array_Xval,array_Yval,array_Xtest,array_Ytest=model_utils.GenDataSet(df,features,dfIDPacientesTrain['ID'],15,train_share,val_share,lag,n_ahead,scalerHours,scalerMin,scalerGlucosa,scalerPodId,scalerLevelId)"
   ]
  },
  {
   "cell_type": "code",
   "execution_count": 16,
   "id": "aff9ee58",
   "metadata": {},
   "outputs": [],
   "source": [
    "with open('dataset/generado/dataset15min/array_Xtrain.npy', 'wb') as f:\n",
    "    np.save(f, array_Xtrain)"
   ]
  },
  {
   "cell_type": "code",
   "execution_count": 17,
   "id": "0237d950",
   "metadata": {},
   "outputs": [
    {
     "data": {
      "text/plain": [
       "4251565"
      ]
     },
     "execution_count": 17,
     "metadata": {},
     "output_type": "execute_result"
    }
   ],
   "source": [
    "len(array_Ytrain)"
   ]
  },
  {
   "cell_type": "code",
   "execution_count": 18,
   "id": "d0687855",
   "metadata": {},
   "outputs": [],
   "source": [
    "with open('dataset/generado/dataset15min/array_Ytrain.npy', 'wb') as f:\n",
    "    np.save(f, array_Ytrain)"
   ]
  },
  {
   "cell_type": "code",
   "execution_count": 19,
   "id": "1a28e8d9",
   "metadata": {},
   "outputs": [
    {
     "data": {
      "text/plain": [
       "88575"
      ]
     },
     "execution_count": 19,
     "metadata": {},
     "output_type": "execute_result"
    }
   ],
   "source": [
    "len(array_Xval)"
   ]
  },
  {
   "cell_type": "code",
   "execution_count": 20,
   "id": "6c2aea46",
   "metadata": {},
   "outputs": [],
   "source": [
    "with open('dataset/generado/dataset15min/array_Xval.npy', 'wb') as f:\n",
    "    np.save(f, array_Xval)"
   ]
  },
  {
   "cell_type": "code",
   "execution_count": 21,
   "id": "4d1f68f1",
   "metadata": {},
   "outputs": [
    {
     "data": {
      "text/plain": [
       "88575"
      ]
     },
     "execution_count": 21,
     "metadata": {},
     "output_type": "execute_result"
    }
   ],
   "source": [
    "len(array_Yval)"
   ]
  },
  {
   "cell_type": "code",
   "execution_count": 22,
   "id": "28e4beed",
   "metadata": {},
   "outputs": [],
   "source": [
    "with open('dataset/generado/dataset15min/array_Yval.npy', 'wb') as f:\n",
    "    np.save(f, array_Yval)"
   ]
  },
  {
   "cell_type": "code",
   "execution_count": 23,
   "id": "ae0f041b",
   "metadata": {},
   "outputs": [
    {
     "data": {
      "text/plain": [
       "88632"
      ]
     },
     "execution_count": 23,
     "metadata": {},
     "output_type": "execute_result"
    }
   ],
   "source": [
    "len(array_Xtest)"
   ]
  },
  {
   "cell_type": "code",
   "execution_count": 24,
   "id": "69a4944a",
   "metadata": {},
   "outputs": [],
   "source": [
    "with open('dataset/generado/dataset15min/array_Xtest.npy', 'wb') as f:\n",
    "    np.save(f, array_Xtest)"
   ]
  },
  {
   "cell_type": "code",
   "execution_count": 25,
   "id": "6dea077c",
   "metadata": {},
   "outputs": [
    {
     "data": {
      "text/plain": [
       "88632"
      ]
     },
     "execution_count": 25,
     "metadata": {},
     "output_type": "execute_result"
    }
   ],
   "source": [
    "len(array_Ytest)"
   ]
  },
  {
   "cell_type": "code",
   "execution_count": 26,
   "id": "4aafdc2c",
   "metadata": {},
   "outputs": [],
   "source": [
    "with open('dataset/generado/dataset15min/array_Ytest.npy', 'wb') as f:\n",
    "    np.save(f, array_Ytest)"
   ]
  },
  {
   "cell_type": "code",
   "execution_count": 33,
   "id": "5a0382a8",
   "metadata": {},
   "outputs": [],
   "source": [
    "array_Ytrain_scaled=scalerGlucosa.inverse_transform(array_Ytrain)"
   ]
  },
  {
   "cell_type": "code",
   "execution_count": 38,
   "id": "23374336",
   "metadata": {},
   "outputs": [
    {
     "data": {
      "image/png": "[encoded data removed]",
      "text/plain": [
       "<Figure size 1000x400 with 1 Axes>"
      ]
     },
     "metadata": {},
     "output_type": "display_data"
    }
   ],
   "source": [
    "df_Ytrain_scaled = pd.DataFrame(array_Ytrain_scaled, columns=['Glucose level']) \n",
    "df_Ytrain_scaled['Nivel'] = df_Ytrain_scaled['Glucose level'].apply(utils.label_LevelBG) \n",
    "df_Ytrain_scaled['Nivel'].value_counts().plot.pie(title='Distribución de Niveles de Glucosa',y='Nivel',legend=False,autopct='%1.1f%%',figsize=(10, 4))\n",
    "plt.show()"
   ]
  },
  {
   "cell_type": "code",
   "execution_count": 39,
   "id": "6b25ce9b",
   "metadata": {},
   "outputs": [
    {
     "data": {
      "text/plain": [
       "normal           2713056\n",
       "hyperglycemia    1363668\n",
       "hypoglycemia      174841\n",
       "Name: Nivel, dtype: int64"
      ]
     },
     "execution_count": 39,
     "metadata": {},
     "output_type": "execute_result"
    }
   ],
   "source": [
    "df_Ytrain_scaled['Nivel'].value_counts()"
   ]
  },
  {
   "cell_type": "code",
   "execution_count": 37,
   "id": "32484580",
   "metadata": {},
   "outputs": [
    {
     "data": {
      "text/html": [
       "<div>\n",
       "<style scoped>\n",
       "    .dataframe tbody tr th:only-of-type {\n",
       "        vertical-align: middle;\n",
       "    }\n",
       "\n",
       "    .dataframe tbody tr th {\n",
       "        vertical-align: top;\n",
       "    }\n",
       "\n",
       "    .dataframe thead th {\n",
       "        text-align: right;\n",
       "    }\n",
       "</style>\n",
       "<table border=\"1\" class=\"dataframe\">\n",
       "  <thead>\n",
       "    <tr style=\"text-align: right;\">\n",
       "      <th></th>\n",
       "      <th>Glucose level</th>\n",
       "    </tr>\n",
       "  </thead>\n",
       "  <tbody>\n",
       "    <tr>\n",
       "      <th>0</th>\n",
       "      <td>203.0</td>\n",
       "    </tr>\n",
       "    <tr>\n",
       "      <th>1</th>\n",
       "      <td>197.0</td>\n",
       "    </tr>\n",
       "    <tr>\n",
       "      <th>2</th>\n",
       "      <td>205.0</td>\n",
       "    </tr>\n",
       "    <tr>\n",
       "      <th>3</th>\n",
       "      <td>209.0</td>\n",
       "    </tr>\n",
       "    <tr>\n",
       "      <th>4</th>\n",
       "      <td>204.0</td>\n",
       "    </tr>\n",
       "    <tr>\n",
       "      <th>...</th>\n",
       "      <td>...</td>\n",
       "    </tr>\n",
       "    <tr>\n",
       "      <th>4251560</th>\n",
       "      <td>171.0</td>\n",
       "    </tr>\n",
       "    <tr>\n",
       "      <th>4251561</th>\n",
       "      <td>176.0</td>\n",
       "    </tr>\n",
       "    <tr>\n",
       "      <th>4251562</th>\n",
       "      <td>181.0</td>\n",
       "    </tr>\n",
       "    <tr>\n",
       "      <th>4251563</th>\n",
       "      <td>188.0</td>\n",
       "    </tr>\n",
       "    <tr>\n",
       "      <th>4251564</th>\n",
       "      <td>195.0</td>\n",
       "    </tr>\n",
       "  </tbody>\n",
       "</table>\n",
       "<p>4251565 rows × 1 columns</p>\n",
       "</div>"
      ],
      "text/plain": [
       "         Glucose level\n",
       "0                203.0\n",
       "1                197.0\n",
       "2                205.0\n",
       "3                209.0\n",
       "4                204.0\n",
       "...                ...\n",
       "4251560          171.0\n",
       "4251561          176.0\n",
       "4251562          181.0\n",
       "4251563          188.0\n",
       "4251564          195.0\n",
       "\n",
       "[4251565 rows x 1 columns]"
      ]
     },
     "execution_count": 37,
     "metadata": {},
     "output_type": "execute_result"
    }
   ],
   "source": [
    "df_Y_scaled"
   ]
  },
  {
   "cell_type": "code",
   "execution_count": 40,
   "id": "6f93bb48",
   "metadata": {},
   "outputs": [
    {
     "data": {
      "image/png": "[encoded data removed]",
      "text/plain": [
       "<Figure size 1000x400 with 1 Axes>"
      ]
     },
     "metadata": {},
     "output_type": "display_data"
    }
   ],
   "source": [
    "array_Yval_scaled=scalerGlucosa.inverse_transform(array_Yval)\n",
    "\n",
    "df_Yval_scaled = pd.DataFrame(array_Yval_scaled, columns=['Glucose level']) \n",
    "df_Yval_scaled['Nivel'] = df_Yval_scaled['Glucose level'].apply(utils.label_LevelBG) \n",
    "df_Yval_scaled['Nivel'].value_counts().plot.pie(title='Distribución de Niveles de Glucosa',y='Nivel',legend=False,autopct='%1.1f%%',figsize=(10, 4))\n",
    "plt.show()"
   ]
  },
  {
   "cell_type": "code",
   "execution_count": 43,
   "id": "b431b7a0",
   "metadata": {},
   "outputs": [
    {
     "data": {
      "text/plain": [
       "normal           57819\n",
       "hyperglycemia    26745\n",
       "hypoglycemia      4011\n",
       "Name: Nivel, dtype: int64"
      ]
     },
     "execution_count": 43,
     "metadata": {},
     "output_type": "execute_result"
    }
   ],
   "source": [
    "df_Yval_scaled['Nivel'].value_counts()"
   ]
  },
  {
   "cell_type": "code",
   "execution_count": 41,
   "id": "04f3ebd0",
   "metadata": {},
   "outputs": [
    {
     "data": {
      "image/png": "[encoded data removed]",
      "text/plain": [
       "<Figure size 1000x400 with 1 Axes>"
      ]
     },
     "metadata": {},
     "output_type": "display_data"
    }
   ],
   "source": [
    "array_Ytest_scaled=scalerGlucosa.inverse_transform(array_Ytest)\n",
    "\n",
    "df_Ytest_scaled = pd.DataFrame(array_Ytest_scaled, columns=['Glucose level']) \n",
    "df_Ytest_scaled['Nivel'] = df_Ytest_scaled['Glucose level'].apply(utils.label_LevelBG) \n",
    "df_Ytest_scaled['Nivel'].value_counts().plot.pie(title='Distribución de Niveles de Glucosa',y='Nivel',legend=False,autopct='%1.1f%%',figsize=(10, 4))\n",
    "plt.show()"
   ]
  },
  {
   "cell_type": "code",
   "execution_count": 42,
   "id": "aed84eb9",
   "metadata": {},
   "outputs": [
    {
     "data": {
      "text/plain": [
       "normal           58380\n",
       "hyperglycemia    26856\n",
       "hypoglycemia      3396\n",
       "Name: Nivel, dtype: int64"
      ]
     },
     "execution_count": 42,
     "metadata": {},
     "output_type": "execute_result"
    }
   ],
   "source": [
    "df_Ytest_scaled['Nivel'].value_counts()"
   ]
  },
  {
   "cell_type": "code",
   "execution_count": null,
   "id": "e11c19d5",
   "metadata": {},
   "outputs": [],
   "source": []
  }
 ],
 "metadata": {
  "accelerator": "GPU",
  "colab": {
   "collapsed_sections": [
    "2787e722",
    "b35a5768",
    "70eb2370",
    "9aae3303",
    "ad3aee1c",
    "c757c150",
    "73821fc8",
    "2240c74e"
   ],
   "machine_shape": "hm",
   "provenance": []
  },
  "gpuClass": "premium",
  "kernelspec": {
   "display_name": "Python 3 (ipykernel)",
   "language": "python",
   "name": "python3"
  },
  "language_info": {
   "codemirror_mode": {
    "name": "ipython",
    "version": 3
   },
   "file_extension": ".py",
   "mimetype": "text/x-python",
   "name": "python",
   "nbconvert_exporter": "python",
   "pygments_lexer": "ipython3",
   "version": "3.9.13"
  }
 },
 "nbformat": 4,
 "nbformat_minor": 5
}
