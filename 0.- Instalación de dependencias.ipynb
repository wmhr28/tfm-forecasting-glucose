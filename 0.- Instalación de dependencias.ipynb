{
 "cells": [
  {
   "cell_type": "code",
   "execution_count": 4,
   "id": "d4d6fe6f",
   "metadata": {},
   "outputs": [],
   "source": [
    "from platform import python_version"
   ]
  },
  {
   "cell_type": "code",
   "execution_count": 5,
   "id": "f2769f1d",
   "metadata": {},
   "outputs": [
    {
     "data": {
      "text/plain": [
       "'3.10.8'"
      ]
     },
     "execution_count": 5,
     "metadata": {},
     "output_type": "execute_result"
    }
   ],
   "source": [
    "python_version()"
   ]
  },
  {
   "cell_type": "code",
   "execution_count": 1,
   "id": "db04ffb4",
   "metadata": {},
   "outputs": [
    {
     "name": "stdout",
     "output_type": "stream",
     "text": [
      "Requirement already satisfied: pandas in c:\\users\\wm_herrera\\anaconda3\\envs\\tensorflow_keras\\lib\\site-packages (1.5.2)\n",
      "Requirement already satisfied: python-dateutil>=2.8.1 in c:\\users\\wm_herrera\\anaconda3\\envs\\tensorflow_keras\\lib\\site-packages (from pandas) (2.8.2)\n",
      "Requirement already satisfied: numpy>=1.21.0 in c:\\users\\wm_herrera\\anaconda3\\envs\\tensorflow_keras\\lib\\site-packages (from pandas) (1.24.1)\n",
      "Requirement already satisfied: pytz>=2020.1 in c:\\users\\wm_herrera\\anaconda3\\envs\\tensorflow_keras\\lib\\site-packages (from pandas) (2022.7)\n",
      "Requirement already satisfied: six>=1.5 in c:\\users\\wm_herrera\\anaconda3\\envs\\tensorflow_keras\\lib\\site-packages (from python-dateutil>=2.8.1->pandas) (1.16.0)\n"
     ]
    }
   ],
   "source": [
    "!pip install pandas"
   ]
  },
  {
   "cell_type": "code",
   "execution_count": 6,
   "id": "0ee9e127",
   "metadata": {},
   "outputs": [
    {
     "name": "stdout",
     "output_type": "stream",
     "text": [
      "Collecting missingno\n",
      "  Using cached missingno-0.5.1-py3-none-any.whl (8.7 kB)\n",
      "Collecting matplotlib\n",
      "  Downloading matplotlib-3.6.3-cp310-cp310-win_amd64.whl (7.2 MB)\n",
      "     ---------------------------------------- 7.2/7.2 MB 6.7 MB/s eta 0:00:00\n",
      "Collecting seaborn\n",
      "  Downloading seaborn-0.12.2-py3-none-any.whl (293 kB)\n",
      "     -------------------------------------- 293.3/293.3 kB 3.6 MB/s eta 0:00:00\n",
      "Collecting scipy\n",
      "  Downloading scipy-1.10.0-cp310-cp310-win_amd64.whl (42.5 MB)\n",
      "     ---------------------------------------- 42.5/42.5 MB 8.2 MB/s eta 0:00:00\n",
      "Requirement already satisfied: numpy in c:\\users\\wm_herrera\\anaconda3\\envs\\tensorflow_keras\\lib\\site-packages (from missingno) (1.24.1)\n",
      "Collecting cycler>=0.10\n",
      "  Downloading cycler-0.11.0-py3-none-any.whl (6.4 kB)\n",
      "Collecting kiwisolver>=1.0.1\n",
      "  Downloading kiwisolver-1.4.4-cp310-cp310-win_amd64.whl (55 kB)\n",
      "     -------------------------------------- 55.3/55.3 kB 577.2 kB/s eta 0:00:00\n",
      "Requirement already satisfied: python-dateutil>=2.7 in c:\\users\\wm_herrera\\anaconda3\\envs\\tensorflow_keras\\lib\\site-packages (from matplotlib->missingno) (2.8.2)\n",
      "Requirement already satisfied: packaging>=20.0 in c:\\users\\wm_herrera\\anaconda3\\envs\\tensorflow_keras\\lib\\site-packages (from matplotlib->missingno) (22.0)\n",
      "Collecting contourpy>=1.0.1\n",
      "  Downloading contourpy-1.0.6-cp310-cp310-win_amd64.whl (163 kB)\n",
      "     -------------------------------------- 163.6/163.6 kB 2.4 MB/s eta 0:00:00\n",
      "Collecting fonttools>=4.22.0\n",
      "  Downloading fonttools-4.38.0-py3-none-any.whl (965 kB)\n",
      "     -------------------------------------- 965.4/965.4 kB 6.8 MB/s eta 0:00:00\n",
      "Collecting pillow>=6.2.0\n",
      "  Downloading Pillow-9.4.0-cp310-cp310-win_amd64.whl (2.5 MB)\n",
      "     ---------------------------------------- 2.5/2.5 MB 8.8 MB/s eta 0:00:00\n",
      "Collecting pyparsing>=2.2.1\n",
      "  Downloading pyparsing-3.0.9-py3-none-any.whl (98 kB)\n",
      "     ---------------------------------------- 98.3/98.3 kB 1.4 MB/s eta 0:00:00\n",
      "Requirement already satisfied: pandas>=0.25 in c:\\users\\wm_herrera\\anaconda3\\envs\\tensorflow_keras\\lib\\site-packages (from seaborn->missingno) (1.5.2)\n",
      "Requirement already satisfied: pytz>=2020.1 in c:\\users\\wm_herrera\\anaconda3\\envs\\tensorflow_keras\\lib\\site-packages (from pandas>=0.25->seaborn->missingno) (2022.7)\n",
      "Requirement already satisfied: six>=1.5 in c:\\users\\wm_herrera\\anaconda3\\envs\\tensorflow_keras\\lib\\site-packages (from python-dateutil>=2.7->matplotlib->missingno) (1.16.0)\n",
      "Installing collected packages: scipy, pyparsing, pillow, kiwisolver, fonttools, cycler, contourpy, matplotlib, seaborn, missingno\n",
      "Successfully installed contourpy-1.0.6 cycler-0.11.0 fonttools-4.38.0 kiwisolver-1.4.4 matplotlib-3.6.3 missingno-0.5.1 pillow-9.4.0 pyparsing-3.0.9 scipy-1.10.0 seaborn-0.12.2\n"
     ]
    }
   ],
   "source": [
    "!pip install missingno"
   ]
  },
  {
   "cell_type": "code",
   "execution_count": 7,
   "id": "df1bc88f",
   "metadata": {},
   "outputs": [
    {
     "name": "stdout",
     "output_type": "stream",
     "text": [
      "Collecting pandas-profiling\n",
      "  Downloading pandas_profiling-3.6.2-py2.py3-none-any.whl (328 kB)\n",
      "     -------------------------------------- 328.7/328.7 kB 1.1 MB/s eta 0:00:00\n",
      "Collecting htmlmin==0.1.12\n",
      "  Using cached htmlmin-0.1.12.tar.gz (19 kB)\n",
      "  Preparing metadata (setup.py): started\n",
      "  Preparing metadata (setup.py): finished with status 'done'\n",
      "Requirement already satisfied: jinja2<3.2,>=2.11.1 in c:\\users\\wm_herrera\\anaconda3\\envs\\tensorflow_keras\\lib\\site-packages (from pandas-profiling) (3.1.2)\n",
      "Collecting tqdm<4.65,>=4.48.2\n",
      "  Downloading tqdm-4.64.1-py2.py3-none-any.whl (78 kB)\n",
      "     ---------------------------------------- 78.5/78.5 kB 4.5 MB/s eta 0:00:00\n",
      "Collecting statsmodels<0.14,>=0.13.2\n",
      "  Downloading statsmodels-0.13.5-cp310-cp310-win_amd64.whl (9.1 MB)\n",
      "     ---------------------------------------- 9.1/9.1 MB 4.1 MB/s eta 0:00:00\n",
      "Collecting visions[type_image_path]==0.7.5\n",
      "  Using cached visions-0.7.5-py3-none-any.whl (102 kB)\n",
      "Collecting typeguard<2.14,>=2.13.2\n",
      "  Downloading typeguard-2.13.3-py3-none-any.whl (17 kB)\n",
      "Collecting requests<2.29,>=2.24.0\n",
      "  Downloading requests-2.28.2-py3-none-any.whl (62 kB)\n",
      "     ---------------------------------------- 62.8/62.8 kB 3.5 MB/s eta 0:00:00\n",
      "Requirement already satisfied: pandas!=1.4.0,<1.6,>1.1 in c:\\users\\wm_herrera\\anaconda3\\envs\\tensorflow_keras\\lib\\site-packages (from pandas-profiling) (1.5.2)\n",
      "Collecting PyYAML<6.1,>=5.0.0\n",
      "  Downloading PyYAML-6.0-cp310-cp310-win_amd64.whl (151 kB)\n",
      "     -------------------------------------- 151.7/151.7 kB 3.1 MB/s eta 0:00:00\n",
      "Collecting scipy<1.10,>=1.4.1\n",
      "  Downloading scipy-1.9.3-cp310-cp310-win_amd64.whl (40.1 MB)\n",
      "     ---------------------------------------- 40.1/40.1 MB 8.0 MB/s eta 0:00:00\n",
      "Collecting numpy<1.24,>=1.16.0\n",
      "  Downloading numpy-1.23.5-cp310-cp310-win_amd64.whl (14.6 MB)\n",
      "     ---------------------------------------- 14.6/14.6 MB 9.0 MB/s eta 0:00:00\n",
      "Requirement already satisfied: matplotlib<3.7,>=3.2 in c:\\users\\wm_herrera\\anaconda3\\envs\\tensorflow_keras\\lib\\site-packages (from pandas-profiling) (3.6.3)\n",
      "Requirement already satisfied: seaborn<0.13,>=0.10.1 in c:\\users\\wm_herrera\\anaconda3\\envs\\tensorflow_keras\\lib\\site-packages (from pandas-profiling) (0.12.2)\n",
      "Collecting phik<0.13,>=0.11.1\n",
      "  Downloading phik-0.12.3-cp310-cp310-win_amd64.whl (663 kB)\n",
      "     ------------------------------------- 663.4/663.4 kB 20.4 MB/s eta 0:00:00\n",
      "Collecting multimethod<1.10,>=1.4\n",
      "  Downloading multimethod-1.9.1-py3-none-any.whl (10 kB)\n",
      "Collecting pydantic<1.11,>=1.8.1\n",
      "  Downloading pydantic-1.10.4-cp310-cp310-win_amd64.whl (2.1 MB)\n",
      "     ---------------------------------------- 2.1/2.1 MB 5.8 MB/s eta 0:00:00\n",
      "Requirement already satisfied: attrs>=19.3.0 in c:\\users\\wm_herrera\\anaconda3\\envs\\tensorflow_keras\\lib\\site-packages (from visions[type_image_path]==0.7.5->pandas-profiling) (22.1.0)\n",
      "Collecting tangled-up-in-unicode>=0.0.4\n",
      "  Using cached tangled_up_in_unicode-0.2.0-py3-none-any.whl (4.7 MB)\n",
      "Collecting networkx>=2.4\n",
      "  Downloading networkx-3.0-py3-none-any.whl (2.0 MB)\n",
      "     ---------------------------------------- 2.0/2.0 MB 7.7 MB/s eta 0:00:00\n",
      "Requirement already satisfied: Pillow in c:\\users\\wm_herrera\\anaconda3\\envs\\tensorflow_keras\\lib\\site-packages (from visions[type_image_path]==0.7.5->pandas-profiling) (9.4.0)\n",
      "Collecting imagehash\n",
      "  Using cached ImageHash-4.3.1-py2.py3-none-any.whl (296 kB)\n",
      "Requirement already satisfied: MarkupSafe>=2.0 in c:\\users\\wm_herrera\\anaconda3\\envs\\tensorflow_keras\\lib\\site-packages (from jinja2<3.2,>=2.11.1->pandas-profiling) (2.1.1)\n",
      "Requirement already satisfied: packaging>=20.0 in c:\\users\\wm_herrera\\anaconda3\\envs\\tensorflow_keras\\lib\\site-packages (from matplotlib<3.7,>=3.2->pandas-profiling) (22.0)\n",
      "Requirement already satisfied: fonttools>=4.22.0 in c:\\users\\wm_herrera\\anaconda3\\envs\\tensorflow_keras\\lib\\site-packages (from matplotlib<3.7,>=3.2->pandas-profiling) (4.38.0)\n",
      "Requirement already satisfied: python-dateutil>=2.7 in c:\\users\\wm_herrera\\anaconda3\\envs\\tensorflow_keras\\lib\\site-packages (from matplotlib<3.7,>=3.2->pandas-profiling) (2.8.2)\n",
      "Requirement already satisfied: kiwisolver>=1.0.1 in c:\\users\\wm_herrera\\anaconda3\\envs\\tensorflow_keras\\lib\\site-packages (from matplotlib<3.7,>=3.2->pandas-profiling) (1.4.4)\n",
      "Requirement already satisfied: pyparsing>=2.2.1 in c:\\users\\wm_herrera\\anaconda3\\envs\\tensorflow_keras\\lib\\site-packages (from matplotlib<3.7,>=3.2->pandas-profiling) (3.0.9)\n",
      "Requirement already satisfied: contourpy>=1.0.1 in c:\\users\\wm_herrera\\anaconda3\\envs\\tensorflow_keras\\lib\\site-packages (from matplotlib<3.7,>=3.2->pandas-profiling) (1.0.6)\n",
      "Requirement already satisfied: cycler>=0.10 in c:\\users\\wm_herrera\\anaconda3\\envs\\tensorflow_keras\\lib\\site-packages (from matplotlib<3.7,>=3.2->pandas-profiling) (0.11.0)\n",
      "Requirement already satisfied: pytz>=2020.1 in c:\\users\\wm_herrera\\anaconda3\\envs\\tensorflow_keras\\lib\\site-packages (from pandas!=1.4.0,<1.6,>1.1->pandas-profiling) (2022.7)\n",
      "Collecting joblib>=0.14.1\n",
      "  Using cached joblib-1.2.0-py3-none-any.whl (297 kB)\n",
      "Requirement already satisfied: typing-extensions>=4.2.0 in c:\\users\\wm_herrera\\anaconda3\\envs\\tensorflow_keras\\lib\\site-packages (from pydantic<1.11,>=1.8.1->pandas-profiling) (4.4.0)\n",
      "Collecting urllib3<1.27,>=1.21.1\n",
      "  Downloading urllib3-1.26.14-py2.py3-none-any.whl (140 kB)\n",
      "     -------------------------------------- 140.6/140.6 kB 1.7 MB/s eta 0:00:00\n",
      "Requirement already satisfied: idna<4,>=2.5 in c:\\users\\wm_herrera\\anaconda3\\envs\\tensorflow_keras\\lib\\site-packages (from requests<2.29,>=2.24.0->pandas-profiling) (3.4)\n",
      "Requirement already satisfied: certifi>=2017.4.17 in c:\\users\\wm_herrera\\anaconda3\\envs\\tensorflow_keras\\lib\\site-packages (from requests<2.29,>=2.24.0->pandas-profiling) (2022.12.7)\n",
      "Collecting charset-normalizer<4,>=2\n",
      "  Downloading charset_normalizer-3.0.1-cp310-cp310-win_amd64.whl (96 kB)\n",
      "     ---------------------------------------- 96.5/96.5 kB 1.4 MB/s eta 0:00:00\n",
      "Collecting patsy>=0.5.2\n",
      "  Downloading patsy-0.5.3-py2.py3-none-any.whl (233 kB)\n",
      "     -------------------------------------- 233.8/233.8 kB 2.9 MB/s eta 0:00:00\n",
      "Requirement already satisfied: colorama in c:\\users\\wm_herrera\\anaconda3\\envs\\tensorflow_keras\\lib\\site-packages (from tqdm<4.65,>=4.48.2->pandas-profiling) (0.4.6)\n",
      "Requirement already satisfied: six in c:\\users\\wm_herrera\\anaconda3\\envs\\tensorflow_keras\\lib\\site-packages (from patsy>=0.5.2->statsmodels<0.14,>=0.13.2->pandas-profiling) (1.16.0)\n",
      "Collecting PyWavelets\n",
      "  Downloading PyWavelets-1.4.1-cp310-cp310-win_amd64.whl (4.2 MB)\n",
      "     ---------------------------------------- 4.2/4.2 MB 7.2 MB/s eta 0:00:00\n",
      "Building wheels for collected packages: htmlmin\n",
      "  Building wheel for htmlmin (setup.py): started\n",
      "  Building wheel for htmlmin (setup.py): finished with status 'done'\n",
      "  Created wheel for htmlmin: filename=htmlmin-0.1.12-py3-none-any.whl size=27082 sha256=17ae62b286e64945f90fc05ad2e9ece170ac8f0f73bbd5ebdaee7ebe26b46fb6\n",
      "  Stored in directory: c:\\users\\wm_herrera\\appdata\\local\\pip\\cache\\wheels\\ea\\1c\\a8\\5cec3479cd45136a7111e2d96aac299b219b199c411665250b\n",
      "Successfully built htmlmin\n",
      "Installing collected packages: htmlmin, charset-normalizer, urllib3, typeguard, tqdm, tangled-up-in-unicode, PyYAML, pydantic, numpy, networkx, multimethod, joblib, scipy, requests, PyWavelets, patsy, visions, statsmodels, imagehash, phik, pandas-profiling\n",
      "  Attempting uninstall: numpy\n",
      "    Found existing installation: numpy 1.24.1\n",
      "    Uninstalling numpy-1.24.1:\n",
      "      Successfully uninstalled numpy-1.24.1\n"
     ]
    },
    {
     "name": "stderr",
     "output_type": "stream",
     "text": [
      "ERROR: Could not install packages due to an OSError: [WinError 5] Access is denied: 'C:\\\\Users\\\\wm_herrera\\\\Anaconda3\\\\envs\\\\tensorflow_keras\\\\Lib\\\\site-packages\\\\~umpy\\\\.libs\\\\libopenblas64__v0.3.21-gcc_10_3_0.dll'\n",
      "Consider using the `--user` option or check the permissions.\n",
      "\n"
     ]
    }
   ],
   "source": [
    "!pip install pandas-profiling"
   ]
  },
  {
   "cell_type": "code",
   "execution_count": null,
   "id": "bb3cb23f",
   "metadata": {},
   "outputs": [],
   "source": [
    "!pip install tensorflow"
   ]
  }
 ],
 "metadata": {
  "kernelspec": {
   "display_name": "Python 3 (ipykernel)",
   "language": "python",
   "name": "python3"
  },
  "language_info": {
   "codemirror_mode": {
    "name": "ipython",
    "version": 3
   },
   "file_extension": ".py",
   "mimetype": "text/x-python",
   "name": "python",
   "nbconvert_exporter": "python",
   "pygments_lexer": "ipython3",
   "version": "3.10.8"
  }
 },
 "nbformat": 4,
 "nbformat_minor": 5
}
