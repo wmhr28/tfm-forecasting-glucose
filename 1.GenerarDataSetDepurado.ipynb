{
 "cells": [
  {
   "cell_type": "code",
   "execution_count": 1,
   "id": "hollow-quilt",
   "metadata": {
    "id": "hollow-quilt"
   },
   "outputs": [],
   "source": [
    "import pandas as pd\n",
    "import numpy as np\n",
    "pd.set_option('mode.chained_assignment',None)"
   ]
  },
  {
   "cell_type": "markdown",
   "id": "continental-fields",
   "metadata": {
    "id": "continental-fields"
   },
   "source": [
    "# Importar Dataset de Inicial"
   ]
  },
  {
   "cell_type": "code",
   "execution_count": 2,
   "id": "british-begin",
   "metadata": {
    "id": "british-begin"
   },
   "outputs": [],
   "source": [
    "df_Inicial = pd.read_csv(r'dataset/FreeStyle.csv')"
   ]
  },
  {
   "cell_type": "markdown",
   "id": "industrial-begin",
   "metadata": {
    "id": "industrial-begin"
   },
   "source": [
    "# Revisamos las columnas que contiene el Dataset"
   ]
  },
  {
   "cell_type": "code",
   "execution_count": 3,
   "id": "d1d3ab50",
   "metadata": {
    "colab": {
     "base_uri": "https://localhost:8080/",
     "height": 206
    },
    "id": "d1d3ab50",
    "outputId": "49e6be97-4bd0-4d1b-ef49-5d414f94cbad"
   },
   "outputs": [
    {
     "data": {
      "text/html": [
       "<div>\n",
       "<style scoped>\n",
       "    .dataframe tbody tr th:only-of-type {\n",
       "        vertical-align: middle;\n",
       "    }\n",
       "\n",
       "    .dataframe tbody tr th {\n",
       "        vertical-align: top;\n",
       "    }\n",
       "\n",
       "    .dataframe thead th {\n",
       "        text-align: right;\n",
       "    }\n",
       "</style>\n",
       "<table border=\"1\" class=\"dataframe\">\n",
       "  <thead>\n",
       "    <tr style=\"text-align: right;\">\n",
       "      <th></th>\n",
       "      <th>ID</th>\n",
       "      <th>Date</th>\n",
       "      <th>Glucose level</th>\n",
       "    </tr>\n",
       "  </thead>\n",
       "  <tbody>\n",
       "    <tr>\n",
       "      <th>0</th>\n",
       "      <td>LIB193263</td>\n",
       "      <td>2020-06-09 19:08:00</td>\n",
       "      <td>99.0</td>\n",
       "    </tr>\n",
       "    <tr>\n",
       "      <th>1</th>\n",
       "      <td>LIB193263</td>\n",
       "      <td>2020-06-09 19:23:00</td>\n",
       "      <td>92.0</td>\n",
       "    </tr>\n",
       "    <tr>\n",
       "      <th>2</th>\n",
       "      <td>LIB193263</td>\n",
       "      <td>2020-06-09 19:38:00</td>\n",
       "      <td>86.0</td>\n",
       "    </tr>\n",
       "    <tr>\n",
       "      <th>3</th>\n",
       "      <td>LIB193263</td>\n",
       "      <td>2020-06-09 19:53:00</td>\n",
       "      <td>85.0</td>\n",
       "    </tr>\n",
       "    <tr>\n",
       "      <th>4</th>\n",
       "      <td>LIB193263</td>\n",
       "      <td>2020-06-09 20:08:00</td>\n",
       "      <td>85.0</td>\n",
       "    </tr>\n",
       "  </tbody>\n",
       "</table>\n",
       "</div>"
      ],
      "text/plain": [
       "          ID                 Date  Glucose level\n",
       "0  LIB193263  2020-06-09 19:08:00           99.0\n",
       "1  LIB193263  2020-06-09 19:23:00           92.0\n",
       "2  LIB193263  2020-06-09 19:38:00           86.0\n",
       "3  LIB193263  2020-06-09 19:53:00           85.0\n",
       "4  LIB193263  2020-06-09 20:08:00           85.0"
      ]
     },
     "execution_count": 3,
     "metadata": {},
     "output_type": "execute_result"
    }
   ],
   "source": [
    "df_Inicial.head()"
   ]
  },
  {
   "cell_type": "code",
   "execution_count": 4,
   "id": "streaming-hometown",
   "metadata": {
    "colab": {
     "base_uri": "https://localhost:8080/"
    },
    "id": "streaming-hometown",
    "outputId": "c46866d8-129f-4b39-bb18-d49145ffd688"
   },
   "outputs": [
    {
     "name": "stdout",
     "output_type": "stream",
     "text": [
      "<class 'pandas.core.frame.DataFrame'>\n",
      "RangeIndex: 3000001 entries, 0 to 3000000\n",
      "Data columns (total 3 columns):\n",
      " #   Column         Dtype  \n",
      "---  ------         -----  \n",
      " 0   ID             object \n",
      " 1   Date           object \n",
      " 2   Glucose level  float64\n",
      "dtypes: float64(1), object(2)\n",
      "memory usage: 68.7+ MB\n"
     ]
    }
   ],
   "source": [
    "df_Inicial.info()"
   ]
  },
  {
   "cell_type": "markdown",
   "id": "7e4a3f46",
   "metadata": {
    "id": "7e4a3f46"
   },
   "source": [
    "### Cambiamos el formato de la columna Date de object a datetime64"
   ]
  },
  {
   "cell_type": "code",
   "execution_count": 5,
   "id": "39a8a155",
   "metadata": {
    "id": "39a8a155"
   },
   "outputs": [],
   "source": [
    "df_Inicial['Date']=pd.to_datetime(df_Inicial['Date'])"
   ]
  },
  {
   "cell_type": "code",
   "execution_count": 6,
   "id": "ffe49771",
   "metadata": {
    "colab": {
     "base_uri": "https://localhost:8080/"
    },
    "id": "ffe49771",
    "outputId": "8f69884b-4662-4aeb-9fa4-9a18e6a358c1"
   },
   "outputs": [
    {
     "name": "stdout",
     "output_type": "stream",
     "text": [
      "<class 'pandas.core.frame.DataFrame'>\n",
      "RangeIndex: 3000001 entries, 0 to 3000000\n",
      "Data columns (total 3 columns):\n",
      " #   Column         Dtype         \n",
      "---  ------         -----         \n",
      " 0   ID             object        \n",
      " 1   Date           datetime64[ns]\n",
      " 2   Glucose level  float64       \n",
      "dtypes: datetime64[ns](1), float64(1), object(1)\n",
      "memory usage: 68.7+ MB\n"
     ]
    }
   ],
   "source": [
    "df_Inicial.info()"
   ]
  },
  {
   "cell_type": "code",
   "execution_count": 7,
   "id": "8c8e9524",
   "metadata": {
    "colab": {
     "base_uri": "https://localhost:8080/"
    },
    "id": "8c8e9524",
    "outputId": "654e7afb-2b62-46fc-83ba-3a0d997cd665"
   },
   "outputs": [
    {
     "data": {
      "text/plain": [
       "Timestamp('2016-10-05 08:47:00')"
      ]
     },
     "execution_count": 7,
     "metadata": {},
     "output_type": "execute_result"
    }
   ],
   "source": [
    "df_Inicial['Date'].min()"
   ]
  },
  {
   "cell_type": "code",
   "execution_count": 8,
   "id": "6d02101d",
   "metadata": {
    "colab": {
     "base_uri": "https://localhost:8080/"
    },
    "id": "6d02101d",
    "outputId": "e0fea2aa-8711-4b84-b3cf-ab98cc8c9d49"
   },
   "outputs": [
    {
     "data": {
      "text/plain": [
       "Timestamp('2044-03-22 03:44:00')"
      ]
     },
     "execution_count": 8,
     "metadata": {},
     "output_type": "execute_result"
    }
   ],
   "source": [
    "df_Inicial['Date'].max()"
   ]
  },
  {
   "cell_type": "markdown",
   "id": "2787e722",
   "metadata": {
    "id": "2787e722"
   },
   "source": [
    "### Elimininamos los registros duplicados por paciente y fecha"
   ]
  },
  {
   "cell_type": "code",
   "execution_count": 9,
   "id": "b2377ddf",
   "metadata": {
    "id": "b2377ddf"
   },
   "outputs": [],
   "source": [
    "df_Inicial=df_Inicial.drop_duplicates(['ID','Date'],keep='first')\n",
    "df_Inicial.reset_index(drop=True, inplace=True)"
   ]
  },
  {
   "cell_type": "code",
   "execution_count": 10,
   "id": "8b36c7a6",
   "metadata": {
    "colab": {
     "base_uri": "https://localhost:8080/"
    },
    "id": "8b36c7a6",
    "outputId": "461cc987-3fdd-4e51-d873-59400e9dc539"
   },
   "outputs": [
    {
     "name": "stdout",
     "output_type": "stream",
     "text": [
      "<class 'pandas.core.frame.DataFrame'>\n",
      "RangeIndex: 2997002 entries, 0 to 2997001\n",
      "Data columns (total 3 columns):\n",
      " #   Column         Dtype         \n",
      "---  ------         -----         \n",
      " 0   ID             object        \n",
      " 1   Date           datetime64[ns]\n",
      " 2   Glucose level  float64       \n",
      "dtypes: datetime64[ns](1), float64(1), object(1)\n",
      "memory usage: 68.6+ MB\n"
     ]
    }
   ],
   "source": [
    "df_Inicial.info()"
   ]
  },
  {
   "cell_type": "markdown",
   "id": "02bc0fe6",
   "metadata": {
    "id": "02bc0fe6"
   },
   "source": [
    "## Seleccionamos el rango de fechas validas"
   ]
  },
  {
   "cell_type": "code",
   "execution_count": 11,
   "id": "f0ecd7ec",
   "metadata": {
    "colab": {
     "base_uri": "https://localhost:8080/"
    },
    "id": "f0ecd7ec",
    "outputId": "412461f0-38b7-432d-a95c-544b34e099eb"
   },
   "outputs": [
    {
     "name": "stdout",
     "output_type": "stream",
     "text": [
      "<class 'pandas.core.frame.DataFrame'>\n",
      "Int64Index: 2967499 entries, 0 to 2997001\n",
      "Data columns (total 3 columns):\n",
      " #   Column         Dtype         \n",
      "---  ------         -----         \n",
      " 0   ID             object        \n",
      " 1   Date           datetime64[ns]\n",
      " 2   Glucose level  float64       \n",
      "dtypes: datetime64[ns](1), float64(1), object(1)\n",
      "memory usage: 90.6+ MB\n"
     ]
    }
   ],
   "source": [
    "DateStart='2018-01-06';\n",
    "df_depurado=df_Inicial[df_Inicial['Date'] >=DateStart]\n",
    "df_depurado.info()"
   ]
  },
  {
   "cell_type": "code",
   "execution_count": 12,
   "id": "2428351a",
   "metadata": {
    "colab": {
     "base_uri": "https://localhost:8080/"
    },
    "id": "2428351a",
    "outputId": "f68c194b-c8d5-4544-ac75-43e39f77846f"
   },
   "outputs": [
    {
     "name": "stdout",
     "output_type": "stream",
     "text": [
      "<class 'pandas.core.frame.DataFrame'>\n",
      "Int64Index: 2966685 entries, 0 to 2997001\n",
      "Data columns (total 3 columns):\n",
      " #   Column         Dtype         \n",
      "---  ------         -----         \n",
      " 0   ID             object        \n",
      " 1   Date           datetime64[ns]\n",
      " 2   Glucose level  float64       \n",
      "dtypes: datetime64[ns](1), float64(1), object(1)\n",
      "memory usage: 90.5+ MB\n"
     ]
    }
   ],
   "source": [
    "DateEnd='2022-03-21';\n",
    "df_depurado=df_depurado[df_depurado['Date'] <=DateEnd]\n",
    "df_depurado.info()"
   ]
  },
  {
   "cell_type": "code",
   "execution_count": 13,
   "id": "7810d820",
   "metadata": {
    "colab": {
     "base_uri": "https://localhost:8080/",
     "height": 300
    },
    "id": "7810d820",
    "outputId": "a5cba456-e4d3-4e64-9821-6f1ddcbb7212"
   },
   "outputs": [
    {
     "data": {
      "text/html": [
       "<div>\n",
       "<style scoped>\n",
       "    .dataframe tbody tr th:only-of-type {\n",
       "        vertical-align: middle;\n",
       "    }\n",
       "\n",
       "    .dataframe tbody tr th {\n",
       "        vertical-align: top;\n",
       "    }\n",
       "\n",
       "    .dataframe thead th {\n",
       "        text-align: right;\n",
       "    }\n",
       "</style>\n",
       "<table border=\"1\" class=\"dataframe\">\n",
       "  <thead>\n",
       "    <tr style=\"text-align: right;\">\n",
       "      <th></th>\n",
       "      <th>Glucose level</th>\n",
       "    </tr>\n",
       "  </thead>\n",
       "  <tbody>\n",
       "    <tr>\n",
       "      <th>count</th>\n",
       "      <td>2.966685e+06</td>\n",
       "    </tr>\n",
       "    <tr>\n",
       "      <th>mean</th>\n",
       "      <td>1.579769e+02</td>\n",
       "    </tr>\n",
       "    <tr>\n",
       "      <th>std</th>\n",
       "      <td>6.577485e+01</td>\n",
       "    </tr>\n",
       "    <tr>\n",
       "      <th>min</th>\n",
       "      <td>4.000000e+01</td>\n",
       "    </tr>\n",
       "    <tr>\n",
       "      <th>25%</th>\n",
       "      <td>1.090000e+02</td>\n",
       "    </tr>\n",
       "    <tr>\n",
       "      <th>50%</th>\n",
       "      <td>1.470000e+02</td>\n",
       "    </tr>\n",
       "    <tr>\n",
       "      <th>75%</th>\n",
       "      <td>1.960000e+02</td>\n",
       "    </tr>\n",
       "    <tr>\n",
       "      <th>max</th>\n",
       "      <td>5.000000e+02</td>\n",
       "    </tr>\n",
       "  </tbody>\n",
       "</table>\n",
       "</div>"
      ],
      "text/plain": [
       "       Glucose level\n",
       "count   2.966685e+06\n",
       "mean    1.579769e+02\n",
       "std     6.577485e+01\n",
       "min     4.000000e+01\n",
       "25%     1.090000e+02\n",
       "50%     1.470000e+02\n",
       "75%     1.960000e+02\n",
       "max     5.000000e+02"
      ]
     },
     "execution_count": 13,
     "metadata": {},
     "output_type": "execute_result"
    }
   ],
   "source": [
    "df_depurado.describe()"
   ]
  },
  {
   "cell_type": "code",
   "execution_count": 14,
   "id": "0acdbd87",
   "metadata": {
    "id": "0acdbd87"
   },
   "outputs": [],
   "source": [
    "df=df_depurado"
   ]
  },
  {
   "cell_type": "code",
   "execution_count": 15,
   "id": "1ec15bf4",
   "metadata": {
    "colab": {
     "base_uri": "https://localhost:8080/"
    },
    "id": "1ec15bf4",
    "outputId": "81c47538-7d9e-4891-f4c4-6ae647e0d8c2"
   },
   "outputs": [
    {
     "data": {
      "text/plain": [
       "Timestamp('2018-01-06 00:31:00')"
      ]
     },
     "execution_count": 15,
     "metadata": {},
     "output_type": "execute_result"
    }
   ],
   "source": [
    "df['Date'].min()"
   ]
  },
  {
   "cell_type": "code",
   "execution_count": 16,
   "id": "69fee9ef",
   "metadata": {},
   "outputs": [
    {
     "data": {
      "text/plain": [
       "Timestamp('2022-03-20 23:58:00')"
      ]
     },
     "execution_count": 16,
     "metadata": {},
     "output_type": "execute_result"
    }
   ],
   "source": [
    "df['Date'].max()"
   ]
  },
  {
   "cell_type": "code",
   "execution_count": 17,
   "id": "977908fb",
   "metadata": {},
   "outputs": [],
   "source": [
    "df.to_csv('dataset/generado/datasetDepurado.csv', index=False) "
   ]
  }
 ],
 "metadata": {
  "accelerator": "GPU",
  "colab": {
   "collapsed_sections": [
    "2787e722",
    "b35a5768",
    "70eb2370",
    "9aae3303",
    "ad3aee1c",
    "c757c150",
    "73821fc8",
    "2240c74e"
   ],
   "machine_shape": "hm",
   "provenance": []
  },
  "gpuClass": "premium",
  "kernelspec": {
   "display_name": "Python 3 (ipykernel)",
   "language": "python",
   "name": "python3"
  },
  "language_info": {
   "codemirror_mode": {
    "name": "ipython",
    "version": 3
   },
   "file_extension": ".py",
   "mimetype": "text/x-python",
   "name": "python",
   "nbconvert_exporter": "python",
   "pygments_lexer": "ipython3",
   "version": "3.9.13"
  }
 },
 "nbformat": 4,
 "nbformat_minor": 5
}
