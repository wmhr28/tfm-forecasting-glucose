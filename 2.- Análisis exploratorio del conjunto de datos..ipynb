{
 "cells": [
  {
   "cell_type": "code",
   "execution_count": 1,
   "id": "34e6836e",
   "metadata": {},
   "outputs": [],
   "source": [
    "import codigo\n",
    "from codigo import utils\n",
    "from codigo import model_utils"
   ]
  },
  {
   "cell_type": "code",
   "execution_count": 2,
   "id": "hollow-quilt",
   "metadata": {
    "id": "hollow-quilt"
   },
   "outputs": [],
   "source": [
    "import pandas as pd\n",
    "import numpy as np\n",
    "pd.set_option('mode.chained_assignment',None)\n",
    "import matplotlib.pyplot as plt\n",
    "import seaborn as sns\n",
    "import math\n",
    "from pickle import dump\n",
    "\n",
    "%matplotlib inline"
   ]
  },
  {
   "cell_type": "markdown",
   "id": "continental-fields",
   "metadata": {
    "id": "continental-fields"
   },
   "source": [
    "# Importar Dataset depurado"
   ]
  },
  {
   "cell_type": "code",
   "execution_count": 3,
   "id": "british-begin",
   "metadata": {
    "id": "british-begin"
   },
   "outputs": [],
   "source": [
    "df_Inicial = pd.read_csv(r'dataset/generado/datasetDepurado.csv')"
   ]
  },
  {
   "cell_type": "markdown",
   "id": "industrial-begin",
   "metadata": {
    "id": "industrial-begin"
   },
   "source": [
    "# Revisamos las columnas que contiene el Dataset"
   ]
  },
  {
   "cell_type": "code",
   "execution_count": 4,
   "id": "d1d3ab50",
   "metadata": {
    "colab": {
     "base_uri": "https://localhost:8080/",
     "height": 206
    },
    "id": "d1d3ab50",
    "outputId": "49e6be97-4bd0-4d1b-ef49-5d414f94cbad"
   },
   "outputs": [
    {
     "data": {
      "text/html": [
       "<div>\n",
       "<style scoped>\n",
       "    .dataframe tbody tr th:only-of-type {\n",
       "        vertical-align: middle;\n",
       "    }\n",
       "\n",
       "    .dataframe tbody tr th {\n",
       "        vertical-align: top;\n",
       "    }\n",
       "\n",
       "    .dataframe thead th {\n",
       "        text-align: right;\n",
       "    }\n",
       "</style>\n",
       "<table border=\"1\" class=\"dataframe\">\n",
       "  <thead>\n",
       "    <tr style=\"text-align: right;\">\n",
       "      <th></th>\n",
       "      <th>ID</th>\n",
       "      <th>Date</th>\n",
       "      <th>Glucose level</th>\n",
       "    </tr>\n",
       "  </thead>\n",
       "  <tbody>\n",
       "    <tr>\n",
       "      <th>0</th>\n",
       "      <td>LIB193263</td>\n",
       "      <td>2020-06-09 19:08:00</td>\n",
       "      <td>99.0</td>\n",
       "    </tr>\n",
       "    <tr>\n",
       "      <th>1</th>\n",
       "      <td>LIB193263</td>\n",
       "      <td>2020-06-09 19:23:00</td>\n",
       "      <td>92.0</td>\n",
       "    </tr>\n",
       "    <tr>\n",
       "      <th>2</th>\n",
       "      <td>LIB193263</td>\n",
       "      <td>2020-06-09 19:38:00</td>\n",
       "      <td>86.0</td>\n",
       "    </tr>\n",
       "    <tr>\n",
       "      <th>3</th>\n",
       "      <td>LIB193263</td>\n",
       "      <td>2020-06-09 19:53:00</td>\n",
       "      <td>85.0</td>\n",
       "    </tr>\n",
       "    <tr>\n",
       "      <th>4</th>\n",
       "      <td>LIB193263</td>\n",
       "      <td>2020-06-09 20:08:00</td>\n",
       "      <td>85.0</td>\n",
       "    </tr>\n",
       "  </tbody>\n",
       "</table>\n",
       "</div>"
      ],
      "text/plain": [
       "          ID                 Date  Glucose level\n",
       "0  LIB193263  2020-06-09 19:08:00           99.0\n",
       "1  LIB193263  2020-06-09 19:23:00           92.0\n",
       "2  LIB193263  2020-06-09 19:38:00           86.0\n",
       "3  LIB193263  2020-06-09 19:53:00           85.0\n",
       "4  LIB193263  2020-06-09 20:08:00           85.0"
      ]
     },
     "execution_count": 4,
     "metadata": {},
     "output_type": "execute_result"
    }
   ],
   "source": [
    "df_Inicial.head()"
   ]
  },
  {
   "cell_type": "code",
   "execution_count": 5,
   "id": "streaming-hometown",
   "metadata": {
    "colab": {
     "base_uri": "https://localhost:8080/"
    },
    "id": "streaming-hometown",
    "outputId": "c46866d8-129f-4b39-bb18-d49145ffd688"
   },
   "outputs": [
    {
     "name": "stdout",
     "output_type": "stream",
     "text": [
      "<class 'pandas.core.frame.DataFrame'>\n",
      "RangeIndex: 2966685 entries, 0 to 2966684\n",
      "Data columns (total 3 columns):\n",
      " #   Column         Dtype  \n",
      "---  ------         -----  \n",
      " 0   ID             object \n",
      " 1   Date           object \n",
      " 2   Glucose level  float64\n",
      "dtypes: float64(1), object(2)\n",
      "memory usage: 67.9+ MB\n"
     ]
    }
   ],
   "source": [
    "df_Inicial.info()"
   ]
  },
  {
   "cell_type": "markdown",
   "id": "7e4a3f46",
   "metadata": {
    "id": "7e4a3f46"
   },
   "source": [
    "### Cambiamos el formato de la columna Date de object a datetime64"
   ]
  },
  {
   "cell_type": "code",
   "execution_count": 6,
   "id": "39a8a155",
   "metadata": {
    "id": "39a8a155"
   },
   "outputs": [],
   "source": [
    "df_Inicial['Date']=pd.to_datetime(df_Inicial['Date'])"
   ]
  },
  {
   "cell_type": "code",
   "execution_count": 7,
   "id": "ffe49771",
   "metadata": {
    "colab": {
     "base_uri": "https://localhost:8080/"
    },
    "id": "ffe49771",
    "outputId": "8f69884b-4662-4aeb-9fa4-9a18e6a358c1"
   },
   "outputs": [
    {
     "name": "stdout",
     "output_type": "stream",
     "text": [
      "<class 'pandas.core.frame.DataFrame'>\n",
      "RangeIndex: 2966685 entries, 0 to 2966684\n",
      "Data columns (total 3 columns):\n",
      " #   Column         Dtype         \n",
      "---  ------         -----         \n",
      " 0   ID             object        \n",
      " 1   Date           datetime64[ns]\n",
      " 2   Glucose level  float64       \n",
      "dtypes: datetime64[ns](1), float64(1), object(1)\n",
      "memory usage: 67.9+ MB\n"
     ]
    }
   ],
   "source": [
    "df_Inicial.info()"
   ]
  },
  {
   "cell_type": "code",
   "execution_count": 8,
   "id": "8c8e9524",
   "metadata": {
    "colab": {
     "base_uri": "https://localhost:8080/"
    },
    "id": "8c8e9524",
    "outputId": "654e7afb-2b62-46fc-83ba-3a0d997cd665"
   },
   "outputs": [
    {
     "data": {
      "text/plain": [
       "Timestamp('2018-01-06 00:31:00')"
      ]
     },
     "execution_count": 8,
     "metadata": {},
     "output_type": "execute_result"
    }
   ],
   "source": [
    "df_Inicial['Date'].min()"
   ]
  },
  {
   "cell_type": "code",
   "execution_count": 9,
   "id": "6d02101d",
   "metadata": {
    "colab": {
     "base_uri": "https://localhost:8080/"
    },
    "id": "6d02101d",
    "outputId": "e0fea2aa-8711-4b84-b3cf-ab98cc8c9d49"
   },
   "outputs": [
    {
     "data": {
      "text/plain": [
       "Timestamp('2022-03-20 23:58:00')"
      ]
     },
     "execution_count": 9,
     "metadata": {},
     "output_type": "execute_result"
    }
   ],
   "source": [
    "df_Inicial['Date'].max()"
   ]
  },
  {
   "cell_type": "markdown",
   "id": "confused-possible",
   "metadata": {
    "id": "confused-possible"
   },
   "source": [
    "# Iniciamos Análisis Exploratorio"
   ]
  },
  {
   "cell_type": "markdown",
   "id": "9f12cbd2",
   "metadata": {},
   "source": [
    "## Sobre el conjunto de datos depurado"
   ]
  },
  {
   "cell_type": "code",
   "execution_count": 10,
   "id": "4319110e",
   "metadata": {},
   "outputs": [
    {
     "name": "stderr",
     "output_type": "stream",
     "text": [
      "C:\\Users\\wm_herrera\\Anaconda3\\envs\\tensorflow_keras\\lib\\site-packages\\tqdm\\auto.py:22: TqdmWarning: IProgress not found. Please update jupyter and ipywidgets. See https://ipywidgets.readthedocs.io/en/stable/user_install.html\n",
      "  from .autonotebook import tqdm as notebook_tqdm\n"
     ]
    }
   ],
   "source": [
    "from pandas_profiling import ProfileReport\n",
    "profile = ProfileReport(\n",
    "    df_Inicial,\n",
    "    missing_diagrams={\n",
    "          'heatmap': True,\n",
    "          'dendrogram': False,\n",
    "      },\n",
    "    correlations={\n",
    "         \"kendall\": {\"calculate\": False},\n",
    "         \"phi_k\": {\"calculate\": False},\n",
    "         \"cramers\": {\"calculate\": False},\n",
    "         \"pearson\": {\"calculate\": True,\"threshold\":0.8,\"warn_high_correlations\":True}\n",
    "        \n",
    "     }\n",
    ")"
   ]
  },
  {
   "cell_type": "code",
   "execution_count": 11,
   "id": "fdaf9dc3",
   "metadata": {},
   "outputs": [
    {
     "name": "stderr",
     "output_type": "stream",
     "text": [
      "Summarize dataset:  36%|███▋      | 4/11 [00:15<00:26,  3.76s/it, Calculate pearson correlation] C:\\Users\\wm_herrera\\Anaconda3\\envs\\tensorflow_keras\\lib\\site-packages\\multimethod\\__init__.py:315: FutureWarning: The default value of numeric_only in DataFrame.corr is deprecated. In a future version, it will default to False. Select only valid columns or specify the value of numeric_only to silence this warning.\n",
      "  return func(*args, **kwargs)\n",
      "Summarize dataset: 100%|██████████| 14/14 [00:24<00:00,  1.75s/it, Completed]                          \n",
      "Generate report structure: 100%|██████████| 1/1 [00:02<00:00,  2.78s/it]\n",
      "Render HTML: 100%|██████████| 1/1 [00:01<00:00,  1.11s/it]\n",
      "Export report to file: 100%|██████████| 1/1 [00:00<00:00, 166.67it/s]\n"
     ]
    }
   ],
   "source": [
    "profile.to_file(\"analisisExploratorio/datasetDepurado.html\")"
   ]
  },
  {
   "cell_type": "markdown",
   "id": "6293f55a",
   "metadata": {},
   "source": [
    "## Sobre el conjunto de un paciente"
   ]
  },
  {
   "cell_type": "code",
   "execution_count": 12,
   "id": "f887d4af",
   "metadata": {},
   "outputs": [],
   "source": [
    "from pickle import load\n",
    "scalerGlucosa = load(open('dataset/generado/scalerGlucosa.scaler', 'rb'))\n",
    "scalerHours = load(open('dataset/generado/scalerHours.scaler', 'rb'))\n",
    "scalerMin = load(open('dataset/generado/scalerMin.scaler', 'rb'))\n",
    "scalerPodId = load(open('dataset/generado/scalerPodId.scaler', 'rb'))\n",
    "scalerLevelId = load(open('dataset/generado/scalerLevelId.scaler', 'rb'))"
   ]
  },
  {
   "cell_type": "code",
   "execution_count": 13,
   "id": "67a47b76",
   "metadata": {},
   "outputs": [
    {
     "name": "stderr",
     "output_type": "stream",
     "text": [
      "C:\\Users\\wm_herrera\\Desktop\\celular\\Maestria IA\\Tesis\\Glucose Tesis\\GitHub Repo\\tfm-forecasting-glucose\\codigo\\utils.py:13: FutureWarning: The default value of numeric_only in DataFrameGroupBy.mean is deprecated. In a future version, numeric_only will default to False. Either specify numeric_only or select only columns which should be valid for the function.\n",
      "  ret= ret.resample(frequency).mean()\n"
     ]
    }
   ],
   "source": [
    "pacienteID=\"LIB193277\"\n",
    "paciente_data = utils.getDataPatient(df_Inicial,pacienteID,'15min',False)\n",
    "paciente_data=utils.fillNullData(paciente_data,'interpolate_linear')\n",
    "paciente_data=utils.generateNewColumns(paciente_data,scalerLevelId,scalerHours,scalerMin,scalerPodId,scalerGlucosa,False)"
   ]
  },
  {
   "cell_type": "code",
   "execution_count": 14,
   "id": "7b318ece",
   "metadata": {},
   "outputs": [
    {
     "data": {
      "text/html": [
       "<div>\n",
       "<style scoped>\n",
       "    .dataframe tbody tr th:only-of-type {\n",
       "        vertical-align: middle;\n",
       "    }\n",
       "\n",
       "    .dataframe tbody tr th {\n",
       "        vertical-align: top;\n",
       "    }\n",
       "\n",
       "    .dataframe thead th {\n",
       "        text-align: right;\n",
       "    }\n",
       "</style>\n",
       "<table border=\"1\" class=\"dataframe\">\n",
       "  <thead>\n",
       "    <tr style=\"text-align: right;\">\n",
       "      <th></th>\n",
       "      <th>Glucose level</th>\n",
       "      <th>level_label</th>\n",
       "      <th>level_id</th>\n",
       "      <th>hour</th>\n",
       "      <th>min</th>\n",
       "      <th>pod_label</th>\n",
       "      <th>pod_id</th>\n",
       "    </tr>\n",
       "    <tr>\n",
       "      <th>Date</th>\n",
       "      <th></th>\n",
       "      <th></th>\n",
       "      <th></th>\n",
       "      <th></th>\n",
       "      <th></th>\n",
       "      <th></th>\n",
       "      <th></th>\n",
       "    </tr>\n",
       "  </thead>\n",
       "  <tbody>\n",
       "    <tr>\n",
       "      <th>2018-06-12 20:15:00</th>\n",
       "      <td>156.0</td>\n",
       "      <td>euglycemia</td>\n",
       "      <td>0</td>\n",
       "      <td>20</td>\n",
       "      <td>15</td>\n",
       "      <td>Eve</td>\n",
       "      <td>4</td>\n",
       "    </tr>\n",
       "    <tr>\n",
       "      <th>2018-06-12 20:30:00</th>\n",
       "      <td>163.0</td>\n",
       "      <td>euglycemia</td>\n",
       "      <td>0</td>\n",
       "      <td>20</td>\n",
       "      <td>30</td>\n",
       "      <td>Eve</td>\n",
       "      <td>4</td>\n",
       "    </tr>\n",
       "    <tr>\n",
       "      <th>2018-06-12 20:45:00</th>\n",
       "      <td>158.0</td>\n",
       "      <td>euglycemia</td>\n",
       "      <td>0</td>\n",
       "      <td>20</td>\n",
       "      <td>45</td>\n",
       "      <td>Eve</td>\n",
       "      <td>4</td>\n",
       "    </tr>\n",
       "    <tr>\n",
       "      <th>2018-06-12 21:00:00</th>\n",
       "      <td>167.0</td>\n",
       "      <td>euglycemia</td>\n",
       "      <td>0</td>\n",
       "      <td>21</td>\n",
       "      <td>0</td>\n",
       "      <td>Night</td>\n",
       "      <td>5</td>\n",
       "    </tr>\n",
       "    <tr>\n",
       "      <th>2018-06-12 21:15:00</th>\n",
       "      <td>139.0</td>\n",
       "      <td>euglycemia</td>\n",
       "      <td>0</td>\n",
       "      <td>21</td>\n",
       "      <td>15</td>\n",
       "      <td>Night</td>\n",
       "      <td>5</td>\n",
       "    </tr>\n",
       "    <tr>\n",
       "      <th>...</th>\n",
       "      <td>...</td>\n",
       "      <td>...</td>\n",
       "      <td>...</td>\n",
       "      <td>...</td>\n",
       "      <td>...</td>\n",
       "      <td>...</td>\n",
       "      <td>...</td>\n",
       "    </tr>\n",
       "    <tr>\n",
       "      <th>2022-03-18 10:45:00</th>\n",
       "      <td>153.0</td>\n",
       "      <td>euglycemia</td>\n",
       "      <td>0</td>\n",
       "      <td>10</td>\n",
       "      <td>45</td>\n",
       "      <td>Morning</td>\n",
       "      <td>2</td>\n",
       "    </tr>\n",
       "    <tr>\n",
       "      <th>2022-03-18 11:00:00</th>\n",
       "      <td>144.0</td>\n",
       "      <td>euglycemia</td>\n",
       "      <td>0</td>\n",
       "      <td>11</td>\n",
       "      <td>0</td>\n",
       "      <td>Morning</td>\n",
       "      <td>2</td>\n",
       "    </tr>\n",
       "    <tr>\n",
       "      <th>2022-03-18 11:15:00</th>\n",
       "      <td>134.0</td>\n",
       "      <td>euglycemia</td>\n",
       "      <td>0</td>\n",
       "      <td>11</td>\n",
       "      <td>15</td>\n",
       "      <td>Morning</td>\n",
       "      <td>2</td>\n",
       "    </tr>\n",
       "    <tr>\n",
       "      <th>2022-03-18 11:30:00</th>\n",
       "      <td>125.0</td>\n",
       "      <td>euglycemia</td>\n",
       "      <td>0</td>\n",
       "      <td>11</td>\n",
       "      <td>30</td>\n",
       "      <td>Morning</td>\n",
       "      <td>2</td>\n",
       "    </tr>\n",
       "    <tr>\n",
       "      <th>2022-03-18 11:45:00</th>\n",
       "      <td>121.0</td>\n",
       "      <td>euglycemia</td>\n",
       "      <td>0</td>\n",
       "      <td>11</td>\n",
       "      <td>45</td>\n",
       "      <td>Morning</td>\n",
       "      <td>2</td>\n",
       "    </tr>\n",
       "  </tbody>\n",
       "</table>\n",
       "<p>131967 rows × 7 columns</p>\n",
       "</div>"
      ],
      "text/plain": [
       "                     Glucose level level_label  level_id  hour  min pod_label  \\\n",
       "Date                                                                            \n",
       "2018-06-12 20:15:00          156.0  euglycemia         0    20   15       Eve   \n",
       "2018-06-12 20:30:00          163.0  euglycemia         0    20   30       Eve   \n",
       "2018-06-12 20:45:00          158.0  euglycemia         0    20   45       Eve   \n",
       "2018-06-12 21:00:00          167.0  euglycemia         0    21    0     Night   \n",
       "2018-06-12 21:15:00          139.0  euglycemia         0    21   15     Night   \n",
       "...                            ...         ...       ...   ...  ...       ...   \n",
       "2022-03-18 10:45:00          153.0  euglycemia         0    10   45   Morning   \n",
       "2022-03-18 11:00:00          144.0  euglycemia         0    11    0   Morning   \n",
       "2022-03-18 11:15:00          134.0  euglycemia         0    11   15   Morning   \n",
       "2022-03-18 11:30:00          125.0  euglycemia         0    11   30   Morning   \n",
       "2022-03-18 11:45:00          121.0  euglycemia         0    11   45   Morning   \n",
       "\n",
       "                     pod_id  \n",
       "Date                         \n",
       "2018-06-12 20:15:00       4  \n",
       "2018-06-12 20:30:00       4  \n",
       "2018-06-12 20:45:00       4  \n",
       "2018-06-12 21:00:00       5  \n",
       "2018-06-12 21:15:00       5  \n",
       "...                     ...  \n",
       "2022-03-18 10:45:00       2  \n",
       "2022-03-18 11:00:00       2  \n",
       "2022-03-18 11:15:00       2  \n",
       "2022-03-18 11:30:00       2  \n",
       "2022-03-18 11:45:00       2  \n",
       "\n",
       "[131967 rows x 7 columns]"
      ]
     },
     "execution_count": 14,
     "metadata": {},
     "output_type": "execute_result"
    }
   ],
   "source": [
    "paciente_data"
   ]
  },
  {
   "cell_type": "code",
   "execution_count": 15,
   "id": "valued-lying",
   "metadata": {
    "id": "valued-lying"
   },
   "outputs": [],
   "source": [
    "from pandas_profiling import ProfileReport\n",
    "profile = ProfileReport(paciente_data, tsmode=True, sortby=\"Date\"\n",
    "    ,missing_diagrams={\n",
    "          'heatmap': True,\n",
    "          'dendrogram': False,\n",
    "      },\n",
    "    correlations={\n",
    "         \"kendall\": {\"calculate\": False},\n",
    "         \"phi_k\": {\"calculate\": False},\n",
    "         \"cramers\": {\"calculate\": False},\n",
    "         \"pearson\": {\"calculate\": True,\"threshold\":0.8,\"warn_high_correlations\":True}\n",
    "        \n",
    "     })"
   ]
  },
  {
   "cell_type": "code",
   "execution_count": null,
   "id": "intelligent-oasis",
   "metadata": {
    "id": "intelligent-oasis",
    "scrolled": false
   },
   "outputs": [
    {
     "name": "stderr",
     "output_type": "stream",
     "text": [
      "Summarize dataset:   8%|▊         | 1/12 [00:01<00:11,  1.04s/it, Describe variable:pod_label]  C:\\Users\\wm_herrera\\Anaconda3\\envs\\tensorflow_keras\\lib\\site-packages\\multimethod\\__init__.py:315: FutureWarning: The 'mad' method is deprecated and will be removed in a future version. To compute the same result, you may do `(df - df.mean()).abs().mean()`.\n",
      "  return func(*args, **kwargs)\n",
      "C:\\Users\\wm_herrera\\Anaconda3\\envs\\tensorflow_keras\\lib\\site-packages\\multimethod\\__init__.py:315: FutureWarning: The 'mad' method is deprecated and will be removed in a future version. To compute the same result, you may do `(df - df.mean()).abs().mean()`.\n",
      "  return func(*args, **kwargs)\n",
      "C:\\Users\\wm_herrera\\Anaconda3\\envs\\tensorflow_keras\\lib\\site-packages\\multimethod\\__init__.py:315: FutureWarning: The 'mad' method is deprecated and will be removed in a future version. To compute the same result, you may do `(df - df.mean()).abs().mean()`.\n",
      "  return func(*args, **kwargs)\n",
      "C:\\Users\\wm_herrera\\Anaconda3\\envs\\tensorflow_keras\\lib\\site-packages\\multimethod\\__init__.py:315: FutureWarning: The 'mad' method is deprecated and will be removed in a future version. To compute the same result, you may do `(df - df.mean()).abs().mean()`.\n",
      "  return func(*args, **kwargs)\n",
      "Summarize dataset:  53%|█████▎    | 8/15 [05:28<03:04, 26.37s/it, Calculate pearson correlation]  C:\\Users\\wm_herrera\\Anaconda3\\envs\\tensorflow_keras\\lib\\site-packages\\multimethod\\__init__.py:315: FutureWarning: The default value of numeric_only in DataFrame.corr is deprecated. In a future version, it will default to False. Select only valid columns or specify the value of numeric_only to silence this warning.\n",
      "  return func(*args, **kwargs)\n",
      "Summarize dataset:  60%|██████    | 9/15 [05:29<01:23, 13.95s/it, Calculate auto correlation]   C:\\Users\\wm_herrera\\Anaconda3\\envs\\tensorflow_keras\\lib\\site-packages\\multimethod\\__init__.py:315: FutureWarning: In a future version, `df.iloc[:, i] = newvals` will attempt to set the values inplace instead of always setting a new array. To retain the old behavior, use either `df[df.columns[i]] = newvals` or, if columns are non-unique, `df.isetitem(i, newvals)`\n",
      "  return func(*args, **kwargs)\n",
      "Summarize dataset:  65%|██████▌   | 26/40 [05:48<00:16,  1.17s/it, scatter Glucose level, min]          "
     ]
    }
   ],
   "source": [
    "profile.to_file(\"analisisExploratorio/paciente_LIB193277.html\")"
   ]
  },
  {
   "cell_type": "markdown",
   "id": "388856d8",
   "metadata": {},
   "source": [
    "##  Análisis de correlación"
   ]
  },
  {
   "cell_type": "code",
   "execution_count": null,
   "id": "ebc64583",
   "metadata": {},
   "outputs": [],
   "source": [
    "features=['Glucose level','hour','min','pod_id','level_id']"
   ]
  },
  {
   "cell_type": "code",
   "execution_count": null,
   "id": "f253eb9d",
   "metadata": {},
   "outputs": [],
   "source": [
    "paciente_df=paciente_data[features].copy()\n",
    "correlation_matrix = paciente_df.corr()            \n",
    "correlation_matrix"
   ]
  },
  {
   "cell_type": "code",
   "execution_count": null,
   "id": "4f62850e",
   "metadata": {},
   "outputs": [],
   "source": [
    "correlated_features = set()\n",
    "correlated_features = correlation_matrix.index[abs(correlation_matrix[\"Glucose level\"])>0.5]\n",
    "correlated_features"
   ]
  },
  {
   "cell_type": "code",
   "execution_count": null,
   "id": "3302b2dc",
   "metadata": {},
   "outputs": [],
   "source": [
    "plt.figure(figsize=(10, 5))\n",
    "sns.heatmap(correlation_matrix,  vmax=.9, square=True, annot=True,cmap='coolwarm')\n",
    "plt.show()"
   ]
  },
  {
   "cell_type": "markdown",
   "id": "b5237847",
   "metadata": {},
   "source": [
    "##  Análisis de balanceo de clases"
   ]
  },
  {
   "cell_type": "markdown",
   "id": "cc2fa71c",
   "metadata": {},
   "source": [
    "### Clase: Hora del día"
   ]
  },
  {
   "cell_type": "code",
   "execution_count": null,
   "id": "6a392fab",
   "metadata": {},
   "outputs": [],
   "source": [
    "paciente_data['hour'].value_counts().plot.bar( rot=0,figsize=(10, 3))"
   ]
  },
  {
   "cell_type": "markdown",
   "id": "0b1e157e",
   "metadata": {},
   "source": [
    "### Clase: Parte del día"
   ]
  },
  {
   "cell_type": "code",
   "execution_count": null,
   "id": "f60dfb87",
   "metadata": {},
   "outputs": [],
   "source": [
    "paciente_data['pod_label'].value_counts().plot.bar( rot=0,figsize=(10, 3))"
   ]
  },
  {
   "cell_type": "markdown",
   "id": "b595daa1",
   "metadata": {},
   "source": [
    "### Clase: Niveles de Glucosa"
   ]
  },
  {
   "cell_type": "code",
   "execution_count": null,
   "id": "a5d6c0ee",
   "metadata": {},
   "outputs": [],
   "source": [
    "paciente_data['level_label'].value_counts()"
   ]
  },
  {
   "cell_type": "code",
   "execution_count": null,
   "id": "ed54de8f",
   "metadata": {},
   "outputs": [],
   "source": [
    "paciente_data['level_label'].value_counts().plot.bar( rot=0,figsize=(10, 4))"
   ]
  },
  {
   "cell_type": "code",
   "execution_count": null,
   "id": "76a0d47d",
   "metadata": {},
   "outputs": [],
   "source": [
    "paciente_data['level_label'].value_counts().plot.pie(y='level_label',legend=False,autopct='%1.1f%%',figsize=(10, 4))"
   ]
  }
 ],
 "metadata": {
  "accelerator": "GPU",
  "colab": {
   "collapsed_sections": [
    "2787e722",
    "b35a5768",
    "70eb2370",
    "9aae3303",
    "ad3aee1c",
    "c757c150",
    "73821fc8",
    "2240c74e"
   ],
   "machine_shape": "hm",
   "provenance": []
  },
  "gpuClass": "premium",
  "kernelspec": {
   "display_name": "Python 3 (ipykernel)",
   "language": "python",
   "name": "python3"
  },
  "language_info": {
   "codemirror_mode": {
    "name": "ipython",
    "version": 3
   },
   "file_extension": ".py",
   "mimetype": "text/x-python",
   "name": "python",
   "nbconvert_exporter": "python",
   "pygments_lexer": "ipython3",
   "version": "3.10.8"
  }
 },
 "nbformat": 4,
 "nbformat_minor": 5
}
