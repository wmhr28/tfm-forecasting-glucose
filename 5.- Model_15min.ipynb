{
 "cells": [
  {
   "cell_type": "code",
   "execution_count": 1,
   "id": "34e6836e",
   "metadata": {},
   "outputs": [],
   "source": [
    "import codigo\n",
    "from codigo import utils\n",
    "from codigo import model_LSTM\n",
    "from codigo import model_utils"
   ]
  },
  {
   "cell_type": "code",
   "execution_count": 2,
   "id": "013da404",
   "metadata": {},
   "outputs": [],
   "source": [
    "trainModel=False"
   ]
  },
  {
   "cell_type": "code",
   "execution_count": 3,
   "id": "hollow-quilt",
   "metadata": {
    "id": "hollow-quilt"
   },
   "outputs": [],
   "source": [
    "import pandas as pd\n",
    "import numpy as np\n",
    "pd.set_option('mode.chained_assignment',None)\n",
    "import matplotlib.pyplot as plt\n",
    "import seaborn as sns\n",
    "import math\n",
    "\n",
    "%matplotlib inline"
   ]
  },
  {
   "cell_type": "code",
   "execution_count": 4,
   "id": "97f16e1d",
   "metadata": {},
   "outputs": [],
   "source": [
    "import tensorflow as tf\n",
    "from tensorflow import keras"
   ]
  },
  {
   "cell_type": "markdown",
   "id": "continental-fields",
   "metadata": {
    "id": "continental-fields"
   },
   "source": [
    "# Importar Arrays de Entrenamiento, Validación y Prueba"
   ]
  },
  {
   "cell_type": "code",
   "execution_count": 5,
   "id": "020a1d43",
   "metadata": {},
   "outputs": [],
   "source": [
    "with open('dataset/generado/dataset15min/array_Xtrain.npy', 'rb') as f:\n",
    "    array_Xtrain = np.load(f)"
   ]
  },
  {
   "cell_type": "code",
   "execution_count": 6,
   "id": "7207d942",
   "metadata": {},
   "outputs": [
    {
     "data": {
      "text/plain": [
       "3404855"
      ]
     },
     "execution_count": 6,
     "metadata": {},
     "output_type": "execute_result"
    }
   ],
   "source": [
    "len(array_Xtrain)"
   ]
  },
  {
   "cell_type": "code",
   "execution_count": 7,
   "id": "2c014838",
   "metadata": {},
   "outputs": [],
   "source": [
    "with open('dataset/generado/dataset15min/array_Ytrain.npy', 'rb') as f:\n",
    "    array_Ytrain = np.load(f)"
   ]
  },
  {
   "cell_type": "code",
   "execution_count": 8,
   "id": "0237d950",
   "metadata": {},
   "outputs": [
    {
     "data": {
      "text/plain": [
       "3404855"
      ]
     },
     "execution_count": 8,
     "metadata": {},
     "output_type": "execute_result"
    }
   ],
   "source": [
    "len(array_Ytrain)"
   ]
  },
  {
   "cell_type": "code",
   "execution_count": 9,
   "id": "cd63e8ba",
   "metadata": {},
   "outputs": [],
   "source": [
    "with open('dataset/generado/dataset15min/array_Xval.npy', 'rb') as f:\n",
    "    array_Xval = np.load(f)"
   ]
  },
  {
   "cell_type": "code",
   "execution_count": 10,
   "id": "1a28e8d9",
   "metadata": {},
   "outputs": [
    {
     "data": {
      "text/plain": [
       "400571"
      ]
     },
     "execution_count": 10,
     "metadata": {},
     "output_type": "execute_result"
    }
   ],
   "source": [
    "len(array_Xval)"
   ]
  },
  {
   "cell_type": "code",
   "execution_count": 11,
   "id": "c92818fa",
   "metadata": {},
   "outputs": [],
   "source": [
    "with open('dataset/generado/dataset15min/array_Yval.npy', 'rb') as f:\n",
    "    array_Yval = np.load(f)"
   ]
  },
  {
   "cell_type": "code",
   "execution_count": 12,
   "id": "385a843f",
   "metadata": {},
   "outputs": [
    {
     "data": {
      "text/plain": [
       "400571"
      ]
     },
     "execution_count": 12,
     "metadata": {},
     "output_type": "execute_result"
    }
   ],
   "source": [
    "len(array_Yval)"
   ]
  },
  {
   "cell_type": "code",
   "execution_count": 13,
   "id": "7af2b3b6",
   "metadata": {},
   "outputs": [],
   "source": [
    "with open('dataset/generado/dataset15min/array_Xtest.npy', 'rb') as f:\n",
    "    array_Xtest = np.load(f)"
   ]
  },
  {
   "cell_type": "code",
   "execution_count": 14,
   "id": "5e0957aa",
   "metadata": {},
   "outputs": [
    {
     "data": {
      "text/plain": [
       "200316"
      ]
     },
     "execution_count": 14,
     "metadata": {},
     "output_type": "execute_result"
    }
   ],
   "source": [
    "len(array_Xtest)"
   ]
  },
  {
   "cell_type": "code",
   "execution_count": 15,
   "id": "8d70be9c",
   "metadata": {},
   "outputs": [],
   "source": [
    "with open('dataset/generado/dataset15min/array_Ytest.npy', 'rb') as f:\n",
    "    array_Ytest = np.load(f)"
   ]
  },
  {
   "cell_type": "code",
   "execution_count": 16,
   "id": "ae0f041b",
   "metadata": {},
   "outputs": [
    {
     "data": {
      "text/plain": [
       "200316"
      ]
     },
     "execution_count": 16,
     "metadata": {},
     "output_type": "execute_result"
    }
   ],
   "source": [
    "len(array_Ytest)"
   ]
  },
  {
   "cell_type": "code",
   "execution_count": 17,
   "id": "841df02e",
   "metadata": {},
   "outputs": [
    {
     "name": "stdout",
     "output_type": "stream",
     "text": [
      "Model: \"sequential\"\n",
      "_________________________________________________________________\n",
      " Layer (type)                Output Shape              Param #   \n",
      "=================================================================\n",
      " lstm (LSTM)                 (None, 32)                4864      \n",
      "                                                                 \n",
      " dropout (Dropout)           (None, 32)                0         \n",
      "                                                                 \n",
      " dense (Dense)               (None, 64)                2112      \n",
      "                                                                 \n",
      " dropout_1 (Dropout)         (None, 64)                0         \n",
      "                                                                 \n",
      " dense_1 (Dense)             (None, 32)                2080      \n",
      "                                                                 \n",
      " dropout_2 (Dropout)         (None, 32)                0         \n",
      "                                                                 \n",
      " dense_2 (Dense)             (None, 1)                 33        \n",
      "                                                                 \n",
      "=================================================================\n",
      "Total params: 9,089\n",
      "Trainable params: 9,089\n",
      "Non-trainable params: 0\n",
      "_________________________________________________________________\n"
     ]
    }
   ],
   "source": [
    "epochs = 50\n",
    "early_stopping = tf.keras.callbacks.EarlyStopping(monitor='val_loss', patience=5, min_delta=0.001)\n",
    "model_Gen=model_LSTM.modelLSTM_Gen(array_Xtrain.shape[1],array_Xtrain.shape[2])\n",
    "model_Gen.summary()"
   ]
  },
  {
   "cell_type": "code",
   "execution_count": 18,
   "id": "89b1ec24",
   "metadata": {},
   "outputs": [
    {
     "data": {
      "text/plain": [
       "array([[[ 0.25217391,  0.        ,  0.86956522,  0.6       ,\n",
       "          0.5       ],\n",
       "        [ 0.2673913 ,  0.01521739,  0.86956522,  0.6       ,\n",
       "          0.5       ],\n",
       "        [ 0.25652174, -0.01086957,  0.86956522,  0.6       ,\n",
       "          0.5       ],\n",
       "        ...,\n",
       "        [ 0.36521739,  0.01086957,  0.13043478,  1.        ,\n",
       "          1.        ],\n",
       "        [ 0.38913043,  0.02391304,  0.13043478,  1.        ,\n",
       "          1.        ],\n",
       "        [ 0.3826087 , -0.00652174,  0.13043478,  1.        ,\n",
       "          1.        ]],\n",
       "\n",
       "       [[ 0.2673913 ,  0.01521739,  0.86956522,  0.6       ,\n",
       "          0.5       ],\n",
       "        [ 0.25652174, -0.01086957,  0.86956522,  0.6       ,\n",
       "          0.5       ],\n",
       "        [ 0.27608696,  0.01956522,  0.91304348,  0.8       ,\n",
       "          0.5       ],\n",
       "        ...,\n",
       "        [ 0.38913043,  0.02391304,  0.13043478,  1.        ,\n",
       "          1.        ],\n",
       "        [ 0.3826087 , -0.00652174,  0.13043478,  1.        ,\n",
       "          1.        ],\n",
       "        [ 0.35434783, -0.02826087,  0.13043478,  1.        ,\n",
       "          1.        ]],\n",
       "\n",
       "       [[ 0.25652174, -0.01086957,  0.86956522,  0.6       ,\n",
       "          0.5       ],\n",
       "        [ 0.27608696,  0.01956522,  0.91304348,  0.8       ,\n",
       "          0.5       ],\n",
       "        [ 0.21521739, -0.06086957,  0.91304348,  0.8       ,\n",
       "          0.5       ],\n",
       "        ...,\n",
       "        [ 0.3826087 , -0.00652174,  0.13043478,  1.        ,\n",
       "          1.        ],\n",
       "        [ 0.35434783, -0.02826087,  0.13043478,  1.        ,\n",
       "          1.        ],\n",
       "        [ 0.34130435, -0.01304348,  0.17391304,  1.        ,\n",
       "          1.        ]],\n",
       "\n",
       "       ...,\n",
       "\n",
       "       [[ 0.31304348, -0.01956522,  0.82608696,  0.6       ,\n",
       "          1.        ],\n",
       "        [ 0.30434783, -0.00869565,  0.82608696,  0.6       ,\n",
       "          0.5       ],\n",
       "        [ 0.29565217, -0.00869565,  0.82608696,  0.6       ,\n",
       "          0.5       ],\n",
       "        ...,\n",
       "        [ 0.30217391,  0.00652174,  0.08695652,  1.        ,\n",
       "          0.5       ],\n",
       "        [ 0.30652174,  0.00434783,  0.08695652,  1.        ,\n",
       "          1.        ],\n",
       "        [ 0.30869565,  0.00217391,  0.08695652,  1.        ,\n",
       "          1.        ]],\n",
       "\n",
       "       [[ 0.30434783, -0.00869565,  0.82608696,  0.6       ,\n",
       "          0.5       ],\n",
       "        [ 0.29565217, -0.00869565,  0.82608696,  0.6       ,\n",
       "          0.5       ],\n",
       "        [ 0.29130435, -0.00434783,  0.86956522,  0.6       ,\n",
       "          0.5       ],\n",
       "        ...,\n",
       "        [ 0.30652174,  0.00434783,  0.08695652,  1.        ,\n",
       "          1.        ],\n",
       "        [ 0.30869565,  0.00217391,  0.08695652,  1.        ,\n",
       "          1.        ],\n",
       "        [ 0.29782609, -0.01086957,  0.08695652,  1.        ,\n",
       "          0.5       ]],\n",
       "\n",
       "       [[ 0.29565217, -0.00869565,  0.82608696,  0.6       ,\n",
       "          0.5       ],\n",
       "        [ 0.29130435, -0.00434783,  0.86956522,  0.6       ,\n",
       "          0.5       ],\n",
       "        [ 0.29130435,  0.        ,  0.86956522,  0.6       ,\n",
       "          0.5       ],\n",
       "        ...,\n",
       "        [ 0.30869565,  0.00217391,  0.08695652,  1.        ,\n",
       "          1.        ],\n",
       "        [ 0.29782609, -0.01086957,  0.08695652,  1.        ,\n",
       "          0.5       ],\n",
       "        [ 0.28913043, -0.00869565,  0.13043478,  1.        ,\n",
       "          0.5       ]]])"
      ]
     },
     "execution_count": 18,
     "metadata": {},
     "output_type": "execute_result"
    }
   ],
   "source": [
    "array_Xtrain"
   ]
  },
  {
   "cell_type": "code",
   "execution_count": 19,
   "id": "85248fec",
   "metadata": {},
   "outputs": [],
   "source": [
    "if(trainModel):\n",
    "    history =model_Gen.fit(array_Xtrain, array_Ytrain,epochs=epochs, validation_data=(array_Xval, array_Yval), shuffle=False, callbacks=[early_stopping])\n",
    "    results = model_Gen.evaluate(array_Xtest, array_Ytest)\n",
    "    print(\"test loss, test acc:\", results)\n",
    "    model_utils.modelEvaluateTraining(history)\n",
    "    model_Gen.save('modelos/model_Gen_15min.h5')\n",
    "    yhat = model_Gen.predict(array_Xtest)\n",
    "    model_utils.plotPredicted(yhat,array_Ytest,scalerGlucosa)\n",
    "    model_utils.forecast_accuracy(yhat,array_Ytest)"
   ]
  },
  {
   "cell_type": "code",
   "execution_count": 20,
   "id": "a43cf018",
   "metadata": {},
   "outputs": [],
   "source": [
    "model_Gen = keras.models.load_model('modelos/model_Gen_15min.h5')"
   ]
  },
  {
   "cell_type": "code",
   "execution_count": 21,
   "id": "46bbf120",
   "metadata": {},
   "outputs": [],
   "source": [
    "from pickle import load\n",
    "scalerGlucosa = load(open('dataset/generado/scalerGlucosa.scaler', 'rb'))"
   ]
  },
  {
   "cell_type": "code",
   "execution_count": 22,
   "id": "9663be2f",
   "metadata": {},
   "outputs": [
    {
     "data": {
      "text/plain": [
       "200316"
      ]
     },
     "execution_count": 22,
     "metadata": {},
     "output_type": "execute_result"
    }
   ],
   "source": [
    "len(array_Xtest)"
   ]
  },
  {
   "cell_type": "code",
   "execution_count": 23,
   "id": "da5f6058",
   "metadata": {},
   "outputs": [
    {
     "data": {
      "text/plain": [
       "array([[[ 0.11521739,  0.00217391,  0.47826087,  0.2       ,\n",
       "          0.5       ],\n",
       "        [ 0.11304348, -0.00217391,  0.47826087,  0.2       ,\n",
       "          0.5       ],\n",
       "        [ 0.10217391, -0.01086957,  0.47826087,  0.2       ,\n",
       "          0.5       ],\n",
       "        ...,\n",
       "        [ 0.22391304, -0.00217391,  0.73913043,  0.6       ,\n",
       "          0.5       ],\n",
       "        [ 0.23478261,  0.01086957,  0.7826087 ,  0.6       ,\n",
       "          0.5       ],\n",
       "        [ 0.24565217,  0.01086957,  0.7826087 ,  0.6       ,\n",
       "          0.5       ]],\n",
       "\n",
       "       [[ 0.11304348, -0.00217391,  0.47826087,  0.2       ,\n",
       "          0.5       ],\n",
       "        [ 0.10217391, -0.01086957,  0.47826087,  0.2       ,\n",
       "          0.5       ],\n",
       "        [ 0.09130435, -0.01086957,  0.47826087,  0.2       ,\n",
       "          0.5       ],\n",
       "        ...,\n",
       "        [ 0.23478261,  0.01086957,  0.7826087 ,  0.6       ,\n",
       "          0.5       ],\n",
       "        [ 0.24565217,  0.01086957,  0.7826087 ,  0.6       ,\n",
       "          0.5       ],\n",
       "        [ 0.24782609,  0.00217391,  0.7826087 ,  0.6       ,\n",
       "          0.5       ]],\n",
       "\n",
       "       [[ 0.10217391, -0.01086957,  0.47826087,  0.2       ,\n",
       "          0.5       ],\n",
       "        [ 0.09130435, -0.01086957,  0.47826087,  0.2       ,\n",
       "          0.5       ],\n",
       "        [ 0.0826087 , -0.00869565,  0.52173913,  0.2       ,\n",
       "          0.5       ],\n",
       "        ...,\n",
       "        [ 0.24565217,  0.01086957,  0.7826087 ,  0.6       ,\n",
       "          0.5       ],\n",
       "        [ 0.24782609,  0.00217391,  0.7826087 ,  0.6       ,\n",
       "          0.5       ],\n",
       "        [ 0.25      ,  0.00217391,  0.7826087 ,  0.6       ,\n",
       "          0.5       ]],\n",
       "\n",
       "       ...,\n",
       "\n",
       "       [[ 0.26304348,  0.00869565,  0.65217391,  0.4       ,\n",
       "          0.5       ],\n",
       "        [ 0.27173913,  0.00869565,  0.65217391,  0.4       ,\n",
       "          0.5       ],\n",
       "        [ 0.28043478,  0.00869565,  0.69565217,  0.4       ,\n",
       "          0.5       ],\n",
       "        ...,\n",
       "        [ 0.39565217, -0.00434783,  0.95652174,  0.8       ,\n",
       "          1.        ],\n",
       "        [ 0.4       ,  0.00434783,  0.95652174,  0.8       ,\n",
       "          1.        ],\n",
       "        [ 0.37173913, -0.02826087,  0.95652174,  0.8       ,\n",
       "          1.        ]],\n",
       "\n",
       "       [[ 0.27173913,  0.00869565,  0.65217391,  0.4       ,\n",
       "          0.5       ],\n",
       "        [ 0.28043478,  0.00869565,  0.69565217,  0.4       ,\n",
       "          0.5       ],\n",
       "        [ 0.28695652,  0.00652174,  0.69565217,  0.4       ,\n",
       "          0.5       ],\n",
       "        ...,\n",
       "        [ 0.4       ,  0.00434783,  0.95652174,  0.8       ,\n",
       "          1.        ],\n",
       "        [ 0.37173913, -0.02826087,  0.95652174,  0.8       ,\n",
       "          1.        ],\n",
       "        [ 0.34347826, -0.02826087,  1.        ,  0.8       ,\n",
       "          1.        ]],\n",
       "\n",
       "       [[ 0.28043478,  0.00869565,  0.69565217,  0.4       ,\n",
       "          0.5       ],\n",
       "        [ 0.28695652,  0.00652174,  0.69565217,  0.4       ,\n",
       "          0.5       ],\n",
       "        [ 0.29565217,  0.00869565,  0.69565217,  0.4       ,\n",
       "          0.5       ],\n",
       "        ...,\n",
       "        [ 0.37173913, -0.02826087,  0.95652174,  0.8       ,\n",
       "          1.        ],\n",
       "        [ 0.34347826, -0.02826087,  1.        ,  0.8       ,\n",
       "          1.        ],\n",
       "        [ 0.32826087, -0.01521739,  1.        ,  0.8       ,\n",
       "          1.        ]]])"
      ]
     },
     "execution_count": 23,
     "metadata": {},
     "output_type": "execute_result"
    }
   ],
   "source": [
    "array_Xtest"
   ]
  },
  {
   "cell_type": "code",
   "execution_count": 24,
   "id": "d89770dc",
   "metadata": {},
   "outputs": [
    {
     "data": {
      "text/plain": [
       "200316"
      ]
     },
     "execution_count": 24,
     "metadata": {},
     "output_type": "execute_result"
    }
   ],
   "source": [
    "len(array_Ytest)"
   ]
  },
  {
   "cell_type": "markdown",
   "id": "50baf6b6",
   "metadata": {},
   "source": [
    "# Predicción a 30 min"
   ]
  },
  {
   "cell_type": "code",
   "execution_count": 61,
   "id": "d9e585f6",
   "metadata": {},
   "outputs": [
    {
     "data": {
      "text/plain": [
       "2"
      ]
     },
     "execution_count": 61,
     "metadata": {},
     "output_type": "execute_result"
    }
   ],
   "source": [
    "lenHorizonte=2\n",
    "horizonte=[]\n",
    "horizonte_array_Ytest=[]\n",
    "for i in range(lenHorizonte):\n",
    "    horizonte.append(array_Xtest[i]) \n",
    "    horizonte_array_Ytest.append(array_Ytest[i]) \n",
    "horizonte=np.reshape(horizonte, (lenHorizonte, array_Xtest.shape[1],array_Xtest.shape[2]))\n",
    "len(horizonte)"
   ]
  },
  {
   "cell_type": "code",
   "execution_count": 65,
   "id": "3ae3ec43",
   "metadata": {},
   "outputs": [
    {
     "data": {
      "text/plain": [
       "(2, 30, 5)"
      ]
     },
     "execution_count": 65,
     "metadata": {},
     "output_type": "execute_result"
    }
   ],
   "source": [
    "horizonte.shape"
   ]
  },
  {
   "cell_type": "code",
   "execution_count": 63,
   "id": "c0f4aa08",
   "metadata": {},
   "outputs": [
    {
     "name": "stdout",
     "output_type": "stream",
     "text": [
      "1/1 [==============================] - 0s 19ms/step\n",
      "1/1 [==============================] - 0s 23ms/step\n"
     ]
    },
    {
     "data": {
      "image/png": "[encoded data removed]",
      "text/plain": [
       "<Figure size 1500x800 with 1 Axes>"
      ]
     },
     "metadata": {},
     "output_type": "display_data"
    },
    {
     "data": {
      "text/plain": [
       "{'mae': 2.048553466796875,\n",
       " 'mse': 2.2957066442048206,\n",
       " 'rmse': 5.270268996246159}"
      ]
     },
     "execution_count": 63,
     "metadata": {},
     "output_type": "execute_result"
    }
   ],
   "source": [
    "yhat=model_utils.predictionOverPrediction(horizonte,model_Gen)\n",
    "\n",
    "yhat = pd.DataFrame(yhat)\n",
    "horizonte_array_Ytest = pd.DataFrame(horizonte_array_Ytest)\n",
    "\n",
    "yhat = pd.DataFrame(scalerGlucosa.inverse_transform(yhat))\n",
    "horizonte_array_Ytest = pd.DataFrame(scalerGlucosa.inverse_transform(horizonte_array_Ytest))\n",
    "\n",
    "model_utils.plotPredicted(yhat,horizonte_array_Ytest)\n",
    "model_utils.forecast_accuracy(yhat,horizonte_array_Ytest)"
   ]
  },
  {
   "cell_type": "code",
   "execution_count": null,
   "id": "408f9c9c",
   "metadata": {},
   "outputs": [],
   "source": []
  }
 ],
 "metadata": {
  "accelerator": "GPU",
  "colab": {
   "collapsed_sections": [
    "2787e722",
    "b35a5768",
    "70eb2370",
    "9aae3303",
    "ad3aee1c",
    "c757c150",
    "73821fc8",
    "2240c74e"
   ],
   "machine_shape": "hm",
   "provenance": []
  },
  "gpuClass": "premium",
  "kernelspec": {
   "display_name": "Python 3 (ipykernel)",
   "language": "python",
   "name": "python3"
  },
  "language_info": {
   "codemirror_mode": {
    "name": "ipython",
    "version": 3
   },
   "file_extension": ".py",
   "mimetype": "text/x-python",
   "name": "python",
   "nbconvert_exporter": "python",
   "pygments_lexer": "ipython3",
   "version": "3.9.13"
  }
 },
 "nbformat": 4,
 "nbformat_minor": 5
}
