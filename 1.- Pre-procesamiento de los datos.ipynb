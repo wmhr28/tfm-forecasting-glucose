{
 "cells": [
  {
   "cell_type": "code",
   "execution_count": 1,
   "id": "hollow-quilt",
   "metadata": {
    "id": "hollow-quilt"
   },
   "outputs": [
    {
     "name": "stderr",
     "output_type": "stream",
     "text": [
      "C:\\Users\\wm_herrera\\Anaconda3\\envs\\tensorflow_keras\\lib\\site-packages\\tqdm\\auto.py:22: TqdmWarning: IProgress not found. Please update jupyter and ipywidgets. See https://ipywidgets.readthedocs.io/en/stable/user_install.html\n",
      "  from .autonotebook import tqdm as notebook_tqdm\n",
      "C:\\Users\\wm_herrera\\Anaconda3\\envs\\tensorflow_keras\\lib\\site-packages\\tqdm\\auto.py:22: TqdmWarning: IProgress not found. Please update jupyter and ipywidgets. See https://ipywidgets.readthedocs.io/en/stable/user_install.html\n",
      "  from .autonotebook import tqdm as notebook_tqdm\n"
     ]
    }
   ],
   "source": [
    "import pandas as pd\n",
    "import numpy as np\n",
    "pd.set_option('mode.chained_assignment',None)\n",
    "import matplotlib.pyplot as plt\n",
    "import seaborn as sns\n",
    "import math\n",
    "from pickle import dump\n",
    "from sklearn.preprocessing import MinMaxScaler\n",
    "from pandas_profiling import ProfileReport\n",
    "import warnings\n",
    "warnings.simplefilter(action='ignore', category=FutureWarning)\n",
    "\n",
    "%matplotlib inline"
   ]
  },
  {
   "cell_type": "code",
   "execution_count": 2,
   "id": "db4b2e0a",
   "metadata": {},
   "outputs": [],
   "source": [
    "import codigo\n",
    "from codigo import utils\n",
    "from codigo import model_utils"
   ]
  },
  {
   "cell_type": "markdown",
   "id": "continental-fields",
   "metadata": {
    "id": "continental-fields"
   },
   "source": [
    "# Carga del conjunto de datos inicial"
   ]
  },
  {
   "cell_type": "code",
   "execution_count": 3,
   "id": "british-begin",
   "metadata": {
    "id": "british-begin"
   },
   "outputs": [],
   "source": [
    "df_Inicial = pd.read_csv(r'dataset/FreeStyle.csv')"
   ]
  },
  {
   "cell_type": "markdown",
   "id": "industrial-begin",
   "metadata": {
    "id": "industrial-begin"
   },
   "source": [
    "# Vista previa del conjunto de datos"
   ]
  },
  {
   "cell_type": "code",
   "execution_count": 4,
   "id": "d1d3ab50",
   "metadata": {
    "colab": {
     "base_uri": "https://localhost:8080/",
     "height": 206
    },
    "id": "d1d3ab50",
    "outputId": "49e6be97-4bd0-4d1b-ef49-5d414f94cbad"
   },
   "outputs": [
    {
     "data": {
      "text/html": [
       "<div>\n",
       "<style scoped>\n",
       "    .dataframe tbody tr th:only-of-type {\n",
       "        vertical-align: middle;\n",
       "    }\n",
       "\n",
       "    .dataframe tbody tr th {\n",
       "        vertical-align: top;\n",
       "    }\n",
       "\n",
       "    .dataframe thead th {\n",
       "        text-align: right;\n",
       "    }\n",
       "</style>\n",
       "<table border=\"1\" class=\"dataframe\">\n",
       "  <thead>\n",
       "    <tr style=\"text-align: right;\">\n",
       "      <th></th>\n",
       "      <th>ID</th>\n",
       "      <th>Date</th>\n",
       "      <th>Glucose level</th>\n",
       "    </tr>\n",
       "  </thead>\n",
       "  <tbody>\n",
       "    <tr>\n",
       "      <th>0</th>\n",
       "      <td>LIB193263</td>\n",
       "      <td>2020-06-09 19:08:00</td>\n",
       "      <td>99.0</td>\n",
       "    </tr>\n",
       "    <tr>\n",
       "      <th>1</th>\n",
       "      <td>LIB193263</td>\n",
       "      <td>2020-06-09 19:23:00</td>\n",
       "      <td>92.0</td>\n",
       "    </tr>\n",
       "    <tr>\n",
       "      <th>2</th>\n",
       "      <td>LIB193263</td>\n",
       "      <td>2020-06-09 19:38:00</td>\n",
       "      <td>86.0</td>\n",
       "    </tr>\n",
       "    <tr>\n",
       "      <th>3</th>\n",
       "      <td>LIB193263</td>\n",
       "      <td>2020-06-09 19:53:00</td>\n",
       "      <td>85.0</td>\n",
       "    </tr>\n",
       "    <tr>\n",
       "      <th>4</th>\n",
       "      <td>LIB193263</td>\n",
       "      <td>2020-06-09 20:08:00</td>\n",
       "      <td>85.0</td>\n",
       "    </tr>\n",
       "  </tbody>\n",
       "</table>\n",
       "</div>"
      ],
      "text/plain": [
       "          ID                 Date  Glucose level\n",
       "0  LIB193263  2020-06-09 19:08:00           99.0\n",
       "1  LIB193263  2020-06-09 19:23:00           92.0\n",
       "2  LIB193263  2020-06-09 19:38:00           86.0\n",
       "3  LIB193263  2020-06-09 19:53:00           85.0\n",
       "4  LIB193263  2020-06-09 20:08:00           85.0"
      ]
     },
     "execution_count": 4,
     "metadata": {},
     "output_type": "execute_result"
    },
    {
     "data": {
      "text/html": [
       "<div>\n",
       "<style scoped>\n",
       "    .dataframe tbody tr th:only-of-type {\n",
       "        vertical-align: middle;\n",
       "    }\n",
       "\n",
       "    .dataframe tbody tr th {\n",
       "        vertical-align: top;\n",
       "    }\n",
       "\n",
       "    .dataframe thead th {\n",
       "        text-align: right;\n",
       "    }\n",
       "</style>\n",
       "<table border=\"1\" class=\"dataframe\">\n",
       "  <thead>\n",
       "    <tr style=\"text-align: right;\">\n",
       "      <th></th>\n",
       "      <th>ID</th>\n",
       "      <th>Date</th>\n",
       "      <th>Glucose level</th>\n",
       "    </tr>\n",
       "  </thead>\n",
       "  <tbody>\n",
       "    <tr>\n",
       "      <th>0</th>\n",
       "      <td>LIB193263</td>\n",
       "      <td>2020-06-09 19:08:00</td>\n",
       "      <td>99.0</td>\n",
       "    </tr>\n",
       "    <tr>\n",
       "      <th>1</th>\n",
       "      <td>LIB193263</td>\n",
       "      <td>2020-06-09 19:23:00</td>\n",
       "      <td>92.0</td>\n",
       "    </tr>\n",
       "    <tr>\n",
       "      <th>2</th>\n",
       "      <td>LIB193263</td>\n",
       "      <td>2020-06-09 19:38:00</td>\n",
       "      <td>86.0</td>\n",
       "    </tr>\n",
       "    <tr>\n",
       "      <th>3</th>\n",
       "      <td>LIB193263</td>\n",
       "      <td>2020-06-09 19:53:00</td>\n",
       "      <td>85.0</td>\n",
       "    </tr>\n",
       "    <tr>\n",
       "      <th>4</th>\n",
       "      <td>LIB193263</td>\n",
       "      <td>2020-06-09 20:08:00</td>\n",
       "      <td>85.0</td>\n",
       "    </tr>\n",
       "  </tbody>\n",
       "</table>\n",
       "</div>"
      ],
      "text/plain": [
       "          ID                 Date  Glucose level\n",
       "0  LIB193263  2020-06-09 19:08:00           99.0\n",
       "1  LIB193263  2020-06-09 19:23:00           92.0\n",
       "2  LIB193263  2020-06-09 19:38:00           86.0\n",
       "3  LIB193263  2020-06-09 19:53:00           85.0\n",
       "4  LIB193263  2020-06-09 20:08:00           85.0"
      ]
     },
     "execution_count": 4,
     "metadata": {},
     "output_type": "execute_result"
    }
   ],
   "source": [
    "df_Inicial.head()"
   ]
  },
  {
   "cell_type": "code",
   "execution_count": 5,
   "id": "streaming-hometown",
   "metadata": {
    "colab": {
     "base_uri": "https://localhost:8080/"
    },
    "id": "streaming-hometown",
    "outputId": "c46866d8-129f-4b39-bb18-d49145ffd688"
   },
   "outputs": [
    {
     "name": "stdout",
     "output_type": "stream",
     "text": [
      "<class 'pandas.core.frame.DataFrame'>\n",
      "RangeIndex: 3000001 entries, 0 to 3000000\n",
      "Data columns (total 3 columns):\n",
      " #   Column         Dtype  \n",
      "---  ------         -----  \n",
      " 0   ID             object \n",
      " 1   Date           object \n",
      " 2   Glucose level  float64\n",
      "dtypes: float64(1), object(2)\n",
      "memory usage: 68.7+ MB\n",
      "<class 'pandas.core.frame.DataFrame'>\n",
      "RangeIndex: 3000001 entries, 0 to 3000000\n",
      "Data columns (total 3 columns):\n",
      " #   Column         Dtype  \n",
      "---  ------         -----  \n",
      " 0   ID             object \n",
      " 1   Date           object \n",
      " 2   Glucose level  float64\n",
      "dtypes: float64(1), object(2)\n",
      "memory usage: 68.7+ MB\n"
     ]
    }
   ],
   "source": [
    "df_Inicial.info()"
   ]
  },
  {
   "cell_type": "markdown",
   "id": "7e4a3f46",
   "metadata": {
    "id": "7e4a3f46"
   },
   "source": [
    "# Ajuste de tipos de datos"
   ]
  },
  {
   "cell_type": "code",
   "execution_count": 6,
   "id": "39a8a155",
   "metadata": {
    "id": "39a8a155"
   },
   "outputs": [],
   "source": [
    "df_Inicial['Date']=pd.to_datetime(df_Inicial['Date'])"
   ]
  },
  {
   "cell_type": "code",
   "execution_count": 7,
   "id": "ffe49771",
   "metadata": {
    "colab": {
     "base_uri": "https://localhost:8080/"
    },
    "id": "ffe49771",
    "outputId": "8f69884b-4662-4aeb-9fa4-9a18e6a358c1"
   },
   "outputs": [
    {
     "name": "stdout",
     "output_type": "stream",
     "text": [
      "<class 'pandas.core.frame.DataFrame'>\n",
      "RangeIndex: 3000001 entries, 0 to 3000000\n",
      "Data columns (total 3 columns):\n",
      " #   Column         Dtype         \n",
      "---  ------         -----         \n",
      " 0   ID             object        \n",
      " 1   Date           datetime64[ns]\n",
      " 2   Glucose level  float64       \n",
      "dtypes: datetime64[ns](1), float64(1), object(1)\n",
      "memory usage: 68.7+ MB\n",
      "<class 'pandas.core.frame.DataFrame'>\n",
      "RangeIndex: 3000001 entries, 0 to 3000000\n",
      "Data columns (total 3 columns):\n",
      " #   Column         Dtype         \n",
      "---  ------         -----         \n",
      " 0   ID             object        \n",
      " 1   Date           datetime64[ns]\n",
      " 2   Glucose level  float64       \n",
      "dtypes: datetime64[ns](1), float64(1), object(1)\n",
      "memory usage: 68.7+ MB\n"
     ]
    }
   ],
   "source": [
    "df_Inicial.info()"
   ]
  },
  {
   "cell_type": "code",
   "execution_count": 8,
   "id": "8c8e9524",
   "metadata": {
    "colab": {
     "base_uri": "https://localhost:8080/"
    },
    "id": "8c8e9524",
    "outputId": "654e7afb-2b62-46fc-83ba-3a0d997cd665"
   },
   "outputs": [
    {
     "data": {
      "text/plain": [
       "Timestamp('2016-10-05 08:47:00')"
      ]
     },
     "execution_count": 8,
     "metadata": {},
     "output_type": "execute_result"
    },
    {
     "data": {
      "text/plain": [
       "Timestamp('2016-10-05 08:47:00')"
      ]
     },
     "execution_count": 8,
     "metadata": {},
     "output_type": "execute_result"
    }
   ],
   "source": [
    "df_Inicial['Date'].min()"
   ]
  },
  {
   "cell_type": "code",
   "execution_count": 9,
   "id": "6d02101d",
   "metadata": {
    "colab": {
     "base_uri": "https://localhost:8080/"
    },
    "id": "6d02101d",
    "outputId": "e0fea2aa-8711-4b84-b3cf-ab98cc8c9d49"
   },
   "outputs": [
    {
     "data": {
      "text/plain": [
       "Timestamp('2044-03-22 03:44:00')"
      ]
     },
     "execution_count": 9,
     "metadata": {},
     "output_type": "execute_result"
    },
    {
     "data": {
      "text/plain": [
       "Timestamp('2044-03-22 03:44:00')"
      ]
     },
     "execution_count": 9,
     "metadata": {},
     "output_type": "execute_result"
    }
   ],
   "source": [
    "df_Inicial['Date'].max()"
   ]
  },
  {
   "cell_type": "markdown",
   "id": "c7e3326d",
   "metadata": {},
   "source": [
    "# Limpieza del conjunto de datos"
   ]
  },
  {
   "cell_type": "markdown",
   "id": "2787e722",
   "metadata": {
    "id": "2787e722"
   },
   "source": [
    "## Elimininamos los registros duplicados por paciente y fecha"
   ]
  },
  {
   "cell_type": "code",
   "execution_count": null,
   "id": "b2377ddf",
   "metadata": {
    "id": "b2377ddf"
   },
   "outputs": [],
   "source": [
    "df_Inicial=df_Inicial.drop_duplicates(['ID','Date'],keep='first')\n",
    "df_Inicial.reset_index(drop=True, inplace=True)"
   ]
  },
  {
   "cell_type": "code",
   "execution_count": null,
   "id": "8b36c7a6",
   "metadata": {
    "colab": {
     "base_uri": "https://localhost:8080/"
    },
    "id": "8b36c7a6",
    "outputId": "461cc987-3fdd-4e51-d873-59400e9dc539"
   },
   "outputs": [],
   "source": [
    "df_Inicial.info()"
   ]
  },
  {
   "cell_type": "markdown",
   "id": "02bc0fe6",
   "metadata": {
    "id": "02bc0fe6"
   },
   "source": [
    "## Seleccionamos el rango de fechas validas"
   ]
  },
  {
   "cell_type": "code",
   "execution_count": null,
   "id": "f0ecd7ec",
   "metadata": {
    "colab": {
     "base_uri": "https://localhost:8080/"
    },
    "id": "f0ecd7ec",
    "outputId": "412461f0-38b7-432d-a95c-544b34e099eb"
   },
   "outputs": [],
   "source": [
    "DateStart='2018-01-06';\n",
    "df_depurado=df_Inicial[df_Inicial['Date'] >=DateStart]\n",
    "df_depurado.info()"
   ]
  },
  {
   "cell_type": "code",
   "execution_count": null,
   "id": "2428351a",
   "metadata": {
    "colab": {
     "base_uri": "https://localhost:8080/"
    },
    "id": "2428351a",
    "outputId": "f68c194b-c8d5-4544-ac75-43e39f77846f"
   },
   "outputs": [],
   "source": [
    "DateEnd='2022-03-21';\n",
    "df_depurado=df_depurado[df_depurado['Date'] <=DateEnd]\n",
    "df_depurado.info()"
   ]
  },
  {
   "cell_type": "code",
   "execution_count": null,
   "id": "7810d820",
   "metadata": {
    "colab": {
     "base_uri": "https://localhost:8080/",
     "height": 300
    },
    "id": "7810d820",
    "outputId": "a5cba456-e4d3-4e64-9821-6f1ddcbb7212"
   },
   "outputs": [],
   "source": [
    "df_depurado.describe()"
   ]
  },
  {
   "cell_type": "code",
   "execution_count": null,
   "id": "0acdbd87",
   "metadata": {
    "id": "0acdbd87"
   },
   "outputs": [],
   "source": [
    "df=df_depurado"
   ]
  },
  {
   "cell_type": "code",
   "execution_count": null,
   "id": "1ec15bf4",
   "metadata": {
    "colab": {
     "base_uri": "https://localhost:8080/"
    },
    "id": "1ec15bf4",
    "outputId": "81c47538-7d9e-4891-f4c4-6ae647e0d8c2"
   },
   "outputs": [],
   "source": [
    "df['Date'].min()"
   ]
  },
  {
   "cell_type": "code",
   "execution_count": null,
   "id": "69fee9ef",
   "metadata": {},
   "outputs": [],
   "source": [
    "df['Date'].max()"
   ]
  },
  {
   "cell_type": "code",
   "execution_count": null,
   "id": "977908fb",
   "metadata": {},
   "outputs": [],
   "source": [
    "df.to_csv('dataset/generado/datasetDepurado.csv', index=False) "
   ]
  },
  {
   "cell_type": "code",
   "execution_count": null,
   "id": "949648e9",
   "metadata": {},
   "outputs": [],
   "source": [
    "df_Inicial = df"
   ]
  },
  {
   "cell_type": "code",
   "execution_count": null,
   "id": "89eba97d",
   "metadata": {},
   "outputs": [],
   "source": [
    "df_Inicial.info()"
   ]
  },
  {
   "cell_type": "markdown",
   "id": "8f3be05d",
   "metadata": {},
   "source": [
    "## Detección y tratamiento de datos faltantes"
   ]
  },
  {
   "cell_type": "markdown",
   "id": "5e5f78c8",
   "metadata": {},
   "source": [
    "### Analizamos los datos de 1 paciente con las muestras ordenadas cada 15 min"
   ]
  },
  {
   "cell_type": "code",
   "execution_count": null,
   "id": "76cd3014",
   "metadata": {},
   "outputs": [],
   "source": [
    "pacienteID=\"LIB193277\"\n",
    "paciente = utils.getDataPatient(df,pacienteID,'15min')\n",
    "paciente"
   ]
  },
  {
   "cell_type": "markdown",
   "id": "aa999f10",
   "metadata": {},
   "source": [
    "Realizamos un análisis exploratorio"
   ]
  },
  {
   "cell_type": "code",
   "execution_count": null,
   "id": "4c38ed13",
   "metadata": {},
   "outputs": [],
   "source": [
    "profile = ProfileReport(paciente, title=\"Pandas Profiling Report\",\n",
    "    missing_diagrams=None,\n",
    "    correlations=None, interactions=None,samples=None)\n",
    "profile.to_file(\"analisisExploratorio/analisis_paciente_ID_LIB193277.html\")"
   ]
  },
  {
   "cell_type": "code",
   "execution_count": null,
   "id": "147edcd5",
   "metadata": {},
   "outputs": [],
   "source": [
    "paciente_Null=paciente.isnull()\n",
    "paciente_Null.sum()"
   ]
  },
  {
   "cell_type": "markdown",
   "id": "51822e03",
   "metadata": {},
   "source": [
    "Se observa que no todos los registros fueron tomados cada 15 min, y existen datos faltantes"
   ]
  },
  {
   "cell_type": "code",
   "execution_count": null,
   "id": "5172ad56",
   "metadata": {},
   "outputs": [],
   "source": [
    "paciente_Null.tail()"
   ]
  },
  {
   "cell_type": "code",
   "execution_count": null,
   "id": "a93326be",
   "metadata": {},
   "outputs": [],
   "source": [
    "paciente['Glucose level'].plot(figsize=(20, 10))"
   ]
  },
  {
   "cell_type": "code",
   "execution_count": null,
   "id": "648f8cbc",
   "metadata": {},
   "outputs": [],
   "source": [
    "import missingno as msno\n",
    "msno.matrix(paciente)"
   ]
  },
  {
   "cell_type": "markdown",
   "id": "9494b9b7",
   "metadata": {},
   "source": [
    "### Estrategia de reemplazo de datos faltantes"
   ]
  },
  {
   "cell_type": "code",
   "execution_count": null,
   "id": "d6acb19d",
   "metadata": {},
   "outputs": [],
   "source": [
    "ObjRangeDateStart='2020-6-12';\n",
    "ObjRangeDateEnd='2020-6-25';"
   ]
  },
  {
   "cell_type": "code",
   "execution_count": null,
   "id": "c31e1427",
   "metadata": {},
   "outputs": [],
   "source": [
    "utils.plotRangeDates(paciente,ObjRangeDateStart,ObjRangeDateEnd)"
   ]
  },
  {
   "cell_type": "markdown",
   "id": "a97cd0c9",
   "metadata": {},
   "source": [
    "Intentar usar -1 como valor por defecto para datos faltantes"
   ]
  },
  {
   "cell_type": "code",
   "execution_count": null,
   "id": "235be339",
   "metadata": {},
   "outputs": [],
   "source": [
    "paciente_fill=utils.fillNullData(paciente,'-1')\n",
    "utils.plotTwoDf(paciente_fill,paciente,ObjRangeDateStart,ObjRangeDateEnd)"
   ]
  },
  {
   "cell_type": "markdown",
   "id": "53a76e2f",
   "metadata": {},
   "source": [
    "ffill reemplaza los valores faltantes con el valor de la muestra anterior"
   ]
  },
  {
   "cell_type": "code",
   "execution_count": null,
   "id": "e2a3b377",
   "metadata": {},
   "outputs": [],
   "source": [
    "paciente_fill=utils.fillNullData(paciente,'ffill')\n",
    "utils.plotTwoDf(paciente_fill,paciente,ObjRangeDateStart,ObjRangeDateEnd)"
   ]
  },
  {
   "cell_type": "markdown",
   "id": "0c157803",
   "metadata": {},
   "source": [
    "bfill reemplaza los valores faltantes con el valor de la muestra siguiente"
   ]
  },
  {
   "cell_type": "code",
   "execution_count": null,
   "id": "b419e1cd",
   "metadata": {},
   "outputs": [],
   "source": [
    "paciente_fill=utils.fillNullData(paciente,'bfill')\n",
    "utils.plotTwoDf(paciente_fill,paciente,ObjRangeDateStart,ObjRangeDateEnd)"
   ]
  },
  {
   "cell_type": "markdown",
   "id": "75323345",
   "metadata": {},
   "source": [
    "interpolate_linear reemplaza los valores faltantes con un valor que pasa por la linea entre 2 puntos datos"
   ]
  },
  {
   "cell_type": "code",
   "execution_count": null,
   "id": "6362e4f3",
   "metadata": {},
   "outputs": [],
   "source": [
    "paciente_fill=utils.fillNullData(paciente,'interpolate_linear')\n",
    "utils.plotTwoDf(paciente_fill,paciente,ObjRangeDateStart,ObjRangeDateEnd)"
   ]
  },
  {
   "cell_type": "code",
   "execution_count": null,
   "id": "34023b03",
   "metadata": {},
   "outputs": [],
   "source": [
    "paciente_fill_Null=paciente_fill.isnull()\n",
    "paciente_fill_Null.sum()"
   ]
  },
  {
   "cell_type": "markdown",
   "id": "e17fee97",
   "metadata": {},
   "source": [
    "###\tNormalización de los datos"
   ]
  },
  {
   "cell_type": "markdown",
   "id": "c1109ca3",
   "metadata": {},
   "source": [
    "En este paso solo vamos a entrenar los normalizadores que vamos a utilizar, luego integraremos todos los pasos en una función general"
   ]
  },
  {
   "cell_type": "markdown",
   "id": "03e3ac32",
   "metadata": {},
   "source": [
    "#### Entrenamiento para datos de glucosa"
   ]
  },
  {
   "cell_type": "code",
   "execution_count": null,
   "id": "21ca2794",
   "metadata": {},
   "outputs": [],
   "source": [
    "df['Glucose level'].head()"
   ]
  },
  {
   "cell_type": "code",
   "execution_count": null,
   "id": "c9cabc4b",
   "metadata": {},
   "outputs": [],
   "source": [
    "scalerGlucosa = MinMaxScaler(feature_range=(0,1))\n",
    "\n",
    "df[['Glucose level']]=scalerGlucosa.fit_transform(df[['Glucose level']].values)\n",
    "dump(scalerGlucosa, open('dataset/generado/scalerGlucosa.scaler', 'wb'))"
   ]
  },
  {
   "cell_type": "code",
   "execution_count": null,
   "id": "922cb597",
   "metadata": {},
   "outputs": [],
   "source": [
    "df"
   ]
  },
  {
   "cell_type": "code",
   "execution_count": null,
   "id": "e54ceac3",
   "metadata": {},
   "outputs": [],
   "source": [
    "df[['Glucose level']]=scalerGlucosa.inverse_transform(df[['Glucose level']].values)"
   ]
  },
  {
   "cell_type": "code",
   "execution_count": null,
   "id": "fbe0a9a0",
   "metadata": {},
   "outputs": [],
   "source": [
    "df"
   ]
  },
  {
   "cell_type": "markdown",
   "id": "60b5d3a4",
   "metadata": {},
   "source": [
    "#### Entrenamiento para datos de horas"
   ]
  },
  {
   "cell_type": "code",
   "execution_count": null,
   "id": "036b31b2",
   "metadata": {
    "scrolled": true
   },
   "outputs": [],
   "source": [
    "arrayHours=[]\n",
    "for i in range(24):\n",
    "    arrayHours.append(i)\n",
    "\n",
    "\n",
    "dfHours= pd.DataFrame(arrayHours)\n",
    "dfHours.columns = ['hours']\n",
    "dfHours"
   ]
  },
  {
   "cell_type": "code",
   "execution_count": null,
   "id": "2c0f7776",
   "metadata": {},
   "outputs": [],
   "source": [
    "scalerHours = MinMaxScaler()\n",
    "\n",
    "arrayHours=scalerHours.fit_transform(dfHours[['hours']].values)\n",
    "dump(scalerHours, open('dataset/generado/scalerHours.scaler', 'wb'))\n",
    "arrayHours"
   ]
  },
  {
   "cell_type": "code",
   "execution_count": null,
   "id": "6736a46a",
   "metadata": {},
   "outputs": [],
   "source": [
    "arrayHoursT=scalerHours.inverse_transform([[1]])\n",
    "arrayHoursT[0]"
   ]
  },
  {
   "cell_type": "markdown",
   "id": "39fa5059",
   "metadata": {},
   "source": [
    "#### Entrenamiento para datos de minutos"
   ]
  },
  {
   "cell_type": "code",
   "execution_count": null,
   "id": "581039ac",
   "metadata": {
    "scrolled": true
   },
   "outputs": [],
   "source": [
    "arrayMins=[]\n",
    "for i in range(60):\n",
    "    arrayMins.append(i)\n",
    "\n",
    "\n",
    "dfMins= pd.DataFrame(arrayMins)\n",
    "dfMins.columns = ['mins']\n",
    "dfMins"
   ]
  },
  {
   "cell_type": "code",
   "execution_count": null,
   "id": "a2882264",
   "metadata": {},
   "outputs": [],
   "source": [
    "scalerMin = MinMaxScaler()\n",
    "\n",
    "arrayMins=scalerMin.fit_transform(dfMins[['mins']].values)\n",
    "dump(scalerMin, open('dataset/generado/scalerMin.scaler', 'wb'))\n",
    "arrayMins"
   ]
  },
  {
   "cell_type": "code",
   "execution_count": null,
   "id": "ab419423",
   "metadata": {},
   "outputs": [],
   "source": [
    "arrayMinT=scalerMin.inverse_transform([[1]])\n",
    "arrayMinT[0]"
   ]
  },
  {
   "cell_type": "markdown",
   "id": "2d940859",
   "metadata": {},
   "source": [
    "#### Entrenamiento para datos de partes del día"
   ]
  },
  {
   "cell_type": "code",
   "execution_count": null,
   "id": "54ced906",
   "metadata": {},
   "outputs": [],
   "source": [
    "arrayPod=[]\n",
    "for i in range(6):\n",
    "    arrayPod.append(i+1)\n",
    "\n",
    "\n",
    "dfPod= pd.DataFrame(arrayPod)\n",
    "dfPod.columns = ['podid']\n",
    "dfPod"
   ]
  },
  {
   "cell_type": "code",
   "execution_count": null,
   "id": "eac23e3d",
   "metadata": {},
   "outputs": [],
   "source": [
    "scalerPodId = MinMaxScaler()\n",
    "\n",
    "arrayPod=scalerPodId.fit_transform(dfPod[['podid']].values)\n",
    "dump(scalerPodId, open('dataset/generado/scalerPodId.scaler', 'wb'))\n",
    "arrayPod"
   ]
  },
  {
   "cell_type": "code",
   "execution_count": null,
   "id": "a58da86a",
   "metadata": {},
   "outputs": [],
   "source": [
    "arrayPodT=scalerPodId.inverse_transform([[0.6]])\n",
    "arrayPodT[0]"
   ]
  },
  {
   "cell_type": "markdown",
   "id": "8d2e2646",
   "metadata": {},
   "source": [
    "#### Entrenamiento para datos de niveles de glucosa"
   ]
  },
  {
   "cell_type": "code",
   "execution_count": null,
   "id": "c9418e1f",
   "metadata": {},
   "outputs": [],
   "source": [
    "arrayLevel=[-1,0,1]\n",
    "dfLevel= pd.DataFrame(arrayLevel)\n",
    "dfLevel.columns = ['levelid']\n",
    "dfLevel"
   ]
  },
  {
   "cell_type": "code",
   "execution_count": null,
   "id": "4390b6a2",
   "metadata": {},
   "outputs": [],
   "source": [
    "scalerLevelId = MinMaxScaler()\n",
    "\n",
    "arrayLevel=scalerLevelId.fit_transform(dfLevel[['levelid']].values)\n",
    "dump(scalerLevelId, open('dataset/generado/scalerLevelId.scaler', 'wb'))\n",
    "arrayLevel"
   ]
  },
  {
   "cell_type": "code",
   "execution_count": null,
   "id": "3d4307b2",
   "metadata": {},
   "outputs": [],
   "source": [
    "arrayLevelT=scalerLevelId.inverse_transform([[0.5]])\n",
    "arrayLevelT[0]"
   ]
  },
  {
   "cell_type": "markdown",
   "id": "c6dba7e3",
   "metadata": {},
   "source": [
    "### Ingeniería de características"
   ]
  },
  {
   "cell_type": "code",
   "execution_count": null,
   "id": "7c38a4b8",
   "metadata": {},
   "outputs": [],
   "source": [
    "df"
   ]
  },
  {
   "cell_type": "code",
   "execution_count": null,
   "id": "0b9c476c",
   "metadata": {},
   "outputs": [],
   "source": [
    "paciente_data = utils.getDataPatient(df,pacienteID,'15min',False)"
   ]
  },
  {
   "cell_type": "code",
   "execution_count": null,
   "id": "fc57c70d",
   "metadata": {},
   "outputs": [],
   "source": [
    "paciente_data"
   ]
  },
  {
   "cell_type": "code",
   "execution_count": null,
   "id": "5b114e6b",
   "metadata": {},
   "outputs": [],
   "source": [
    "paciente_data=utils.generateNewColumns(paciente_data,scalerLevelId,scalerHours,scalerMin,scalerPodId,scalerGlucosa,True)"
   ]
  },
  {
   "cell_type": "code",
   "execution_count": null,
   "id": "37ed92e0",
   "metadata": {},
   "outputs": [],
   "source": [
    "paciente_data"
   ]
  },
  {
   "cell_type": "code",
   "execution_count": null,
   "id": "5641999d",
   "metadata": {},
   "outputs": [],
   "source": []
  }
 ],
 "metadata": {
  "accelerator": "GPU",
  "colab": {
   "collapsed_sections": [
    "2787e722",
    "b35a5768",
    "70eb2370",
    "9aae3303",
    "ad3aee1c",
    "c757c150",
    "73821fc8",
    "2240c74e"
   ],
   "machine_shape": "hm",
   "provenance": []
  },
  "gpuClass": "premium",
  "kernelspec": {
   "display_name": "Python 3 (ipykernel)",
   "language": "python",
   "name": "python3"
  },
  "language_info": {
   "codemirror_mode": {
    "name": "ipython",
    "version": 3
   },
   "file_extension": ".py",
   "mimetype": "text/x-python",
   "name": "python",
   "nbconvert_exporter": "python",
   "pygments_lexer": "ipython3",
   "version": "3.10.8"
  }
 },
 "nbformat": 4,
 "nbformat_minor": 5
}
